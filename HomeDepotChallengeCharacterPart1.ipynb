{
  "nbformat": 4,
  "nbformat_minor": 0,
  "metadata": {
    "colab": {
      "name": "Ass3HomeDepotChallengeCharacter.ipynb",
      "version": "0.3.2",
      "provenance": [],
      "collapsed_sections": [
        "wKswjloTonwT"
      ],
      "toc_visible": true
    },
    "kernelspec": {
      "name": "python3",
      "display_name": "Python 3"
    },
    "accelerator": "GPU"
  },
  "cells": [
    {
      "metadata": {
        "id": "HBWtO6P54nNi",
        "colab_type": "text"
      },
      "cell_type": "markdown",
      "source": [
        "![alt text](https://storage.googleapis.com/kaggle-competitions/kaggle/4853/media/home_depot_tools.jpg)\n",
        "\n",
        "\n"
      ]
    },
    {
      "metadata": {
        "colab_type": "text",
        "id": "Zu_rS9rnijV4"
      },
      "cell_type": "markdown",
      "source": [
        "# Home Depot Product Search Relevance"
      ]
    },
    {
      "metadata": {
        "id": "-x_3AyHM_RL7",
        "colab_type": "text"
      },
      "cell_type": "markdown",
      "source": [
        "In this task we will work with the dataset of the Home depot product search relevance competition, our goal here is to state the relevance of a search phrase to a corresponding item.\n",
        "We will use Siamese networks by inserting as input both the search term and description of an item and calculate the distance between them (either cosine, manhattan or other distance function).\n",
        "Siamese networks is useful when comparing inputs from similar domains and here we can think of our search feature and description feature as similar domains that we can compare via some modification of a Siamese network.\n"
      ]
    },
    {
      "metadata": {
        "id": "sSEHNohnonvv",
        "colab_type": "text"
      },
      "cell_type": "markdown",
      "source": [
        "First, lets do some EDA in order to understand what we're facing. <br>\n",
        "Thanks to Kernel: https://www.kaggle.com/tennissuperstar/data-exploration-1"
      ]
    },
    {
      "metadata": {
        "colab_type": "code",
        "id": "ZpzyxZFxqjU_",
        "colab": {}
      },
      "cell_type": "code",
      "source": [
        "from time import time\n",
        "import pandas as pd\n",
        "import numpy as np\n",
        "from gensim.models import KeyedVectors\n",
        "import re\n",
        "from sklearn.model_selection import train_test_split\n",
        "import matplotlib.pyplot as plt\n",
        "import seaborn as sns\n",
        "\n",
        "import itertools\n",
        "import datetime\n",
        "\n",
        "from keras.preprocessing.sequence import pad_sequences\n",
        "from keras.models import Model\n",
        "from keras.layers import Input, Embedding, LSTM, Lambda, dot\n",
        "import keras.backend as K\n",
        "from keras.optimizers import Adadelta, Adam\n",
        "from keras.callbacks import ModelCheckpoint\n",
        "from sklearn.metrics import mean_squared_error, mean_absolute_error\n"
      ],
      "execution_count": 0,
      "outputs": []
    },
    {
      "metadata": {
        "colab_type": "code",
        "id": "4MOQvJ-nqrvu",
        "colab": {}
      },
      "cell_type": "code",
      "source": [
        "from string import punctuation\n",
        "from os import listdir\n",
        "from numpy import array\n",
        "from numpy import asarray\n",
        "from numpy import zeros\n",
        "from keras.preprocessing.text import Tokenizer\n",
        "from keras.preprocessing.sequence import pad_sequences\n",
        "from keras.models import Sequential\n",
        "from keras.layers import Dense\n",
        "from keras.layers import Flatten\n",
        "from keras.layers import Embedding\n",
        "from keras.layers.convolutional import Conv1D\n",
        "from keras.layers.convolutional import MaxPooling1D"
      ],
      "execution_count": 0,
      "outputs": []
    },
    {
      "metadata": {
        "id": "u3Ir72njozHp",
        "colab_type": "code",
        "outputId": "8d912fa8-225f-48bf-bb02-783e25f421b8",
        "colab": {
          "base_uri": "https://localhost:8080/",
          "height": 54
        }
      },
      "cell_type": "code",
      "source": [
        "from google.colab import drive\n",
        "drive.mount(\"/content/drive\")"
      ],
      "execution_count": 230,
      "outputs": [
        {
          "output_type": "stream",
          "text": [
            "Drive already mounted at /content/drive; to attempt to forcibly remount, call drive.mount(\"/content/drive\", force_remount=True).\n"
          ],
          "name": "stdout"
        }
      ]
    },
    {
      "metadata": {
        "colab_type": "code",
        "id": "kYPtF5kcijV5",
        "colab": {}
      },
      "cell_type": "code",
      "source": [
        "import numpy as np # linear algebra\n",
        "import pandas as pd # data processing, CSV file I/O (e.g. pd.read_csv)\n",
        "# Load files\n",
        "training_data = pd.read_csv(\"drive/My Drive/ex3/train.csv\", encoding=\"ISO-8859-1\")\n",
        "testing_data = pd.read_csv(\"drive/My Drive/ex3/test.csv\", encoding=\"ISO-8859-1\")\n",
        "attribute_data = pd.read_csv('drive/My Drive/ex3/attributes.csv')\n",
        "descriptions = pd.read_csv('drive/My Drive/ex3/product_descriptions.csv')\n",
        "\n",
        "test_sol = pd.read_csv('drive/My Drive/ex3/solution.csv')\n"
      ],
      "execution_count": 0,
      "outputs": []
    },
    {
      "metadata": {
        "colab_type": "code",
        "id": "TpiYg5r1ijV7",
        "outputId": "f1afdbea-d6a7-4571-a9b3-a08be9e07314",
        "colab": {
          "base_uri": "https://localhost:8080/",
          "height": 187
        }
      },
      "cell_type": "code",
      "source": [
        "# Look at data column names\n",
        "print(\"training_data data columns\")\n",
        "print(training_data.columns.values)\n",
        "print(\"Test data columns\")\n",
        "print(testing_data.columns.values)\n",
        "print(\"Attribute data columns\")\n",
        "print(attribute_data.columns.values)\n",
        "print(\"Description data columns\")\n",
        "print(descriptions.columns.values)\n",
        "print(\"Test solution data columns\")\n",
        "print(test_sol.columns.values)"
      ],
      "execution_count": 232,
      "outputs": [
        {
          "output_type": "stream",
          "text": [
            "training_data data columns\n",
            "['id' 'product_uid' 'product_title' 'search_term' 'relevance']\n",
            "Test data columns\n",
            "['id' 'product_uid' 'product_title' 'search_term']\n",
            "Attribute data columns\n",
            "['product_uid' 'name' 'value']\n",
            "Description data columns\n",
            "['product_uid' 'product_description']\n",
            "Test solution data columns\n",
            "['id' 'relevance' 'Usage']\n"
          ],
          "name": "stdout"
        }
      ]
    },
    {
      "metadata": {
        "colab_type": "text",
        "id": "qkNpPnYjijV_"
      },
      "cell_type": "markdown",
      "source": [
        "We note that the training and description data sets both have a column for 'product_uid'. Thus we can merge the datasets according to the product_uid."
      ]
    },
    {
      "metadata": {
        "colab_type": "code",
        "id": "i4_kFhi3ijWA",
        "colab": {}
      },
      "cell_type": "code",
      "source": [
        "# Merge descriptions\n",
        "training_data = pd.merge(training_data, descriptions, \n",
        "                         on=\"product_uid\", how=\"left\")"
      ],
      "execution_count": 0,
      "outputs": []
    },
    {
      "metadata": {
        "id": "WX8mkrmOMr9R",
        "colab_type": "code",
        "colab": {}
      },
      "cell_type": "code",
      "source": [
        "# Merge descriptions\n",
        "testing_data= pd.merge(testing_data, descriptions, \n",
        "                         on=\"product_uid\", how=\"left\")"
      ],
      "execution_count": 0,
      "outputs": []
    },
    {
      "metadata": {
        "id": "lKiVYnYmonwC",
        "colab_type": "text"
      },
      "cell_type": "markdown",
      "source": [
        "In this Task we are requested to find how relevant a search query is to product, our target feature is relevance, lets plot  an histogram in order to understand it better"
      ]
    },
    {
      "metadata": {
        "id": "QFytJrXjonwD",
        "colab_type": "code",
        "outputId": "c0b5ebf8-7cfa-4205-fb91-652709c43997",
        "colab": {
          "base_uri": "https://localhost:8080/",
          "height": 367
        }
      },
      "cell_type": "code",
      "source": [
        "training_data.relevance.hist()"
      ],
      "execution_count": 196,
      "outputs": [
        {
          "output_type": "execute_result",
          "data": {
            "text/plain": [
              "<matplotlib.axes._subplots.AxesSubplot at 0x7ffb161b85c0>"
            ]
          },
          "metadata": {
            "tags": []
          },
          "execution_count": 196
        },
        {
          "output_type": "display_data",
          "data": {
            "image/png": "[encoded data removed]",
            "text/plain": [
              "<Figure size 576x396 with 1 Axes>"
            ]
          },
          "metadata": {
            "tags": []
          }
        }
      ]
    },
    {
      "metadata": {
        "id": "uUgOit4oonwI",
        "colab_type": "text"
      },
      "cell_type": "markdown",
      "source": [
        "We see that the target is not normally distributed, lets be more specific."
      ]
    },
    {
      "metadata": {
        "id": "MMcmQJFXonwJ",
        "colab_type": "code",
        "outputId": "550bcf0e-96a7-4357-81fd-6c7333ac7b75",
        "colab": {
          "base_uri": "https://localhost:8080/",
          "height": 255
        }
      },
      "cell_type": "code",
      "source": [
        "training_data.relevance.value_counts()"
      ],
      "execution_count": 197,
      "outputs": [
        {
          "output_type": "execute_result",
          "data": {
            "text/plain": [
              "3.00    19125\n",
              "2.33    16060\n",
              "2.67    15202\n",
              "2.00    11730\n",
              "1.67     6780\n",
              "1.33     3006\n",
              "1.00     2105\n",
              "2.50       19\n",
              "2.25       11\n",
              "2.75       11\n",
              "1.75        9\n",
              "1.50        5\n",
              "1.25        4\n",
              "Name: relevance, dtype: int64"
            ]
          },
          "metadata": {
            "tags": []
          },
          "execution_count": 197
        }
      ]
    },
    {
      "metadata": {
        "id": "DFGPTrQfonwN",
        "colab_type": "text"
      },
      "cell_type": "markdown",
      "source": [
        "We see that the target is very unbalanced and tends towards the higher values."
      ]
    },
    {
      "metadata": {
        "id": "d37B4gPHonwO",
        "colab_type": "code",
        "outputId": "a5c17a30-be33-4351-da78-30f5c4cc99dd",
        "colab": {
          "base_uri": "https://localhost:8080/",
          "height": 34
        }
      },
      "cell_type": "code",
      "source": [
        "mean = np.mean(training_data['relevance'])\n",
        "print(f'The mean is: {mean}')"
      ],
      "execution_count": 198,
      "outputs": [
        {
          "output_type": "stream",
          "text": [
            "The mean is: 2.381633791027016\n"
          ],
          "name": "stdout"
        }
      ]
    },
    {
      "metadata": {
        "id": "Qjbh0W-NonwR",
        "colab_type": "text"
      },
      "cell_type": "markdown",
      "source": [
        "As expected from data that has a bias to upper values."
      ]
    },
    {
      "metadata": {
        "id": "F2ijG6S6onwS",
        "colab_type": "text"
      },
      "cell_type": "markdown",
      "source": [
        "We will need to address that fact in our validation startegy, choosing Stratified K Fold can be nice but the simple method from scikit learn is built for classification tasks."
      ]
    },
    {
      "metadata": {
        "id": "lgDN7uoSS4si",
        "colab_type": "text"
      },
      "cell_type": "markdown",
      "source": [
        "Lets check how the relevance values are spread over the data"
      ]
    },
    {
      "metadata": {
        "id": "zXkpn4ubS5kh",
        "colab_type": "code",
        "colab": {
          "base_uri": "https://localhost:8080/",
          "height": 737
        },
        "outputId": "29845247-76f4-4ed9-c131-473cd25d3b0e"
      },
      "cell_type": "code",
      "source": [
        "x = training_data[0:2000]['relevance']\n",
        "\n",
        "\n",
        "x.plot(figsize=(32,12))"
      ],
      "execution_count": 211,
      "outputs": [
        {
          "output_type": "execute_result",
          "data": {
            "text/plain": [
              "<matplotlib.axes._subplots.AxesSubplot at 0x7ffb0da98e48>"
            ]
          },
          "metadata": {
            "tags": []
          },
          "execution_count": 211
        },
        {
          "output_type": "display_data",
          "data": {
            "image/png": "[encoded data removed]",
            "text/plain": [
              "<Figure size 2304x864 with 1 Axes>"
            ]
          },
          "metadata": {
            "tags": []
          }
        }
      ]
    },
    {
      "metadata": {
        "id": "BvB1KuEcVjmF",
        "colab_type": "text"
      },
      "cell_type": "markdown",
      "source": [
        "So the distribution is not normal but the values are spreaded evenlly. <br>\n",
        "Next we can check distribution of test and train over a simple split"
      ]
    },
    {
      "metadata": {
        "id": "ofq72u4xV4de",
        "colab_type": "code",
        "colab": {
          "base_uri": "https://localhost:8080/",
          "height": 364
        },
        "outputId": "dc32f454-f346-4f50-e5d3-5165f4b68358"
      },
      "cell_type": "code",
      "source": [
        "train = training_data[:60000]\n",
        "train.relevance.hist()"
      ],
      "execution_count": 221,
      "outputs": [
        {
          "output_type": "execute_result",
          "data": {
            "text/plain": [
              "<matplotlib.axes._subplots.AxesSubplot at 0x7ffb041799b0>"
            ]
          },
          "metadata": {
            "tags": []
          },
          "execution_count": 221
        },
        {
          "output_type": "display_data",
          "data": {
            "image/png": "[encoded data removed]",
            "text/plain": [
              "<Figure size 576x396 with 1 Axes>"
            ]
          },
          "metadata": {
            "tags": []
          }
        }
      ]
    },
    {
      "metadata": {
        "id": "wcIsE2dnWeST",
        "colab_type": "code",
        "colab": {
          "base_uri": "https://localhost:8080/",
          "height": 34
        },
        "outputId": "9979e128-dac8-41aa-f3a7-3aa001ad8bd8"
      },
      "cell_type": "code",
      "source": [
        "mean = np.mean(train['relevance'])\n",
        "print(f'The mean is: {mean}')"
      ],
      "execution_count": 223,
      "outputs": [
        {
          "output_type": "stream",
          "text": [
            "The mean is: 2.4168578333332675\n"
          ],
          "name": "stdout"
        }
      ]
    },
    {
      "metadata": {
        "id": "L_Mlrc4QWd-y",
        "colab_type": "code",
        "colab": {
          "base_uri": "https://localhost:8080/",
          "height": 364
        },
        "outputId": "faafb8f5-2ac4-46fd-e966-55619a4aa2e6"
      },
      "cell_type": "code",
      "source": [
        "val = training_data[60000:]\n",
        "val.relevance.hist()"
      ],
      "execution_count": 224,
      "outputs": [
        {
          "output_type": "execute_result",
          "data": {
            "text/plain": [
              "<matplotlib.axes._subplots.AxesSubplot at 0x7ffb040d51d0>"
            ]
          },
          "metadata": {
            "tags": []
          },
          "execution_count": 224
        },
        {
          "output_type": "display_data",
          "data": {
            "image/png": "[encoded data removed]",
            "text/plain": [
              "<Figure size 576x396 with 1 Axes>"
            ]
          },
          "metadata": {
            "tags": []
          }
        }
      ]
    },
    {
      "metadata": {
        "id": "udw3KOy-XF2V",
        "colab_type": "code",
        "colab": {
          "base_uri": "https://localhost:8080/",
          "height": 34
        },
        "outputId": "3a910c8a-05b4-4914-d171-17e6b889eaa2"
      },
      "cell_type": "code",
      "source": [
        "mean = np.mean(val['relevance'])\n",
        "print(f'The mean is: {mean}')"
      ],
      "execution_count": 226,
      "outputs": [
        {
          "output_type": "stream",
          "text": [
            "The mean is: 2.2313926210279327\n"
          ],
          "name": "stdout"
        }
      ]
    },
    {
      "metadata": {
        "id": "wNZwQ3-hYgxJ",
        "colab_type": "text"
      },
      "cell_type": "markdown",
      "source": [
        "We see that the distribution and mean is quiet similar so using a simple train-val split is not that bad.<br>\n",
        "By taking this choice we aware that its not optimal and we might overfit our validation, but we decided to invest the limited time we have in other places (like researching more pretrained embedding and training a new one). <br>\n",
        "If we had more time we would still like to apply a validation strategy similar to stratified k fold which will split the data to a bunch of folds and keep mean and distribution similar in every fold"
      ]
    },
    {
      "metadata": {
        "id": "wKswjloTonwT",
        "colab_type": "text"
      },
      "cell_type": "markdown",
      "source": [
        "# Baseline"
      ]
    },
    {
      "metadata": {
        "id": "5P90DaG6onwU",
        "colab_type": "text"
      },
      "cell_type": "markdown",
      "source": [
        "At first, Lets create the most Naive baseline by submitting the mean of all training data as the score and evaluate our rmse from that."
      ]
    },
    {
      "metadata": {
        "id": "TM7fRiG3onwV",
        "colab_type": "code",
        "colab": {}
      },
      "cell_type": "code",
      "source": [
        "mean = np.mean(training_data['relevance'])"
      ],
      "execution_count": 0,
      "outputs": []
    },
    {
      "metadata": {
        "id": "_X-jNOv4onwb",
        "colab_type": "code",
        "outputId": "e12b1644-5b8e-4636-8d08-e1bad62bd3b2",
        "colab": {
          "base_uri": "https://localhost:8080/",
          "height": 34
        }
      },
      "cell_type": "code",
      "source": [
        "from sklearn.metrics import mean_squared_error\n",
        "\n",
        "rmse = np.sqrt(mean_squared_error(training_data['relevance'].values, np.zeros(training_data.shape[0]) + mean))\n",
        "print(f'rmse of train against mean: {rmse}')"
      ],
      "execution_count": 0,
      "outputs": [
        {
          "output_type": "stream",
          "text": [
            "rmse of train against mean: 0.5339803436691322\n"
          ],
          "name": "stdout"
        }
      ]
    },
    {
      "metadata": {
        "id": "PtQ1WxUa1txH",
        "colab_type": "code",
        "colab": {
          "base_uri": "https://localhost:8080/",
          "height": 34
        },
        "outputId": "80b4e43a-17a9-41ad-fb02-a9f36df27bee"
      },
      "cell_type": "code",
      "source": [
        "from sklearn.metrics import mean_absolute_error\n",
        "mean_absolute_error(training_data['relevance'].values, np.zeros(training_data.shape[0]) + mean)\n"
      ],
      "execution_count": 237,
      "outputs": [
        {
          "output_type": "execute_result",
          "data": {
            "text/plain": [
              "0.46979131158657317"
            ]
          },
          "metadata": {
            "tags": []
          },
          "execution_count": 237
        }
      ]
    },
    {
      "metadata": {
        "id": "Fiaf-2mmonwg",
        "colab_type": "text"
      },
      "cell_type": "markdown",
      "source": [
        "The result looks not that naive, probably because the data is unbalanced and tends to the higher values. <br>\n",
        "Considering the best LB score is 0.43 and the median is 0.48 We can stick to that baseline meanwhile."
      ]
    },
    {
      "metadata": {
        "id": "M-2f3FeD3oYf",
        "colab_type": "text"
      },
      "cell_type": "markdown",
      "source": [
        "# Character level LSTM "
      ]
    },
    {
      "metadata": {
        "id": "khW3YMAdGtCQ",
        "colab_type": "text"
      },
      "cell_type": "markdown",
      "source": [
        "## Creating Character embedding"
      ]
    },
    {
      "metadata": {
        "id": "Iw1nur0UFqyF",
        "colab_type": "text"
      },
      "cell_type": "markdown",
      "source": [
        "In Small tests that we've done we found that stemming gives worse results in that scenario.\n",
        "It makes sense for us as stemming can switch between characters and lose the special connection between them in a sentence."
      ]
    },
    {
      "metadata": {
        "id": "9twY-AQcFvGj",
        "colab_type": "text"
      },
      "cell_type": "markdown",
      "source": [
        "So first we will label encode our data"
      ]
    },
    {
      "metadata": {
        "id": "rLL8D6MyG_zS",
        "colab_type": "code",
        "colab": {}
      },
      "cell_type": "code",
      "source": [
        "cols = ['search_term', 'product_description']"
      ],
      "execution_count": 0,
      "outputs": []
    },
    {
      "metadata": {
        "id": "Vq86D8pB3wIm",
        "colab_type": "code",
        "outputId": "5c232e0d-c215-46d0-f7bc-b061b5ec2538",
        "colab": {
          "base_uri": "https://localhost:8080/",
          "height": 88
        }
      },
      "cell_type": "code",
      "source": [
        "%%time\n",
        "\n",
        "# Prepare embedding\n",
        "vocabulary = dict()\n",
        "inverse_vocabulary = ['<unk>']  # '<unk>' will never be used, it is only a placeholder for the [0, 0, ....0] embedding\n",
        "\n",
        "for index, row in training_data.iterrows():\n",
        "\n",
        "    # Iterate through the text of both questions of the row\n",
        "    for question in cols:\n",
        "\n",
        "        q2n = []  # q2n -> question numbers representation\n",
        "#       for word in text_to_word_list(row[question]):\n",
        "        for char in [a for a in row[question]]:\n",
        "            #char = char.lower()\n",
        "            if char not in vocabulary:\n",
        "                vocabulary[char] = len(inverse_vocabulary)\n",
        "                q2n.append(len(inverse_vocabulary))\n",
        "                inverse_vocabulary.append(char)\n",
        "            else:\n",
        "                q2n.append(vocabulary[char])\n",
        "\n",
        "        # Replace questions as word to question as number representation\n",
        "        training_data.set_value(index, question, q2n)\n",
        "            \n"
      ],
      "execution_count": 0,
      "outputs": [
        {
          "output_type": "stream",
          "text": [
            "/usr/local/lib/python3.6/dist-packages/ipykernel_launcher.py:23: FutureWarning: set_value is deprecated and will be removed in a future release. Please use .at[] or .iat[] accessors instead\n"
          ],
          "name": "stderr"
        },
        {
          "output_type": "stream",
          "text": [
            "CPU times: user 29.6 s, sys: 133 ms, total: 29.7 s\n",
            "Wall time: 29.7 s\n"
          ],
          "name": "stdout"
        }
      ]
    },
    {
      "metadata": {
        "id": "Lj8m712VIjzz",
        "colab_type": "text"
      },
      "cell_type": "markdown",
      "source": [
        "Second, we will create a fake mission in order the generate an embedding representation for each char. <br>\n",
        "Here we are creating a dataset containing chars as features and their surroundings as target feature."
      ]
    },
    {
      "metadata": {
        "id": "hFjJFoiOQBzu",
        "colab_type": "text"
      },
      "cell_type": "markdown",
      "source": [
        "We can create embeddings for characters in search_term and product_description or either create individual embeddings for each feature. <br>\n",
        "Lets start by creating embeddings for both as it makes more sense right now. <br>\n",
        "We can also use gensim Word2Vec algorithm but we found it to be less usefull in finding Character Embeddings"
      ]
    },
    {
      "metadata": {
        "id": "yOANBhcj3wNR",
        "colab_type": "code",
        "colab": {}
      },
      "cell_type": "code",
      "source": [
        "x_train, y_train = [] , []\n",
        "\n",
        "for index, row in training_data.iterrows():\n",
        "\n",
        "    # Iterate through the text of both questions of the row\n",
        "    for col in cols:\n",
        "        padding = row[col].copy()\n",
        "        padding.append(6)\n",
        "        padding.insert(0,6)       \n",
        "        for i in range(1, len(padding)-1):          \n",
        "            char = padding[i]\n",
        "            backChar = padding[i-1]\n",
        "            nextChar = padding[i+1]\n",
        "\n",
        "            x_train.append(char)\n",
        "            y_train.append([backChar,nextChar])\n",
        "            \n",
        "    if len(x_train) > 500000:\n",
        "        break\n",
        "\n",
        "x_train = np.array(x_train)\n",
        "y_train = np.array(y_train)"
      ],
      "execution_count": 0,
      "outputs": []
    },
    {
      "metadata": {
        "id": "tMfmCZts3wGw",
        "colab_type": "code",
        "outputId": "f57747b2-d529-40d5-a5c4-2136d6ddacb3",
        "colab": {
          "base_uri": "https://localhost:8080/",
          "height": 50
        }
      },
      "cell_type": "code",
      "source": [
        "from keras.utils import to_categorical\n",
        "\n",
        "backCharCategorical = to_categorical(y_train[:,0])\n",
        "nextCharCategorical = to_categorical(y_train[:,1])\n",
        "\n",
        "print(backCharCategorical.shape)\n",
        "print(nextCharCategorical.shape)"
      ],
      "execution_count": 0,
      "outputs": [
        {
          "output_type": "stream",
          "text": [
            "(501047, 84)\n",
            "(501047, 84)\n"
          ],
          "name": "stdout"
        }
      ]
    },
    {
      "metadata": {
        "id": "0X2_cLPwJhOD",
        "colab_type": "code",
        "colab": {}
      },
      "cell_type": "code",
      "source": [
        "embeddingSize = backCharCategorical.shape[1]\n",
        "embeddingSize"
      ],
      "execution_count": 0,
      "outputs": []
    },
    {
      "metadata": {
        "id": "30f14QHCLT5l",
        "colab_type": "code",
        "colab": {}
      },
      "cell_type": "code",
      "source": [
        "from keras.regularizers import l2\n",
        "\n",
        "input_vec = Input(shape=(1,))\n",
        "\n",
        "emb = Embedding(embeddingSize, 16, embeddings_regularizer=l2(1e-3))(input_vec)\n",
        "flat = Flatten()(emb)\n",
        "\n",
        "out_back = Dense(embeddingSize, activation='softmax')(flat)\n",
        "out_next = Dense(embeddingSize, activation='softmax')(flat)\n",
        "\n",
        "model = Model(inputs = input_vec, outputs = [out_back, out_next])\n",
        "model.compile(optimizer='adam', loss='categorical_crossentropy', metrics=['accuracy'])\n"
      ],
      "execution_count": 0,
      "outputs": []
    },
    {
      "metadata": {
        "id": "GCnFQTAfLykJ",
        "colab_type": "code",
        "outputId": "65529371-9bdc-40b6-9519-b89fb348154a",
        "colab": {
          "base_uri": "https://localhost:8080/",
          "height": 709
        }
      },
      "cell_type": "code",
      "source": [
        "hist = model.fit(x_train, [backCharCategorical, nextCharCategorical], batch_size=256, epochs=20)"
      ],
      "execution_count": 0,
      "outputs": [
        {
          "output_type": "stream",
          "text": [
            "Epoch 1/20\n",
            "501047/501047 [==============================] - 14s 27us/step - loss: 6.0669 - dense_4_loss: 3.0017 - dense_5_loss: 2.9942 - dense_4_acc: 0.1902 - dense_5_acc: 0.1984\n",
            "Epoch 2/20\n",
            "501047/501047 [==============================] - 13s 26us/step - loss: 5.4514 - dense_4_loss: 2.6723 - dense_5_loss: 2.6733 - dense_4_acc: 0.2263 - dense_5_acc: 0.2348\n",
            "Epoch 3/20\n",
            "501047/501047 [==============================] - 13s 26us/step - loss: 5.3753 - dense_4_loss: 2.6369 - dense_5_loss: 2.6414 - dense_4_acc: 0.2281 - dense_5_acc: 0.2364\n",
            "Epoch 4/20\n",
            "501047/501047 [==============================] - 13s 26us/step - loss: 5.3380 - dense_4_loss: 2.6235 - dense_5_loss: 2.6277 - dense_4_acc: 0.2288 - dense_5_acc: 0.2370\n",
            "Epoch 5/20\n",
            "501047/501047 [==============================] - 13s 26us/step - loss: 5.3142 - dense_4_loss: 2.6158 - dense_5_loss: 2.6197 - dense_4_acc: 0.2292 - dense_5_acc: 0.2369\n",
            "Epoch 6/20\n",
            "501047/501047 [==============================] - 13s 26us/step - loss: 5.2975 - dense_4_loss: 2.6108 - dense_5_loss: 2.6146 - dense_4_acc: 0.2296 - dense_5_acc: 0.2373\n",
            "Epoch 7/20\n",
            "501047/501047 [==============================] - 13s 26us/step - loss: 5.2848 - dense_4_loss: 2.6072 - dense_5_loss: 2.6105 - dense_4_acc: 0.2300 - dense_5_acc: 0.2371\n",
            "Epoch 8/20\n",
            "501047/501047 [==============================] - 13s 26us/step - loss: 5.2748 - dense_4_loss: 2.6046 - dense_5_loss: 2.6075 - dense_4_acc: 0.2296 - dense_5_acc: 0.2376\n",
            "Epoch 9/20\n",
            "501047/501047 [==============================] - 13s 26us/step - loss: 5.2666 - dense_4_loss: 2.6024 - dense_5_loss: 2.6049 - dense_4_acc: 0.2300 - dense_5_acc: 0.2378\n",
            "Epoch 10/20\n",
            "501047/501047 [==============================] - 13s 26us/step - loss: 5.2596 - dense_4_loss: 2.6005 - dense_5_loss: 2.6028 - dense_4_acc: 0.2300 - dense_5_acc: 0.2379\n",
            "Epoch 11/20\n",
            "501047/501047 [==============================] - 13s 26us/step - loss: 5.2536 - dense_4_loss: 2.5990 - dense_5_loss: 2.6009 - dense_4_acc: 0.2298 - dense_5_acc: 0.2383\n",
            "Epoch 12/20\n",
            "501047/501047 [==============================] - 13s 26us/step - loss: 5.2488 - dense_4_loss: 2.5979 - dense_5_loss: 2.5995 - dense_4_acc: 0.2300 - dense_5_acc: 0.2382\n",
            "Epoch 13/20\n",
            "501047/501047 [==============================] - 13s 26us/step - loss: 5.2441 - dense_4_loss: 2.5966 - dense_5_loss: 2.5982 - dense_4_acc: 0.2304 - dense_5_acc: 0.2380\n",
            "Epoch 14/20\n",
            "501047/501047 [==============================] - 13s 26us/step - loss: 5.2401 - dense_4_loss: 2.5956 - dense_5_loss: 2.5969 - dense_4_acc: 0.2299 - dense_5_acc: 0.2382\n",
            "Epoch 15/20\n",
            "501047/501047 [==============================] - 13s 26us/step - loss: 5.2367 - dense_4_loss: 2.5949 - dense_5_loss: 2.5958 - dense_4_acc: 0.2298 - dense_5_acc: 0.2382\n",
            "Epoch 16/20\n",
            "501047/501047 [==============================] - 13s 26us/step - loss: 5.2335 - dense_4_loss: 2.5940 - dense_5_loss: 2.5949 - dense_4_acc: 0.2298 - dense_5_acc: 0.2381\n",
            "Epoch 17/20\n",
            "501047/501047 [==============================] - 13s 26us/step - loss: 5.2307 - dense_4_loss: 2.5934 - dense_5_loss: 2.5941 - dense_4_acc: 0.2296 - dense_5_acc: 0.2380\n",
            "Epoch 18/20\n",
            "501047/501047 [==============================] - 13s 26us/step - loss: 5.2279 - dense_4_loss: 2.5926 - dense_5_loss: 2.5933 - dense_4_acc: 0.2304 - dense_5_acc: 0.2381\n",
            "Epoch 19/20\n",
            "501047/501047 [==============================] - 13s 26us/step - loss: 5.2256 - dense_4_loss: 2.5921 - dense_5_loss: 2.5925 - dense_4_acc: 0.2301 - dense_5_acc: 0.2383\n",
            "Epoch 20/20\n",
            "501047/501047 [==============================] - 13s 26us/step - loss: 5.2234 - dense_4_loss: 2.5915 - dense_5_loss: 2.5919 - dense_4_acc: 0.2300 - dense_5_acc: 0.2383\n"
          ],
          "name": "stdout"
        }
      ]
    },
    {
      "metadata": {
        "id": "O4HfxaqsM23O",
        "colab_type": "text"
      },
      "cell_type": "markdown",
      "source": [
        "Now we will use the Flatten layer as our output layer and will create a modle that output our embedding representation for each char"
      ]
    },
    {
      "metadata": {
        "id": "jWoHZ6TiOBUu",
        "colab_type": "code",
        "colab": {}
      },
      "cell_type": "code",
      "source": [
        "embeddingModel = Model(input_vec, flat)"
      ],
      "execution_count": 0,
      "outputs": []
    },
    {
      "metadata": {
        "id": "Qe3D1eaZOTK-",
        "colab_type": "code",
        "colab": {}
      },
      "cell_type": "code",
      "source": [
        "uniqLabels = np.unique(x_train)"
      ],
      "execution_count": 0,
      "outputs": []
    },
    {
      "metadata": {
        "id": "h0u8pRweOy-r",
        "colab_type": "code",
        "colab": {}
      },
      "cell_type": "code",
      "source": [
        "embeddingPredictions = embeddingModel.predict(uniqLabels)"
      ],
      "execution_count": 0,
      "outputs": []
    },
    {
      "metadata": {
        "id": "W2ybA5PnNVId",
        "colab_type": "text"
      },
      "cell_type": "markdown",
      "source": [
        "We can reduce each char 16 dimension representaion to a 2d representation using TSNE and plot them to see if our embedding have found reasonable connections"
      ]
    },
    {
      "metadata": {
        "id": "YzRKrg6-Lym3",
        "colab_type": "code",
        "outputId": "14ff4a8f-6d1f-4ed6-e5d9-1f7d385a4412",
        "colab": {
          "base_uri": "https://localhost:8080/",
          "height": 592
        }
      },
      "cell_type": "code",
      "source": [
        "from sklearn.manifold import TSNE\n",
        "import matplotlib.pyplot as plt\n",
        "\n",
        "plt.figure(figsize=(10,10))\n",
        "result = TSNE().fit_transform(embeddingPredictions)\n",
        "plt.scatter(result[:, 0], result[:, 1])\n",
        "\n",
        "\n",
        "for i in range(0,83):\n",
        " \tplt.annotate(inverse_vocabulary[i+1], xy=(result[i, 0], result[i, 1]))\n",
        "plt.show()"
      ],
      "execution_count": 0,
      "outputs": [
        {
          "output_type": "display_data",
          "data": {
            "image/png": "[encoded data removed]",
            "text/plain": [
              "<Figure size 720x720 with 1 Axes>"
            ]
          },
          "metadata": {
            "tags": []
          }
        }
      ]
    },
    {
      "metadata": {
        "id": "vq19hT-3N_n_",
        "colab_type": "text"
      },
      "cell_type": "markdown",
      "source": [
        "In the plot we can see seperation between digits lowercase and uppercase chars thus, we will trust the resulted embedding as a meaningfull representation and save it for use later."
      ]
    },
    {
      "metadata": {
        "id": "g7nogh7Lqu5G",
        "colab_type": "code",
        "colab": {}
      },
      "cell_type": "code",
      "source": [
        "model.save_weights(\"drive/My Drive/embeddingCharModel_Last30.h5\")\n",
        "\n",
        "np.save(\"drive/My Drive/CharEmbeddingPredictions.npy\", embeddingPredictions)\n"
      ],
      "execution_count": 0,
      "outputs": []
    },
    {
      "metadata": {
        "id": "0gLprepUr_UH",
        "colab_type": "code",
        "colab": {}
      },
      "cell_type": "code",
      "source": [
        "model_yaml = model.to_yaml()\n",
        "with open(\"drive/My Drive/embeddingCharModel_20_91.yaml\", \"w\") as yaml_file:\n",
        "    yaml_file.write(model_yaml)"
      ],
      "execution_count": 0,
      "outputs": []
    },
    {
      "metadata": {
        "id": "2dwJc0czsRn1",
        "colab_type": "code",
        "outputId": "c66d93a7-d1da-4e7b-fdc8-05bad2c8aaf5",
        "colab": {
          "base_uri": "https://localhost:8080/",
          "height": 34
        }
      },
      "cell_type": "code",
      "source": [
        "from keras.models import model_from_yaml\n",
        "# load YAML and create model\n",
        "yaml_file = open('drive/My Drive/embeddingCharModel.yaml', 'r')\n",
        "loaded_model_yaml = yaml_file.read()\n",
        "yaml_file.close()\n",
        "loaded_model = model_from_yaml(loaded_model_yaml)\n",
        "# load weights into new model\n",
        "loaded_model.load_weights(\"drive/My Drive/embeddingCharModel.h5\")\n",
        "print(\"Loaded model from disk\")\n",
        "\n",
        "embeddingPredictions = np.load(\"drive/My Drive/CharEmbeddingPredictions.npy\")"
      ],
      "execution_count": 0,
      "outputs": [
        {
          "output_type": "stream",
          "text": [
            "Loaded model from disk\n"
          ],
          "name": "stdout"
        }
      ]
    },
    {
      "metadata": {
        "colab_type": "text",
        "id": "3e27wQSWYdFn"
      },
      "cell_type": "markdown",
      "source": [
        "## Siamese network with Character LSTM \n"
      ]
    },
    {
      "metadata": {
        "id": "84KrAbzxonxA",
        "colab_type": "text"
      },
      "cell_type": "markdown",
      "source": [
        "We used here simple split to Train and Validation. <br>\n",
        "Our main idea is that we want to build a simple model first, stabilize it and then use more complex  validation strategies as we make our model more complex."
      ]
    },
    {
      "metadata": {
        "colab_type": "code",
        "id": "xI8NWVImDN2Z",
        "colab": {}
      },
      "cell_type": "code",
      "source": [
        "X = training_data[cols]"
      ],
      "execution_count": 0,
      "outputs": []
    },
    {
      "metadata": {
        "colab_type": "code",
        "id": "8DkKnvw9D1wa",
        "colab": {}
      },
      "cell_type": "code",
      "source": [
        "Y = training_data['relevance']"
      ],
      "execution_count": 0,
      "outputs": []
    },
    {
      "metadata": {
        "colab_type": "code",
        "id": "DOEWfbX5D-7E",
        "colab": {}
      },
      "cell_type": "code",
      "source": [
        "X_train, X_validation, Y_train, Y_validation = train_test_split(X, Y, test_size=0.2)"
      ],
      "execution_count": 0,
      "outputs": []
    },
    {
      "metadata": {
        "colab_type": "code",
        "id": "pLzvlHzQEdis",
        "colab": {}
      },
      "cell_type": "code",
      "source": [
        "# Split to dicts\n",
        "X_train = {'left': X_train.search_term, 'right': X_train.product_description}\n",
        "X_validation = {'left': X_validation.search_term, 'right': X_validation.product_description}"
      ],
      "execution_count": 0,
      "outputs": []
    },
    {
      "metadata": {
        "colab_type": "code",
        "id": "FBY7XEZ1EUGt",
        "colab": {}
      },
      "cell_type": "code",
      "source": [
        "# Convert labels to their numpy representations\n",
        "Y_train = Y_train.values\n",
        "Y_validation = Y_validation.values"
      ],
      "execution_count": 0,
      "outputs": []
    },
    {
      "metadata": {
        "id": "FR38ErzhonxO",
        "colab_type": "text"
      },
      "cell_type": "markdown",
      "source": [
        "Next step will be to trunc and pad all sequences in order to get a uniform sequence length. <br>\n",
        "To find the best sequence length we will retrieve some statistics about our sequences"
      ]
    },
    {
      "metadata": {
        "colab_type": "code",
        "id": "M8mw8Ps2VDxh",
        "outputId": "ce29db09-8f65-41b4-a0b2-f282db61edb2",
        "colab": {
          "base_uri": "https://localhost:8080/",
          "height": 67
        }
      },
      "cell_type": "code",
      "source": [
        "sumA = 0\n",
        "maxA = 0\n",
        "for x in training_data.search_term:\n",
        "    if sumA ==0:\n",
        "        minA = len(x)\n",
        "    sumA += len(x)\n",
        "    if len(x) > maxA:\n",
        "        maxA = len(x)\n",
        "    if len(x) < minA:\n",
        "        minA = len(x)\n",
        "    \n",
        "\n",
        "print(f'mean: {sumA / len(training_data.search_term)}')\n",
        "print(f'max: {maxA}')\n",
        "print(f'min: {minA}')"
      ],
      "execution_count": 0,
      "outputs": [
        {
          "output_type": "stream",
          "text": [
            "mean: 19.008924352275642\n",
            "max: 60\n",
            "min: 2\n"
          ],
          "name": "stdout"
        }
      ]
    },
    {
      "metadata": {
        "colab_type": "code",
        "id": "ur0CQGuEV733",
        "outputId": "3635ecd5-512d-4cfb-e199-4f8a3dfdc230",
        "colab": {
          "base_uri": "https://localhost:8080/",
          "height": 67
        }
      },
      "cell_type": "code",
      "source": [
        "sumA = 0\n",
        "maxA = 0\n",
        "for x in training_data.product_description:\n",
        "    if sumA ==0:\n",
        "        minA = len(x)\n",
        "    sumA += len(x)\n",
        "    if len(x) > maxA:\n",
        "        maxA = len(x)\n",
        "    if len(x) < minA:\n",
        "        minA = len(x)\n",
        "    \n",
        "\n",
        "print(f'mean: {sumA / len(training_data)}')\n",
        "print(f'max: {maxA}')\n",
        "print(f'min: {minA}')"
      ],
      "execution_count": 0,
      "outputs": [
        {
          "output_type": "stream",
          "text": [
            "mean: 885.663750388162\n",
            "max: 5516\n",
            "min: 153\n"
          ],
          "name": "stdout"
        }
      ]
    },
    {
      "metadata": {
        "id": "jGeG9_UmonxT",
        "colab_type": "text"
      },
      "cell_type": "markdown",
      "source": [
        "Setting the mean of each feature as the Length can be a good balanced choice, we dont want to lose data in long sequences but also we would rather not add noise with padding for small sequences. <br>\n",
        "Later we found that using big numbers over here makes the running time skyrocket, we will have to compromise on smaller values, plus increasing size for search sentences will increase results."
      ]
    },
    {
      "metadata": {
        "colab_type": "code",
        "id": "8aCjhBhfEvyI",
        "colab": {}
      },
      "cell_type": "code",
      "source": [
        "# maxSearchLength = 60\n",
        "# maxDescLength = 5516\n",
        "maxSearchLength = 50\n",
        "maxDescLength = 128\n",
        "\n",
        "# Zero padding\n",
        "X_train['left'] = pad_sequences(X_train['left'], maxlen=maxSearchLength )\n",
        "X_train['right'] = pad_sequences(X_train['right'], maxlen=maxDescLength )\n",
        "X_validation['left'] = pad_sequences(X_validation['left'],  maxlen=maxSearchLength)\n",
        "X_validation['right'] = pad_sequences(X_validation['right'],  maxlen=maxDescLength)\n",
        "   \n",
        "\n",
        "# Make sure everything is ok\n",
        "assert len(X_train['left']) == len(Y_train)\n",
        "assert len(X_validation['left']) == len(Y_validation)"
      ],
      "execution_count": 0,
      "outputs": []
    },
    {
      "metadata": {
        "id": "DfZzYpXSonxY",
        "colab_type": "text"
      },
      "cell_type": "markdown",
      "source": [
        "Creating embedding matrix to be used in Embedding layers of model"
      ]
    },
    {
      "metadata": {
        "colab_type": "code",
        "id": "_HP4ipjLmt8x",
        "colab": {}
      },
      "cell_type": "code",
      "source": [
        "embedding_dim = 16\n",
        "embeddings = 1 * np.random.randn(len(vocabulary) + 1, embedding_dim)  # This will be the embedding matrix\n",
        "embeddings[0] = 0  # So that the padding will be ignored\n",
        "\n",
        "\n",
        "# Build the embedding matrix\n",
        "for word, index in vocabulary.items():\n",
        "    if index in uniqLabels:\n",
        "        embeddings[index] = embeddingPredictions[index-1]\n",
        "       "
      ],
      "execution_count": 0,
      "outputs": []
    },
    {
      "metadata": {
        "id": "5KdRmPE0onxc",
        "colab_type": "code",
        "colab": {}
      },
      "cell_type": "code",
      "source": [
        "from keras.callbacks import ModelCheckpoint, EarlyStopping\n",
        "\n",
        "early_stopping = EarlyStopping(monitor='val_loss', patience=10)\n",
        "\n",
        "checkpointer = ModelCheckpoint(filepath='drive/My Drive/weights.Char_embedding_16_shorter.df5', \n",
        "                                   verbose=1, save_best_only=True)"
      ],
      "execution_count": 0,
      "outputs": []
    },
    {
      "metadata": {
        "colab_type": "code",
        "id": "ziGrZYssUkV6",
        "colab": {}
      },
      "cell_type": "code",
      "source": [
        "def root_mean_squared_error(y_true, y_pred):\n",
        "        return K.sqrt(K.mean(K.square(y_pred - y_true), axis=-1)) "
      ],
      "execution_count": 0,
      "outputs": []
    },
    {
      "metadata": {
        "id": "qVxOmeBponxg",
        "colab_type": "code",
        "colab": {}
      },
      "cell_type": "code",
      "source": [
        "def exponent_neg_manhattan_distance(left, right):\n",
        "    ''' Helper function for the similarity estimate of the LSTMs outputs'''\n",
        "    return K.exp(-K.sum(K.abs(left-right), axis=1, keepdims=True))"
      ],
      "execution_count": 0,
      "outputs": []
    },
    {
      "metadata": {
        "id": "OhWMhEP4i0YB",
        "colab_type": "code",
        "colab": {}
      },
      "cell_type": "code",
      "source": [
        "from sklearn.metrics import mean_squared_error\n",
        "from math import sqrt\n",
        "\n",
        "def rms(y_actual, y_predicted):\n",
        "    return sqrt(mean_squared_error(y_actual, y_predicted))"
      ],
      "execution_count": 0,
      "outputs": []
    },
    {
      "metadata": {
        "colab_type": "text",
        "id": "gKXsqk_gUVEs"
      },
      "cell_type": "markdown",
      "source": [
        "Last step is normalizing our target, real values are in range [1,3] but our model with manhattan_distance as Last layer's activation function can only produce values in range [0,1]"
      ]
    },
    {
      "metadata": {
        "colab_type": "code",
        "id": "0NZSVWsJUYs_",
        "colab": {}
      },
      "cell_type": "code",
      "source": [
        "normalizeY_train = (Y_train - 1) /2\n",
        "normalizeY_validation = (Y_validation - 1) /2"
      ],
      "execution_count": 0,
      "outputs": []
    },
    {
      "metadata": {
        "id": "sCLWB5NUonxo",
        "colab_type": "text"
      },
      "cell_type": "markdown",
      "source": [
        "### Training model with no shared layers and Manhatten distance as output function"
      ]
    },
    {
      "metadata": {
        "colab_type": "code",
        "id": "m6EJnWAqPB42",
        "outputId": "7ef5c803-9a0d-4c2d-d2b6-3d9d736c8a09",
        "colab": {
          "base_uri": "https://localhost:8080/",
          "height": 1078
        }
      },
      "cell_type": "code",
      "source": [
        "# Model variables\n",
        "leftN_hidden = 256\n",
        "rightN_hidden = 256\n",
        "gradient_clipping_norm = 1.25\n",
        "batch_size = 128\n",
        "n_epoch = 15\n",
        "\n",
        "# The visible layer\n",
        "left_input = Input(shape=(X_train['left'].shape[1],), dtype='int32')\n",
        "right_input = Input(shape=(X_train['right'].shape[1],), dtype='int32')\n",
        "\n",
        "embedding_layerLeft = Embedding(len(embeddings), embedding_dim, weights=[embeddings], input_length=maxSearchLength, trainable=False)\n",
        "embedding_layerRight = Embedding(len(embeddings), embedding_dim, weights=[embeddings], input_length=maxDescLength, trainable=False)\n",
        "\n",
        "# Embedded version of the inputs\n",
        "encoded_left = embedding_layerLeft(left_input)\n",
        "encoded_right = embedding_layerRight(right_input)\n",
        "\n",
        "# LSTM for each, different from classical siamese\n",
        "left_lstm = LSTM(leftN_hidden)\n",
        "right_lstm = LSTM(rightN_hidden)\n",
        "\n",
        "left_LstmOutput = left_lstm(encoded_left)\n",
        "right_LstmOutput = right_lstm(encoded_right)\n",
        "\n",
        "# left_output = Dense(128)(left_LstmOutput)\n",
        "# right_output = Dense(128)(right_LstmOutput)\n",
        "\n",
        "# Calculates the distance as defined by the MaLSTM model\n",
        "# malstm_distance = Lambda(function=lambda x: exponent_neg_manhattan_distance(x[0], x[1]),output_shape=lambda x: (x[0][0], 1))([left_output, right_output])\n",
        "malstm_distance = Lambda(function=lambda x: exponent_neg_manhattan_distance(x[0], x[1]),\n",
        "                         output_shape=lambda x: (x[0][0], 1))([left_LstmOutput, right_LstmOutput])\n",
        "\n",
        "# Pack it all up into a model\n",
        "malstm = Model([left_input, right_input], malstm_distance)\n",
        "\n",
        "# Adadelta optimizer, with gradient clipping by norm\n",
        "optimizer = Adadelta(clipnorm=gradient_clipping_norm)\n",
        "# optimizer = Adam()\n",
        "\n",
        "\n",
        "malstm.compile(loss=root_mean_squared_error, optimizer=optimizer)\n",
        "\n",
        "\n",
        "malstm_trained = malstm.fit([X_train['left'], X_train['right']], normalizeY_train, batch_size=batch_size, nb_epoch=n_epoch,\n",
        "                            validation_data=([X_validation['left'], X_validation['right']], normalizeY_validation), callbacks=[checkpointer,early_stopping])"
      ],
      "execution_count": 0,
      "outputs": [
        {
          "output_type": "stream",
          "text": [
            "/usr/local/lib/python3.6/dist-packages/ipykernel_launcher.py:45: UserWarning: The `nb_epoch` argument in `fit` has been renamed `epochs`.\n"
          ],
          "name": "stderr"
        },
        {
          "output_type": "stream",
          "text": [
            "Train on 59253 samples, validate on 14814 samples\n",
            "Epoch 1/15\n",
            "59253/59253 [==============================] - 180s 3ms/step - loss: 0.5988 - val_loss: 0.5609\n",
            "\n",
            "Epoch 00001: val_loss improved from inf to 0.56088, saving model to drive/My Drive/weights.Char_embedding_16_shorter.df5\n",
            "Epoch 2/15\n",
            "59253/59253 [==============================] - 179s 3ms/step - loss: 0.4847 - val_loss: 0.3695\n",
            "\n",
            "Epoch 00002: val_loss improved from 0.56088 to 0.36955, saving model to drive/My Drive/weights.Char_embedding_16_shorter.df5\n",
            "Epoch 3/15\n",
            "59253/59253 [==============================] - 179s 3ms/step - loss: 0.4142 - val_loss: 0.4287\n",
            "\n",
            "Epoch 00003: val_loss did not improve from 0.36955\n",
            "Epoch 4/15\n",
            "59253/59253 [==============================] - 179s 3ms/step - loss: 0.3705 - val_loss: 0.2918\n",
            "\n",
            "Epoch 00004: val_loss improved from 0.36955 to 0.29179, saving model to drive/My Drive/weights.Char_embedding_16_shorter.df5\n",
            "Epoch 5/15\n",
            "59253/59253 [==============================] - 179s 3ms/step - loss: 0.3364 - val_loss: 0.2883\n",
            "\n",
            "Epoch 00005: val_loss improved from 0.29179 to 0.28835, saving model to drive/My Drive/weights.Char_embedding_16_shorter.df5\n",
            "Epoch 6/15\n",
            "59253/59253 [==============================] - 179s 3ms/step - loss: 0.3174 - val_loss: 0.2830\n",
            "\n",
            "Epoch 00006: val_loss improved from 0.28835 to 0.28297, saving model to drive/My Drive/weights.Char_embedding_16_shorter.df5\n",
            "Epoch 7/15\n",
            "59253/59253 [==============================] - 179s 3ms/step - loss: 0.3032 - val_loss: 0.3104\n",
            "\n",
            "Epoch 00007: val_loss did not improve from 0.28297\n",
            "Epoch 8/15\n",
            "59253/59253 [==============================] - 179s 3ms/step - loss: 0.2926 - val_loss: 0.2882\n",
            "\n",
            "Epoch 00008: val_loss did not improve from 0.28297\n",
            "Epoch 9/15\n",
            "59253/59253 [==============================] - 179s 3ms/step - loss: 0.2829 - val_loss: 0.2690\n",
            "\n",
            "Epoch 00009: val_loss improved from 0.28297 to 0.26905, saving model to drive/My Drive/weights.Char_embedding_16_shorter.df5\n",
            "Epoch 10/15\n",
            "59253/59253 [==============================] - 179s 3ms/step - loss: 0.2784 - val_loss: 0.2741\n",
            "\n",
            "Epoch 00010: val_loss did not improve from 0.26905\n",
            "Epoch 11/15\n",
            "59253/59253 [==============================] - 179s 3ms/step - loss: 0.2706 - val_loss: 0.2170\n",
            "\n",
            "Epoch 00011: val_loss improved from 0.26905 to 0.21702, saving model to drive/My Drive/weights.Char_embedding_16_shorter.df5\n",
            "Epoch 12/15\n",
            "59253/59253 [==============================] - 179s 3ms/step - loss: 0.2619 - val_loss: 0.2577\n",
            "\n",
            "Epoch 00012: val_loss did not improve from 0.21702\n",
            "Epoch 13/15\n",
            "59253/59253 [==============================] - 179s 3ms/step - loss: 0.2505 - val_loss: 0.2376\n",
            "\n",
            "Epoch 00013: val_loss did not improve from 0.21702\n",
            "Epoch 14/15\n",
            "59253/59253 [==============================] - 179s 3ms/step - loss: 0.2293 - val_loss: 0.2169\n",
            "\n",
            "Epoch 00014: val_loss improved from 0.21702 to 0.21687, saving model to drive/My Drive/weights.Char_embedding_16_shorter.df5\n",
            "Epoch 15/15\n",
            "59253/59253 [==============================] - 179s 3ms/step - loss: 0.2238 - val_loss: 0.2295\n",
            "\n",
            "Epoch 00015: val_loss did not improve from 0.21687\n"
          ],
          "name": "stdout"
        }
      ]
    },
    {
      "metadata": {
        "id": "pd1vDdN8lzgW",
        "colab_type": "code",
        "outputId": "4e896443-ee80-4849-9bb0-4f42ef41a732",
        "colab": {
          "base_uri": "https://localhost:8080/",
          "height": 376
        }
      },
      "cell_type": "code",
      "source": [
        "# summarize history for loss\n",
        "plt.plot(malstm_trained.history['loss'])\n",
        "plt.plot(malstm_trained.history['val_loss'])\n",
        "plt.title('model loss')\n",
        "plt.ylabel('loss')\n",
        "plt.xlabel('epoch')\n",
        "plt.legend(['train', 'test'], loc='upper left')\n",
        "plt.show()"
      ],
      "execution_count": 0,
      "outputs": [
        {
          "output_type": "display_data",
          "data": {
            "image/png": "[encoded data removed]",
            "text/plain": [
              "<Figure size 576x396 with 1 Axes>"
            ]
          },
          "metadata": {
            "tags": []
          }
        }
      ]
    },
    {
      "metadata": {
        "id": "ptDvp9NO41ff",
        "colab_type": "code",
        "colab": {}
      },
      "cell_type": "code",
      "source": [
        "malstm.load_weights('drive/My Drive/weights.Char_embedding_16_shorter.df5')\n",
        "pred = malstm.predict([X_train['left'], X_train['right']])"
      ],
      "execution_count": 0,
      "outputs": []
    },
    {
      "metadata": {
        "id": "iRBG5cgr14hW",
        "colab_type": "code",
        "outputId": "939cf990-b22d-4589-c291-db107ec7e787",
        "colab": {
          "base_uri": "https://localhost:8080/",
          "height": 34
        }
      },
      "cell_type": "code",
      "source": [
        "from sklearn.metrics import mean_squared_error\n",
        "\n",
        "predUnNormalized = (pred *2.0) +1.0\n",
        "\n",
        "print(\"Validation RMSE score: {:<8.5f}\".format(np.sqrt(mean_squared_error(Y_train, predUnNormalized))))\n",
        "# print(f\"RMSE score: {root_mean_squared_error(Y_validation, predUnNormalized)}\")"
      ],
      "execution_count": 0,
      "outputs": [
        {
          "output_type": "stream",
          "text": [
            "Validation RMSE score: 0.53392 \n"
          ],
          "name": "stdout"
        }
      ]
    },
    {
      "metadata": {
        "id": "8YMl0epziZe1",
        "colab_type": "text"
      },
      "cell_type": "markdown",
      "source": [
        "Ok nice,  similar to our Naive baseline, now we can try to take the most out of this architecture.  <br>\n",
        "Next we tweaked the following parameters:  \n",
        "\n",
        "    Differnce function can be either cosine similarity or Manhattan distance.\n",
        "    Loss function can be changed to mse or mae.\n",
        "    Some layers could be shared.\n",
        "    Different Optimizers.\n",
        "    Better weights initializer.\n",
        "    More/less nodes for LSTM.\n",
        "    Improve Embeddings.\n",
        "    Change padding size.\n",
        "    Train to unNormalized targets."
      ]
    },
    {
      "metadata": {
        "id": "YNsL2C9viKWs",
        "colab_type": "text"
      },
      "cell_type": "markdown",
      "source": [
        "## Winning model:"
      ]
    },
    {
      "metadata": {
        "id": "zzGu-TLDP-5O",
        "colab_type": "text"
      },
      "cell_type": "markdown",
      "source": [
        "Eventually the best model we found was with the following parameters:\n",
        "\n",
        "cosine, no shared layers, desc padding 128, search padding  50, Lstm nodes 100, adam"
      ]
    },
    {
      "metadata": {
        "id": "kmLE01r7oPEk",
        "colab_type": "code",
        "colab": {}
      },
      "cell_type": "code",
      "source": [
        "from keras.layers import dot"
      ],
      "execution_count": 0,
      "outputs": []
    },
    {
      "metadata": {
        "id": "mEbIadvlnWpE",
        "colab_type": "code",
        "colab": {}
      },
      "cell_type": "code",
      "source": [
        "from keras.callbacks import TensorBoard, ModelCheckpoint, EarlyStopping\n",
        "\n",
        "early_stopping = EarlyStopping(monitor='val_loss', patience=20)\n",
        "\n",
        "checkpointer = ModelCheckpoint(filepath='drive/My Drive/weights.Char_embedding_cos_unnorm_weight_init_75ep_.df5', \n",
        "                                   verbose=1, save_best_only=True)"
      ],
      "execution_count": 0,
      "outputs": []
    },
    {
      "metadata": {
        "id": "i8sYw30RnWlq",
        "colab_type": "code",
        "outputId": "fb211841-b32a-4530-a30e-9dec276461d8",
        "colab": {
          "base_uri": "https://localhost:8080/",
          "height": 5508
        }
      },
      "cell_type": "code",
      "source": [
        "# Model variables\n",
        "leftN_hidden = 100\n",
        "rightN_hidden = 100\n",
        "gradient_clipping_norm = 1.25\n",
        "batch_size = 512\n",
        "n_epoch = 75\n",
        "\n",
        "\n",
        "# The visible layer\n",
        "left_input = Input(shape=(X_train['left'].shape[1],), dtype='int32')\n",
        "right_input = Input(shape=(X_train['right'].shape[1],), dtype='int32')\n",
        "\n",
        "embedding_layerLeft = Embedding(len(embeddings), embedding_dim, weights=[embeddings], input_length=maxSearchLength, trainable=False)\n",
        "embedding_layerRight = Embedding(len(embeddings), embedding_dim, weights=[embeddings], input_length=maxDescLength, trainable=False)\n",
        "\n",
        "# Embedded version of the inputs\n",
        "encoded_left = embedding_layerLeft(left_input)\n",
        "encoded_right = embedding_layerRight(right_input)\n",
        "\n",
        "# Since this is a siamese network, both sides share the same LSTM\n",
        "left_lstm = LSTM(leftN_hidden, kernel_initializer='glorot_uniform')\n",
        "right_lstm = LSTM(rightN_hidden, kernel_initializer='glorot_uniform')\n",
        "\n",
        "left_LstmOutput = left_lstm(encoded_left)\n",
        "right_LstmOutput = right_lstm(encoded_right)\n",
        "\n",
        "# left_output = Dense(128)(left_LstmOutput)\n",
        "# right_output = Dense(128)(right_LstmOutput)\n",
        "\n",
        "\n",
        "# Calculates the distance as defined by the MaLSTM model\n",
        "# malstm_distance = Lambda(function=lambda x: exponent_neg_manhattan_distance(x[0], x[1]),output_shape=lambda x: (x[0][0], 1))([left_output, right_output])\n",
        "# malstm_distance = Lambda(function=lambda x: exponent_neg_manhattan_distance(x[0], x[1]),\n",
        "#                          output_shape=lambda x: (x[0][0], 1))([left_LstmOutput, right_LstmOutput])\n",
        "\n",
        "cosine = dot(inputs = [left_LstmOutput, right_LstmOutput], \n",
        "                        axes = -1, normalize = True)\n",
        "\n",
        "norm = Lambda(lambda x: x * 2 + 1)(cosine)\n",
        "\n",
        "cos_model = Model([left_input, right_input], norm)\n",
        "# Pack it all up into a model\n",
        "# malstm = Model([left_input, right_input], malstm_distance)\n",
        "\n",
        "# Adadelta optimizer, with gradient clipping by norm\n",
        "# optimizer = Adadelta(clipnorm=gradient_clipping_norm)\n",
        "optimizer = Adam()\n",
        "\n",
        "\n",
        "cos_model.compile(loss='mean_squared_error', optimizer=optimizer)\n",
        "\n",
        "\n",
        "cos_trained = cos_model.fit([X_train['left'], X_train['right']], Y_train, batch_size=batch_size, nb_epoch=n_epoch,\n",
        "                            validation_data=([X_validation['left'], X_validation['right']], Y_validation), callbacks=[checkpointer,early_stopping])"
      ],
      "execution_count": 0,
      "outputs": [
        {
          "output_type": "stream",
          "text": [
            "/usr/local/lib/python3.6/dist-packages/ipykernel_launcher.py:53: UserWarning: The `nb_epoch` argument in `fit` has been renamed `epochs`.\n"
          ],
          "name": "stderr"
        },
        {
          "output_type": "stream",
          "text": [
            "Train on 60000 samples, validate on 14067 samples\n",
            "Epoch 1/75\n",
            "60000/60000 [==============================] - 213s 4ms/step - loss: 0.2979 - val_loss: 0.2769\n",
            "\n",
            "Epoch 00001: val_loss improved from inf to 0.27693, saving model to drive/My Drive/weights.Char_embedding_cos_unnorm_weight_init_75ep_.df5\n",
            "Epoch 2/75\n",
            "60000/60000 [==============================] - 213s 4ms/step - loss: 0.2785 - val_loss: 0.2778\n",
            "\n",
            "Epoch 00002: val_loss did not improve from 0.27693\n",
            "Epoch 3/75\n",
            "60000/60000 [==============================] - 217s 4ms/step - loss: 0.2770 - val_loss: 0.2740\n",
            "\n",
            "Epoch 00003: val_loss improved from 0.27693 to 0.27402, saving model to drive/My Drive/weights.Char_embedding_cos_unnorm_weight_init_75ep_.df5\n",
            "Epoch 4/75\n",
            "60000/60000 [==============================] - 214s 4ms/step - loss: 0.2756 - val_loss: 0.2743\n",
            "\n",
            "Epoch 00004: val_loss did not improve from 0.27402\n",
            "Epoch 5/75\n",
            "60000/60000 [==============================] - 215s 4ms/step - loss: 0.2749 - val_loss: 0.2746\n",
            "\n",
            "Epoch 00005: val_loss did not improve from 0.27402\n",
            "Epoch 6/75\n",
            "60000/60000 [==============================] - 214s 4ms/step - loss: 0.2735 - val_loss: 0.2712\n",
            "\n",
            "Epoch 00006: val_loss improved from 0.27402 to 0.27125, saving model to drive/My Drive/weights.Char_embedding_cos_unnorm_weight_init_75ep_.df5\n",
            "Epoch 7/75\n",
            "60000/60000 [==============================] - 213s 4ms/step - loss: 0.2723 - val_loss: 0.2711\n",
            "\n",
            "Epoch 00007: val_loss improved from 0.27125 to 0.27111, saving model to drive/My Drive/weights.Char_embedding_cos_unnorm_weight_init_75ep_.df5\n",
            "Epoch 8/75\n",
            "60000/60000 [==============================] - 214s 4ms/step - loss: 0.2710 - val_loss: 0.2728\n",
            "\n",
            "Epoch 00008: val_loss did not improve from 0.27111\n",
            "Epoch 9/75\n",
            "60000/60000 [==============================] - 216s 4ms/step - loss: 0.2702 - val_loss: 0.2695\n",
            "\n",
            "Epoch 00009: val_loss improved from 0.27111 to 0.26955, saving model to drive/My Drive/weights.Char_embedding_cos_unnorm_weight_init_75ep_.df5\n",
            "Epoch 10/75\n",
            "60000/60000 [==============================] - 216s 4ms/step - loss: 0.2686 - val_loss: 0.2678\n",
            "\n",
            "Epoch 00010: val_loss improved from 0.26955 to 0.26778, saving model to drive/My Drive/weights.Char_embedding_cos_unnorm_weight_init_75ep_.df5\n",
            "Epoch 11/75\n",
            "60000/60000 [==============================] - 214s 4ms/step - loss: 0.2672 - val_loss: 0.2698\n",
            "\n",
            "Epoch 00011: val_loss did not improve from 0.26778\n",
            "Epoch 12/75\n",
            "60000/60000 [==============================] - 214s 4ms/step - loss: 0.2660 - val_loss: 0.2671\n",
            "\n",
            "Epoch 00012: val_loss improved from 0.26778 to 0.26709, saving model to drive/My Drive/weights.Char_embedding_cos_unnorm_weight_init_75ep_.df5\n",
            "Epoch 13/75\n",
            "60000/60000 [==============================] - 215s 4ms/step - loss: 0.2637 - val_loss: 0.2646\n",
            "\n",
            "Epoch 00013: val_loss improved from 0.26709 to 0.26461, saving model to drive/My Drive/weights.Char_embedding_cos_unnorm_weight_init_75ep_.df5\n",
            "Epoch 14/75\n",
            "60000/60000 [==============================] - 214s 4ms/step - loss: 0.2622 - val_loss: 0.2646\n",
            "\n",
            "Epoch 00014: val_loss did not improve from 0.26461\n",
            "Epoch 15/75\n",
            "60000/60000 [==============================] - 214s 4ms/step - loss: 0.2597 - val_loss: 0.2635\n",
            "\n",
            "Epoch 00015: val_loss improved from 0.26461 to 0.26348, saving model to drive/My Drive/weights.Char_embedding_cos_unnorm_weight_init_75ep_.df5\n",
            "Epoch 16/75\n",
            "60000/60000 [==============================] - 216s 4ms/step - loss: 0.2573 - val_loss: 0.2622\n",
            "\n",
            "Epoch 00016: val_loss improved from 0.26348 to 0.26220, saving model to drive/My Drive/weights.Char_embedding_cos_unnorm_weight_init_75ep_.df5\n",
            "Epoch 17/75\n",
            "60000/60000 [==============================] - 214s 4ms/step - loss: 0.2550 - val_loss: 0.2604\n",
            "\n",
            "Epoch 00017: val_loss improved from 0.26220 to 0.26039, saving model to drive/My Drive/weights.Char_embedding_cos_unnorm_weight_init_75ep_.df5\n",
            "Epoch 18/75\n",
            "60000/60000 [==============================] - 214s 4ms/step - loss: 0.2520 - val_loss: 0.2626\n",
            "\n",
            "Epoch 00018: val_loss did not improve from 0.26039\n",
            "Epoch 19/75\n",
            "60000/60000 [==============================] - 214s 4ms/step - loss: 0.2495 - val_loss: 0.2563\n",
            "\n",
            "Epoch 00019: val_loss improved from 0.26039 to 0.25628, saving model to drive/My Drive/weights.Char_embedding_cos_unnorm_weight_init_75ep_.df5\n",
            "Epoch 20/75\n",
            "60000/60000 [==============================] - 215s 4ms/step - loss: 0.2466 - val_loss: 0.2571\n",
            "\n",
            "Epoch 00020: val_loss did not improve from 0.25628\n",
            "Epoch 21/75\n",
            "60000/60000 [==============================] - 215s 4ms/step - loss: 0.2439 - val_loss: 0.2593\n",
            "\n",
            "Epoch 00021: val_loss did not improve from 0.25628\n",
            "Epoch 22/75\n",
            "60000/60000 [==============================] - 215s 4ms/step - loss: 0.2407 - val_loss: 0.2555\n",
            "\n",
            "Epoch 00022: val_loss improved from 0.25628 to 0.25546, saving model to drive/My Drive/weights.Char_embedding_cos_unnorm_weight_init_75ep_.df5\n",
            "Epoch 23/75\n",
            "60000/60000 [==============================] - 216s 4ms/step - loss: 0.2374 - val_loss: 0.2524\n",
            "\n",
            "Epoch 00023: val_loss improved from 0.25546 to 0.25242, saving model to drive/My Drive/weights.Char_embedding_cos_unnorm_weight_init_75ep_.df5\n",
            "Epoch 24/75\n",
            "60000/60000 [==============================] - 214s 4ms/step - loss: 0.2344 - val_loss: 0.2530\n",
            "\n",
            "Epoch 00024: val_loss did not improve from 0.25242\n",
            "Epoch 25/75\n",
            "60000/60000 [==============================] - 214s 4ms/step - loss: 0.2313 - val_loss: 0.2496\n",
            "\n",
            "Epoch 00025: val_loss improved from 0.25242 to 0.24957, saving model to drive/My Drive/weights.Char_embedding_cos_unnorm_weight_init_75ep_.df5\n",
            "Epoch 26/75\n",
            "60000/60000 [==============================] - 214s 4ms/step - loss: 0.2279 - val_loss: 0.2491\n",
            "\n",
            "Epoch 00026: val_loss improved from 0.24957 to 0.24912, saving model to drive/My Drive/weights.Char_embedding_cos_unnorm_weight_init_75ep_.df5\n",
            "Epoch 27/75\n",
            "60000/60000 [==============================] - 213s 4ms/step - loss: 0.2254 - val_loss: 0.2479\n",
            "\n",
            "Epoch 00027: val_loss improved from 0.24912 to 0.24795, saving model to drive/My Drive/weights.Char_embedding_cos_unnorm_weight_init_75ep_.df5\n",
            "Epoch 28/75\n",
            "60000/60000 [==============================] - 216s 4ms/step - loss: 0.2222 - val_loss: 0.2473\n",
            "\n",
            "Epoch 00028: val_loss improved from 0.24795 to 0.24731, saving model to drive/My Drive/weights.Char_embedding_cos_unnorm_weight_init_75ep_.df5\n",
            "Epoch 29/75\n",
            "60000/60000 [==============================] - 214s 4ms/step - loss: 0.2200 - val_loss: 0.2451\n",
            "\n",
            "Epoch 00029: val_loss improved from 0.24731 to 0.24511, saving model to drive/My Drive/weights.Char_embedding_cos_unnorm_weight_init_75ep_.df5\n",
            "Epoch 30/75\n",
            "60000/60000 [==============================] - 215s 4ms/step - loss: 0.2177 - val_loss: 0.2440\n",
            "\n",
            "Epoch 00030: val_loss improved from 0.24511 to 0.24400, saving model to drive/My Drive/weights.Char_embedding_cos_unnorm_weight_init_75ep_.df5\n",
            "Epoch 31/75\n",
            "60000/60000 [==============================] - 214s 4ms/step - loss: 0.2145 - val_loss: 0.2448\n",
            "\n",
            "Epoch 00031: val_loss did not improve from 0.24400\n",
            "Epoch 32/75\n",
            "60000/60000 [==============================] - 214s 4ms/step - loss: 0.2126 - val_loss: 0.2401\n",
            "\n",
            "Epoch 00032: val_loss improved from 0.24400 to 0.24011, saving model to drive/My Drive/weights.Char_embedding_cos_unnorm_weight_init_75ep_.df5\n",
            "Epoch 33/75\n",
            "60000/60000 [==============================] - 215s 4ms/step - loss: 0.2099 - val_loss: 0.2403\n",
            "\n",
            "Epoch 00033: val_loss did not improve from 0.24011\n",
            "Epoch 34/75\n",
            "60000/60000 [==============================] - 214s 4ms/step - loss: 0.2080 - val_loss: 0.2430\n",
            "\n",
            "Epoch 00034: val_loss did not improve from 0.24011\n",
            "Epoch 35/75\n",
            "60000/60000 [==============================] - 216s 4ms/step - loss: 0.2062 - val_loss: 0.2398\n",
            "\n",
            "Epoch 00035: val_loss improved from 0.24011 to 0.23975, saving model to drive/My Drive/weights.Char_embedding_cos_unnorm_weight_init_75ep_.df5\n",
            "Epoch 36/75\n",
            "60000/60000 [==============================] - 215s 4ms/step - loss: 0.2045 - val_loss: 0.2411\n",
            "\n",
            "Epoch 00036: val_loss did not improve from 0.23975\n",
            "Epoch 37/75\n",
            "60000/60000 [==============================] - 216s 4ms/step - loss: 0.2025 - val_loss: 0.2367\n",
            "\n",
            "Epoch 00037: val_loss improved from 0.23975 to 0.23672, saving model to drive/My Drive/weights.Char_embedding_cos_unnorm_weight_init_75ep_.df5\n",
            "Epoch 38/75\n",
            "60000/60000 [==============================] - 216s 4ms/step - loss: 0.2000 - val_loss: 0.2411\n",
            "\n",
            "Epoch 00038: val_loss did not improve from 0.23672\n",
            "Epoch 39/75\n",
            "60000/60000 [==============================] - 215s 4ms/step - loss: 0.1987 - val_loss: 0.2361\n",
            "\n",
            "Epoch 00039: val_loss improved from 0.23672 to 0.23614, saving model to drive/My Drive/weights.Char_embedding_cos_unnorm_weight_init_75ep_.df5\n",
            "Epoch 40/75\n",
            "60000/60000 [==============================] - 214s 4ms/step - loss: 0.1969 - val_loss: 0.2384\n",
            "\n",
            "Epoch 00040: val_loss did not improve from 0.23614\n",
            "Epoch 41/75\n",
            "60000/60000 [==============================] - 215s 4ms/step - loss: 0.1954 - val_loss: 0.2351\n",
            "\n",
            "Epoch 00041: val_loss improved from 0.23614 to 0.23509, saving model to drive/My Drive/weights.Char_embedding_cos_unnorm_weight_init_75ep_.df5\n",
            "Epoch 42/75\n",
            "60000/60000 [==============================] - 213s 4ms/step - loss: 0.1940 - val_loss: 0.2354\n",
            "\n",
            "Epoch 00042: val_loss did not improve from 0.23509\n",
            "Epoch 43/75\n",
            "60000/60000 [==============================] - 217s 4ms/step - loss: 0.1924 - val_loss: 0.2381\n",
            "\n",
            "Epoch 00043: val_loss did not improve from 0.23509\n",
            "Epoch 44/75\n",
            "60000/60000 [==============================] - 217s 4ms/step - loss: 0.1906 - val_loss: 0.2356\n",
            "\n",
            "Epoch 00044: val_loss did not improve from 0.23509\n",
            "Epoch 45/75\n",
            "60000/60000 [==============================] - 217s 4ms/step - loss: 0.1894 - val_loss: 0.2355\n",
            "\n",
            "Epoch 00045: val_loss did not improve from 0.23509\n",
            "Epoch 46/75\n",
            "60000/60000 [==============================] - 215s 4ms/step - loss: 0.1882 - val_loss: 0.2348\n",
            "\n",
            "Epoch 00046: val_loss improved from 0.23509 to 0.23482, saving model to drive/My Drive/weights.Char_embedding_cos_unnorm_weight_init_75ep_.df5\n",
            "Epoch 47/75\n",
            "60000/60000 [==============================] - 215s 4ms/step - loss: 0.1872 - val_loss: 0.2332\n",
            "\n",
            "Epoch 00047: val_loss improved from 0.23482 to 0.23323, saving model to drive/My Drive/weights.Char_embedding_cos_unnorm_weight_init_75ep_.df5\n",
            "Epoch 48/75\n",
            "60000/60000 [==============================] - 214s 4ms/step - loss: 0.1861 - val_loss: 0.2338\n",
            "\n",
            "Epoch 00048: val_loss did not improve from 0.23323\n",
            "Epoch 49/75\n",
            "60000/60000 [==============================] - 216s 4ms/step - loss: 0.1843 - val_loss: 0.2323\n",
            "\n",
            "Epoch 00049: val_loss improved from 0.23323 to 0.23232, saving model to drive/My Drive/weights.Char_embedding_cos_unnorm_weight_init_75ep_.df5\n",
            "Epoch 50/75\n",
            "60000/60000 [==============================] - 214s 4ms/step - loss: 0.1838 - val_loss: 0.2338\n",
            "\n",
            "Epoch 00050: val_loss did not improve from 0.23232\n",
            "Epoch 51/75\n",
            "60000/60000 [==============================] - 215s 4ms/step - loss: 0.1822 - val_loss: 0.2330\n",
            "\n",
            "Epoch 00051: val_loss did not improve from 0.23232\n",
            "Epoch 52/75\n",
            "60000/60000 [==============================] - 215s 4ms/step - loss: 0.1808 - val_loss: 0.2329\n",
            "\n",
            "Epoch 00052: val_loss did not improve from 0.23232\n",
            "Epoch 53/75\n",
            "60000/60000 [==============================] - 216s 4ms/step - loss: 0.1799 - val_loss: 0.2327\n",
            "\n",
            "Epoch 00053: val_loss did not improve from 0.23232\n",
            "Epoch 54/75\n",
            "60000/60000 [==============================] - 214s 4ms/step - loss: 0.1787 - val_loss: 0.2313\n",
            "\n",
            "Epoch 00054: val_loss improved from 0.23232 to 0.23132, saving model to drive/My Drive/weights.Char_embedding_cos_unnorm_weight_init_75ep_.df5\n",
            "Epoch 55/75\n",
            "60000/60000 [==============================] - 215s 4ms/step - loss: 0.1780 - val_loss: 0.2316\n",
            "\n",
            "Epoch 00055: val_loss did not improve from 0.23132\n",
            "Epoch 56/75\n",
            "60000/60000 [==============================] - 216s 4ms/step - loss: 0.1772 - val_loss: 0.2324\n",
            "\n",
            "Epoch 00056: val_loss did not improve from 0.23132\n",
            "Epoch 57/75\n",
            "60000/60000 [==============================] - 214s 4ms/step - loss: 0.1757 - val_loss: 0.2343\n",
            "\n",
            "Epoch 00057: val_loss did not improve from 0.23132\n",
            "Epoch 58/75\n",
            "60000/60000 [==============================] - 215s 4ms/step - loss: 0.1747 - val_loss: 0.2344\n",
            "\n",
            "Epoch 00058: val_loss did not improve from 0.23132\n",
            "Epoch 59/75\n",
            "60000/60000 [==============================] - 214s 4ms/step - loss: 0.1733 - val_loss: 0.2310\n",
            "\n",
            "Epoch 00059: val_loss improved from 0.23132 to 0.23104, saving model to drive/My Drive/weights.Char_embedding_cos_unnorm_weight_init_75ep_.df5\n",
            "Epoch 60/75\n",
            "60000/60000 [==============================] - 214s 4ms/step - loss: 0.1727 - val_loss: 0.2330\n",
            "\n",
            "Epoch 00060: val_loss did not improve from 0.23104\n",
            "Epoch 61/75\n",
            "60000/60000 [==============================] - 215s 4ms/step - loss: 0.1716 - val_loss: 0.2304\n",
            "\n",
            "Epoch 00061: val_loss improved from 0.23104 to 0.23043, saving model to drive/My Drive/weights.Char_embedding_cos_unnorm_weight_init_75ep_.df5\n",
            "Epoch 62/75\n",
            "60000/60000 [==============================] - 213s 4ms/step - loss: 0.1712 - val_loss: 0.2344\n",
            "\n",
            "Epoch 00062: val_loss did not improve from 0.23043\n",
            "Epoch 63/75\n",
            "60000/60000 [==============================] - 216s 4ms/step - loss: 0.1701 - val_loss: 0.2340\n",
            "\n",
            "Epoch 00063: val_loss did not improve from 0.23043\n",
            "Epoch 64/75\n",
            "60000/60000 [==============================] - 214s 4ms/step - loss: 0.1689 - val_loss: 0.2330\n",
            "\n",
            "Epoch 00064: val_loss did not improve from 0.23043\n",
            "Epoch 65/75\n",
            "60000/60000 [==============================] - 216s 4ms/step - loss: 0.1678 - val_loss: 0.2297\n",
            "\n",
            "Epoch 00065: val_loss improved from 0.23043 to 0.22975, saving model to drive/My Drive/weights.Char_embedding_cos_unnorm_weight_init_75ep_.df5\n",
            "Epoch 66/75\n",
            "60000/60000 [==============================] - 214s 4ms/step - loss: 0.1674 - val_loss: 0.2304\n",
            "\n",
            "Epoch 00066: val_loss did not improve from 0.22975\n",
            "Epoch 67/75\n",
            "60000/60000 [==============================] - 215s 4ms/step - loss: 0.1663 - val_loss: 0.2320\n",
            "\n",
            "Epoch 00067: val_loss did not improve from 0.22975\n",
            "Epoch 68/75\n",
            "60000/60000 [==============================] - 214s 4ms/step - loss: 0.1654 - val_loss: 0.2335\n",
            "\n",
            "Epoch 00068: val_loss did not improve from 0.22975\n",
            "Epoch 69/75\n",
            "60000/60000 [==============================] - 214s 4ms/step - loss: 0.1645 - val_loss: 0.2319\n",
            "\n",
            "Epoch 00069: val_loss did not improve from 0.22975\n",
            "Epoch 70/75\n",
            "60000/60000 [==============================] - 215s 4ms/step - loss: 0.1634 - val_loss: 0.2354\n",
            "\n",
            "Epoch 00070: val_loss did not improve from 0.22975\n",
            "Epoch 71/75\n",
            "60000/60000 [==============================] - 215s 4ms/step - loss: 0.1626 - val_loss: 0.2335\n",
            "\n",
            "Epoch 00071: val_loss did not improve from 0.22975\n",
            "Epoch 72/75\n",
            "60000/60000 [==============================] - 216s 4ms/step - loss: 0.1616 - val_loss: 0.2368\n",
            "\n",
            "Epoch 00072: val_loss did not improve from 0.22975\n",
            "Epoch 73/75\n",
            "60000/60000 [==============================] - 218s 4ms/step - loss: 0.1611 - val_loss: 0.2311\n",
            "\n",
            "Epoch 00073: val_loss did not improve from 0.22975\n",
            "Epoch 74/75\n",
            "60000/60000 [==============================] - 217s 4ms/step - loss: 0.1636 - val_loss: 0.2302\n",
            "\n",
            "Epoch 00074: val_loss did not improve from 0.22975\n",
            "Epoch 75/75\n",
            "60000/60000 [==============================] - 210s 3ms/step - loss: 0.1606 - val_loss: 0.2325\n",
            "\n",
            "Epoch 00075: val_loss did not improve from 0.22975\n"
          ],
          "name": "stdout"
        }
      ]
    },
    {
      "metadata": {
        "id": "fl5bbml4nWhO",
        "colab_type": "code",
        "outputId": "bfbe3129-06a6-432d-eb27-285db978d4ed",
        "colab": {
          "base_uri": "https://localhost:8080/",
          "height": 376
        }
      },
      "cell_type": "code",
      "source": [
        "plt.plot(cos_trained.history['loss'])\n",
        "plt.plot(cos_trained.history['val_loss'])\n",
        "plt.title('model loss')\n",
        "plt.ylabel('loss')\n",
        "plt.xlabel('epoch')\n",
        "plt.legend(['train', 'test'], loc='upper left')\n",
        "plt.show()"
      ],
      "execution_count": 0,
      "outputs": [
        {
          "output_type": "display_data",
          "data": {
            "image/png": "[encoded data removed]",
            "text/plain": [
              "<Figure size 576x396 with 1 Axes>"
            ]
          },
          "metadata": {
            "tags": []
          }
        }
      ]
    },
    {
      "metadata": {
        "id": "uIQaYLjrx_bX",
        "colab_type": "code",
        "outputId": "89f23b35-b2d1-472c-b45d-953c1924c1f7",
        "colab": {
          "base_uri": "https://localhost:8080/",
          "height": 85
        }
      },
      "cell_type": "code",
      "source": [
        "print('Train RMSE score: {:<8.5f}'.format(np.sqrt(mean_squared_error(Y_train, pred_train))))\n",
        "print('Train MAE loss: {}'.format(mean_absolute_error(Y_train, pred_train)))\n",
        "\n",
        "print('Validation RMSE score: {:<8.5f}'.format(np.sqrt(mean_squared_error(Y_validation, pred_val))))\n",
        "print('Validation MAE loss: {}'.format(mean_absolute_error(Y_validation, pred_val)))"
      ],
      "execution_count": 0,
      "outputs": [
        {
          "output_type": "stream",
          "text": [
            "Train RMSE score: 0.39953 \n",
            "Train MAE loss: 0.32367165976945556\n",
            "Validation RMSE score: 0.47932 \n",
            "Validation MAE loss: 0.3855941388845494\n"
          ],
          "name": "stdout"
        }
      ]
    },
    {
      "metadata": {
        "id": "Tq_W9NBEWrXt",
        "colab_type": "text"
      },
      "cell_type": "markdown",
      "source": [
        "So our best result comes with a big overfit to the train, maybe adding regulations here could help improve even better."
      ]
    },
    {
      "metadata": {
        "id": "9-xQdOyvonx0",
        "colab_type": "text"
      },
      "cell_type": "markdown",
      "source": [
        "## Feature Extracting"
      ]
    },
    {
      "metadata": {
        "id": "28wBk9vQonx0",
        "colab_type": "text"
      },
      "cell_type": "markdown",
      "source": [
        "Now we'll take our best model and use its last layer as features for classic ML model. <br>\n",
        "We will use the output from the LSTM layers as our features, then train RandomForest and LGBM over that extracted features."
      ]
    },
    {
      "metadata": {
        "id": "6plxODEwZfxf",
        "colab_type": "code",
        "colab": {}
      },
      "cell_type": "code",
      "source": [
        "# Model variables\n",
        "leftN_hidden = 100\n",
        "rightN_hidden = 100\n",
        "gradient_clipping_norm = 1.25\n",
        "batch_size = 512\n",
        "n_epoch = 75\n",
        "\n",
        "\n",
        "# The visible layer\n",
        "left_input = Input(shape=(X_train['left'].shape[1],), dtype='int32')\n",
        "right_input = Input(shape=(X_train['right'].shape[1],), dtype='int32')\n",
        "\n",
        "embedding_layerLeft = Embedding(len(embeddings), embedding_dim, weights=[embeddings], input_length=maxSearchLength, trainable=False)\n",
        "embedding_layerRight = Embedding(len(embeddings), embedding_dim, weights=[embeddings], input_length=maxDescLength, trainable=False)\n",
        "\n",
        "# Embedded version of the inputs\n",
        "encoded_left = embedding_layerLeft(left_input)\n",
        "encoded_right = embedding_layerRight(right_input)\n",
        "\n",
        "# Since this is a siamese network, both sides share the same LSTM\n",
        "left_lstm = LSTM(leftN_hidden, kernel_initializer='glorot_uniform')\n",
        "right_lstm = LSTM(rightN_hidden, kernel_initializer='glorot_uniform')\n",
        "\n",
        "left_LstmOutput = left_lstm(encoded_left)\n",
        "right_LstmOutput = right_lstm(encoded_right)\n",
        "\n",
        "# left_output = Dense(128)(left_LstmOutput)\n",
        "# right_output = Dense(128)(right_LstmOutput)\n",
        "\n",
        "\n",
        "# Calculates the distance as defined by the MaLSTM model\n",
        "# malstm_distance = Lambda(function=lambda x: exponent_neg_manhattan_distance(x[0], x[1]),output_shape=lambda x: (x[0][0], 1))([left_output, right_output])\n",
        "# malstm_distance = Lambda(function=lambda x: exponent_neg_manhattan_distance(x[0], x[1]),\n",
        "#                          output_shape=lambda x: (x[0][0], 1))([left_LstmOutput, right_LstmOutput])\n",
        "\n",
        "cosine = dot(inputs = [left_LstmOutput, right_LstmOutput], \n",
        "                        axes = -1, normalize = True)\n",
        "\n",
        "norm = Lambda(lambda x: x * 2 + 1)(cosine)\n",
        "\n",
        "cos_model = Model([left_input, right_input], norm)\n",
        "# Pack it all up into a model\n",
        "# malstm = Model([left_input, right_input], malstm_distance)\n",
        "\n",
        "# Adadelta optimizer, with gradient clipping by norm\n",
        "# optimizer = Adadelta(clipnorm=gradient_clipping_norm)\n",
        "optimizer = Adam()\n",
        "\n",
        "\n",
        "cos_model.compile(loss='mean_squared_error', optimizer=optimizer)"
      ],
      "execution_count": 0,
      "outputs": []
    },
    {
      "metadata": {
        "id": "ELKpDeI2ZqFI",
        "colab_type": "code",
        "colab": {}
      },
      "cell_type": "code",
      "source": [
        "cos_model.load_weights(\"drive/My Drive/weights.Char_embedding_cos_unnorm_weight_init_75ep_.df5\")"
      ],
      "execution_count": 0,
      "outputs": []
    },
    {
      "metadata": {
        "id": "sbNuS8J-vFGb",
        "colab_type": "text"
      },
      "cell_type": "markdown",
      "source": [
        "Creating Feature extractor model"
      ]
    },
    {
      "metadata": {
        "id": "ivvrPAi6onx1",
        "colab_type": "code",
        "colab": {}
      },
      "cell_type": "code",
      "source": [
        "featureExtractor = Model(inputs = cos_model.input, outputs = cos_model.get_layer('dot_1').input)"
      ],
      "execution_count": 0,
      "outputs": []
    },
    {
      "metadata": {
        "id": "NS15-ahGvKN_",
        "colab_type": "text"
      },
      "cell_type": "markdown",
      "source": [
        "Extracting features for train and Val"
      ]
    },
    {
      "metadata": {
        "id": "G6DOQcl9aU5g",
        "colab_type": "code",
        "colab": {}
      },
      "cell_type": "code",
      "source": [
        "predFeatures = featureExtractor.predict([X_train['left'], X_train['right']])"
      ],
      "execution_count": 0,
      "outputs": []
    },
    {
      "metadata": {
        "id": "x1vXDRKPaU2y",
        "colab_type": "code",
        "colab": {}
      },
      "cell_type": "code",
      "source": [
        "predFeaturesTrain = np.concatenate((predFeatures[0], predFeatures[1]), axis=1)"
      ],
      "execution_count": 0,
      "outputs": []
    },
    {
      "metadata": {
        "id": "YD4vxf4xaUn8",
        "colab_type": "code",
        "colab": {}
      },
      "cell_type": "code",
      "source": [
        "predFeatures = featureExtractor.predict([X_validation['left'], X_validation['right']])\n",
        "predFeaturesVal = np.concatenate((predFeatures[0], predFeatures[1]), axis=1)"
      ],
      "execution_count": 0,
      "outputs": []
    },
    {
      "metadata": {
        "id": "xU-5f1VzbfYn",
        "colab_type": "text"
      },
      "cell_type": "markdown",
      "source": [
        "### Random Forest"
      ]
    },
    {
      "metadata": {
        "id": "jlndbvOyaUls",
        "colab_type": "code",
        "outputId": "d4abbe38-26da-46f2-e870-e47a4c018914",
        "colab": {
          "base_uri": "https://localhost:8080/",
          "height": 51
        }
      },
      "cell_type": "code",
      "source": [
        "%%time\n",
        "from sklearn.ensemble import RandomForestRegressor\n",
        "\n",
        "forest = RandomForestRegressor(n_estimators = 50, max_depth = 10)\n",
        "forest.fit(predFeaturesTrain, Y_train)"
      ],
      "execution_count": 0,
      "outputs": [
        {
          "output_type": "stream",
          "text": [
            "CPU times: user 5min 37s, sys: 0 ns, total: 5min 37s\n",
            "Wall time: 5min 37s\n"
          ],
          "name": "stdout"
        }
      ]
    },
    {
      "metadata": {
        "id": "-a3XEFxcdePK",
        "colab_type": "code",
        "colab": {}
      },
      "cell_type": "code",
      "source": [
        "pred_train = forest.predict(predFeaturesTrain)\n",
        "pred_val = forest.predict(predFeaturesVal)"
      ],
      "execution_count": 0,
      "outputs": []
    },
    {
      "metadata": {
        "id": "g8J7YdfRaUjP",
        "colab_type": "code",
        "outputId": "bde716b8-ae59-4af0-e6b7-f7fa4947bfb8",
        "colab": {
          "base_uri": "https://localhost:8080/",
          "height": 85
        }
      },
      "cell_type": "code",
      "source": [
        "print('Train RMSE score: {:<8.5f}'.format(np.sqrt(mean_squared_error(Y_train, pred_train))))\n",
        "print('Train MAE loss: {}'.format(mean_absolute_error(Y_train, pred_train)))\n",
        "\n",
        "print('Validation RMSE score: {:<8.5f}'.format(np.sqrt(mean_squared_error(Y_validation, pred_val))))\n",
        "print('Validation MAE loss: {}'.format(mean_absolute_error(Y_validation, pred_val)))"
      ],
      "execution_count": 0,
      "outputs": [
        {
          "output_type": "stream",
          "text": [
            "Train RMSE score: 0.39849 \n",
            "Train MAE loss: 0.3256942535181866\n",
            "Validation RMSE score: 0.44675 \n",
            "Validation MAE loss: 0.35992516505223576\n"
          ],
          "name": "stdout"
        }
      ]
    },
    {
      "metadata": {
        "id": "KJFHC2RLvvxq",
        "colab_type": "text"
      },
      "cell_type": "markdown",
      "source": [
        "Great success! <br>\n",
        "We see here a big improvment over validation score and no improvment in train score, Random Forest managed to lower the overfitting we had in our model and create a more generalized model. "
      ]
    },
    {
      "metadata": {
        "id": "sVyQPsZpbheq",
        "colab_type": "text"
      },
      "cell_type": "markdown",
      "source": [
        "### LightGBM"
      ]
    },
    {
      "metadata": {
        "id": "Hf_oX4fhaUg4",
        "colab_type": "code",
        "colab": {}
      },
      "cell_type": "code",
      "source": [
        "lgbparam = {'num_leaves': 31,\n",
        "            'boosting_type': 'rf',\n",
        "             'min_data_in_leaf': 30, \n",
        "             'objective':'regression',\n",
        "             'max_depth': -1,\n",
        "             'learning_rate': 0.01,\n",
        "             \"min_child_samples\": 20,\n",
        "             \"boosting\": \"gbdt\",\n",
        "             \"feature_fraction\": 0.9,\n",
        "             \"bagging_freq\": 1,\n",
        "             \"bagging_fraction\": 0.9 ,\n",
        "             \"bagging_seed\": 11,\n",
        "             \"metric\": 'rmse',\n",
        "             \"lambda_l1\": 0.1,\n",
        "             \"verbosity\": -1,\n",
        "             \"nthread\": 4,\n",
        "             \"random_state\": 4590}"
      ],
      "execution_count": 0,
      "outputs": []
    },
    {
      "metadata": {
        "id": "oUPvaluxaUeE",
        "colab_type": "code",
        "outputId": "7bf082f0-703b-4fd4-ed5b-380ed2a0af18",
        "colab": {
          "base_uri": "https://localhost:8080/",
          "height": 442
        }
      },
      "cell_type": "code",
      "source": [
        "import lightgbm as lgb\n",
        "\n",
        "trn_data = lgb.Dataset(predFeaturesTrain, label=Y_train)\n",
        "val_data = lgb.Dataset(predFeaturesVal, label=Y_validation)\n",
        "\n",
        "num_round = 11000\n",
        "clf = lgb.train(lgbparam, trn_data, num_round, valid_sets = [trn_data, val_data], verbose_eval=100, early_stopping_rounds = 100)"
      ],
      "execution_count": 0,
      "outputs": [
        {
          "output_type": "stream",
          "text": [
            "Training until validation scores don't improve for 100 rounds.\n",
            "[100]\ttraining's rmse: 0.466163\tvalid_1's rmse: 0.468809\n",
            "[200]\ttraining's rmse: 0.444146\tvalid_1's rmse: 0.450375\n",
            "[300]\ttraining's rmse: 0.432924\tvalid_1's rmse: 0.442358\n",
            "[400]\ttraining's rmse: 0.425589\tvalid_1's rmse: 0.437865\n",
            "[500]\ttraining's rmse: 0.420145\tvalid_1's rmse: 0.435223\n",
            "[600]\ttraining's rmse: 0.415772\tvalid_1's rmse: 0.433603\n",
            "[700]\ttraining's rmse: 0.41203\tvalid_1's rmse: 0.432566\n",
            "[800]\ttraining's rmse: 0.40868\tvalid_1's rmse: 0.431893\n",
            "[900]\ttraining's rmse: 0.405567\tvalid_1's rmse: 0.431276\n",
            "[1000]\ttraining's rmse: 0.402629\tvalid_1's rmse: 0.430876\n",
            "[1100]\ttraining's rmse: 0.399817\tvalid_1's rmse: 0.430546\n",
            "[1200]\ttraining's rmse: 0.397194\tvalid_1's rmse: 0.430265\n",
            "[1300]\ttraining's rmse: 0.394589\tvalid_1's rmse: 0.430103\n",
            "[1400]\ttraining's rmse: 0.392074\tvalid_1's rmse: 0.429866\n",
            "[1500]\ttraining's rmse: 0.389675\tvalid_1's rmse: 0.429707\n",
            "[1600]\ttraining's rmse: 0.387333\tvalid_1's rmse: 0.429556\n",
            "[1700]\ttraining's rmse: 0.385075\tvalid_1's rmse: 0.429458\n",
            "[1800]\ttraining's rmse: 0.38281\tvalid_1's rmse: 0.429436\n",
            "[1900]\ttraining's rmse: 0.38063\tvalid_1's rmse: 0.429364\n",
            "[2000]\ttraining's rmse: 0.378489\tvalid_1's rmse: 0.429311\n",
            "[2100]\ttraining's rmse: 0.376353\tvalid_1's rmse: 0.429243\n",
            "[2200]\ttraining's rmse: 0.374255\tvalid_1's rmse: 0.429255\n",
            "Early stopping, best iteration is:\n",
            "[2162]\ttraining's rmse: 0.37502\tvalid_1's rmse: 0.429223\n"
          ],
          "name": "stdout"
        }
      ]
    },
    {
      "metadata": {
        "id": "lw8a-m3TaUbd",
        "colab_type": "code",
        "colab": {}
      },
      "cell_type": "code",
      "source": [
        "pred_train = clf.predict(predFeaturesTrain, num_iteration=clf.best_iteration)\n",
        "pred_val = clf.predict(predFeaturesVal, num_iteration=clf.best_iteration)    "
      ],
      "execution_count": 0,
      "outputs": []
    },
    {
      "metadata": {
        "id": "-79FXLKuQj9b",
        "colab_type": "code",
        "outputId": "5ec96637-8aeb-4b1e-e381-2fa9c264c548",
        "colab": {
          "base_uri": "https://localhost:8080/",
          "height": 85
        }
      },
      "cell_type": "code",
      "source": [
        "print('Train RMSE score: {:<8.5f}'.format(np.sqrt(mean_squared_error(Y_train, pred_train))))\n",
        "print('Train MAE loss: {}'.format(mean_absolute_error(Y_train, pred_train)))\n",
        "\n",
        "print('Validation RMSE score: {:<8.5f}'.format(np.sqrt(mean_squared_error(Y_validation, pred_val))))\n",
        "print('Validation MAE loss: {}'.format(mean_absolute_error(Y_validation, pred_val)))"
      ],
      "execution_count": 0,
      "outputs": [
        {
          "output_type": "stream",
          "text": [
            "Train RMSE score: 0.37502 \n",
            "Train MAE loss: 0.3026244272006245\n",
            "Validation RMSE score: 0.42922 \n",
            "Validation MAE loss: 0.34146367001979205\n"
          ],
          "name": "stdout"
        }
      ]
    },
    {
      "metadata": {
        "id": "dgVGVmJ_wZ9k",
        "colab_type": "text"
      },
      "cell_type": "markdown",
      "source": [
        "Even greater success! <br>\n",
        "We see here a big improvment over validation score and train score, ### LightGBM managed to lower the overfitting we had in our original model and even learn more from the features."
      ]
    },
    {
      "metadata": {
        "id": "UVMjRXLhsE8q",
        "colab_type": "text"
      },
      "cell_type": "markdown",
      "source": [
        "#Test\n"
      ]
    },
    {
      "metadata": {
        "id": "Fp9jzAHQw1Qz",
        "colab_type": "text"
      },
      "cell_type": "markdown",
      "source": [
        "As the competition results are published we can now test our models on the real test data set.<br>\n",
        "We decided to keep the test dataset hidden from us until finishing all work in order to not overfit it."
      ]
    },
    {
      "metadata": {
        "id": "Tp7qMPyvsISB",
        "colab_type": "code",
        "colab": {}
      },
      "cell_type": "code",
      "source": [
        "# Merge descriptions\n",
        "testing_data= pd.merge(testing_data, test_sol, \n",
        "                         on=\"id\", how=\"left\")"
      ],
      "execution_count": 0,
      "outputs": []
    },
    {
      "metadata": {
        "id": "B-0EumeLsJrC",
        "colab_type": "code",
        "outputId": "ccc285bd-df50-4e69-8732-2a9966fb1b82",
        "colab": {
          "base_uri": "https://localhost:8080/",
          "height": 364
        }
      },
      "cell_type": "code",
      "source": [
        "testing_data.relevance.hist()"
      ],
      "execution_count": 239,
      "outputs": [
        {
          "output_type": "execute_result",
          "data": {
            "text/plain": [
              "<matplotlib.axes._subplots.AxesSubplot at 0x7ffaed62e588>"
            ]
          },
          "metadata": {
            "tags": []
          },
          "execution_count": 239
        },
        {
          "output_type": "display_data",
          "data": {
            "image/png": "[encoded data removed]",
            "text/plain": [
              "<Figure size 576x396 with 1 Axes>"
            ]
          },
          "metadata": {
            "tags": []
          }
        }
      ]
    },
    {
      "metadata": {
        "id": "4w80gwddxrsF",
        "colab_type": "text"
      },
      "cell_type": "markdown",
      "source": [
        "Some of the test dataset is garbage, we can remove it"
      ]
    },
    {
      "metadata": {
        "id": "1L34zKQOsWTZ",
        "colab_type": "code",
        "colab": {}
      },
      "cell_type": "code",
      "source": [
        "testing_data = testing_data[testing_data.relevance != -1]"
      ],
      "execution_count": 0,
      "outputs": []
    },
    {
      "metadata": {
        "id": "BbK_GyLWsWca",
        "colab_type": "code",
        "outputId": "9e9bfca6-380f-42c9-9abc-5504c1ed2124",
        "colab": {
          "base_uri": "https://localhost:8080/",
          "height": 368
        }
      },
      "cell_type": "code",
      "source": [
        "testing_data.relevance.hist()"
      ],
      "execution_count": 185,
      "outputs": [
        {
          "output_type": "execute_result",
          "data": {
            "text/plain": [
              "<matplotlib.axes._subplots.AxesSubplot at 0x7ffb042e9198>"
            ]
          },
          "metadata": {
            "tags": []
          },
          "execution_count": 185
        },
        {
          "output_type": "display_data",
          "data": {
            "image/png": "[encoded data removed]",
            "text/plain": [
              "<Figure size 576x396 with 1 Axes>"
            ]
          },
          "metadata": {
            "tags": []
          }
        }
      ]
    },
    {
      "metadata": {
        "id": "bbo7FylCyaJd",
        "colab_type": "text"
      },
      "cell_type": "markdown",
      "source": [
        "Then splitting the dataset to public and private will make our work closer to the original kaggle competition"
      ]
    },
    {
      "metadata": {
        "id": "T9KNlpLdsWZp",
        "colab_type": "code",
        "colab": {}
      },
      "cell_type": "code",
      "source": [
        "privateTesting_data = testing_data[testing_data.Usage == 'Private']\n",
        "publicTesting_data = testing_data[testing_data.Usage == 'Public']"
      ],
      "execution_count": 0,
      "outputs": []
    },
    {
      "metadata": {
        "id": "sv7se6YuObZ4",
        "colab_type": "text"
      },
      "cell_type": "markdown",
      "source": [
        "## Checking naive model over Test"
      ]
    },
    {
      "metadata": {
        "id": "nFeskBdKOkAS",
        "colab_type": "code",
        "colab": {
          "base_uri": "https://localhost:8080/",
          "height": 51
        },
        "outputId": "f9bc9df0-02db-4db8-faf1-1c28180b2157"
      },
      "cell_type": "code",
      "source": [
        "mean = np.mean(training_data['relevance'])\n",
        "from sklearn.metrics import mean_squared_error\n",
        "\n",
        "rmse = np.sqrt(mean_squared_error(privateTesting_data['relevance'].values, np.zeros(privateTesting_data.shape[0]) + mean))\n",
        "print(f'rmse of private test against mean: {rmse}')\n",
        "\n",
        "rmse = np.sqrt(mean_squared_error(publicTesting_data['relevance'].values, np.zeros(publicTesting_data.shape[0]) + mean))\n",
        "print(f'rmse of public test against mean: {rmse}')"
      ],
      "execution_count": 188,
      "outputs": [
        {
          "output_type": "stream",
          "text": [
            "rmse of private test against mean: 0.5351332724605377\n",
            "rmse of public test against mean: 0.5355976215380717\n"
          ],
          "name": "stdout"
        }
      ]
    },
    {
      "metadata": {
        "id": "8JGRDdZx24UQ",
        "colab_type": "code",
        "colab": {
          "base_uri": "https://localhost:8080/",
          "height": 51
        },
        "outputId": "78538a76-a766-4b4a-bf3d-dbd871ba26e4"
      },
      "cell_type": "code",
      "source": [
        "from sklearn.metrics import mean_absolute_error\n",
        "\n",
        "mean = np.mean(training_data['relevance'])\n",
        "\n",
        "mae = mean_absolute_error(privateTesting_data['relevance'].values, np.zeros(privateTesting_data.shape[0]) + mean)\n",
        "print(f'mae of private test against mean: {mae}')\n",
        "\n",
        "mae = mean_absolute_error(publicTesting_data['relevance'].values, np.zeros(publicTesting_data.shape[0]) + mean)\n",
        "print(f'mae of public test against mean: {mae}')\n"
      ],
      "execution_count": 244,
      "outputs": [
        {
          "output_type": "stream",
          "text": [
            "mae of private test against mean: 0.4388503166548874\n",
            "mae of public test against mean: 0.43838713727956113\n"
          ],
          "name": "stdout"
        }
      ]
    },
    {
      "metadata": {
        "id": "EDanCUxHPo5F",
        "colab_type": "text"
      },
      "cell_type": "markdown",
      "source": [
        "Interesting, the rmse of our Naive model over test is very close to the rmse of our naive model over train. <br>\n",
        "We can assume that the data in the test is distributed similarly as in the train and our models have a chance of genralizing from train to test"
      ]
    },
    {
      "metadata": {
        "id": "lcUjU8BzOkkK",
        "colab_type": "text"
      },
      "cell_type": "markdown",
      "source": [
        "**Preparing test data set**"
      ]
    },
    {
      "metadata": {
        "id": "xbedVakk0l6Q",
        "colab_type": "code",
        "colab": {}
      },
      "cell_type": "code",
      "source": [
        "cols = ['search_term', 'product_description']"
      ],
      "execution_count": 0,
      "outputs": []
    },
    {
      "metadata": {
        "id": "USWLcSRC3c_i",
        "colab_type": "code",
        "outputId": "0d0bd857-6c5f-4206-e201-277018d8cc11",
        "colab": {
          "base_uri": "https://localhost:8080/",
          "height": 105
        }
      },
      "cell_type": "code",
      "source": [
        "%%time\n",
        "\n",
        "for index, row in publicTesting_data.iterrows():\n",
        "\n",
        "    for col in cols:\n",
        "        q2n = []  # q2n -> question numbers representation\n",
        "        for char in [a for a in row[col]]:\n",
        "            q2n.append(vocabulary[char])\n",
        "\n",
        "        # Replace word as number representation\n",
        "        publicTesting_data.set_value(index, col, q2n)"
      ],
      "execution_count": 0,
      "outputs": [
        {
          "output_type": "stream",
          "text": [
            "/usr/local/lib/python3.6/dist-packages/ipykernel_launcher.py:10: FutureWarning: set_value is deprecated and will be removed in a future release. Please use .at[] or .iat[] accessors instead\n",
            "  # Remove the CWD from sys.path while we load stuff.\n"
          ],
          "name": "stderr"
        },
        {
          "output_type": "stream",
          "text": [
            "CPU times: user 11.5 s, sys: 192 ms, total: 11.7 s\n",
            "Wall time: 11.7 s\n"
          ],
          "name": "stdout"
        }
      ]
    },
    {
      "metadata": {
        "id": "kyesi_SU6Hr2",
        "colab_type": "code",
        "outputId": "72200f44-bae9-4c5a-9ab2-7d58393ed168",
        "colab": {
          "base_uri": "https://localhost:8080/",
          "height": 105
        }
      },
      "cell_type": "code",
      "source": [
        "%%time\n",
        "\n",
        "for index, row in privateTesting_data.iterrows():\n",
        "\n",
        "    for col in cols:\n",
        "        q2n = []  # q2n -> question numbers representation\n",
        "        for char in [a for a in row[col]]:\n",
        "            q2n.append(vocabulary[char])\n",
        "\n",
        "        # Replace word as number representation\n",
        "        privateTesting_data.set_value(index, col, q2n)"
      ],
      "execution_count": 0,
      "outputs": [
        {
          "output_type": "stream",
          "text": [
            "/usr/local/lib/python3.6/dist-packages/ipykernel_launcher.py:10: FutureWarning: set_value is deprecated and will be removed in a future release. Please use .at[] or .iat[] accessors instead\n",
            "  # Remove the CWD from sys.path while we load stuff.\n"
          ],
          "name": "stderr"
        },
        {
          "output_type": "stream",
          "text": [
            "CPU times: user 29.9 s, sys: 403 ms, total: 30.3 s\n",
            "Wall time: 30.3 s\n"
          ],
          "name": "stdout"
        }
      ]
    },
    {
      "metadata": {
        "id": "Y4wN2Al80l0O",
        "colab_type": "code",
        "colab": {}
      },
      "cell_type": "code",
      "source": [
        "X_privateTest = privateTesting_data[cols]\n",
        "X_privateTest = {'left': X_privateTest.search_term, 'right': X_privateTest.product_description}\n",
        "Y_privateTest = privateTesting_data['relevance']\n",
        "\n",
        "X_publicTest = publicTesting_data[cols]\n",
        "X_publicTest = {'left': X_publicTest.search_term, 'right': X_publicTest.product_description}\n",
        "Y_publicTest = publicTesting_data['relevance']"
      ],
      "execution_count": 0,
      "outputs": []
    },
    {
      "metadata": {
        "id": "iwDsjO7R1HGr",
        "colab_type": "code",
        "colab": {}
      },
      "cell_type": "code",
      "source": [
        "maxSearchLength = 50\n",
        "maxDescLength = 128\n",
        "\n",
        "# Zero padding\n",
        "X_privateTest['left'] = pad_sequences(X_privateTest['left'], maxlen=maxSearchLength )\n",
        "X_privateTest['right'] = pad_sequences(X_privateTest['right'], maxlen=maxDescLength )\n"
      ],
      "execution_count": 0,
      "outputs": []
    },
    {
      "metadata": {
        "id": "iLhTQtGx6jTw",
        "colab_type": "code",
        "colab": {}
      },
      "cell_type": "code",
      "source": [
        "X_publicTest['left'] = pad_sequences(X_publicTest['left'], maxlen=maxSearchLength )\n",
        "X_publicTest['right'] = pad_sequences(X_publicTest['right'], maxlen=maxDescLength )"
      ],
      "execution_count": 0,
      "outputs": []
    },
    {
      "metadata": {
        "id": "Z_UcZAtjysGi",
        "colab_type": "text"
      },
      "cell_type": "markdown",
      "source": [
        "##Testing Siamese network with Character LSTM"
      ]
    },
    {
      "metadata": {
        "id": "PvdOyro87ROy",
        "colab_type": "code",
        "colab": {}
      },
      "cell_type": "code",
      "source": [
        "embeddingPredictions = np.load(\"drive/My Drive/CharEmbeddingPredictions.npy\")"
      ],
      "execution_count": 0,
      "outputs": []
    },
    {
      "metadata": {
        "id": "ntmJfvH-8_TG",
        "colab_type": "code",
        "colab": {}
      },
      "cell_type": "code",
      "source": [
        "uniqLabels"
      ],
      "execution_count": 0,
      "outputs": []
    },
    {
      "metadata": {
        "id": "W9TvQp1K9DQy",
        "colab_type": "code",
        "colab": {}
      },
      "cell_type": "code",
      "source": [
        "uniqLabels = np.array([x for x in range(1,84)])"
      ],
      "execution_count": 0,
      "outputs": []
    },
    {
      "metadata": {
        "id": "RSwdZRz67jqL",
        "colab_type": "code",
        "colab": {}
      },
      "cell_type": "code",
      "source": [
        "embedding_dim = 16\n",
        "embeddings = 1 * np.random.randn(len(vocabulary) + 1, embedding_dim)  # This will be the embedding matrix\n",
        "embeddings[0] = 0  # So that the padding will be ignored\n",
        "\n",
        "\n",
        "# Build the embedding matrix\n",
        "for word, index in vocabulary.items():\n",
        "    if index in uniqLabels:\n",
        "        embeddings[index] = embeddingPredictions[index-1]\n",
        "       "
      ],
      "execution_count": 0,
      "outputs": []
    },
    {
      "metadata": {
        "id": "cmZJphtWzIVj",
        "colab_type": "code",
        "colab": {}
      },
      "cell_type": "code",
      "source": [
        "# Model variables\n",
        "leftN_hidden = 100\n",
        "rightN_hidden = 100\n",
        "gradient_clipping_norm = 1.25\n",
        "batch_size = 512\n",
        "n_epoch = 75\n",
        "\n",
        "\n",
        "# The visible layer\n",
        "left_input = Input(shape=(X_publicTest['left'].shape[1],), dtype='int32')\n",
        "right_input = Input(shape=(X_publicTest['right'].shape[1],), dtype='int32')\n",
        "\n",
        "embedding_layerLeft = Embedding(len(embeddings), embedding_dim, weights=[embeddings], input_length=maxSearchLength, trainable=False)\n",
        "embedding_layerRight = Embedding(len(embeddings), embedding_dim, weights=[embeddings], input_length=maxDescLength, trainable=False)\n",
        "\n",
        "# Embedded version of the inputs\n",
        "encoded_left = embedding_layerLeft(left_input)\n",
        "encoded_right = embedding_layerRight(right_input)\n",
        "\n",
        "# Since this is a siamese network, both sides share the same LSTM\n",
        "left_lstm = LSTM(leftN_hidden, kernel_initializer='glorot_uniform')\n",
        "right_lstm = LSTM(rightN_hidden, kernel_initializer='glorot_uniform')\n",
        "\n",
        "left_LstmOutput = left_lstm(encoded_left)\n",
        "right_LstmOutput = right_lstm(encoded_right)\n",
        "\n",
        "# left_output = Dense(128)(left_LstmOutput)\n",
        "# right_output = Dense(128)(right_LstmOutput)\n",
        "\n",
        "\n",
        "# Calculates the distance as defined by the MaLSTM model\n",
        "# malstm_distance = Lambda(function=lambda x: exponent_neg_manhattan_distance(x[0], x[1]),output_shape=lambda x: (x[0][0], 1))([left_output, right_output])\n",
        "# malstm_distance = Lambda(function=lambda x: exponent_neg_manhattan_distance(x[0], x[1]),\n",
        "#                          output_shape=lambda x: (x[0][0], 1))([left_LstmOutput, right_LstmOutput])\n",
        "\n",
        "cosine = dot(inputs = [left_LstmOutput, right_LstmOutput], \n",
        "                        axes = -1, normalize = True)\n",
        "\n",
        "norm = Lambda(lambda x: x * 2 + 1)(cosine)\n",
        "\n",
        "cos_model = Model([left_input, right_input], norm)\n",
        "# Pack it all up into a model\n",
        "# malstm = Model([left_input, right_input], malstm_distance)\n",
        "\n",
        "# Adadelta optimizer, with gradient clipping by norm\n",
        "# optimizer = Adadelta(clipnorm=gradient_clipping_norm)\n",
        "optimizer = Adam()\n",
        "\n",
        "\n",
        "cos_model.compile(loss='mean_squared_error', optimizer=optimizer)"
      ],
      "execution_count": 0,
      "outputs": []
    },
    {
      "metadata": {
        "id": "WZIn8BjJzgsE",
        "colab_type": "code",
        "colab": {}
      },
      "cell_type": "code",
      "source": [
        "cos_model.load_weights('drive/My Drive/weights.Char_embedding_cos_unnorm_weight_init_75ep_.df5')"
      ],
      "execution_count": 0,
      "outputs": []
    },
    {
      "metadata": {
        "id": "ec_CI8Sz0GRh",
        "colab_type": "code",
        "colab": {}
      },
      "cell_type": "code",
      "source": [
        "pred_privateTest= cos_model.predict([X_privateTest['left'], X_privateTest['right']])\n",
        "\n",
        "pred_publicTest= cos_model.predict([X_publicTest['left'], X_publicTest['right']])"
      ],
      "execution_count": 0,
      "outputs": []
    },
    {
      "metadata": {
        "id": "WjPSmTBkzgpv",
        "colab_type": "code",
        "outputId": "38d2d268-fd28-4716-f001-b2f79dfbd167",
        "colab": {
          "base_uri": "https://localhost:8080/",
          "height": 85
        }
      },
      "cell_type": "code",
      "source": [
        "print('Private Test RMSE score: {:<8.5f}'.format(np.sqrt(mean_squared_error(Y_privateTest, pred_privateTest))))\n",
        "print('Private Test MAE loss: {}'.format(mean_absolute_error(Y_privateTest, pred_privateTest)))\n",
        "\n",
        "print('Public Test RMSE score: {:<8.5f}'.format(np.sqrt(mean_squared_error(Y_publicTest, pred_publicTest))))\n",
        "print('Public Test MAE loss: {}'.format(mean_absolute_error(Y_publicTest, pred_publicTest)))"
      ],
      "execution_count": 0,
      "outputs": [
        {
          "output_type": "stream",
          "text": [
            "Private Test RMSE score: 0.54776 \n",
            "Private Test MAE loss: 0.44156092904274674\n",
            "Public Test RMSE score: 0.54806 \n",
            "Public Test MAE loss: 0.442088226710707\n"
          ],
          "name": "stdout"
        }
      ]
    },
    {
      "metadata": {
        "id": "DDnQWM359qt7",
        "colab_type": "text"
      },
      "cell_type": "markdown",
      "source": [
        "This is our train and validation results:\n",
        "\n",
        "Train RMSE score: 0.39953 <br>\n",
        "Train MAE loss: 0.32367165976945556 <br>\n",
        "Validation RMSE score: 0.47932 <br>\n",
        "Validation MAE loss: 0.3855941388845494 <br>\n",
        "\n",
        "There is a big drop in our results between the test results and the validation results. <br>\n",
        "So either our validation is not representing the test and real world or we somehow managed to overfit also validation set and our model didnt learn anything usefull. <br>\n",
        "We tend to think the first option is the correct one, lets continue investigating.\n"
      ]
    },
    {
      "metadata": {
        "id": "-oBlThdWy11C",
        "colab_type": "text"
      },
      "cell_type": "markdown",
      "source": [
        "##Testing Siamese network as FE and Random Forest as classifier"
      ]
    },
    {
      "metadata": {
        "id": "HtSTIu4ezIsZ",
        "colab_type": "code",
        "colab": {}
      },
      "cell_type": "code",
      "source": [
        "%%time\n",
        "featureExtractor = Model(inputs = cos_model.input, outputs = cos_model.get_layer('dot_1').input)\n",
        "\n",
        "predFeatures = featureExtractor.predict([X_train['left'], X_train['right']])\n",
        "predFeaturesTrain = np.concatenate((predFeatures[0], predFeatures[1]), axis=1)\n",
        "\n",
        "predFeatures = featureExtractor.predict([X_validation['left'], X_validation['right']])\n",
        "predFeaturesVal = np.concatenate((predFeatures[0], predFeatures[1]), axis=1)\n",
        "\n",
        "predFeatures = featureExtractor.predict([X_publicTest['left'], X_publicTest['right']])\n",
        "predFeaturesPublicTest = np.concatenate((predFeatures[0], predFeatures[1]), axis=1)\n",
        "\n",
        "predFeatures = featureExtractor.predict([X_privateTest['left'], X_privateTest['right']])\n",
        "predFeaturesPrivateTest = np.concatenate((predFeatures[0], predFeatures[1]), axis=1)\n"
      ],
      "execution_count": 0,
      "outputs": []
    },
    {
      "metadata": {
        "id": "iwWwI_GQ9tct",
        "colab_type": "code",
        "outputId": "fff8a417-e2ec-4e42-83b6-df2c977d9839",
        "colab": {
          "base_uri": "https://localhost:8080/",
          "height": 51
        }
      },
      "cell_type": "code",
      "source": [
        "%%time\n",
        "from sklearn.ensemble import RandomForestRegressor\n",
        "\n",
        "forest = RandomForestRegressor(n_estimators = 50, max_depth = 10)\n",
        "forest.fit(predFeaturesTrain, Y_train)"
      ],
      "execution_count": 0,
      "outputs": [
        {
          "output_type": "stream",
          "text": [
            "CPU times: user 5min 52s, sys: 0 ns, total: 5min 52s\n",
            "Wall time: 5min 52s\n"
          ],
          "name": "stdout"
        }
      ]
    },
    {
      "metadata": {
        "id": "kr9G0Ju49tW3",
        "colab_type": "code",
        "colab": {}
      },
      "cell_type": "code",
      "source": [
        "pred_train = forest.predict(predFeaturesTrain)\n",
        "pred_val = forest.predict(predFeaturesVal)\n",
        "\n",
        "pred_PublicTest = forest.predict(predFeaturesPublicTest)\n",
        "pred_PrivateTest = forest.predict(predFeaturesPrivateTest)"
      ],
      "execution_count": 0,
      "outputs": []
    },
    {
      "metadata": {
        "id": "kTfYFIX7-fj3",
        "colab_type": "code",
        "outputId": "a13dacb8-e71a-4044-db20-bab304517398",
        "colab": {
          "base_uri": "https://localhost:8080/",
          "height": 153
        }
      },
      "cell_type": "code",
      "source": [
        "print('Train RMSE score: {:<8.5f}'.format(np.sqrt(mean_squared_error(Y_train, pred_train))))\n",
        "print('Train MAE loss: {}'.format(mean_absolute_error(Y_train, pred_train)))\n",
        "\n",
        "print('Validation RMSE score: {:<8.5f}'.format(np.sqrt(mean_squared_error(Y_validation, pred_val))))\n",
        "print('Validation MAE loss: {}'.format(mean_absolute_error(Y_validation, pred_val)))\n",
        "\n",
        "print('Private Test RMSE score: {:<8.5f}'.format(np.sqrt(mean_squared_error(Y_privateTest, pred_PrivateTest))))\n",
        "print('Private Test MAE loss: {}'.format(mean_absolute_error(Y_privateTest, pred_PrivateTest)))\n",
        "\n",
        "print('Public Test RMSE score: {:<8.5f}'.format(np.sqrt(mean_squared_error(Y_publicTest, pred_PublicTest))))\n",
        "print('Public Test MAE loss: {}'.format(mean_absolute_error(Y_publicTest, pred_PublicTest)))"
      ],
      "execution_count": 0,
      "outputs": [
        {
          "output_type": "stream",
          "text": [
            "Train RMSE score: 0.39874 \n",
            "Train MAE loss: 0.32581557159456115\n",
            "Validation RMSE score: 0.44995 \n",
            "Validation MAE loss: 0.36369017340053883\n",
            "Private Test RMSE score: 0.54471 \n",
            "Private Test MAE loss: 0.4388274695870023\n",
            "Public Test RMSE score: 0.54491 \n",
            "Public Test MAE loss: 0.43972805522452435\n"
          ],
          "name": "stdout"
        }
      ]
    },
    {
      "metadata": {
        "id": "ner5EPpz9t_v",
        "colab_type": "text"
      },
      "cell_type": "markdown",
      "source": [
        "Still 0.54X RMSE over test with random forest "
      ]
    },
    {
      "metadata": {
        "id": "icKv37h2zAye",
        "colab_type": "text"
      },
      "cell_type": "markdown",
      "source": [
        "##Testing Siamese network as FE and LightGBM as classifier"
      ]
    },
    {
      "metadata": {
        "id": "2DfMn3AozJBu",
        "colab_type": "code",
        "colab": {}
      },
      "cell_type": "code",
      "source": [
        "lgbparam = {'num_leaves': 31,\n",
        "            'boosting_type': 'rf',\n",
        "             'min_data_in_leaf': 30, \n",
        "             'objective':'regression',\n",
        "             'max_depth': -1,\n",
        "             'learning_rate': 0.01,\n",
        "             \"min_child_samples\": 20,\n",
        "             \"boosting\": \"gbdt\",\n",
        "             \"feature_fraction\": 0.9,\n",
        "             \"bagging_freq\": 1,\n",
        "             \"bagging_fraction\": 0.9 ,\n",
        "             \"bagging_seed\": 11,\n",
        "             \"metric\": 'rmse',\n",
        "             \"lambda_l1\": 0.1,\n",
        "             \"verbosity\": -1,\n",
        "             \"nthread\": 4,\n",
        "             \"random_state\": 4590}"
      ],
      "execution_count": 0,
      "outputs": []
    },
    {
      "metadata": {
        "id": "W2qGELyo9umf",
        "colab_type": "code",
        "outputId": "4ffe19db-d038-403b-9379-ea05014c04e7",
        "colab": {
          "base_uri": "https://localhost:8080/",
          "height": 391
        }
      },
      "cell_type": "code",
      "source": [
        "import lightgbm as lgb\n",
        "\n",
        "trn_data = lgb.Dataset(predFeaturesTrain, label=Y_train)\n",
        "val_data = lgb.Dataset(predFeaturesVal, label=Y_validation)\n",
        "\n",
        "num_round = 11000\n",
        "clf = lgb.train(lgbparam, trn_data, num_round, valid_sets = [trn_data, val_data], verbose_eval=100, early_stopping_rounds = 100)"
      ],
      "execution_count": 0,
      "outputs": [
        {
          "output_type": "stream",
          "text": [
            "Training until validation scores don't improve for 100 rounds.\n",
            "[100]\ttraining's rmse: 0.465435\tvalid_1's rmse: 0.472477\n",
            "[200]\ttraining's rmse: 0.443637\tvalid_1's rmse: 0.453353\n",
            "[300]\ttraining's rmse: 0.432481\tvalid_1's rmse: 0.445013\n",
            "[400]\ttraining's rmse: 0.425151\tvalid_1's rmse: 0.440338\n",
            "[500]\ttraining's rmse: 0.419812\tvalid_1's rmse: 0.437756\n",
            "[600]\ttraining's rmse: 0.415548\tvalid_1's rmse: 0.436191\n",
            "[700]\ttraining's rmse: 0.411876\tvalid_1's rmse: 0.435164\n",
            "[800]\ttraining's rmse: 0.408583\tvalid_1's rmse: 0.434535\n",
            "[900]\ttraining's rmse: 0.405531\tvalid_1's rmse: 0.434065\n",
            "[1000]\ttraining's rmse: 0.402632\tvalid_1's rmse: 0.433675\n",
            "[1100]\ttraining's rmse: 0.399869\tvalid_1's rmse: 0.43329\n",
            "[1200]\ttraining's rmse: 0.397205\tvalid_1's rmse: 0.433076\n",
            "[1300]\ttraining's rmse: 0.394669\tvalid_1's rmse: 0.432839\n",
            "[1400]\ttraining's rmse: 0.392182\tvalid_1's rmse: 0.432625\n",
            "[1500]\ttraining's rmse: 0.389745\tvalid_1's rmse: 0.432436\n",
            "[1600]\ttraining's rmse: 0.387427\tvalid_1's rmse: 0.432322\n",
            "[1700]\ttraining's rmse: 0.385176\tvalid_1's rmse: 0.432217\n",
            "[1800]\ttraining's rmse: 0.38295\tvalid_1's rmse: 0.432101\n",
            "[1900]\ttraining's rmse: 0.380774\tvalid_1's rmse: 0.432108\n",
            "Early stopping, best iteration is:\n",
            "[1812]\ttraining's rmse: 0.382685\tvalid_1's rmse: 0.432085\n"
          ],
          "name": "stdout"
        }
      ]
    },
    {
      "metadata": {
        "id": "hQIJZzuP9ujT",
        "colab_type": "code",
        "colab": {}
      },
      "cell_type": "code",
      "source": [
        "pred_train = clf.predict(predFeaturesTrain, num_iteration=clf.best_iteration)\n",
        "pred_val = clf.predict(predFeaturesVal, num_iteration=clf.best_iteration)    \n",
        "\n",
        "pred_PublicTest = clf.predict(predFeaturesPublicTest, num_iteration=clf.best_iteration)    \n",
        "pred_PrivateTest = clf.predict(predFeaturesPrivateTest, num_iteration=clf.best_iteration)    "
      ],
      "execution_count": 0,
      "outputs": []
    },
    {
      "metadata": {
        "id": "HfV0XRE3_aU1",
        "colab_type": "code",
        "outputId": "6b32b84c-f215-4c0d-cac8-18d70141f35e",
        "colab": {
          "base_uri": "https://localhost:8080/",
          "height": 153
        }
      },
      "cell_type": "code",
      "source": [
        "print('Train RMSE score: {:<8.5f}'.format(np.sqrt(mean_squared_error(Y_train, pred_train))))\n",
        "print('Train MAE loss: {}'.format(mean_absolute_error(Y_train, pred_train)))\n",
        "\n",
        "print('Validation RMSE score: {:<8.5f}'.format(np.sqrt(mean_squared_error(Y_validation, pred_val))))\n",
        "print('Validation MAE loss: {}'.format(mean_absolute_error(Y_validation, pred_val)))\n",
        "\n",
        "print('Private Test RMSE score: {:<8.5f}'.format(np.sqrt(mean_squared_error(Y_privateTest, pred_PrivateTest))))\n",
        "print('Private Test MAE loss: {}'.format(mean_absolute_error(Y_privateTest, pred_PrivateTest)))\n",
        "\n",
        "print('Public Test RMSE score: {:<8.5f}'.format(np.sqrt(mean_squared_error(Y_publicTest, pred_PublicTest))))\n",
        "print('Public Test MAE loss: {}'.format(mean_absolute_error(Y_publicTest, pred_PublicTest)))"
      ],
      "execution_count": 0,
      "outputs": [
        {
          "output_type": "stream",
          "text": [
            "Train RMSE score: 0.38268 \n",
            "Train MAE loss: 0.30813175560710804\n",
            "Validation RMSE score: 0.43208 \n",
            "Validation MAE loss: 0.34643409937140757\n",
            "Private Test RMSE score: 0.54949 \n",
            "Private Test MAE loss: 0.4417253629048999\n",
            "Public Test RMSE score: 0.54963 \n",
            "Public Test MAE loss: 0.4427468815443645\n"
          ],
          "name": "stdout"
        }
      ]
    },
    {
      "metadata": {
        "id": "Zh_L2okc9vON",
        "colab_type": "text"
      },
      "cell_type": "markdown",
      "source": [
        "And still 0.54X RMSE over test with LightGBM"
      ]
    },
    {
      "metadata": {
        "id": "hbDM25aAahjw",
        "colab_type": "text"
      },
      "cell_type": "markdown",
      "source": [
        "There are two causes we can think of for that phenomena:<br>\n",
        "1.We overfitted the validation dataset\n",
        "2.There are changes in character level connections between validation and Test \n",
        "\n",
        "We tend to think that in this task a model based on character connections cant generalize well to Test becuase of the second reason. <br>\n",
        "We might overfitted a bit the validation set but we think that it cant explain the big differnce in test score and validation score, especially when that big jump is taking three of our models with different results to the same score pretty much.\n",
        "\n",
        "If we had more time and resources we think that next steps over here will be to try with better validation strategy and add regulation (like dropouts) to our model.\n"
      ]
    },
    {
      "metadata": {
        "id": "PKijTlWXahdM",
        "colab_type": "text"
      },
      "cell_type": "markdown",
      "source": [
        "## Stay tuned for word embeddings on the next chapter"
      ]
    }
  ]
}