{
  "nbformat": 4,
  "nbformat_minor": 0,
  "metadata": {
    "colab": {
      "name": "Ass3HomeDepotChallenge_161.ipynb",
      "version": "0.3.2",
      "provenance": [],
      "collapsed_sections": [],
      "toc_visible": true
    },
    "kernelspec": {
      "name": "python3",
      "display_name": "Python 3"
    },
    "accelerator": "GPU"
  },
  "cells": [
    {
      "metadata": {
        "id": "8fUQba__5iMC",
        "colab_type": "text"
      },
      "cell_type": "markdown",
      "source": [
        "![alt text](https://storage.googleapis.com/kaggle-competitions/kaggle/4853/media/home_depot_tools.jpg)\n",
        "\n",
        "\n"
      ]
    },
    {
      "metadata": {
        "colab_type": "text",
        "id": "Zu_rS9rnijV4"
      },
      "cell_type": "markdown",
      "source": [
        "# Home Depot Product Search Relevance"
      ]
    },
    {
      "metadata": {
        "id": "sSEHNohnonvv",
        "colab_type": "text"
      },
      "cell_type": "markdown",
      "source": [
        "After having Great success with characters, we are continuing to a new mission, predicting relevance based on words"
      ]
    },
    {
      "metadata": {
        "colab_type": "text",
        "id": "jYiETY09ijWE"
      },
      "cell_type": "markdown",
      "source": [
        "# Word Embeddings"
      ]
    },
    {
      "metadata": {
        "id": "oXwoHoNpcODl",
        "colab_type": "code",
        "colab": {}
      },
      "cell_type": "code",
      "source": [
        "from time import time\n",
        "import pandas as pd\n",
        "import numpy as np\n",
        "from gensim.models import KeyedVectors\n",
        "import re\n",
        "from sklearn.model_selection import train_test_split\n",
        "import matplotlib.pyplot as plt\n",
        "import seaborn as sns\n",
        "\n",
        "import itertools\n",
        "import datetime\n",
        "\n",
        "from keras.preprocessing.sequence import pad_sequences\n",
        "from keras.models import Model\n",
        "from keras.layers import Input, Embedding, LSTM, Lambda, dot\n",
        "import keras.backend as K\n",
        "from keras.optimizers import Adadelta, Adam\n",
        "from keras.callbacks import ModelCheckpoint\n",
        "from sklearn.metrics import mean_squared_error, mean_absolute_error\n"
      ],
      "execution_count": 0,
      "outputs": []
    },
    {
      "metadata": {
        "id": "Q7fufKWhcO5Y",
        "colab_type": "code",
        "colab": {}
      },
      "cell_type": "code",
      "source": [
        "from string import punctuation\n",
        "from os import listdir\n",
        "from numpy import array\n",
        "from numpy import asarray\n",
        "from numpy import zeros\n",
        "from keras.preprocessing.text import Tokenizer\n",
        "from keras.preprocessing.sequence import pad_sequences\n",
        "from keras.models import Sequential\n",
        "from keras.layers import Dense\n",
        "from keras.layers import Flatten\n",
        "from keras.layers import Embedding\n",
        "from keras.layers.convolutional import Conv1D\n",
        "from keras.layers.convolutional import MaxPooling1D"
      ],
      "execution_count": 0,
      "outputs": []
    },
    {
      "metadata": {
        "id": "oOykXaFxcQwb",
        "colab_type": "code",
        "outputId": "863ca61a-9904-4126-f286-87ede3f212c3",
        "colab": {
          "base_uri": "https://localhost:8080/",
          "height": 35
        }
      },
      "cell_type": "code",
      "source": [
        "from google.colab import drive\n",
        "drive.mount(\"/content/drive\")"
      ],
      "execution_count": 0,
      "outputs": [
        {
          "output_type": "stream",
          "text": [
            "Drive already mounted at /content/drive; to attempt to forcibly remount, call drive.mount(\"/content/drive\", force_remount=True).\n"
          ],
          "name": "stdout"
        }
      ]
    },
    {
      "metadata": {
        "id": "IFcpO3m6cQnd",
        "colab_type": "code",
        "colab": {}
      },
      "cell_type": "code",
      "source": [
        "import numpy as np # linear algebra\n",
        "import pandas as pd # data processing, CSV file I/O (e.g. pd.read_csv)\n",
        "# Load files\n",
        "training_data = pd.read_csv(\"drive/My Drive/ex3/train.csv\", encoding=\"ISO-8859-1\")\n",
        "testing_data = pd.read_csv(\"drive/My Drive/ex3/test.csv\", encoding=\"ISO-8859-1\")\n",
        "attribute_data = pd.read_csv('drive/My Drive/ex3/attributes.csv')\n",
        "descriptions = pd.read_csv('drive/My Drive/ex3/product_descriptions.csv')\n",
        "\n",
        "test_sol = pd.read_csv('drive/My Drive/ex3/solution.csv')\n"
      ],
      "execution_count": 0,
      "outputs": []
    },
    {
      "metadata": {
        "id": "_A_gAAvOcQiI",
        "colab_type": "code",
        "colab": {}
      },
      "cell_type": "code",
      "source": [
        "# Merge descriptions\n",
        "training_data = pd.merge(training_data, descriptions, \n",
        "                         on=\"product_uid\", how=\"left\")"
      ],
      "execution_count": 0,
      "outputs": []
    },
    {
      "metadata": {
        "id": "dnW-HCw7cQdG",
        "colab_type": "code",
        "colab": {}
      },
      "cell_type": "code",
      "source": [
        "# Merge descriptions\n",
        "testing_data= pd.merge(testing_data, descriptions, \n",
        "                         on=\"product_uid\", how=\"left\")"
      ],
      "execution_count": 0,
      "outputs": []
    },
    {
      "metadata": {
        "id": "HBD2h1Jdr-8s",
        "colab_type": "text"
      },
      "cell_type": "markdown",
      "source": [
        "##Preprocess"
      ]
    },
    {
      "metadata": {
        "id": "ZoK9h1uFgnqU",
        "colab_type": "text"
      },
      "cell_type": "markdown",
      "source": [
        "### Stemming"
      ]
    },
    {
      "metadata": {
        "id": "PcBgDAaTrnCH",
        "colab_type": "text"
      },
      "cell_type": "markdown",
      "source": [
        "We will start by removing punctuation which we found as unnecessary. we will keep some punctuation that we find relevant to the products, such as \"*\", \"/\"\" and \"-\"\"."
      ]
    },
    {
      "metadata": {
        "id": "-QHhml28uGY0",
        "colab_type": "code",
        "colab": {}
      },
      "cell_type": "code",
      "source": [
        "from nltk.stem import PorterStemmer\n"
      ],
      "execution_count": 0,
      "outputs": []
    },
    {
      "metadata": {
        "id": "v68gbY3RuHu_",
        "colab_type": "code",
        "colab": {}
      },
      "cell_type": "code",
      "source": [
        "porter = PorterStemmer()\n"
      ],
      "execution_count": 0,
      "outputs": []
    },
    {
      "metadata": {
        "id": "CmPTXKwvwIul",
        "colab_type": "code",
        "colab": {}
      },
      "cell_type": "code",
      "source": [
        "import string\n",
        "puncList = string.punctuation.replace(\"/\",\"\")\n",
        "puncList = puncList.replace(\"-\",\"\")\n",
        "puncList = puncList.replace(\"_\",\"\")\n",
        "puncList = puncList.replace(\"*\",\"\")"
      ],
      "execution_count": 0,
      "outputs": []
    },
    {
      "metadata": {
        "id": "xCoRuveTrESy",
        "colab_type": "code",
        "colab": {}
      },
      "cell_type": "code",
      "source": [
        "# translator = str.maketrans('', '', puncList)\n",
        "translator = str.maketrans(puncList, ' '*len(puncList)) #map punctuation to space"
      ],
      "execution_count": 0,
      "outputs": []
    },
    {
      "metadata": {
        "id": "9qmlgo4F6D3U",
        "colab_type": "code",
        "outputId": "aac137de-e2bd-4ec4-a064-f65c552bf9a4",
        "colab": {
          "base_uri": "https://localhost:8080/",
          "height": 52
        }
      },
      "cell_type": "code",
      "source": [
        "import nltk\n",
        "from nltk.corpus import stopwords\n",
        "nltk.download('stopwords')\n",
        "\n",
        "stops = set(stopwords.words(\"english\"))\n",
        "\n",
        "def stem_sentences(sentence):     \n",
        "    tokens = sentence.translate(translator).replace(\"_\",\"-\").split()\n",
        "    stemmed_tokens = [porter.stem(token) for token in tokens if token.lower() not in stops]\n",
        "    \n",
        "    return ' '.join(stemmed_tokens)"
      ],
      "execution_count": 0,
      "outputs": [
        {
          "output_type": "stream",
          "text": [
            "[nltk_data] Downloading package stopwords to /root/nltk_data...\n",
            "[nltk_data]   Unzipping corpora/stopwords.zip.\n"
          ],
          "name": "stdout"
        }
      ]
    },
    {
      "metadata": {
        "id": "bZ0kHr4NtoKb",
        "colab_type": "text"
      },
      "cell_type": "markdown",
      "source": [
        "We are using Porter as our stemmer for stemming the words. stemming the words will decrease the number of different words we have in our corpus and will help us combine similar words which hopefully have the same meaning, just written a little different.\n",
        "\n",
        "In additionally we removed stop words. Stop words are not useful for us since they cannot imply a real connection between words."
      ]
    },
    {
      "metadata": {
        "id": "PzHUkPacwAxo",
        "colab_type": "code",
        "colab": {}
      },
      "cell_type": "code",
      "source": [
        "training_data['search_term'] = training_data['search_term'].apply(stem_sentences)"
      ],
      "execution_count": 0,
      "outputs": []
    },
    {
      "metadata": {
        "id": "_g6J9L1p45V_",
        "colab_type": "code",
        "colab": {}
      },
      "cell_type": "code",
      "source": [
        "training_data['product_description'] = training_data['product_description'].apply(stem_sentences)"
      ],
      "execution_count": 0,
      "outputs": []
    },
    {
      "metadata": {
        "id": "4UQLdKoSiumv",
        "colab_type": "code",
        "colab": {}
      },
      "cell_type": "code",
      "source": [
        "testing_data['search_term'] = testing_data['search_term'].apply(stem_sentences)"
      ],
      "execution_count": 0,
      "outputs": []
    },
    {
      "metadata": {
        "id": "BbMPwov-iuQL",
        "colab_type": "code",
        "colab": {}
      },
      "cell_type": "code",
      "source": [
        "testing_data['product_description'] = testing_data['product_description'].apply(stem_sentences)"
      ],
      "execution_count": 0,
      "outputs": []
    },
    {
      "metadata": {
        "id": "bJzhfHhYuZIS",
        "colab_type": "text"
      },
      "cell_type": "markdown",
      "source": [
        "combining the words from training and test data in order to not have Out-of-vocabulary words when we will test our data. we separated our data for search terms and product description. we believed that there might be a different meaning for words in search terms than in product description, so we wanted to train to different embeddings."
      ]
    },
    {
      "metadata": {
        "id": "1mfRSutYX6R8",
        "colab_type": "code",
        "colab": {}
      },
      "cell_type": "code",
      "source": [
        "tokenizedSearchWords = [sentence.split() for sentence in training_data['search_term'] ]\n",
        "tokenizedSearchWords += [sentence.split() for sentence in testing_data['search_term'] ]"
      ],
      "execution_count": 0,
      "outputs": []
    },
    {
      "metadata": {
        "id": "SE5-S7VxX8Se",
        "colab_type": "code",
        "colab": {}
      },
      "cell_type": "code",
      "source": [
        "tokenizedDescWords = [sentence.split() for sentence in training_data['product_description'] ]\n",
        "tokenizedDescWords += [sentence.split() for sentence in testing_data['product_description'] ]"
      ],
      "execution_count": 0,
      "outputs": []
    },
    {
      "metadata": {
        "id": "mabxkUnCa_W9",
        "colab_type": "text"
      },
      "cell_type": "markdown",
      "source": [
        "Lets get some statistics over our corpus in order to find the best parameters for our model."
      ]
    },
    {
      "metadata": {
        "id": "KJcoGJ6XjO4g",
        "colab_type": "code",
        "outputId": "cce24f88-4221-4c82-d3bf-9f1d1bf0f143",
        "colab": {
          "base_uri": "https://localhost:8080/",
          "height": 52
        }
      },
      "cell_type": "code",
      "source": [
        "sumA = []\n",
        "counter = 0\n",
        "for x in tokenizedSearchWords:\n",
        "    for word in x:\n",
        "        sumA.append(word)\n",
        "        \n",
        "unique = set(sumA)\n",
        "print(\"total words in search term\", len(sumA))\n",
        "print(\"unique words in search term:\", len(unique))"
      ],
      "execution_count": 0,
      "outputs": [
        {
          "output_type": "stream",
          "text": [
            "total words in search term 565002\n",
            "unique words in search term: 11126\n"
          ],
          "name": "stdout"
        }
      ]
    },
    {
      "metadata": {
        "id": "vctOiqI8rGbB",
        "colab_type": "code",
        "outputId": "85690063-1d9a-4bdc-80e9-7d5771f1462f",
        "colab": {
          "base_uri": "https://localhost:8080/",
          "height": 52
        }
      },
      "cell_type": "code",
      "source": [
        "sumA = []\n",
        "counter = 0\n",
        "for x in tokenizedDescWords:\n",
        "    for word in x:\n",
        "        sumA.append(word)\n",
        "        \n",
        "unique = set(sumA)\n",
        "print(\"total words in product description\", len(sumA))\n",
        "print(\"unique words in product description:\", len(unique))"
      ],
      "execution_count": 0,
      "outputs": [
        {
          "output_type": "stream",
          "text": [
            "total words in product description 17560841\n",
            "unique words in product description: 270636\n"
          ],
          "name": "stdout"
        }
      ]
    },
    {
      "metadata": {
        "id": "v_mpN8YRwEP5",
        "colab_type": "text"
      },
      "cell_type": "markdown",
      "source": [
        "###Word2Vec training\n",
        "\n",
        "Here we can either use a pre-trained one like Word2Vec and GloVe or train a new one from our text. <br>\n",
        "The pre-trained will know better connections between words in general while our new trained will be better at connection in  Home Depot item texts.\n",
        "\n",
        "\n",
        "We've used Word2Vec algorithm for our words embedding.\n",
        "running it on separately on both search term and product description.\n",
        "We chose 128 dimensions for the search term since it had significantly fewer words than there was in product description. we chose 256 as the dimension size for product description."
      ]
    },
    {
      "metadata": {
        "id": "XgcYzdBTX9Tt",
        "colab_type": "code",
        "outputId": "4a6bd8a7-9606-4ba8-b193-c8f091988231",
        "colab": {
          "base_uri": "https://localhost:8080/",
          "height": 50
        }
      },
      "cell_type": "code",
      "source": [
        "%%time\n",
        "from gensim.models import word2vec\n",
        "\n",
        "word2vecModelSearch = word2vec.Word2Vec(tokenizedSearchWords, min_count=1, size=128)"
      ],
      "execution_count": 0,
      "outputs": [
        {
          "output_type": "stream",
          "text": [
            "CPU times: user 9.71 s, sys: 56.1 ms, total: 9.76 s\n",
            "Wall time: 5.72 s\n"
          ],
          "name": "stdout"
        }
      ]
    },
    {
      "metadata": {
        "id": "bJoA6gKkZ812",
        "colab_type": "code",
        "outputId": "cb48c908-6bc1-4f9f-a41a-99c77ec56073",
        "colab": {
          "base_uri": "https://localhost:8080/",
          "height": 50
        }
      },
      "cell_type": "code",
      "source": [
        "%%time\n",
        "from gensim.models import word2vec\n",
        "\n",
        "word2vecModelDesc = word2vec.Word2Vec(tokenizedDescWords, min_count=1, size=256)"
      ],
      "execution_count": 0,
      "outputs": [
        {
          "output_type": "stream",
          "text": [
            "CPU times: user 6min 58s, sys: 1.25 s, total: 6min 59s\n",
            "Wall time: 3min 39s\n"
          ],
          "name": "stdout"
        }
      ]
    },
    {
      "metadata": {
        "id": "DxWbY4YtxEHP",
        "colab_type": "text"
      },
      "cell_type": "markdown",
      "source": [
        "visualize embedding using TSNE"
      ]
    },
    {
      "metadata": {
        "id": "mONZ-GL-YH9F",
        "colab_type": "code",
        "outputId": "6ce9ac5c-77fb-4ddb-a270-c2392d50fa80",
        "colab": {
          "base_uri": "https://localhost:8080/",
          "height": 917
        }
      },
      "cell_type": "code",
      "source": [
        "from sklearn.manifold import TSNE\n",
        "import matplotlib.pyplot as plt\n",
        "\n",
        "vocab = list(word2vecModelSearch.wv.vocab)[:200]\n",
        "X = word2vecModelSearch[vocab]\n",
        "\n",
        "tsne = TSNE(n_components=2)\n",
        "X_tsne = tsne.fit_transform(X)\n",
        "\n",
        "df = pd.DataFrame(X_tsne, index=vocab, columns=['x', 'y'])\n",
        "\n",
        "fig = plt.figure(figsize=(15,15))\n",
        "ax = fig.add_subplot(1, 1, 1)\n",
        "\n",
        "ax.scatter(df['x'], df['y'])\n",
        "\n",
        "for word, pos in df.iterrows():\n",
        "    ax.annotate(word, pos)\n",
        "\n",
        "plt.show()    \n",
        "\n",
        "# plt.scatter(X_tsne[:, 0], X_tsne[:, 1])\n",
        "# plt.show()\n"
      ],
      "execution_count": 0,
      "outputs": [
        {
          "output_type": "stream",
          "text": [
            "/usr/local/lib/python3.6/dist-packages/ipykernel_launcher.py:5: DeprecationWarning: Call to deprecated `__getitem__` (Method will be removed in 4.0.0, use self.wv.__getitem__() instead).\n",
            "  \"\"\"\n"
          ],
          "name": "stderr"
        },
        {
          "output_type": "display_data",
          "data": {
            "image/png": "[encoded data removed]",
            "text/plain": [
              "<Figure size 1080x1080 with 1 Axes>"
            ]
          },
          "metadata": {
            "tags": []
          }
        }
      ]
    },
    {
      "metadata": {
        "id": "3TaC1Y7JxIyg",
        "colab_type": "text"
      },
      "cell_type": "markdown",
      "source": [
        "we can see reasonable connection in our search terms embedding. for example, we can see that the numbers are all fit together. we can see that shelf is close to shelv which is a word that the stemmer created, as well as cabinet and storag. another connection is window with fiberglass and screen which also make sense."
      ]
    },
    {
      "metadata": {
        "id": "jGxWdhV9z1Cy",
        "colab_type": "code",
        "outputId": "7c421425-72f0-4880-ac56-657a3153fe5b",
        "colab": {
          "base_uri": "https://localhost:8080/",
          "height": 917
        }
      },
      "cell_type": "code",
      "source": [
        "from sklearn.manifold import TSNE\n",
        "import matplotlib.pyplot as plt\n",
        "\n",
        "vocab = list(word2vecModelDesc.wv.vocab)[500:650]\n",
        "X = word2vecModelDesc[vocab]\n",
        "\n",
        "tsne = TSNE(n_components=2)\n",
        "X_tsne = tsne.fit_transform(X)\n",
        "\n",
        "df = pd.DataFrame(X_tsne, index=vocab, columns=['x', 'y'])\n",
        "\n",
        "fig = plt.figure(figsize=(15,15))\n",
        "ax = fig.add_subplot(1, 1, 1)\n",
        "\n",
        "ax.scatter(df['x'], df['y'])\n",
        "\n",
        "for word, pos in df.iterrows():\n",
        "    ax.annotate(word, pos)\n",
        "\n",
        "plt.show()    \n",
        "\n",
        "# plt.scatter(X_tsne[:, 0], X_tsne[:, 1])\n",
        "# plt.show()\n"
      ],
      "execution_count": 0,
      "outputs": [
        {
          "output_type": "stream",
          "text": [
            "/usr/local/lib/python3.6/dist-packages/ipykernel_launcher.py:5: DeprecationWarning: Call to deprecated `__getitem__` (Method will be removed in 4.0.0, use self.wv.__getitem__() instead).\n",
            "  \"\"\"\n"
          ],
          "name": "stderr"
        },
        {
          "output_type": "display_data",
          "data": {
            "image/png": "[encoded data removed]",
            "text/plain": [
              "<Figure size 1080x1080 with 1 Axes>"
            ]
          },
          "metadata": {
            "tags": []
          }
        }
      ]
    },
    {
      "metadata": {
        "id": "JBjgz49OyDvX",
        "colab_type": "text"
      },
      "cell_type": "markdown",
      "source": [
        "In the product description embedding, it's a little harder to see the clear connection. This might be due the fact that there is a lot more words in product description than there is in search term, which might make it harder for model to find clear connection. We also think it can happen because of the bigger embedding dimension, but we tested them on the same dimension size, and got similar results.\n",
        "We also tried increase the number of iterations from the default Word2Vec of 5 iterations to 10 and 20, but the results only got worse, probably because of overfitting."
      ]
    },
    {
      "metadata": {
        "id": "rmAo_W2G9vaM",
        "colab_type": "text"
      },
      "cell_type": "markdown",
      "source": [
        "To further test our embedding we can get most similar words to a word in the model and see if they make sense."
      ]
    },
    {
      "metadata": {
        "id": "vG5RqNYcdITq",
        "colab_type": "code",
        "outputId": "e6b4d107-a4bf-4853-b2b7-9520973a23ee",
        "colab": {
          "base_uri": "https://localhost:8080/",
          "height": 272
        }
      },
      "cell_type": "code",
      "source": [
        "word2vecModelDesc.most_similar('closet')"
      ],
      "execution_count": 0,
      "outputs": [
        {
          "output_type": "stream",
          "text": [
            "/usr/local/lib/python3.6/dist-packages/ipykernel_launcher.py:1: DeprecationWarning: Call to deprecated `most_similar` (Method will be removed in 4.0.0, use self.wv.most_similar() instead).\n",
            "  \"\"\"Entry point for launching an IPython kernel.\n",
            "/usr/local/lib/python3.6/dist-packages/gensim/matutils.py:737: FutureWarning: Conversion of the second argument of issubdtype from `int` to `np.signedinteger` is deprecated. In future, it will be treated as `np.int64 == np.dtype(int).type`.\n",
            "  if np.issubdtype(vec.dtype, np.int):\n"
          ],
          "name": "stderr"
        },
        {
          "output_type": "execute_result",
          "data": {
            "text/plain": [
              "[('pantri', 0.4931899309158325),\n",
              " ('mudroom', 0.4201435446739197),\n",
              " ('closetmaid', 0.41283082962036133),\n",
              " ('staircasesmot', 0.39877423644065857),\n",
              " ('wardrob', 0.39064064621925354),\n",
              " ('4-shelf', 0.3786293864250183),\n",
              " ('hallway', 0.3768250346183777),\n",
              " ('superslid', 0.37292543053627014),\n",
              " ('shelf', 0.36965039372444153),\n",
              " ('shelv', 0.36569225788116455)]"
            ]
          },
          "metadata": {
            "tags": []
          },
          "execution_count": 590
        }
      ]
    },
    {
      "metadata": {
        "id": "hAF6RrEcOd5m",
        "colab_type": "code",
        "outputId": "05b2ff16-2512-4345-e4fa-5700b096647a",
        "colab": {
          "base_uri": "https://localhost:8080/",
          "height": 250
        }
      },
      "cell_type": "code",
      "source": [
        "word2vecModelSearch.most_similar('hammer')"
      ],
      "execution_count": 0,
      "outputs": [
        {
          "output_type": "stream",
          "text": [
            "/usr/local/lib/python3.6/dist-packages/gensim/matutils.py:737: FutureWarning: Conversion of the second argument of issubdtype from `int` to `np.signedinteger` is deprecated. In future, it will be treated as `np.int64 == np.dtype(int).type`.\n",
            "  if np.issubdtype(vec.dtype, np.int):\n"
          ],
          "name": "stderr"
        },
        {
          "output_type": "execute_result",
          "data": {
            "text/plain": [
              "[('demolit', 0.9257622957229614),\n",
              " ('rotari', 0.9107403755187988),\n",
              " ('ion', 0.8989611864089966),\n",
              " ('drill/driv', 0.8936338424682617),\n",
              " ('9/32', 0.8910439014434814),\n",
              " ('hammerdril', 0.8903762698173523),\n",
              " ('rotomartillo', 0.8854515552520752),\n",
              " ('brushless', 0.8837772011756897),\n",
              " ('18v', 0.8816567659378052),\n",
              " ('roter', 0.875399649143219)]"
            ]
          },
          "metadata": {
            "tags": []
          },
          "execution_count": 62
        }
      ]
    },
    {
      "metadata": {
        "id": "nvh5qwM81Zp-",
        "colab_type": "text"
      },
      "cell_type": "markdown",
      "source": [
        "![alt text](https://images.homedepot-static.com/productImages/07506fd4-04e5-4a48-9249-2707a18975c2/svn/bosch-demolition-breaker-hammers-11335k-64_1000.jpg)\n",
        "Demolition & Breaker Hammers. our stemmer removed the ion end\n",
        "\n",
        "![rotary tools](https://images.homedepot-static.com/productImages/da8917e1-79db-4b9c-aa64-bdd42f6cdc38/svn/dremel-rotary-tools-200-1-15-64_1000.jpg, height = 10, width = 10)\n",
        " Rotary tools. our stemmer replace \"y\" with \"i\"\n",
        "\n"
      ]
    },
    {
      "metadata": {
        "id": "2niJrXC90p2n",
        "colab_type": "text"
      },
      "cell_type": "markdown",
      "source": [
        "Here we can see that similar words in both model are pretty good. some of the name of those items are related ."
      ]
    },
    {
      "metadata": {
        "id": "5Z-mXDknpIj4",
        "colab_type": "text"
      },
      "cell_type": "markdown",
      "source": [
        "**Saving files**"
      ]
    },
    {
      "metadata": {
        "id": "RKHZEit5pGy3",
        "colab_type": "code",
        "colab": {}
      },
      "cell_type": "code",
      "source": [
        "training_data.to_csv('drive/My Drive/stemmed_training_data.csv')"
      ],
      "execution_count": 0,
      "outputs": []
    },
    {
      "metadata": {
        "id": "el5iYidMphUJ",
        "colab_type": "code",
        "colab": {}
      },
      "cell_type": "code",
      "source": [
        "testing_data.to_csv('drive/My Drive/stemmed_testing_data.csv')"
      ],
      "execution_count": 0,
      "outputs": []
    },
    {
      "metadata": {
        "id": "Y06njc7c8W0b",
        "colab_type": "code",
        "colab": {}
      },
      "cell_type": "code",
      "source": [
        "filename = 'embedding_word2vecModelSearch300StemLast'\n",
        "word2vecModelSearch.wv.save('drive/My Drive/' + filename)"
      ],
      "execution_count": 0,
      "outputs": []
    },
    {
      "metadata": {
        "id": "pQCZaRsz8YFH",
        "colab_type": "code",
        "colab": {}
      },
      "cell_type": "code",
      "source": [
        "filename = 'embedding_word2vecModelDesc300StemLast'\n",
        "word2vecModelDesc.wv.save('drive/My Drive/' + filename)"
      ],
      "execution_count": 0,
      "outputs": []
    },
    {
      "metadata": {
        "id": "ryzrKFux2D9i",
        "colab_type": "text"
      },
      "cell_type": "markdown",
      "source": [
        "**load models**"
      ]
    },
    {
      "metadata": {
        "id": "K5Rg2oXMG_di",
        "colab_type": "code",
        "colab": {}
      },
      "cell_type": "code",
      "source": [
        "training_data = pd.read_csv('drive/My Drive/stemmed_training_data.csv')"
      ],
      "execution_count": 0,
      "outputs": []
    },
    {
      "metadata": {
        "id": "oAiPWwfQG_Y1",
        "colab_type": "code",
        "colab": {}
      },
      "cell_type": "code",
      "source": [
        "testing_data = pd.read_csv('drive/My Drive/stemmed_testing_data.csv')            "
      ],
      "execution_count": 0,
      "outputs": []
    },
    {
      "metadata": {
        "id": "9GRZ3nRXXFjB",
        "colab_type": "code",
        "colab": {}
      },
      "cell_type": "code",
      "source": [
        "from gensim.models import KeyedVectors\n",
        "word2vecModelSearch = KeyedVectors.load('drive/My Drive/embedding_word2vecModelSearch300StemLast')"
      ],
      "execution_count": 0,
      "outputs": []
    },
    {
      "metadata": {
        "id": "iWhDHcHGRhqI",
        "colab_type": "code",
        "colab": {}
      },
      "cell_type": "code",
      "source": [
        "from gensim.models import KeyedVectors\n",
        "word2vecModelDesc = KeyedVectors.load('drive/My Drive/embedding_word2vecModelDesc300StemLast')"
      ],
      "execution_count": 0,
      "outputs": []
    },
    {
      "metadata": {
        "id": "TglLVQYOonyj",
        "colab_type": "text"
      },
      "cell_type": "markdown",
      "source": [
        "### Preparing the data\n",
        "\n"
      ]
    },
    {
      "metadata": {
        "id": "7bxRcDfQ4nRr",
        "colab_type": "text"
      },
      "cell_type": "markdown",
      "source": [
        "removing null terms. after stemming, a small number of search terms were removed, and endded up with empty search term. We've decided to drop those terms. Just in case, we checked that product description aswell is not empty."
      ]
    },
    {
      "metadata": {
        "id": "ofdNDhNzsSex",
        "colab_type": "code",
        "colab": {}
      },
      "cell_type": "code",
      "source": [
        "training_data = training_data[training_data['search_term'].notnull()]\n",
        "training_data = training_data[training_data['product_description'].notnull()]\n",
        "testing_data = testing_data[testing_data['search_term'].notnull()]\n",
        "testing_data = testing_data[testing_data['product_description'].notnull()]"
      ],
      "execution_count": 0,
      "outputs": []
    },
    {
      "metadata": {
        "id": "T6XkLi8t5alU",
        "colab_type": "text"
      },
      "cell_type": "markdown",
      "source": [
        "Using label encoder for our words. replacing each word to a numerical label.<br>"
      ]
    },
    {
      "metadata": {
        "id": "izmcbzoFaLJQ",
        "colab_type": "code",
        "outputId": "9a03df2c-aeeb-40a9-9e74-75a912d18b4e",
        "colab": {
          "base_uri": "https://localhost:8080/",
          "height": 161
        }
      },
      "cell_type": "code",
      "source": [
        "%%time\n",
        "# Prepare embedding\n",
        "vocabularySearch = dict()\n",
        "inverse_vocabularySearch = ['<unk>']  # '<unk>' will never be used, it is only a placeholder for the [0, 0, ....0] embedding\n",
        "\n",
        "for index, row in training_data.iterrows():\n",
        "    q2n = []  # q2n -> numbers representation\n",
        "    for word in row['search_term'].split(' '):\n",
        "        # Check for unwanted words\n",
        "        if word not in word2vecModelSearch.wv.vocab:\n",
        "            continue\n",
        "            \n",
        "        if word not in vocabularySearch:\n",
        "            vocabularySearch[word] = len(inverse_vocabularySearch)\n",
        "            q2n.append(len(inverse_vocabularySearch))\n",
        "            inverse_vocabularySearch.append(word)\n",
        "        else:\n",
        "            q2n.append(vocabularySearch[word])\n",
        "\n",
        "    # Replace questions as word to question as number representation\n",
        "    training_data.set_value(index, 'search_term', q2n)     \n",
        "\n",
        "    \n",
        "\n",
        "for index, row in testing_data.iterrows():\n",
        "    q2n = []  # q2n -> numbers representation\n",
        "    for word in row['search_term'].split(' '):\n",
        "        # Check for unwanted words\n",
        "        if word not in word2vecModelSearch.wv.vocab:\n",
        "            continue\n",
        "            \n",
        "        if word not in vocabularySearch:\n",
        "            vocabularySearch[word] = len(inverse_vocabularySearch)\n",
        "            q2n.append(len(inverse_vocabularySearch))\n",
        "            inverse_vocabularySearch.append(word)\n",
        "        else:\n",
        "            q2n.append(vocabularySearch[word])\n",
        "\n",
        "    # Replace questions as word to question as number representation\n",
        "    testing_data.set_value(index, 'search_term', q2n)   \n"
      ],
      "execution_count": 0,
      "outputs": [
        {
          "output_type": "stream",
          "text": [
            "/usr/local/lib/python3.6/dist-packages/ipykernel_launcher.py:9: DeprecationWarning: Call to deprecated `wv` (Attribute will be removed in 4.0.0, use self instead).\n",
            "  if __name__ == '__main__':\n",
            "/usr/local/lib/python3.6/dist-packages/ipykernel_launcher.py:20: FutureWarning: set_value is deprecated and will be removed in a future release. Please use .at[] or .iat[] accessors instead\n",
            "/usr/local/lib/python3.6/dist-packages/ipykernel_launcher.py:28: DeprecationWarning: Call to deprecated `wv` (Attribute will be removed in 4.0.0, use self instead).\n",
            "/usr/local/lib/python3.6/dist-packages/ipykernel_launcher.py:39: FutureWarning: set_value is deprecated and will be removed in a future release. Please use .at[] or .iat[] accessors instead\n"
          ],
          "name": "stderr"
        },
        {
          "output_type": "stream",
          "text": [
            "CPU times: user 20 s, sys: 0 ns, total: 20 s\n",
            "Wall time: 20 s\n"
          ],
          "name": "stdout"
        }
      ]
    },
    {
      "metadata": {
        "id": "gp9pQcjKaLMd",
        "colab_type": "code",
        "outputId": "daa2d738-c404-433d-a9e0-05fbcfa5dad8",
        "colab": {
          "base_uri": "https://localhost:8080/",
          "height": 161
        }
      },
      "cell_type": "code",
      "source": [
        "%%time\n",
        "# Prepare embedding\n",
        "vocabularyDesc = dict()\n",
        "inverse_vocabularyDesc = ['<unk>']  # '<unk>' will never be used, it is only a placeholder for the [0, 0, ....0] embedding\n",
        "\n",
        "for index, row in training_data.iterrows():\n",
        "    q2n = []  # q2n -> numbers representation\n",
        "    for word in row['product_description'].split(' '):\n",
        "        # Check for unwanted words\n",
        "        if word not in word2vecModelDesc.wv.vocab:\n",
        "            continue\n",
        "            \n",
        "        if word not in vocabularyDesc:\n",
        "            vocabularyDesc[word] = len(inverse_vocabularyDesc)\n",
        "            q2n.append(len(inverse_vocabularyDesc))\n",
        "            inverse_vocabularyDesc.append(word)\n",
        "        else:\n",
        "            q2n.append(vocabularyDesc[word])\n",
        "\n",
        "    # Replace questions as word to question as number representation\n",
        "    training_data.set_value(index, 'product_description', q2n)\n",
        "\n",
        "for index, row in testing_data.iterrows():\n",
        "    q2n = []  # q2n -> numbers representation\n",
        "    for word in row['product_description'].split(' '):\n",
        "        # Check for unwanted words\n",
        "        if word not in word2vecModelDesc.wv.vocab:\n",
        "            continue\n",
        "            \n",
        "        if word not in vocabularyDesc:\n",
        "            vocabularyDesc[word] = len(inverse_vocabularyDesc)\n",
        "            q2n.append(len(inverse_vocabularyDesc))\n",
        "            inverse_vocabularyDesc.append(word)\n",
        "        else:\n",
        "            q2n.append(vocabularyDesc[word])\n",
        "\n",
        "    # Replace questions as word to question as number representation\n",
        "    testing_data.set_value(index, 'product_description', q2n)            \n",
        "\n",
        "\n",
        "    \n",
        "    "
      ],
      "execution_count": 0,
      "outputs": [
        {
          "output_type": "stream",
          "text": [
            "/usr/local/lib/python3.6/dist-packages/ipykernel_launcher.py:9: DeprecationWarning: Call to deprecated `wv` (Attribute will be removed in 4.0.0, use self instead).\n",
            "  if __name__ == '__main__':\n",
            "/usr/local/lib/python3.6/dist-packages/ipykernel_launcher.py:20: FutureWarning: set_value is deprecated and will be removed in a future release. Please use .at[] or .iat[] accessors instead\n",
            "/usr/local/lib/python3.6/dist-packages/ipykernel_launcher.py:26: DeprecationWarning: Call to deprecated `wv` (Attribute will be removed in 4.0.0, use self instead).\n",
            "/usr/local/lib/python3.6/dist-packages/ipykernel_launcher.py:37: FutureWarning: set_value is deprecated and will be removed in a future release. Please use .at[] or .iat[] accessors instead\n"
          ],
          "name": "stderr"
        },
        {
          "output_type": "stream",
          "text": [
            "CPU times: user 1min 17s, sys: 0 ns, total: 1min 17s\n",
            "Wall time: 1min 17s\n"
          ],
          "name": "stdout"
        }
      ]
    },
    {
      "metadata": {
        "id": "EToHqUwI-bIz",
        "colab_type": "text"
      },
      "cell_type": "markdown",
      "source": [
        "Next, we need to create the embedding matrix out of our trained word2Vec model"
      ]
    },
    {
      "metadata": {
        "id": "EFd_eLHnaLRi",
        "colab_type": "code",
        "outputId": "bb17d253-b23b-4bf8-b7b9-a858170e0245",
        "colab": {
          "base_uri": "https://localhost:8080/",
          "height": 104
        }
      },
      "cell_type": "code",
      "source": [
        "embedding_dimSearch = 128\n",
        "embeddingsSearch = 1 * np.random.randn(len(vocabularySearch) + 1, embedding_dimSearch)  # This will be the embedding matrix\n",
        "embeddingsSearch[0] = 0  # So that the padding will be ignored\n",
        "\n",
        "# Build the embedding matrix\n",
        "for word, index in vocabularySearch.items():\n",
        "    if word in word2vecModelSearch.wv.vocab:\n",
        "        embeddingsSearch[index] = word2vecModelSearch.wv.word_vec(word)"
      ],
      "execution_count": 0,
      "outputs": [
        {
          "output_type": "stream",
          "text": [
            "/usr/local/lib/python3.6/dist-packages/ipykernel_launcher.py:7: DeprecationWarning: Call to deprecated `wv` (Attribute will be removed in 4.0.0, use self instead).\n",
            "  import sys\n",
            "/usr/local/lib/python3.6/dist-packages/ipykernel_launcher.py:8: DeprecationWarning: Call to deprecated `wv` (Attribute will be removed in 4.0.0, use self instead).\n",
            "  \n"
          ],
          "name": "stderr"
        }
      ]
    },
    {
      "metadata": {
        "id": "9qF0ZMjJaLWd",
        "colab_type": "code",
        "outputId": "e49c7b46-77d1-4c10-abe2-412b25b37ca5",
        "colab": {
          "base_uri": "https://localhost:8080/",
          "height": 104
        }
      },
      "cell_type": "code",
      "source": [
        "embedding_dimDesc = 256\n",
        "embeddingsDesc = 1 * np.random.randn(len(vocabularyDesc) + 1, embedding_dimDesc)  # This will be the embedding matrix\n",
        "embeddingsDesc[0] = 0  # So that the padding will be ignored\n",
        "\n",
        "# Build the embedding matrix\n",
        "for word, index in vocabularyDesc.items():\n",
        "    if word in word2vecModelDesc.wv.vocab:\n",
        "        embeddingsDesc[index] = word2vecModelDesc.wv.word_vec(word)"
      ],
      "execution_count": 0,
      "outputs": [
        {
          "output_type": "stream",
          "text": [
            "/usr/local/lib/python3.6/dist-packages/ipykernel_launcher.py:7: DeprecationWarning: Call to deprecated `wv` (Attribute will be removed in 4.0.0, use self instead).\n",
            "  import sys\n",
            "/usr/local/lib/python3.6/dist-packages/ipykernel_launcher.py:8: DeprecationWarning: Call to deprecated `wv` (Attribute will be removed in 4.0.0, use self instead).\n",
            "  \n"
          ],
          "name": "stderr"
        }
      ]
    },
    {
      "metadata": {
        "id": "4lw8Q5je_OHX",
        "colab_type": "text"
      },
      "cell_type": "markdown",
      "source": [
        "**Saving embedding matrices**"
      ]
    },
    {
      "metadata": {
        "id": "yARg1k-v2gsV",
        "colab_type": "code",
        "colab": {}
      },
      "cell_type": "code",
      "source": [
        "np.save(\"drive/My Drive/embeddingsSearchWords.npy\", embeddingsSearch)\n",
        "np.save(\"drive/My Drive/embeddingsDescWords.npy\", embeddingsDesc)"
      ],
      "execution_count": 0,
      "outputs": []
    },
    {
      "metadata": {
        "id": "eBDevAzG_UqL",
        "colab_type": "text"
      },
      "cell_type": "markdown",
      "source": [
        "**Loading embedding matrices**"
      ]
    },
    {
      "metadata": {
        "id": "A2FgtAhynwib",
        "colab_type": "code",
        "colab": {}
      },
      "cell_type": "code",
      "source": [
        "embeddingsSearch = np.load(\"drive/My Drive/embeddingsSearchWords.npy\")\n",
        "embeddingsDesc = np.load(\"drive/My Drive/embeddingsDescWords.npy\")\n",
        "embedding_dimDesc = 256\n",
        "embedding_dimSearch = 128"
      ],
      "execution_count": 0,
      "outputs": []
    },
    {
      "metadata": {
        "id": "gt2X7k54_bhv",
        "colab_type": "text"
      },
      "cell_type": "markdown",
      "source": [
        "Creating dictionary from data for working with siamese network and splitting data to validation and training."
      ]
    },
    {
      "metadata": {
        "id": "XUb8a4k5aLUq",
        "colab_type": "code",
        "colab": {}
      },
      "cell_type": "code",
      "source": [
        "cols = ['search_term', 'product_description']"
      ],
      "execution_count": 0,
      "outputs": []
    },
    {
      "metadata": {
        "id": "61RjQwRFaZVd",
        "colab_type": "code",
        "colab": {}
      },
      "cell_type": "code",
      "source": [
        "X = training_data[cols]"
      ],
      "execution_count": 0,
      "outputs": []
    },
    {
      "metadata": {
        "id": "jHG3eBhDaZYb",
        "colab_type": "code",
        "colab": {}
      },
      "cell_type": "code",
      "source": [
        "Y = training_data['relevance']"
      ],
      "execution_count": 0,
      "outputs": []
    },
    {
      "metadata": {
        "id": "urUsmc0qaZeO",
        "colab_type": "code",
        "colab": {}
      },
      "cell_type": "code",
      "source": [
        "X_train, X_validation, Y_train, Y_validation = train_test_split(X, Y, test_size=0.2)"
      ],
      "execution_count": 0,
      "outputs": []
    },
    {
      "metadata": {
        "id": "dB0FqkltaZmU",
        "colab_type": "code",
        "colab": {}
      },
      "cell_type": "code",
      "source": [
        "# Split to dicts\n",
        "X_train = {'left': X_train.search_term, 'right': X_train.product_description}\n",
        "X_validation = {'left': X_validation.search_term, 'right': X_validation.product_description}"
      ],
      "execution_count": 0,
      "outputs": []
    },
    {
      "metadata": {
        "id": "j3yIY50taZq2",
        "colab_type": "code",
        "colab": {}
      },
      "cell_type": "code",
      "source": [
        "# Convert labels to their numpy representations\n",
        "Y_train = Y_train.values\n",
        "Y_validation = Y_validation.values"
      ],
      "execution_count": 0,
      "outputs": []
    },
    {
      "metadata": {
        "id": "7NdojlpW9Tcb",
        "colab_type": "text"
      },
      "cell_type": "markdown",
      "source": [
        "Same as characters, we would like to get some statistics over search term and description"
      ]
    },
    {
      "metadata": {
        "id": "GuxODGi1a5V_",
        "colab_type": "code",
        "outputId": "42a41169-4a6f-4cc7-b683-b57f72a3d1a7",
        "colab": {
          "base_uri": "https://localhost:8080/",
          "height": 70
        }
      },
      "cell_type": "code",
      "source": [
        "sumA = 0\n",
        "maxA = 0\n",
        "index = 0\n",
        "for x in training_data.search_term:\n",
        "    index += 1\n",
        "    if len(x) == 0:\n",
        "        print(index)\n",
        "        sum0 += 1\n",
        "    if sumA ==0:\n",
        "        minA = len(x)\n",
        "    sumA += len(x)\n",
        "    if len(x) > maxA:\n",
        "        maxA = len(x)\n",
        "    if len(x) < minA:\n",
        "        minA = len(x)\n",
        "        \n",
        "print(f'mean: {sumA / len(training_data.search_term)}')\n",
        "print(f'max: {maxA}')\n",
        "print(f'min: {minA}')"
      ],
      "execution_count": 0,
      "outputs": [
        {
          "output_type": "stream",
          "text": [
            "mean: 3.0396910070630816\n",
            "max: 11\n",
            "min: 1\n"
          ],
          "name": "stdout"
        }
      ]
    },
    {
      "metadata": {
        "id": "6HfX2Aq-a5eU",
        "colab_type": "code",
        "outputId": "9e491b4f-6cd4-4217-a4e8-cbc486f0789c",
        "colab": {
          "base_uri": "https://localhost:8080/",
          "height": 70
        }
      },
      "cell_type": "code",
      "source": [
        "sumA = 0\n",
        "maxA = 0\n",
        "for x in training_data.product_description:\n",
        "    if sumA ==0:\n",
        "        minA = len(x)\n",
        "    sumA += len(x)\n",
        "    if len(x) > maxA:\n",
        "        maxA = len(x)\n",
        "    if len(x) < minA:\n",
        "        minA = len(x)\n",
        "    \n",
        "\n",
        "print(f'mean: {sumA / len(training_data)}')\n",
        "print(f'max: {maxA}')\n",
        "print(f'min: {minA}')"
      ],
      "execution_count": 0,
      "outputs": [
        {
          "output_type": "stream",
          "text": [
            "mean: 94.03085877888368\n",
            "max: 687\n",
            "min: 17\n"
          ],
          "name": "stdout"
        }
      ]
    },
    {
      "metadata": {
        "id": "cjH_pFGrAAYu",
        "colab_type": "text"
      },
      "cell_type": "markdown",
      "source": [
        "And again pad sequences, here we took the max of search term length and a bit bigger then the mean for description."
      ]
    },
    {
      "metadata": {
        "id": "kUqa-aCVaZkH",
        "colab_type": "code",
        "colab": {}
      },
      "cell_type": "code",
      "source": [
        "#TODO: think about padding mean instead of zero\n",
        "# maxSearchLength = 60\n",
        "# maxDescLength = 5516\n",
        "maxSearchLength = 11\n",
        "maxDescLength = 160\n",
        "\n",
        "# Zero padding\n",
        "X_train['left'] = pad_sequences(X_train['left'], maxlen=maxSearchLength )\n",
        "X_train['right'] = pad_sequences(X_train['right'], maxlen=maxDescLength )\n",
        "X_validation['left'] = pad_sequences(X_validation['left'],  maxlen=maxSearchLength)\n",
        "X_validation['right'] = pad_sequences(X_validation['right'],  maxlen=maxDescLength)\n",
        "\n",
        "\n",
        "# Make sure everything is ok\n",
        "assert len(X_train['left']) == len(Y_train)\n",
        "assert len(X_validation['left']) == len(Y_validation)"
      ],
      "execution_count": 0,
      "outputs": []
    },
    {
      "metadata": {
        "id": "KI7kEUj5CVZ5",
        "colab_type": "text"
      },
      "cell_type": "markdown",
      "source": [
        "##Training models\n"
      ]
    },
    {
      "metadata": {
        "id": "PbMn94B_4ARC",
        "colab_type": "code",
        "colab": {}
      },
      "cell_type": "code",
      "source": [
        "from keras.callbacks import TensorBoard, ModelCheckpoint, EarlyStopping\n",
        "\n",
        "early_stopping = EarlyStopping(monitor='val_loss', patience=5)\n",
        "\n",
        "checkpointer = ModelCheckpoint(filepath='drive/My Drive/weights.word_embed_stem_diff_1_2.df5', \n",
        "                                   verbose=1, save_best_only=True)"
      ],
      "execution_count": 0,
      "outputs": []
    },
    {
      "metadata": {
        "id": "eNxqc-lXDhAm",
        "colab_type": "text"
      },
      "cell_type": "markdown",
      "source": [
        "We've tried to put the number of hidden units for search to be 11 as the max sequence legnth is 11, and after that layer another dense layer with 64 units to get a similar vector to description vector of the model.<br>\n",
        "Later we figured our that it wasnt the right choice and we can set the number of hidden units to higher number."
      ]
    },
    {
      "metadata": {
        "id": "TOcWSaEw3_0V",
        "colab_type": "code",
        "outputId": "bc9ecdd3-ce2b-4f7e-e837-ad3c37f45573",
        "colab": {
          "base_uri": "https://localhost:8080/",
          "height": 776
        }
      },
      "cell_type": "code",
      "source": [
        "%%time\n",
        "# Model variables\n",
        "leftN_hidden = 11\n",
        "rightN_hidden = 64\n",
        "batch_size = 64\n",
        "n_epoch = 10\n",
        "\n",
        "# The visible layer\n",
        "left_input = Input(shape=(X_train['left'].shape[1],), dtype='int32')\n",
        "right_input = Input(shape=(X_train['right'].shape[1],), dtype='int32')\n",
        "\n",
        "embedding_layerLeft = Embedding(len(embeddingsSearch), embedding_dimSearch, weights=[embeddingsSearch], input_length=maxSearchLength, trainable=False)\n",
        "embedding_layerRight = Embedding(len(embeddingsDesc), embedding_dimDesc, weights=[embeddingsDesc], input_length=maxDescLength, trainable=False)\n",
        "\n",
        "# Embedded version of the inputs\n",
        "encoded_left = embedding_layerLeft(left_input)\n",
        "encoded_right = embedding_layerRight(right_input)\n",
        "\n",
        "# Since this is a siamese network, both sides share the same LSTM\n",
        "left_lstm = LSTM(leftN_hidden, kernel_initializer='glorot_uniform')\n",
        "right_lstm = LSTM(rightN_hidden, kernel_initializer='glorot_uniform')\n",
        "\n",
        "left_LstmOutput = left_lstm(encoded_left)\n",
        "right_LstmOutput = right_lstm(encoded_right)\n",
        "\n",
        "\n",
        "left_output = Dense(64, activation = 'relu')(left_LstmOutput)\n",
        "# right_output = Dense(128)(right_LstmOutput)\n",
        "\n",
        "\n",
        "cosine = dot(inputs = [left_output, right_LstmOutput], \n",
        "                        axes = -1, normalize = True)\n",
        "\n",
        "norm = Lambda(lambda x: x * 2 + 1)(cosine)\n",
        "\n",
        "\n",
        "# Pack it all up into a model\n",
        "cos_model = Model([left_input, right_input], norm)\n",
        "\n",
        "optimizer = Adam()\n",
        "\n",
        "cos_model.compile(loss='mean_squared_error', optimizer=optimizer)\n",
        "\n",
        "\n",
        "cos_trained = cos_model.fit([X_train['left'], X_train['right']], Y_train, batch_size=batch_size, nb_epoch=n_epoch,\n",
        "                            validation_data=([X_validation['left'], X_validation['right']], Y_validation), callbacks=[checkpointer,early_stopping])"
      ],
      "execution_count": 0,
      "outputs": [
        {
          "output_type": "stream",
          "text": [
            "/usr/local/lib/python3.6/dist-packages/ipykernel_launcher.py:48: UserWarning: The `nb_epoch` argument in `fit` has been renamed `epochs`.\n"
          ],
          "name": "stderr"
        },
        {
          "output_type": "stream",
          "text": [
            "Train on 59253 samples, validate on 14814 samples\n",
            "Epoch 1/10\n",
            "59253/59253 [==============================] - 296s 5ms/step - loss: 0.2975 - val_loss: 0.2721\n",
            "\n",
            "Epoch 00001: val_loss improved from inf to 0.27212, saving model to drive/My Drive/weights.word_embed_stem_diff_1_2.df5\n",
            "Epoch 2/10\n",
            "59253/59253 [==============================] - 296s 5ms/step - loss: 0.2633 - val_loss: 0.2660\n",
            "\n",
            "Epoch 00002: val_loss improved from 0.27212 to 0.26602, saving model to drive/My Drive/weights.word_embed_stem_diff_1_2.df5\n",
            "Epoch 3/10\n",
            "59253/59253 [==============================] - 296s 5ms/step - loss: 0.2534 - val_loss: 0.2653\n",
            "\n",
            "Epoch 00003: val_loss improved from 0.26602 to 0.26531, saving model to drive/My Drive/weights.word_embed_stem_diff_1_2.df5\n",
            "Epoch 4/10\n",
            "59253/59253 [==============================] - 294s 5ms/step - loss: 0.2440 - val_loss: 0.2624\n",
            "\n",
            "Epoch 00004: val_loss improved from 0.26531 to 0.26238, saving model to drive/My Drive/weights.word_embed_stem_diff_1_2.df5\n",
            "Epoch 5/10\n",
            "59253/59253 [==============================] - 295s 5ms/step - loss: 0.2358 - val_loss: 0.2608\n",
            "\n",
            "Epoch 00005: val_loss improved from 0.26238 to 0.26077, saving model to drive/My Drive/weights.word_embed_stem_diff_1_2.df5\n",
            "Epoch 6/10\n",
            "59253/59253 [==============================] - 295s 5ms/step - loss: 0.2286 - val_loss: 0.2591\n",
            "\n",
            "Epoch 00006: val_loss improved from 0.26077 to 0.25911, saving model to drive/My Drive/weights.word_embed_stem_diff_1_2.df5\n",
            "Epoch 7/10\n",
            "59253/59253 [==============================] - 295s 5ms/step - loss: 0.2218 - val_loss: 0.2585\n",
            "\n",
            "Epoch 00007: val_loss improved from 0.25911 to 0.25848, saving model to drive/My Drive/weights.word_embed_stem_diff_1_2.df5\n",
            "Epoch 8/10\n",
            "59253/59253 [==============================] - 296s 5ms/step - loss: 0.2157 - val_loss: 0.2580\n",
            "\n",
            "Epoch 00008: val_loss improved from 0.25848 to 0.25801, saving model to drive/My Drive/weights.word_embed_stem_diff_1_2.df5\n",
            "Epoch 9/10\n",
            "59253/59253 [==============================] - 294s 5ms/step - loss: 0.2097 - val_loss: 0.2595\n",
            "\n",
            "Epoch 00009: val_loss did not improve from 0.25801\n",
            "Epoch 10/10\n",
            "59253/59253 [==============================] - 294s 5ms/step - loss: 0.2050 - val_loss: 0.2594\n",
            "\n",
            "Epoch 00010: val_loss did not improve from 0.25801\n",
            "CPU times: user 1h 6min 20s, sys: 8min 6s, total: 1h 14min 26s\n",
            "Wall time: 49min 43s\n"
          ],
          "name": "stdout"
        }
      ]
    },
    {
      "metadata": {
        "id": "VcljMT6M3_xl",
        "colab_type": "code",
        "outputId": "988ba570-7418-4188-e019-e0d5ed2177d3",
        "colab": {
          "base_uri": "https://localhost:8080/",
          "height": 376
        }
      },
      "cell_type": "code",
      "source": [
        "plt.plot(cos_trained.history['loss'])\n",
        "plt.plot(cos_trained.history['val_loss'])\n",
        "plt.title('model loss')\n",
        "plt.ylabel('loss')\n",
        "plt.xlabel('epoch')\n",
        "plt.legend(['train', 'test'], loc='upper left')\n",
        "plt.show()"
      ],
      "execution_count": 0,
      "outputs": [
        {
          "output_type": "display_data",
          "data": {
            "image/png": "[encoded data removed]",
            "text/plain": [
              "<Figure size 576x396 with 1 Axes>"
            ]
          },
          "metadata": {
            "tags": []
          }
        }
      ]
    },
    {
      "metadata": {
        "id": "XLXw4fXNDtJX",
        "colab_type": "text"
      },
      "cell_type": "markdown",
      "source": [
        "that method was not so good, we've read that it might be better to increase hidden units for LSTM, and add regularizations to reduce overfitting."
      ]
    },
    {
      "metadata": {
        "id": "cTGaQmUin_wR",
        "colab_type": "text"
      },
      "cell_type": "markdown",
      "source": [
        "###Dropout"
      ]
    },
    {
      "metadata": {
        "id": "YFRRIpk9znRr",
        "colab_type": "text"
      },
      "cell_type": "markdown",
      "source": [
        "We've seen that our model is overfitting after a few epochs. In order to reduce the variance we have added some dropout. From what we've read online, it seems that dropout layers might no be that good after LSTM layer because it can hurt the memory cells. We came accross recurrent dropout and thought we might give it a try."
      ]
    },
    {
      "metadata": {
        "id": "U-7zliZckO89",
        "colab_type": "code",
        "colab": {}
      },
      "cell_type": "code",
      "source": [
        "from keras.callbacks import TensorBoard, ModelCheckpoint, EarlyStopping\n",
        "\n",
        "early_stopping = EarlyStopping(monitor='val_loss', patience=5)\n",
        "\n",
        "checkpointer = ModelCheckpoint(filepath='drive/My Drive/weights.word_embed_stem_diff_1_2_128hid_drop_last.df5', \n",
        "                                   verbose=1, save_best_only=True)"
      ],
      "execution_count": 0,
      "outputs": []
    },
    {
      "metadata": {
        "id": "F9MDJI8pFR9f",
        "colab_type": "text"
      },
      "cell_type": "markdown",
      "source": [
        "**recurrent_dropout try:**"
      ]
    },
    {
      "metadata": {
        "id": "CyJYSMpfkOgg",
        "colab_type": "code",
        "outputId": "fec52577-9c11-4d91-b6d6-34884b3104cd",
        "colab": {
          "base_uri": "https://localhost:8080/",
          "height": 444
        }
      },
      "cell_type": "code",
      "source": [
        "%%time\n",
        "# Model variables\n",
        "leftN_hidden = 128\n",
        "rightN_hidden = 128\n",
        "gradient_clipping_norm = 1.25\n",
        "batch_size = 128\n",
        "n_epoch = 5\n",
        "\n",
        "# The visible layer\n",
        "left_input = Input(shape=(X_train['left'].shape[1],), dtype='int32')\n",
        "right_input = Input(shape=(X_train['right'].shape[1],), dtype='int32')\n",
        "\n",
        "embedding_layerLeft = Embedding(len(embeddingsSearch), embedding_dimSearch, weights=[embeddingsSearch], input_length=maxSearchLength, trainable=False)\n",
        "embedding_layerRight = Embedding(len(embeddingsDesc), embedding_dimDesc, weights=[embeddingsDesc], input_length=maxDescLength, trainable=False)\n",
        "\n",
        "# Embedded version of the inputs\n",
        "encoded_left = embedding_layerLeft(left_input)\n",
        "encoded_right = embedding_layerRight(right_input)\n",
        "\n",
        "# Since this is a siamese network, both sides share the same LSTM\n",
        "left_lstm = LSTM(leftN_hidden, kernel_initializer='glorot_uniform', recurrent_dropout=0.4)\n",
        "right_lstm = LSTM(rightN_hidden, kernel_initializer='glorot_uniform', recurrent_dropout=0.4)\n",
        "\n",
        "left_LstmOutput = left_lstm(encoded_left)\n",
        "right_LstmOutput = right_lstm(encoded_right)\n",
        "\n",
        "\n",
        "# left_output = Dense(256, activation = 'relu')(left_LstmOutput)\n",
        "# right_output = Dense(128)(right_LstmOutput)\n",
        "\n",
        "\n",
        "cosine = dot(inputs = [left_LstmOutput, right_LstmOutput], \n",
        "                        axes = -1, normalize = True)\n",
        "\n",
        "norm = Lambda(lambda x: x * 2 + 1)(cosine)\n",
        "\n",
        "\n",
        "# Pack it all up into a model\n",
        "cos_model = Model([left_input, right_input], norm)\n",
        "\n",
        "# Adadelta optimizer, with gradient clipping by norm\n",
        "# optimizer = Adadelta(clipnorm=gradient_clipping_norm)\n",
        "optimizer = Adam()\n",
        "\n",
        "cos_model.compile(loss='mean_squared_error', optimizer=optimizer)\n",
        "\n",
        "\n",
        "cos_trained = cos_model.fit([X_train['left'], X_train['right']], Y_train, batch_size=batch_size, nb_epoch=n_epoch,\n",
        "                            validation_data=([X_validation['left'], X_validation['right']], Y_validation), callbacks=[checkpointer,early_stopping])"
      ],
      "execution_count": 0,
      "outputs": [
        {
          "output_type": "stream",
          "text": [
            "/usr/local/lib/python3.6/dist-packages/ipykernel_launcher.py:48: UserWarning: The `nb_epoch` argument in `fit` has been renamed `epochs`.\n"
          ],
          "name": "stderr"
        },
        {
          "output_type": "stream",
          "text": [
            "Train on 59237 samples, validate on 14810 samples\n",
            "Epoch 1/5\n",
            "59237/59237 [==============================] - 200s 3ms/step - loss: 0.2941 - val_loss: 0.2638\n",
            "\n",
            "Epoch 00001: val_loss improved from inf to 0.26379, saving model to drive/My Drive/weights.word_embed_stem_diff_1_2_128hid_drop_last.df5\n",
            "Epoch 2/5\n",
            "59237/59237 [==============================] - 200s 3ms/step - loss: 0.2607 - val_loss: 0.2581\n",
            "\n",
            "Epoch 00002: val_loss improved from 0.26379 to 0.25814, saving model to drive/My Drive/weights.word_embed_stem_diff_1_2_128hid_drop_last.df5\n",
            "Epoch 3/5\n",
            "59237/59237 [==============================] - 201s 3ms/step - loss: 0.2487 - val_loss: 0.2546\n",
            "\n",
            "Epoch 00003: val_loss improved from 0.25814 to 0.25458, saving model to drive/My Drive/weights.word_embed_stem_diff_1_2_128hid_drop_last.df5\n",
            "Epoch 4/5\n",
            "59237/59237 [==============================] - 198s 3ms/step - loss: 0.2364 - val_loss: 0.2504\n",
            "\n",
            "Epoch 00004: val_loss improved from 0.25458 to 0.25040, saving model to drive/My Drive/weights.word_embed_stem_diff_1_2_128hid_drop_last.df5\n",
            "Epoch 5/5\n",
            "59237/59237 [==============================] - 200s 3ms/step - loss: 0.2256 - val_loss: 0.2483\n",
            "\n",
            "Epoch 00005: val_loss improved from 0.25040 to 0.24831, saving model to drive/My Drive/weights.word_embed_stem_diff_1_2_128hid_drop_last.df5\n",
            "CPU times: user 22min 38s, sys: 2min 46s, total: 25min 25s\n",
            "Wall time: 17min 2s\n"
          ],
          "name": "stdout"
        }
      ]
    },
    {
      "metadata": {
        "id": "y16v56sbsmz4",
        "colab_type": "code",
        "outputId": "ad80e2e8-af75-42c5-b840-9c3a0b4f935b",
        "colab": {
          "base_uri": "https://localhost:8080/",
          "height": 1279
        }
      },
      "cell_type": "code",
      "source": [
        "n_epoch = 20\n",
        "batch_size = 256\n",
        "\n",
        "\n",
        "cos_trained = cos_model.fit([X_train['left'], X_train['right']], Y_train, batch_size=batch_size, nb_epoch=n_epoch,\n",
        "                            validation_data=([X_validation['left'], X_validation['right']], Y_validation), callbacks=[checkpointer,early_stopping])"
      ],
      "execution_count": 0,
      "outputs": [
        {
          "output_type": "stream",
          "text": [
            "/usr/local/lib/python3.6/dist-packages/ipykernel_launcher.py:6: UserWarning: The `nb_epoch` argument in `fit` has been renamed `epochs`.\n",
            "  \n"
          ],
          "name": "stderr"
        },
        {
          "output_type": "stream",
          "text": [
            "Train on 59237 samples, validate on 14810 samples\n",
            "Epoch 1/20\n",
            "59237/59237 [==============================] - 101s 2ms/step - loss: 0.2109 - val_loss: 0.2456\n",
            "\n",
            "Epoch 00001: val_loss improved from 0.24831 to 0.24559, saving model to drive/My Drive/weights.word_embed_stem_diff_1_2_128hid_drop_last.df5\n",
            "Epoch 2/20\n",
            "59237/59237 [==============================] - 100s 2ms/step - loss: 0.2051 - val_loss: 0.2450\n",
            "\n",
            "Epoch 00002: val_loss improved from 0.24559 to 0.24501, saving model to drive/My Drive/weights.word_embed_stem_diff_1_2_128hid_drop_last.df5\n",
            "Epoch 3/20\n",
            "59237/59237 [==============================] - 99s 2ms/step - loss: 0.2004 - val_loss: 0.2441\n",
            "\n",
            "Epoch 00003: val_loss improved from 0.24501 to 0.24406, saving model to drive/My Drive/weights.word_embed_stem_diff_1_2_128hid_drop_last.df5\n",
            "Epoch 4/20\n",
            "59237/59237 [==============================] - 100s 2ms/step - loss: 0.1961 - val_loss: 0.2426\n",
            "\n",
            "Epoch 00004: val_loss improved from 0.24406 to 0.24257, saving model to drive/My Drive/weights.word_embed_stem_diff_1_2_128hid_drop_last.df5\n",
            "Epoch 5/20\n",
            "59237/59237 [==============================] - 99s 2ms/step - loss: 0.1919 - val_loss: 0.2426\n",
            "\n",
            "Epoch 00005: val_loss did not improve from 0.24257\n",
            "Epoch 6/20\n",
            "59237/59237 [==============================] - 99s 2ms/step - loss: 0.1881 - val_loss: 0.2423\n",
            "\n",
            "Epoch 00006: val_loss improved from 0.24257 to 0.24227, saving model to drive/My Drive/weights.word_embed_stem_diff_1_2_128hid_drop_last.df5\n",
            "Epoch 7/20\n",
            "59237/59237 [==============================] - 101s 2ms/step - loss: 0.1839 - val_loss: 0.2409\n",
            "\n",
            "Epoch 00007: val_loss improved from 0.24227 to 0.24095, saving model to drive/My Drive/weights.word_embed_stem_diff_1_2_128hid_drop_last.df5\n",
            "Epoch 8/20\n",
            "59237/59237 [==============================] - 99s 2ms/step - loss: 0.1803 - val_loss: 0.2401\n",
            "\n",
            "Epoch 00008: val_loss improved from 0.24095 to 0.24007, saving model to drive/My Drive/weights.word_embed_stem_diff_1_2_128hid_drop_last.df5\n",
            "Epoch 9/20\n",
            "59237/59237 [==============================] - 98s 2ms/step - loss: 0.1770 - val_loss: 0.2423\n",
            "\n",
            "Epoch 00009: val_loss did not improve from 0.24007\n",
            "Epoch 10/20\n",
            "59237/59237 [==============================] - 98s 2ms/step - loss: 0.1745 - val_loss: 0.2400\n",
            "\n",
            "Epoch 00010: val_loss improved from 0.24007 to 0.23999, saving model to drive/My Drive/weights.word_embed_stem_diff_1_2_128hid_drop_last.df5\n",
            "Epoch 11/20\n",
            "59237/59237 [==============================] - 99s 2ms/step - loss: 0.1714 - val_loss: 0.2436\n",
            "\n",
            "Epoch 00011: val_loss did not improve from 0.23999\n",
            "Epoch 12/20\n",
            "59237/59237 [==============================] - 97s 2ms/step - loss: 0.1686 - val_loss: 0.2385\n",
            "\n",
            "Epoch 00012: val_loss improved from 0.23999 to 0.23847, saving model to drive/My Drive/weights.word_embed_stem_diff_1_2_128hid_drop_last.df5\n",
            "Epoch 13/20\n",
            "59237/59237 [==============================] - 100s 2ms/step - loss: 0.1658 - val_loss: 0.2386\n",
            "\n",
            "Epoch 00013: val_loss did not improve from 0.23847\n",
            "Epoch 14/20\n",
            "59237/59237 [==============================] - 99s 2ms/step - loss: 0.1635 - val_loss: 0.2400\n",
            "\n",
            "Epoch 00014: val_loss did not improve from 0.23847\n",
            "Epoch 15/20\n",
            "59237/59237 [==============================] - 97s 2ms/step - loss: 0.1609 - val_loss: 0.2420\n",
            "\n",
            "Epoch 00015: val_loss did not improve from 0.23847\n",
            "Epoch 16/20\n",
            "59237/59237 [==============================] - 98s 2ms/step - loss: 0.1594 - val_loss: 0.2394\n",
            "\n",
            "Epoch 00016: val_loss did not improve from 0.23847\n",
            "Epoch 17/20\n",
            "59237/59237 [==============================] - 99s 2ms/step - loss: 0.1568 - val_loss: 0.2408\n",
            "\n",
            "Epoch 00017: val_loss did not improve from 0.23847\n"
          ],
          "name": "stdout"
        }
      ]
    },
    {
      "metadata": {
        "id": "zBeJm21zGHzC",
        "colab_type": "code",
        "colab": {}
      },
      "cell_type": "code",
      "source": [
        "cos_model.load_weights('drive/My Drive/weights.word_embed_stem_diff_1_2_128hid_drop_last.df5')\n"
      ],
      "execution_count": 0,
      "outputs": []
    },
    {
      "metadata": {
        "id": "UJD5t4b1zsZU",
        "colab_type": "code",
        "outputId": "a14a7263-5213-4f6f-ef37-dfbe00c5b6ee",
        "colab": {
          "base_uri": "https://localhost:8080/",
          "height": 497
        }
      },
      "cell_type": "code",
      "source": [
        "n_epoch = 20\n",
        "batch_size = 512\n",
        "\n",
        "\n",
        "cos_trained = cos_model.fit([X_train['left'], X_train['right']], Y_train, batch_size=batch_size, nb_epoch=n_epoch,\n",
        "                            validation_data=([X_validation['left'], X_validation['right']], Y_validation), callbacks=[checkpointer,early_stopping])"
      ],
      "execution_count": 0,
      "outputs": [
        {
          "output_type": "stream",
          "text": [
            "/usr/local/lib/python3.6/dist-packages/ipykernel_launcher.py:6: UserWarning: The `nb_epoch` argument in `fit` has been renamed `epochs`.\n",
            "  \n"
          ],
          "name": "stderr"
        },
        {
          "output_type": "stream",
          "text": [
            "Train on 59237 samples, validate on 14810 samples\n",
            "Epoch 1/20\n",
            "59237/59237 [==============================] - 51s 858us/step - loss: 0.1603 - val_loss: 0.2397\n",
            "\n",
            "Epoch 00001: val_loss did not improve from 0.23847\n",
            "Epoch 2/20\n",
            "59237/59237 [==============================] - 51s 861us/step - loss: 0.1576 - val_loss: 0.2398\n",
            "\n",
            "Epoch 00002: val_loss did not improve from 0.23847\n",
            "Epoch 3/20\n",
            "59237/59237 [==============================] - 52s 872us/step - loss: 0.1558 - val_loss: 0.2418\n",
            "\n",
            "Epoch 00003: val_loss did not improve from 0.23847\n",
            "Epoch 4/20\n",
            "59237/59237 [==============================] - 51s 865us/step - loss: 0.1543 - val_loss: 0.2398\n",
            "\n",
            "Epoch 00004: val_loss did not improve from 0.23847\n",
            "Epoch 5/20\n",
            "59237/59237 [==============================] - 50s 852us/step - loss: 0.1535 - val_loss: 0.2399\n",
            "\n",
            "Epoch 00005: val_loss did not improve from 0.23847\n",
            "Epoch 6/20\n",
            "59237/59237 [==============================] - 51s 854us/step - loss: 0.1523 - val_loss: 0.2410\n",
            "\n",
            "Epoch 00006: val_loss did not improve from 0.23847\n"
          ],
          "name": "stdout"
        }
      ]
    },
    {
      "metadata": {
        "id": "P4b1LDgZ2EBi",
        "colab_type": "text"
      },
      "cell_type": "markdown",
      "source": [
        "Nice! we got some improvment and managed to lower the overfitting in our model.<br>\n",
        "We belive we can do a little better and reduce even more the overfitting."
      ]
    },
    {
      "metadata": {
        "id": "T-thwPVg4aS9",
        "colab_type": "text"
      },
      "cell_type": "markdown",
      "source": [
        "##Winning model"
      ]
    },
    {
      "metadata": {
        "id": "LWOKiTQfGjfH",
        "colab_type": "text"
      },
      "cell_type": "markdown",
      "source": [
        "After tweaking the following list of parameters:\n",
        "- improve network design\n",
        "    - more memory for lstm\n",
        "    - more dense layers and dropouts if overfit will happen\n",
        "    - increase padding to have longer sentences (down side is it will cause also for some sentences to have more zero words at the begining )\n",
        "    - fit to unNormalized value\n",
        "\n",
        "We finally found our winning model, we decided not to add any dense layers and treat the overfitting we saw earlier with dropouts in the LSTM layer.\n",
        "Also, we increased LSTM memory and trained model in growing batches.\n"
      ]
    },
    {
      "metadata": {
        "id": "s6S47Qgx3EDB",
        "colab_type": "text"
      },
      "cell_type": "markdown",
      "source": [
        "We replaced the reccurent dropout with dropout of 0.6 in the lstm mode. From our understaning this dropout occur on the input instead of the output in a normal dropout layer."
      ]
    },
    {
      "metadata": {
        "id": "W2rBVzpkx6n1",
        "colab_type": "code",
        "colab": {}
      },
      "cell_type": "code",
      "source": [
        "from keras.callbacks import TensorBoard, ModelCheckpoint, EarlyStopping\n",
        "\n",
        "early_stopping = EarlyStopping(monitor='val_loss', patience=5)\n",
        "\n",
        "checkpointer = ModelCheckpoint(filepath='drive/My Drive/weights.word_embed_stem_diff_1_2_drop_reg.df5', \n",
        "                                   verbose=1, save_best_only=True)"
      ],
      "execution_count": 0,
      "outputs": []
    },
    {
      "metadata": {
        "id": "xbFEi95fx6h-",
        "colab_type": "code",
        "outputId": "7d45534f-776f-4cfb-8917-81c144731779",
        "colab": {
          "base_uri": "https://localhost:8080/",
          "height": 2392
        }
      },
      "cell_type": "code",
      "source": [
        "%%time\n",
        "# Model variables\n",
        "leftN_hidden = 128\n",
        "rightN_hidden = 128\n",
        "gradient_clipping_norm = 1.25\n",
        "batch_size = 256\n",
        "n_epoch = 30\n",
        "\n",
        "# The visible layer\n",
        "left_input = Input(shape=(X_train['left'].shape[1],), dtype='int32')\n",
        "right_input = Input(shape=(X_train['right'].shape[1],), dtype='int32')\n",
        "\n",
        "embedding_layerLeft = Embedding(len(embeddingsSearch), embedding_dimSearch, weights=[embeddingsSearch], input_length=maxSearchLength, trainable=False)\n",
        "embedding_layerRight = Embedding(len(embeddingsDesc), embedding_dimDesc, weights=[embeddingsDesc], input_length=maxDescLength, trainable=False)\n",
        "\n",
        "# Embedded version of the inputs\n",
        "encoded_left = embedding_layerLeft(left_input)\n",
        "encoded_right = embedding_layerRight(right_input)\n",
        "\n",
        "# Since this is a siamese network, both sides share the same LSTM\n",
        "left_lstm = LSTM(leftN_hidden, kernel_initializer='glorot_uniform', dropout = 0.6)\n",
        "right_lstm = LSTM(rightN_hidden, kernel_initializer='glorot_uniform', dropout = 0.6)\n",
        "\n",
        "left_LstmOutput = left_lstm(encoded_left)\n",
        "right_LstmOutput = right_lstm(encoded_right)\n",
        "\n",
        "\n",
        "# left_output = Dense(256, activation = 'relu')(left_LstmOutput)\n",
        "# right_output = Dense(128)(right_LstmOutput)\n",
        "\n",
        "\n",
        "cosine = dot(inputs = [left_LstmOutput, right_LstmOutput], \n",
        "                        axes = -1, normalize = True)\n",
        "\n",
        "norm = Lambda(lambda x: x * 2 + 1)(cosine)\n",
        "\n",
        "\n",
        "# Pack it all up into a model\n",
        "cos_model = Model([left_input, right_input], norm)\n",
        "\n",
        "# Adadelta optimizer, with gradient clipping by norm\n",
        "# optimizer = Adadelta(clipnorm=gradient_clipping_norm)\n",
        "optimizer = Adam()\n",
        "\n",
        "cos_model.compile(loss='mean_squared_error', optimizer=optimizer)\n",
        "\n",
        "\n",
        "cos_trained = cos_model.fit([X_train['left'], X_train['right']], Y_train, batch_size=batch_size, nb_epoch=n_epoch,\n",
        "                            validation_data=([X_validation['left'], X_validation['right']], Y_validation), callbacks=[checkpointer,early_stopping])"
      ],
      "execution_count": 0,
      "outputs": [
        {
          "output_type": "stream",
          "text": [
            "/usr/local/lib/python3.6/dist-packages/ipykernel_launcher.py:48: UserWarning: The `nb_epoch` argument in `fit` has been renamed `epochs`.\n"
          ],
          "name": "stderr"
        },
        {
          "output_type": "stream",
          "text": [
            "Train on 59237 samples, validate on 14810 samples\n",
            "Epoch 1/30\n",
            "59237/59237 [==============================] - 98s 2ms/step - loss: 0.3909 - val_loss: 0.2704\n",
            "\n",
            "Epoch 00001: val_loss improved from inf to 0.27040, saving model to drive/My Drive/weights.word_embed_stem_diff_1_2_drop_reg.df5\n",
            "Epoch 2/30\n",
            "59237/59237 [==============================] - 98s 2ms/step - loss: 0.2757 - val_loss: 0.2664\n",
            "\n",
            "Epoch 00002: val_loss improved from 0.27040 to 0.26641, saving model to drive/My Drive/weights.word_embed_stem_diff_1_2_drop_reg.df5\n",
            "Epoch 3/30\n",
            "59237/59237 [==============================] - 99s 2ms/step - loss: 0.2727 - val_loss: 0.2646\n",
            "\n",
            "Epoch 00003: val_loss improved from 0.26641 to 0.26463, saving model to drive/My Drive/weights.word_embed_stem_diff_1_2_drop_reg.df5\n",
            "Epoch 4/30\n",
            "59237/59237 [==============================] - 98s 2ms/step - loss: 0.2714 - val_loss: 0.2663\n",
            "\n",
            "Epoch 00004: val_loss did not improve from 0.26463\n",
            "Epoch 5/30\n",
            "59237/59237 [==============================] - 97s 2ms/step - loss: 0.2691 - val_loss: 0.2620\n",
            "\n",
            "Epoch 00005: val_loss improved from 0.26463 to 0.26200, saving model to drive/My Drive/weights.word_embed_stem_diff_1_2_drop_reg.df5\n",
            "Epoch 6/30\n",
            "59237/59237 [==============================] - 99s 2ms/step - loss: 0.2671 - val_loss: 0.2609\n",
            "\n",
            "Epoch 00006: val_loss improved from 0.26200 to 0.26094, saving model to drive/My Drive/weights.word_embed_stem_diff_1_2_drop_reg.df5\n",
            "Epoch 7/30\n",
            "59237/59237 [==============================] - 97s 2ms/step - loss: 0.2651 - val_loss: 0.2598\n",
            "\n",
            "Epoch 00007: val_loss improved from 0.26094 to 0.25980, saving model to drive/My Drive/weights.word_embed_stem_diff_1_2_drop_reg.df5\n"
          ],
          "name": "stdout"
        },
        {
          "output_type": "error",
          "ename": "OSError",
          "evalue": "ignored",
          "traceback": [
            "\u001b[0;31m---------------------------------------------------------------------------\u001b[0m",
            "\u001b[0;31mOSError\u001b[0m                                   Traceback (most recent call last)",
            "\u001b[0;32m<ipython-input-64-dd288cec8582>\u001b[0m in \u001b[0;36m<module>\u001b[0;34m()\u001b[0m\n\u001b[0;32m----> 1\u001b[0;31m \u001b[0mget_ipython\u001b[0m\u001b[0;34m(\u001b[0m\u001b[0;34m)\u001b[0m\u001b[0;34m.\u001b[0m\u001b[0mrun_cell_magic\u001b[0m\u001b[0;34m(\u001b[0m\u001b[0;34m'time'\u001b[0m\u001b[0;34m,\u001b[0m \u001b[0;34m''\u001b[0m\u001b[0;34m,\u001b[0m \u001b[0;34m\"# Model variables\\nleftN_hidden = 128\\nrightN_hidden = 128\\ngradient_clipping_norm = 1.25\\nbatch_size = 256\\nn_epoch = 30\\n\\n# The visible layer\\nleft_input = Input(shape=(X_train['left'].shape[1],), dtype='int32')\\nright_input = Input(shape=(X_train['right'].shape[1],), dtype='int32')\\n\\nembedding_layerLeft = Embedding(len(embeddingsSearch), embedding_dimSearch, weights=[embeddingsSearch], input_length=maxSearchLength, trainable=False)\\nembedding_layerRight = Embedding(len(embeddingsDesc), embedding_dimDesc, weights=[embeddingsDesc], input_length=maxDescLength, trainable=False)\\n\\n# Embedded version of the inputs\\nencoded_left = embedding_layerLeft(left_input)\\nencoded_right = embedding_layerRight(right_input)\\n\\n# Since this is a siamese network, both sides share the same LSTM\\nleft_lstm = LSTM(leftN_hidden, kernel_initializer='glorot_uniform', dropout = 0.6)\\nright_lstm = LSTM(rightN_hidden, kernel_initializer='glorot_uniform', dropout=0.6)\\n\\nleft_LstmOutput = left_lstm(encoded_left)\\nright_LstmOutput = right_lstm(encoded_right)\\n\\n\\n# left_output = Dense(256, activation = 'relu')(left_LstmOutput)\\n# right_output = Dense(128)(right_LstmOutput)\\n\\n\\ncosine = dot(inputs = [left_LstmOutput, right_LstmOutput], \\n                        axes = -1, normalize = True)\\n\\nnorm = Lambda(lambda x: x * 2 + 1)...\n\u001b[0m",
            "\u001b[0;32m/usr/local/lib/python3.6/dist-packages/IPython/core/interactiveshell.py\u001b[0m in \u001b[0;36mrun_cell_magic\u001b[0;34m(self, magic_name, line, cell)\u001b[0m\n\u001b[1;32m   2115\u001b[0m             \u001b[0mmagic_arg_s\u001b[0m \u001b[0;34m=\u001b[0m \u001b[0mself\u001b[0m\u001b[0;34m.\u001b[0m\u001b[0mvar_expand\u001b[0m\u001b[0;34m(\u001b[0m\u001b[0mline\u001b[0m\u001b[0;34m,\u001b[0m \u001b[0mstack_depth\u001b[0m\u001b[0;34m)\u001b[0m\u001b[0;34m\u001b[0m\u001b[0;34m\u001b[0m\u001b[0m\n\u001b[1;32m   2116\u001b[0m             \u001b[0;32mwith\u001b[0m \u001b[0mself\u001b[0m\u001b[0;34m.\u001b[0m\u001b[0mbuiltin_trap\u001b[0m\u001b[0;34m:\u001b[0m\u001b[0;34m\u001b[0m\u001b[0;34m\u001b[0m\u001b[0m\n\u001b[0;32m-> 2117\u001b[0;31m                 \u001b[0mresult\u001b[0m \u001b[0;34m=\u001b[0m \u001b[0mfn\u001b[0m\u001b[0;34m(\u001b[0m\u001b[0mmagic_arg_s\u001b[0m\u001b[0;34m,\u001b[0m \u001b[0mcell\u001b[0m\u001b[0;34m)\u001b[0m\u001b[0;34m\u001b[0m\u001b[0;34m\u001b[0m\u001b[0m\n\u001b[0m\u001b[1;32m   2118\u001b[0m             \u001b[0;32mreturn\u001b[0m \u001b[0mresult\u001b[0m\u001b[0;34m\u001b[0m\u001b[0;34m\u001b[0m\u001b[0m\n\u001b[1;32m   2119\u001b[0m \u001b[0;34m\u001b[0m\u001b[0m\n",
            "\u001b[0;32m</usr/local/lib/python3.6/dist-packages/decorator.py:decorator-gen-60>\u001b[0m in \u001b[0;36mtime\u001b[0;34m(self, line, cell, local_ns)\u001b[0m\n",
            "\u001b[0;32m/usr/local/lib/python3.6/dist-packages/IPython/core/magic.py\u001b[0m in \u001b[0;36m<lambda>\u001b[0;34m(f, *a, **k)\u001b[0m\n\u001b[1;32m    186\u001b[0m     \u001b[0;31m# but it's overkill for just that one bit of state.\u001b[0m\u001b[0;34m\u001b[0m\u001b[0;34m\u001b[0m\u001b[0;34m\u001b[0m\u001b[0m\n\u001b[1;32m    187\u001b[0m     \u001b[0;32mdef\u001b[0m \u001b[0mmagic_deco\u001b[0m\u001b[0;34m(\u001b[0m\u001b[0marg\u001b[0m\u001b[0;34m)\u001b[0m\u001b[0;34m:\u001b[0m\u001b[0;34m\u001b[0m\u001b[0;34m\u001b[0m\u001b[0m\n\u001b[0;32m--> 188\u001b[0;31m         \u001b[0mcall\u001b[0m \u001b[0;34m=\u001b[0m \u001b[0;32mlambda\u001b[0m \u001b[0mf\u001b[0m\u001b[0;34m,\u001b[0m \u001b[0;34m*\u001b[0m\u001b[0ma\u001b[0m\u001b[0;34m,\u001b[0m \u001b[0;34m**\u001b[0m\u001b[0mk\u001b[0m\u001b[0;34m:\u001b[0m \u001b[0mf\u001b[0m\u001b[0;34m(\u001b[0m\u001b[0;34m*\u001b[0m\u001b[0ma\u001b[0m\u001b[0;34m,\u001b[0m \u001b[0;34m**\u001b[0m\u001b[0mk\u001b[0m\u001b[0;34m)\u001b[0m\u001b[0;34m\u001b[0m\u001b[0;34m\u001b[0m\u001b[0m\n\u001b[0m\u001b[1;32m    189\u001b[0m \u001b[0;34m\u001b[0m\u001b[0m\n\u001b[1;32m    190\u001b[0m         \u001b[0;32mif\u001b[0m \u001b[0mcallable\u001b[0m\u001b[0;34m(\u001b[0m\u001b[0marg\u001b[0m\u001b[0;34m)\u001b[0m\u001b[0;34m:\u001b[0m\u001b[0;34m\u001b[0m\u001b[0;34m\u001b[0m\u001b[0m\n",
            "\u001b[0;32m/usr/local/lib/python3.6/dist-packages/IPython/core/magics/execution.py\u001b[0m in \u001b[0;36mtime\u001b[0;34m(self, line, cell, local_ns)\u001b[0m\n\u001b[1;32m   1191\u001b[0m         \u001b[0;32melse\u001b[0m\u001b[0;34m:\u001b[0m\u001b[0;34m\u001b[0m\u001b[0;34m\u001b[0m\u001b[0m\n\u001b[1;32m   1192\u001b[0m             \u001b[0mst\u001b[0m \u001b[0;34m=\u001b[0m \u001b[0mclock2\u001b[0m\u001b[0;34m(\u001b[0m\u001b[0;34m)\u001b[0m\u001b[0;34m\u001b[0m\u001b[0;34m\u001b[0m\u001b[0m\n\u001b[0;32m-> 1193\u001b[0;31m             \u001b[0mexec\u001b[0m\u001b[0;34m(\u001b[0m\u001b[0mcode\u001b[0m\u001b[0;34m,\u001b[0m \u001b[0mglob\u001b[0m\u001b[0;34m,\u001b[0m \u001b[0mlocal_ns\u001b[0m\u001b[0;34m)\u001b[0m\u001b[0;34m\u001b[0m\u001b[0;34m\u001b[0m\u001b[0m\n\u001b[0m\u001b[1;32m   1194\u001b[0m             \u001b[0mend\u001b[0m \u001b[0;34m=\u001b[0m \u001b[0mclock2\u001b[0m\u001b[0;34m(\u001b[0m\u001b[0;34m)\u001b[0m\u001b[0;34m\u001b[0m\u001b[0;34m\u001b[0m\u001b[0m\n\u001b[1;32m   1195\u001b[0m             \u001b[0mout\u001b[0m \u001b[0;34m=\u001b[0m \u001b[0;32mNone\u001b[0m\u001b[0;34m\u001b[0m\u001b[0;34m\u001b[0m\u001b[0m\n",
            "\u001b[0;32m<timed exec>\u001b[0m in \u001b[0;36m<module>\u001b[0;34m()\u001b[0m\n",
            "\u001b[0;32m/usr/local/lib/python3.6/dist-packages/keras/engine/training.py\u001b[0m in \u001b[0;36mfit\u001b[0;34m(self, x, y, batch_size, epochs, verbose, callbacks, validation_split, validation_data, shuffle, class_weight, sample_weight, initial_epoch, steps_per_epoch, validation_steps, **kwargs)\u001b[0m\n\u001b[1;32m   1037\u001b[0m                                         \u001b[0minitial_epoch\u001b[0m\u001b[0;34m=\u001b[0m\u001b[0minitial_epoch\u001b[0m\u001b[0;34m,\u001b[0m\u001b[0;34m\u001b[0m\u001b[0;34m\u001b[0m\u001b[0m\n\u001b[1;32m   1038\u001b[0m                                         \u001b[0msteps_per_epoch\u001b[0m\u001b[0;34m=\u001b[0m\u001b[0msteps_per_epoch\u001b[0m\u001b[0;34m,\u001b[0m\u001b[0;34m\u001b[0m\u001b[0;34m\u001b[0m\u001b[0m\n\u001b[0;32m-> 1039\u001b[0;31m                                         validation_steps=validation_steps)\n\u001b[0m\u001b[1;32m   1040\u001b[0m \u001b[0;34m\u001b[0m\u001b[0m\n\u001b[1;32m   1041\u001b[0m     def evaluate(self, x=None, y=None,\n",
            "\u001b[0;32m/usr/local/lib/python3.6/dist-packages/keras/engine/training_arrays.py\u001b[0m in \u001b[0;36mfit_loop\u001b[0;34m(model, f, ins, out_labels, batch_size, epochs, verbose, callbacks, val_f, val_ins, shuffle, callback_metrics, initial_epoch, steps_per_epoch, validation_steps)\u001b[0m\n\u001b[1;32m    215\u001b[0m                         \u001b[0;32mfor\u001b[0m \u001b[0ml\u001b[0m\u001b[0;34m,\u001b[0m \u001b[0mo\u001b[0m \u001b[0;32min\u001b[0m \u001b[0mzip\u001b[0m\u001b[0;34m(\u001b[0m\u001b[0mout_labels\u001b[0m\u001b[0;34m,\u001b[0m \u001b[0mval_outs\u001b[0m\u001b[0;34m)\u001b[0m\u001b[0;34m:\u001b[0m\u001b[0;34m\u001b[0m\u001b[0;34m\u001b[0m\u001b[0m\n\u001b[1;32m    216\u001b[0m                             \u001b[0mepoch_logs\u001b[0m\u001b[0;34m[\u001b[0m\u001b[0;34m'val_'\u001b[0m \u001b[0;34m+\u001b[0m \u001b[0ml\u001b[0m\u001b[0;34m]\u001b[0m \u001b[0;34m=\u001b[0m \u001b[0mo\u001b[0m\u001b[0;34m\u001b[0m\u001b[0;34m\u001b[0m\u001b[0m\n\u001b[0;32m--> 217\u001b[0;31m         \u001b[0mcallbacks\u001b[0m\u001b[0;34m.\u001b[0m\u001b[0mon_epoch_end\u001b[0m\u001b[0;34m(\u001b[0m\u001b[0mepoch\u001b[0m\u001b[0;34m,\u001b[0m \u001b[0mepoch_logs\u001b[0m\u001b[0;34m)\u001b[0m\u001b[0;34m\u001b[0m\u001b[0;34m\u001b[0m\u001b[0m\n\u001b[0m\u001b[1;32m    218\u001b[0m         \u001b[0;32mif\u001b[0m \u001b[0mcallback_model\u001b[0m\u001b[0;34m.\u001b[0m\u001b[0mstop_training\u001b[0m\u001b[0;34m:\u001b[0m\u001b[0;34m\u001b[0m\u001b[0;34m\u001b[0m\u001b[0m\n\u001b[1;32m    219\u001b[0m             \u001b[0;32mbreak\u001b[0m\u001b[0;34m\u001b[0m\u001b[0;34m\u001b[0m\u001b[0m\n",
            "\u001b[0;32m/usr/local/lib/python3.6/dist-packages/keras/callbacks.py\u001b[0m in \u001b[0;36mon_epoch_end\u001b[0;34m(self, epoch, logs)\u001b[0m\n\u001b[1;32m     77\u001b[0m         \u001b[0mlogs\u001b[0m \u001b[0;34m=\u001b[0m \u001b[0mlogs\u001b[0m \u001b[0;32mor\u001b[0m \u001b[0;34m{\u001b[0m\u001b[0;34m}\u001b[0m\u001b[0;34m\u001b[0m\u001b[0;34m\u001b[0m\u001b[0m\n\u001b[1;32m     78\u001b[0m         \u001b[0;32mfor\u001b[0m \u001b[0mcallback\u001b[0m \u001b[0;32min\u001b[0m \u001b[0mself\u001b[0m\u001b[0;34m.\u001b[0m\u001b[0mcallbacks\u001b[0m\u001b[0;34m:\u001b[0m\u001b[0;34m\u001b[0m\u001b[0;34m\u001b[0m\u001b[0m\n\u001b[0;32m---> 79\u001b[0;31m             \u001b[0mcallback\u001b[0m\u001b[0;34m.\u001b[0m\u001b[0mon_epoch_end\u001b[0m\u001b[0;34m(\u001b[0m\u001b[0mepoch\u001b[0m\u001b[0;34m,\u001b[0m \u001b[0mlogs\u001b[0m\u001b[0;34m)\u001b[0m\u001b[0;34m\u001b[0m\u001b[0;34m\u001b[0m\u001b[0m\n\u001b[0m\u001b[1;32m     80\u001b[0m \u001b[0;34m\u001b[0m\u001b[0m\n\u001b[1;32m     81\u001b[0m     \u001b[0;32mdef\u001b[0m \u001b[0mon_batch_begin\u001b[0m\u001b[0;34m(\u001b[0m\u001b[0mself\u001b[0m\u001b[0;34m,\u001b[0m \u001b[0mbatch\u001b[0m\u001b[0;34m,\u001b[0m \u001b[0mlogs\u001b[0m\u001b[0;34m=\u001b[0m\u001b[0;32mNone\u001b[0m\u001b[0;34m)\u001b[0m\u001b[0;34m:\u001b[0m\u001b[0;34m\u001b[0m\u001b[0;34m\u001b[0m\u001b[0m\n",
            "\u001b[0;32m/usr/local/lib/python3.6/dist-packages/keras/callbacks.py\u001b[0m in \u001b[0;36mon_epoch_end\u001b[0;34m(self, epoch, logs)\u001b[0m\n\u001b[1;32m    444\u001b[0m                             \u001b[0mself\u001b[0m\u001b[0;34m.\u001b[0m\u001b[0mmodel\u001b[0m\u001b[0;34m.\u001b[0m\u001b[0msave_weights\u001b[0m\u001b[0;34m(\u001b[0m\u001b[0mfilepath\u001b[0m\u001b[0;34m,\u001b[0m \u001b[0moverwrite\u001b[0m\u001b[0;34m=\u001b[0m\u001b[0;32mTrue\u001b[0m\u001b[0;34m)\u001b[0m\u001b[0;34m\u001b[0m\u001b[0;34m\u001b[0m\u001b[0m\n\u001b[1;32m    445\u001b[0m                         \u001b[0;32melse\u001b[0m\u001b[0;34m:\u001b[0m\u001b[0;34m\u001b[0m\u001b[0;34m\u001b[0m\u001b[0m\n\u001b[0;32m--> 446\u001b[0;31m                             \u001b[0mself\u001b[0m\u001b[0;34m.\u001b[0m\u001b[0mmodel\u001b[0m\u001b[0;34m.\u001b[0m\u001b[0msave\u001b[0m\u001b[0;34m(\u001b[0m\u001b[0mfilepath\u001b[0m\u001b[0;34m,\u001b[0m \u001b[0moverwrite\u001b[0m\u001b[0;34m=\u001b[0m\u001b[0;32mTrue\u001b[0m\u001b[0;34m)\u001b[0m\u001b[0;34m\u001b[0m\u001b[0;34m\u001b[0m\u001b[0m\n\u001b[0m\u001b[1;32m    447\u001b[0m                     \u001b[0;32melse\u001b[0m\u001b[0;34m:\u001b[0m\u001b[0;34m\u001b[0m\u001b[0;34m\u001b[0m\u001b[0m\n\u001b[1;32m    448\u001b[0m                         \u001b[0;32mif\u001b[0m \u001b[0mself\u001b[0m\u001b[0;34m.\u001b[0m\u001b[0mverbose\u001b[0m \u001b[0;34m>\u001b[0m \u001b[0;36m0\u001b[0m\u001b[0;34m:\u001b[0m\u001b[0;34m\u001b[0m\u001b[0;34m\u001b[0m\u001b[0m\n",
            "\u001b[0;32m/usr/local/lib/python3.6/dist-packages/keras/engine/network.py\u001b[0m in \u001b[0;36msave\u001b[0;34m(self, filepath, overwrite, include_optimizer)\u001b[0m\n\u001b[1;32m   1088\u001b[0m             \u001b[0;32mraise\u001b[0m \u001b[0mNotImplementedError\u001b[0m\u001b[0;34m\u001b[0m\u001b[0;34m\u001b[0m\u001b[0m\n\u001b[1;32m   1089\u001b[0m         \u001b[0;32mfrom\u001b[0m \u001b[0;34m.\u001b[0m\u001b[0;34m.\u001b[0m\u001b[0mmodels\u001b[0m \u001b[0;32mimport\u001b[0m \u001b[0msave_model\u001b[0m\u001b[0;34m\u001b[0m\u001b[0;34m\u001b[0m\u001b[0m\n\u001b[0;32m-> 1090\u001b[0;31m         \u001b[0msave_model\u001b[0m\u001b[0;34m(\u001b[0m\u001b[0mself\u001b[0m\u001b[0;34m,\u001b[0m \u001b[0mfilepath\u001b[0m\u001b[0;34m,\u001b[0m \u001b[0moverwrite\u001b[0m\u001b[0;34m,\u001b[0m \u001b[0minclude_optimizer\u001b[0m\u001b[0;34m)\u001b[0m\u001b[0;34m\u001b[0m\u001b[0;34m\u001b[0m\u001b[0m\n\u001b[0m\u001b[1;32m   1091\u001b[0m \u001b[0;34m\u001b[0m\u001b[0m\n\u001b[1;32m   1092\u001b[0m     \u001b[0;32mdef\u001b[0m \u001b[0msave_weights\u001b[0m\u001b[0;34m(\u001b[0m\u001b[0mself\u001b[0m\u001b[0;34m,\u001b[0m \u001b[0mfilepath\u001b[0m\u001b[0;34m,\u001b[0m \u001b[0moverwrite\u001b[0m\u001b[0;34m=\u001b[0m\u001b[0;32mTrue\u001b[0m\u001b[0;34m)\u001b[0m\u001b[0;34m:\u001b[0m\u001b[0;34m\u001b[0m\u001b[0;34m\u001b[0m\u001b[0m\n",
            "\u001b[0;32m/usr/local/lib/python3.6/dist-packages/keras/engine/saving.py\u001b[0m in \u001b[0;36msave_model\u001b[0;34m(model, filepath, overwrite, include_optimizer)\u001b[0m\n\u001b[1;32m    377\u001b[0m         \u001b[0mopened_new_file\u001b[0m \u001b[0;34m=\u001b[0m \u001b[0;32mFalse\u001b[0m\u001b[0;34m\u001b[0m\u001b[0;34m\u001b[0m\u001b[0m\n\u001b[1;32m    378\u001b[0m \u001b[0;34m\u001b[0m\u001b[0m\n\u001b[0;32m--> 379\u001b[0;31m     \u001b[0mf\u001b[0m \u001b[0;34m=\u001b[0m \u001b[0mh5dict\u001b[0m\u001b[0;34m(\u001b[0m\u001b[0mfilepath\u001b[0m\u001b[0;34m,\u001b[0m \u001b[0mmode\u001b[0m\u001b[0;34m=\u001b[0m\u001b[0;34m'w'\u001b[0m\u001b[0;34m)\u001b[0m\u001b[0;34m\u001b[0m\u001b[0;34m\u001b[0m\u001b[0m\n\u001b[0m\u001b[1;32m    380\u001b[0m \u001b[0;34m\u001b[0m\u001b[0m\n\u001b[1;32m    381\u001b[0m     \u001b[0;32mtry\u001b[0m\u001b[0;34m:\u001b[0m\u001b[0;34m\u001b[0m\u001b[0;34m\u001b[0m\u001b[0m\n",
            "\u001b[0;32m/usr/local/lib/python3.6/dist-packages/keras/utils/io_utils.py\u001b[0m in \u001b[0;36m__init__\u001b[0;34m(self, path, mode)\u001b[0m\n\u001b[1;32m    184\u001b[0m             \u001b[0mself\u001b[0m\u001b[0;34m.\u001b[0m\u001b[0m_is_file\u001b[0m \u001b[0;34m=\u001b[0m \u001b[0;32mFalse\u001b[0m\u001b[0;34m\u001b[0m\u001b[0;34m\u001b[0m\u001b[0m\n\u001b[1;32m    185\u001b[0m         \u001b[0;32melif\u001b[0m \u001b[0misinstance\u001b[0m\u001b[0;34m(\u001b[0m\u001b[0mpath\u001b[0m\u001b[0;34m,\u001b[0m \u001b[0mstr\u001b[0m\u001b[0;34m)\u001b[0m\u001b[0;34m:\u001b[0m\u001b[0;34m\u001b[0m\u001b[0;34m\u001b[0m\u001b[0m\n\u001b[0;32m--> 186\u001b[0;31m             \u001b[0mself\u001b[0m\u001b[0;34m.\u001b[0m\u001b[0mdata\u001b[0m \u001b[0;34m=\u001b[0m \u001b[0mh5py\u001b[0m\u001b[0;34m.\u001b[0m\u001b[0mFile\u001b[0m\u001b[0;34m(\u001b[0m\u001b[0mpath\u001b[0m\u001b[0;34m,\u001b[0m \u001b[0mmode\u001b[0m\u001b[0;34m=\u001b[0m\u001b[0mmode\u001b[0m\u001b[0;34m)\u001b[0m\u001b[0;34m\u001b[0m\u001b[0;34m\u001b[0m\u001b[0m\n\u001b[0m\u001b[1;32m    187\u001b[0m             \u001b[0mself\u001b[0m\u001b[0;34m.\u001b[0m\u001b[0m_is_file\u001b[0m \u001b[0;34m=\u001b[0m \u001b[0;32mTrue\u001b[0m\u001b[0;34m\u001b[0m\u001b[0;34m\u001b[0m\u001b[0m\n\u001b[1;32m    188\u001b[0m         \u001b[0;32melif\u001b[0m \u001b[0misinstance\u001b[0m\u001b[0;34m(\u001b[0m\u001b[0mpath\u001b[0m\u001b[0;34m,\u001b[0m \u001b[0mdict\u001b[0m\u001b[0;34m)\u001b[0m\u001b[0;34m:\u001b[0m\u001b[0;34m\u001b[0m\u001b[0;34m\u001b[0m\u001b[0m\n",
            "\u001b[0;32m/usr/local/lib/python3.6/dist-packages/h5py/_hl/files.py\u001b[0m in \u001b[0;36m__init__\u001b[0;34m(self, name, mode, driver, libver, userblock_size, swmr, **kwds)\u001b[0m\n\u001b[1;32m    310\u001b[0m             \u001b[0;32mwith\u001b[0m \u001b[0mphil\u001b[0m\u001b[0;34m:\u001b[0m\u001b[0;34m\u001b[0m\u001b[0;34m\u001b[0m\u001b[0m\n\u001b[1;32m    311\u001b[0m                 \u001b[0mfapl\u001b[0m \u001b[0;34m=\u001b[0m \u001b[0mmake_fapl\u001b[0m\u001b[0;34m(\u001b[0m\u001b[0mdriver\u001b[0m\u001b[0;34m,\u001b[0m \u001b[0mlibver\u001b[0m\u001b[0;34m,\u001b[0m \u001b[0;34m**\u001b[0m\u001b[0mkwds\u001b[0m\u001b[0;34m)\u001b[0m\u001b[0;34m\u001b[0m\u001b[0;34m\u001b[0m\u001b[0m\n\u001b[0;32m--> 312\u001b[0;31m                 \u001b[0mfid\u001b[0m \u001b[0;34m=\u001b[0m \u001b[0mmake_fid\u001b[0m\u001b[0;34m(\u001b[0m\u001b[0mname\u001b[0m\u001b[0;34m,\u001b[0m \u001b[0mmode\u001b[0m\u001b[0;34m,\u001b[0m \u001b[0muserblock_size\u001b[0m\u001b[0;34m,\u001b[0m \u001b[0mfapl\u001b[0m\u001b[0;34m,\u001b[0m \u001b[0mswmr\u001b[0m\u001b[0;34m=\u001b[0m\u001b[0mswmr\u001b[0m\u001b[0;34m)\u001b[0m\u001b[0;34m\u001b[0m\u001b[0;34m\u001b[0m\u001b[0m\n\u001b[0m\u001b[1;32m    313\u001b[0m \u001b[0;34m\u001b[0m\u001b[0m\n\u001b[1;32m    314\u001b[0m                 \u001b[0;32mif\u001b[0m \u001b[0mswmr_support\u001b[0m\u001b[0;34m:\u001b[0m\u001b[0;34m\u001b[0m\u001b[0;34m\u001b[0m\u001b[0m\n",
            "\u001b[0;32m/usr/local/lib/python3.6/dist-packages/h5py/_hl/files.py\u001b[0m in \u001b[0;36mmake_fid\u001b[0;34m(name, mode, userblock_size, fapl, fcpl, swmr)\u001b[0m\n\u001b[1;32m    146\u001b[0m         \u001b[0mfid\u001b[0m \u001b[0;34m=\u001b[0m \u001b[0mh5f\u001b[0m\u001b[0;34m.\u001b[0m\u001b[0mcreate\u001b[0m\u001b[0;34m(\u001b[0m\u001b[0mname\u001b[0m\u001b[0;34m,\u001b[0m \u001b[0mh5f\u001b[0m\u001b[0;34m.\u001b[0m\u001b[0mACC_EXCL\u001b[0m\u001b[0;34m,\u001b[0m \u001b[0mfapl\u001b[0m\u001b[0;34m=\u001b[0m\u001b[0mfapl\u001b[0m\u001b[0;34m,\u001b[0m \u001b[0mfcpl\u001b[0m\u001b[0;34m=\u001b[0m\u001b[0mfcpl\u001b[0m\u001b[0;34m)\u001b[0m\u001b[0;34m\u001b[0m\u001b[0;34m\u001b[0m\u001b[0m\n\u001b[1;32m    147\u001b[0m     \u001b[0;32melif\u001b[0m \u001b[0mmode\u001b[0m \u001b[0;34m==\u001b[0m \u001b[0;34m'w'\u001b[0m\u001b[0;34m:\u001b[0m\u001b[0;34m\u001b[0m\u001b[0;34m\u001b[0m\u001b[0m\n\u001b[0;32m--> 148\u001b[0;31m         \u001b[0mfid\u001b[0m \u001b[0;34m=\u001b[0m \u001b[0mh5f\u001b[0m\u001b[0;34m.\u001b[0m\u001b[0mcreate\u001b[0m\u001b[0;34m(\u001b[0m\u001b[0mname\u001b[0m\u001b[0;34m,\u001b[0m \u001b[0mh5f\u001b[0m\u001b[0;34m.\u001b[0m\u001b[0mACC_TRUNC\u001b[0m\u001b[0;34m,\u001b[0m \u001b[0mfapl\u001b[0m\u001b[0;34m=\u001b[0m\u001b[0mfapl\u001b[0m\u001b[0;34m,\u001b[0m \u001b[0mfcpl\u001b[0m\u001b[0;34m=\u001b[0m\u001b[0mfcpl\u001b[0m\u001b[0;34m)\u001b[0m\u001b[0;34m\u001b[0m\u001b[0;34m\u001b[0m\u001b[0m\n\u001b[0m\u001b[1;32m    149\u001b[0m     \u001b[0;32melif\u001b[0m \u001b[0mmode\u001b[0m \u001b[0;34m==\u001b[0m \u001b[0;34m'a'\u001b[0m\u001b[0;34m:\u001b[0m\u001b[0;34m\u001b[0m\u001b[0;34m\u001b[0m\u001b[0m\n\u001b[1;32m    150\u001b[0m         \u001b[0;31m# Open in append mode (read/write).\u001b[0m\u001b[0;34m\u001b[0m\u001b[0;34m\u001b[0m\u001b[0;34m\u001b[0m\u001b[0m\n",
            "\u001b[0;32mh5py/_objects.pyx\u001b[0m in \u001b[0;36mh5py._objects.with_phil.wrapper\u001b[0;34m()\u001b[0m\n",
            "\u001b[0;32mh5py/_objects.pyx\u001b[0m in \u001b[0;36mh5py._objects.with_phil.wrapper\u001b[0;34m()\u001b[0m\n",
            "\u001b[0;32mh5py/h5f.pyx\u001b[0m in \u001b[0;36mh5py.h5f.create\u001b[0;34m()\u001b[0m\n",
            "\u001b[0;31mOSError\u001b[0m: Unable to create file (unable to open file: name = 'drive/My Drive/weights.word_embed_stem_diff_1_2_drop_reg.df5', errno = 5, error message = 'Input/output error', flags = 13, o_flags = 242)"
          ]
        }
      ]
    },
    {
      "metadata": {
        "id": "iMQQhQVB3XYq",
        "colab_type": "text"
      },
      "cell_type": "markdown",
      "source": [
        "some problems with Colab and Drive, we continued where we stopped with the saved weights"
      ]
    },
    {
      "metadata": {
        "id": "gr_5fzhl7Tvr",
        "colab_type": "code",
        "outputId": "f4785cb8-2589-494f-8a67-cc7731f1c3a9",
        "colab": {
          "base_uri": "https://localhost:8080/",
          "height": 1492
        }
      },
      "cell_type": "code",
      "source": [
        "n_epoch = 20\n",
        "batch_size = 256\n",
        "\n",
        "\n",
        "cos_trained = cos_model.fit([X_train['left'], X_train['right']], Y_train, batch_size=batch_size, nb_epoch=n_epoch,\n",
        "                            validation_data=([X_validation['left'], X_validation['right']], Y_validation), callbacks=[checkpointer,early_stopping])"
      ],
      "execution_count": 0,
      "outputs": [
        {
          "output_type": "stream",
          "text": [
            "/usr/local/lib/python3.6/dist-packages/ipykernel_launcher.py:6: UserWarning: The `nb_epoch` argument in `fit` has been renamed `epochs`.\n",
            "  \n"
          ],
          "name": "stderr"
        },
        {
          "output_type": "stream",
          "text": [
            "Train on 59237 samples, validate on 14810 samples\n",
            "Epoch 1/20\n",
            "59237/59237 [==============================] - 98s 2ms/step - loss: 0.2567 - val_loss: 0.2543\n",
            "\n",
            "Epoch 00001: val_loss did not improve from 0.25418\n",
            "Epoch 2/20\n",
            "59237/59237 [==============================] - 99s 2ms/step - loss: 0.2551 - val_loss: 0.2525\n",
            "\n",
            "Epoch 00002: val_loss improved from 0.25418 to 0.25251, saving model to drive/My Drive/weights.word_embed_stem_diff_1_2_drop_reg.df5\n",
            "Epoch 3/20\n",
            "59237/59237 [==============================] - 97s 2ms/step - loss: 0.2533 - val_loss: 0.2510\n",
            "\n",
            "Epoch 00003: val_loss improved from 0.25251 to 0.25099, saving model to drive/My Drive/weights.word_embed_stem_diff_1_2_drop_reg.df5\n",
            "Epoch 4/20\n",
            "59237/59237 [==============================] - 98s 2ms/step - loss: 0.2517 - val_loss: 0.2507\n",
            "\n",
            "Epoch 00004: val_loss improved from 0.25099 to 0.25071, saving model to drive/My Drive/weights.word_embed_stem_diff_1_2_drop_reg.df5\n",
            "Epoch 5/20\n",
            "59237/59237 [==============================] - 100s 2ms/step - loss: 0.2504 - val_loss: 0.2506\n",
            "\n",
            "Epoch 00005: val_loss improved from 0.25071 to 0.25061, saving model to drive/My Drive/weights.word_embed_stem_diff_1_2_drop_reg.df5\n",
            "Epoch 6/20\n",
            "59237/59237 [==============================] - 98s 2ms/step - loss: 0.2487 - val_loss: 0.2491\n",
            "\n",
            "Epoch 00006: val_loss improved from 0.25061 to 0.24908, saving model to drive/My Drive/weights.word_embed_stem_diff_1_2_drop_reg.df5\n",
            "Epoch 7/20\n",
            "59237/59237 [==============================] - 98s 2ms/step - loss: 0.2471 - val_loss: 0.2488\n",
            "\n",
            "Epoch 00007: val_loss improved from 0.24908 to 0.24880, saving model to drive/My Drive/weights.word_embed_stem_diff_1_2_drop_reg.df5\n",
            "Epoch 8/20\n",
            "59237/59237 [==============================] - 98s 2ms/step - loss: 0.2458 - val_loss: 0.2469\n",
            "\n",
            "Epoch 00008: val_loss improved from 0.24880 to 0.24687, saving model to drive/My Drive/weights.word_embed_stem_diff_1_2_drop_reg.df5\n",
            "Epoch 9/20\n",
            "59237/59237 [==============================] - 98s 2ms/step - loss: 0.2446 - val_loss: 0.2456\n",
            "\n",
            "Epoch 00009: val_loss improved from 0.24687 to 0.24565, saving model to drive/My Drive/weights.word_embed_stem_diff_1_2_drop_reg.df5\n",
            "Epoch 10/20\n",
            "59237/59237 [==============================] - 97s 2ms/step - loss: 0.2433 - val_loss: 0.2453\n",
            "\n",
            "Epoch 00010: val_loss improved from 0.24565 to 0.24533, saving model to drive/My Drive/weights.word_embed_stem_diff_1_2_drop_reg.df5\n",
            "Epoch 11/20\n",
            "59237/59237 [==============================] - 99s 2ms/step - loss: 0.2414 - val_loss: 0.2450\n",
            "\n",
            "Epoch 00011: val_loss improved from 0.24533 to 0.24501, saving model to drive/My Drive/weights.word_embed_stem_diff_1_2_drop_reg.df5\n",
            "Epoch 12/20\n",
            "59237/59237 [==============================] - 99s 2ms/step - loss: 0.2404 - val_loss: 0.2454\n",
            "\n",
            "Epoch 00012: val_loss did not improve from 0.24501\n",
            "Epoch 13/20\n",
            "59237/59237 [==============================] - 98s 2ms/step - loss: 0.2393 - val_loss: 0.2434\n",
            "\n",
            "Epoch 00013: val_loss improved from 0.24501 to 0.24340, saving model to drive/My Drive/weights.word_embed_stem_diff_1_2_drop_reg.df5\n",
            "Epoch 14/20\n",
            "59237/59237 [==============================] - 100s 2ms/step - loss: 0.2390 - val_loss: 0.2424\n",
            "\n",
            "Epoch 00014: val_loss improved from 0.24340 to 0.24239, saving model to drive/My Drive/weights.word_embed_stem_diff_1_2_drop_reg.df5\n",
            "Epoch 15/20\n",
            "59237/59237 [==============================] - 98s 2ms/step - loss: 0.2371 - val_loss: 0.2438\n",
            "\n",
            "Epoch 00015: val_loss did not improve from 0.24239\n",
            "Epoch 16/20\n",
            "59237/59237 [==============================] - 97s 2ms/step - loss: 0.2363 - val_loss: 0.2414\n",
            "\n",
            "Epoch 00016: val_loss improved from 0.24239 to 0.24140, saving model to drive/My Drive/weights.word_embed_stem_diff_1_2_drop_reg.df5\n",
            "Epoch 17/20\n",
            "59237/59237 [==============================] - 99s 2ms/step - loss: 0.2352 - val_loss: 0.2435\n",
            "\n",
            "Epoch 00017: val_loss did not improve from 0.24140\n",
            "Epoch 18/20\n",
            "59237/59237 [==============================] - 98s 2ms/step - loss: 0.2348 - val_loss: 0.2412\n",
            "\n",
            "Epoch 00018: val_loss improved from 0.24140 to 0.24115, saving model to drive/My Drive/weights.word_embed_stem_diff_1_2_drop_reg.df5\n",
            "Epoch 19/20\n",
            "59237/59237 [==============================] - 101s 2ms/step - loss: 0.2337 - val_loss: 0.2409\n",
            "\n",
            "Epoch 00019: val_loss improved from 0.24115 to 0.24092, saving model to drive/My Drive/weights.word_embed_stem_diff_1_2_drop_reg.df5\n",
            "Epoch 20/20\n",
            "59237/59237 [==============================] - 99s 2ms/step - loss: 0.2330 - val_loss: 0.2405\n",
            "\n",
            "Epoch 00020: val_loss improved from 0.24092 to 0.24045, saving model to drive/My Drive/weights.word_embed_stem_diff_1_2_drop_reg.df5\n"
          ],
          "name": "stdout"
        }
      ]
    },
    {
      "metadata": {
        "id": "N__m113j3jeP",
        "colab_type": "text"
      },
      "cell_type": "markdown",
      "source": [
        "Now we see that our model is not overfitting. He's training pretty slow, and our validation model is also improving.\n",
        "We continue to train this model with different batch size"
      ]
    },
    {
      "metadata": {
        "id": "-o2EmYWq6LSg",
        "colab_type": "code",
        "outputId": "642a0c71-c597-4a6b-b6a9-689a9435836e",
        "colab": {
          "base_uri": "https://localhost:8080/",
          "height": 924
        }
      },
      "cell_type": "code",
      "source": [
        "n_epoch = 20\n",
        "batch_size = 512\n",
        "\n",
        "\n",
        "cos_trained = cos_model.fit([X_train['left'], X_train['right']], Y_train, batch_size=batch_size, nb_epoch=n_epoch,\n",
        "                            validation_data=([X_validation['left'], X_validation['right']], Y_validation), callbacks=[checkpointer,early_stopping])"
      ],
      "execution_count": 0,
      "outputs": [
        {
          "output_type": "stream",
          "text": [
            "/usr/local/lib/python3.6/dist-packages/ipykernel_launcher.py:6: UserWarning: The `nb_epoch` argument in `fit` has been renamed `epochs`.\n",
            "  \n"
          ],
          "name": "stderr"
        },
        {
          "output_type": "stream",
          "text": [
            "Train on 59237 samples, validate on 14810 samples\n",
            "Epoch 1/20\n",
            "59237/59237 [==============================] - 51s 855us/step - loss: 0.2301 - val_loss: 0.2403\n",
            "\n",
            "Epoch 00001: val_loss improved from 0.24045 to 0.24026, saving model to drive/My Drive/weights.word_embed_stem_diff_1_2_drop_reg.df5\n",
            "Epoch 2/20\n",
            "59237/59237 [==============================] - 52s 875us/step - loss: 0.2299 - val_loss: 0.2399\n",
            "\n",
            "Epoch 00002: val_loss improved from 0.24026 to 0.23989, saving model to drive/My Drive/weights.word_embed_stem_diff_1_2_drop_reg.df5\n",
            "Epoch 3/20\n",
            "59237/59237 [==============================] - 51s 868us/step - loss: 0.2295 - val_loss: 0.2394\n",
            "\n",
            "Epoch 00003: val_loss improved from 0.23989 to 0.23944, saving model to drive/My Drive/weights.word_embed_stem_diff_1_2_drop_reg.df5\n",
            "Epoch 4/20\n",
            "59237/59237 [==============================] - 52s 874us/step - loss: 0.2286 - val_loss: 0.2398\n",
            "\n",
            "Epoch 00004: val_loss did not improve from 0.23944\n",
            "Epoch 5/20\n",
            "59237/59237 [==============================] - 51s 864us/step - loss: 0.2278 - val_loss: 0.2392\n",
            "\n",
            "Epoch 00005: val_loss improved from 0.23944 to 0.23923, saving model to drive/My Drive/weights.word_embed_stem_diff_1_2_drop_reg.df5\n",
            "Epoch 6/20\n",
            "59237/59237 [==============================] - 51s 864us/step - loss: 0.2273 - val_loss: 0.2393\n",
            "\n",
            "Epoch 00006: val_loss did not improve from 0.23923\n",
            "Epoch 7/20\n",
            "59237/59237 [==============================] - 50s 849us/step - loss: 0.2274 - val_loss: 0.2381\n",
            "\n",
            "Epoch 00007: val_loss improved from 0.23923 to 0.23809, saving model to drive/My Drive/weights.word_embed_stem_diff_1_2_drop_reg.df5\n",
            "Epoch 8/20\n",
            "59237/59237 [==============================] - 51s 862us/step - loss: 0.2264 - val_loss: 0.2385\n",
            "\n",
            "Epoch 00008: val_loss did not improve from 0.23809\n",
            "Epoch 9/20\n",
            "59237/59237 [==============================] - 50s 847us/step - loss: 0.2267 - val_loss: 0.2383\n",
            "\n",
            "Epoch 00009: val_loss did not improve from 0.23809\n",
            "Epoch 10/20\n",
            "59237/59237 [==============================] - 51s 856us/step - loss: 0.2261 - val_loss: 0.2386\n",
            "\n",
            "Epoch 00010: val_loss did not improve from 0.23809\n",
            "Epoch 11/20\n",
            "59237/59237 [==============================] - 52s 880us/step - loss: 0.2249 - val_loss: 0.2384\n",
            "\n",
            "Epoch 00011: val_loss did not improve from 0.23809\n",
            "Epoch 12/20\n",
            "59237/59237 [==============================] - 51s 868us/step - loss: 0.2242 - val_loss: 0.2386\n",
            "\n",
            "Epoch 00012: val_loss did not improve from 0.23809\n"
          ],
          "name": "stdout"
        }
      ]
    },
    {
      "metadata": {
        "id": "l_ijWfqaN4Zx",
        "colab_type": "code",
        "colab": {}
      },
      "cell_type": "code",
      "source": [
        "cos_model.load_weights('drive/My Drive/weights.word_embed_stem_diff_1_2_drop_reg.df5')\n"
      ],
      "execution_count": 0,
      "outputs": []
    },
    {
      "metadata": {
        "id": "y5QFWHAKNw-T",
        "colab_type": "code",
        "outputId": "42eecdc1-931f-407c-d3b1-c4ea19d6feda",
        "colab": {
          "base_uri": "https://localhost:8080/",
          "height": 1279
        }
      },
      "cell_type": "code",
      "source": [
        "n_epoch = 20\n",
        "batch_size = 256\n",
        "\n",
        "\n",
        "cos_trained = cos_model.fit([X_train['left'], X_train['right']], Y_train, batch_size=batch_size, nb_epoch=n_epoch,\n",
        "                            validation_data=([X_validation['left'], X_validation['right']], Y_validation), callbacks=[checkpointer,early_stopping])"
      ],
      "execution_count": 0,
      "outputs": [
        {
          "output_type": "stream",
          "text": [
            "/usr/local/lib/python3.6/dist-packages/ipykernel_launcher.py:6: UserWarning: The `nb_epoch` argument in `fit` has been renamed `epochs`.\n",
            "  \n"
          ],
          "name": "stderr"
        },
        {
          "output_type": "stream",
          "text": [
            "Train on 59237 samples, validate on 14810 samples\n",
            "Epoch 1/20\n",
            "59237/59237 [==============================] - 100s 2ms/step - loss: 0.2286 - val_loss: 0.2392\n",
            "\n",
            "Epoch 00001: val_loss did not improve from 0.23809\n",
            "Epoch 2/20\n",
            "59237/59237 [==============================] - 96s 2ms/step - loss: 0.2279 - val_loss: 0.2407\n",
            "\n",
            "Epoch 00002: val_loss did not improve from 0.23809\n",
            "Epoch 3/20\n",
            "59237/59237 [==============================] - 96s 2ms/step - loss: 0.2274 - val_loss: 0.2391\n",
            "\n",
            "Epoch 00003: val_loss did not improve from 0.23809\n",
            "Epoch 4/20\n",
            "59237/59237 [==============================] - 99s 2ms/step - loss: 0.2270 - val_loss: 0.2377\n",
            "\n",
            "Epoch 00004: val_loss improved from 0.23809 to 0.23769, saving model to drive/My Drive/weights.word_embed_stem_diff_1_2_drop_reg.df5\n",
            "Epoch 5/20\n",
            "59237/59237 [==============================] - 98s 2ms/step - loss: 0.2262 - val_loss: 0.2380\n",
            "\n",
            "Epoch 00005: val_loss did not improve from 0.23769\n",
            "Epoch 6/20\n",
            "59237/59237 [==============================] - 96s 2ms/step - loss: 0.2260 - val_loss: 0.2386\n",
            "\n",
            "Epoch 00006: val_loss did not improve from 0.23769\n",
            "Epoch 7/20\n",
            "59237/59237 [==============================] - 98s 2ms/step - loss: 0.2251 - val_loss: 0.2366\n",
            "\n",
            "Epoch 00007: val_loss improved from 0.23769 to 0.23665, saving model to drive/My Drive/weights.word_embed_stem_diff_1_2_drop_reg.df5\n",
            "Epoch 8/20\n",
            "59237/59237 [==============================] - 98s 2ms/step - loss: 0.2241 - val_loss: 0.2369\n",
            "\n",
            "Epoch 00008: val_loss did not improve from 0.23665\n",
            "Epoch 9/20\n",
            "59237/59237 [==============================] - 99s 2ms/step - loss: 0.2235 - val_loss: 0.2365\n",
            "\n",
            "Epoch 00009: val_loss improved from 0.23665 to 0.23650, saving model to drive/My Drive/weights.word_embed_stem_diff_1_2_drop_reg.df5\n",
            "Epoch 10/20\n",
            "59237/59237 [==============================] - 99s 2ms/step - loss: 0.2228 - val_loss: 0.2376\n",
            "\n",
            "Epoch 00010: val_loss did not improve from 0.23650\n",
            "Epoch 11/20\n",
            "59237/59237 [==============================] - 97s 2ms/step - loss: 0.2222 - val_loss: 0.2378\n",
            "\n",
            "Epoch 00011: val_loss did not improve from 0.23650\n",
            "Epoch 12/20\n",
            "59237/59237 [==============================] - 96s 2ms/step - loss: 0.2218 - val_loss: 0.2362\n",
            "\n",
            "Epoch 00012: val_loss improved from 0.23650 to 0.23624, saving model to drive/My Drive/weights.word_embed_stem_diff_1_2_drop_reg.df5\n",
            "Epoch 13/20\n",
            "59237/59237 [==============================] - 97s 2ms/step - loss: 0.2212 - val_loss: 0.2365\n",
            "\n",
            "Epoch 00013: val_loss did not improve from 0.23624\n",
            "Epoch 14/20\n",
            "59237/59237 [==============================] - 98s 2ms/step - loss: 0.2200 - val_loss: 0.2366\n",
            "\n",
            "Epoch 00014: val_loss did not improve from 0.23624\n",
            "Epoch 15/20\n",
            "59237/59237 [==============================] - 96s 2ms/step - loss: 0.2207 - val_loss: 0.2363\n",
            "\n",
            "Epoch 00015: val_loss did not improve from 0.23624\n",
            "Epoch 16/20\n",
            "59237/59237 [==============================] - 97s 2ms/step - loss: 0.2205 - val_loss: 0.2365\n",
            "\n",
            "Epoch 00016: val_loss did not improve from 0.23624\n",
            "Epoch 17/20\n",
            "59237/59237 [==============================] - 98s 2ms/step - loss: 0.2189 - val_loss: 0.2362\n",
            "\n",
            "Epoch 00017: val_loss did not improve from 0.23624\n"
          ],
          "name": "stdout"
        }
      ]
    },
    {
      "metadata": {
        "id": "1FeAljoAUiqJ",
        "colab_type": "code",
        "outputId": "af6d951e-80ce-4bd1-ed37-18c447a194f0",
        "colab": {
          "base_uri": "https://localhost:8080/",
          "height": 376
        }
      },
      "cell_type": "code",
      "source": [
        "plt.plot(cos_trained.history['loss'])\n",
        "plt.plot(cos_trained.history['val_loss'])\n",
        "plt.title('model loss')\n",
        "plt.ylabel('loss')\n",
        "plt.xlabel('epoch')\n",
        "plt.legend(['train', 'test'], loc='upper left')\n",
        "plt.show()"
      ],
      "execution_count": 0,
      "outputs": [
        {
          "output_type": "display_data",
          "data": {
            "image/png": "[encoded data removed]",
            "text/plain": [
              "<Figure size 576x396 with 1 Axes>"
            ]
          },
          "metadata": {
            "tags": []
          }
        }
      ]
    },
    {
      "metadata": {
        "id": "lkpNlQy533xB",
        "colab_type": "text"
      },
      "cell_type": "markdown",
      "source": [
        "The plot seems a bit overfitting, but the numbers are pretty similar, espicially compared to preivous models"
      ]
    },
    {
      "metadata": {
        "id": "6OPv2hzdUik-",
        "colab_type": "code",
        "colab": {}
      },
      "cell_type": "code",
      "source": [
        "cos_model.load_weights('drive/My Drive/weights.word_embed_stem_diff_1_2_drop_reg.df5')\n"
      ],
      "execution_count": 0,
      "outputs": []
    },
    {
      "metadata": {
        "id": "QuNTlVcbQMAT",
        "colab_type": "code",
        "outputId": "58813201-0cb9-464f-a251-dedab2deeb09",
        "colab": {
          "base_uri": "https://localhost:8080/",
          "height": 781
        }
      },
      "cell_type": "code",
      "source": [
        "n_epoch = 10\n",
        "batch_size = 1024\n",
        "\n",
        "\n",
        "cos_trained = cos_model.fit([X_train['left'], X_train['right']], Y_train, batch_size=batch_size, nb_epoch=n_epoch,\n",
        "                            validation_data=([X_validation['left'], X_validation['right']], Y_validation), callbacks=[checkpointer,early_stopping])"
      ],
      "execution_count": 0,
      "outputs": [
        {
          "output_type": "stream",
          "text": [
            "/usr/local/lib/python3.6/dist-packages/ipykernel_launcher.py:6: UserWarning: The `nb_epoch` argument in `fit` has been renamed `epochs`.\n",
            "  \n"
          ],
          "name": "stderr"
        },
        {
          "output_type": "stream",
          "text": [
            "Train on 59237 samples, validate on 14810 samples\n",
            "Epoch 1/10\n",
            "59237/59237 [==============================] - 31s 521us/step - loss: 0.2216 - val_loss: 0.2373\n",
            "\n",
            "Epoch 00001: val_loss did not improve from 0.23624\n",
            "Epoch 2/10\n",
            "59237/59237 [==============================] - 31s 529us/step - loss: 0.2210 - val_loss: 0.2370\n",
            "\n",
            "Epoch 00002: val_loss did not improve from 0.23624\n",
            "Epoch 3/10\n",
            "59237/59237 [==============================] - 31s 521us/step - loss: 0.2206 - val_loss: 0.2368\n",
            "\n",
            "Epoch 00003: val_loss did not improve from 0.23624\n",
            "Epoch 4/10\n",
            "59237/59237 [==============================] - 31s 523us/step - loss: 0.2201 - val_loss: 0.2368\n",
            "\n",
            "Epoch 00004: val_loss did not improve from 0.23624\n",
            "Epoch 5/10\n",
            "59237/59237 [==============================] - 31s 522us/step - loss: 0.2204 - val_loss: 0.2367\n",
            "\n",
            "Epoch 00005: val_loss did not improve from 0.23624\n",
            "Epoch 6/10\n",
            "59237/59237 [==============================] - 31s 523us/step - loss: 0.2196 - val_loss: 0.2366\n",
            "\n",
            "Epoch 00006: val_loss did not improve from 0.23624\n",
            "Epoch 7/10\n",
            "59237/59237 [==============================] - 31s 522us/step - loss: 0.2184 - val_loss: 0.2365\n",
            "\n",
            "Epoch 00007: val_loss did not improve from 0.23624\n",
            "Epoch 8/10\n",
            "59237/59237 [==============================] - 31s 526us/step - loss: 0.2186 - val_loss: 0.2362\n",
            "\n",
            "Epoch 00008: val_loss improved from 0.23624 to 0.23615, saving model to drive/My Drive/weights.word_embed_stem_diff_1_2_drop_reg.df5\n",
            "Epoch 9/10\n",
            "59237/59237 [==============================] - 31s 528us/step - loss: 0.2184 - val_loss: 0.2361\n",
            "\n",
            "Epoch 00009: val_loss improved from 0.23615 to 0.23610, saving model to drive/My Drive/weights.word_embed_stem_diff_1_2_drop_reg.df5\n",
            "Epoch 10/10\n",
            "59237/59237 [==============================] - 32s 532us/step - loss: 0.2177 - val_loss: 0.2362\n",
            "\n",
            "Epoch 00010: val_loss did not improve from 0.23610\n"
          ],
          "name": "stdout"
        }
      ]
    },
    {
      "metadata": {
        "id": "M-4Qnc4VUsji",
        "colab_type": "code",
        "outputId": "20f1d51f-98b4-4770-d984-8324a40ca2ad",
        "colab": {
          "base_uri": "https://localhost:8080/",
          "height": 376
        }
      },
      "cell_type": "code",
      "source": [
        "plt.plot(cos_trained.history['loss'])\n",
        "plt.plot(cos_trained.history['val_loss'])\n",
        "plt.title('model loss')\n",
        "plt.ylabel('loss')\n",
        "plt.xlabel('epoch')\n",
        "plt.legend(['train', 'test'], loc='upper left')\n",
        "plt.show()"
      ],
      "execution_count": 0,
      "outputs": [
        {
          "output_type": "display_data",
          "data": {
            "image/png": "[encoded data removed]",
            "text/plain": [
              "<Figure size 576x396 with 1 Axes>"
            ]
          },
          "metadata": {
            "tags": []
          }
        }
      ]
    },
    {
      "metadata": {
        "id": "kp22IZioUss5",
        "colab_type": "code",
        "outputId": "b3b78d13-2df3-485f-931b-f4af51187f5b",
        "colab": {
          "base_uri": "https://localhost:8080/",
          "height": 1492
        }
      },
      "cell_type": "code",
      "source": [
        "n_epoch = 20\n",
        "batch_size = 2048\n",
        "\n",
        "cos_model.load_weights('drive/My Drive/weights.word_embed_stem_diff_1_2_drop_reg.df5')\n",
        "cos_trained = cos_model.fit([X_train['left'], X_train['right']], Y_train, batch_size=batch_size, nb_epoch=n_epoch,\n",
        "                            validation_data=([X_validation['left'], X_validation['right']], Y_validation), callbacks=[checkpointer,early_stopping])"
      ],
      "execution_count": 0,
      "outputs": [
        {
          "output_type": "stream",
          "text": [
            "/usr/local/lib/python3.6/dist-packages/ipykernel_launcher.py:6: UserWarning: The `nb_epoch` argument in `fit` has been renamed `epochs`.\n",
            "  \n"
          ],
          "name": "stderr"
        },
        {
          "output_type": "stream",
          "text": [
            "Train on 59237 samples, validate on 14810 samples\n",
            "Epoch 1/20\n",
            "59237/59237 [==============================] - 24s 399us/step - loss: 0.2177 - val_loss: 0.2360\n",
            "\n",
            "Epoch 00001: val_loss improved from 0.23610 to 0.23603, saving model to drive/My Drive/weights.word_embed_stem_diff_1_2_drop_reg.df5\n",
            "Epoch 2/20\n",
            "59237/59237 [==============================] - 24s 401us/step - loss: 0.2175 - val_loss: 0.2362\n",
            "\n",
            "Epoch 00002: val_loss did not improve from 0.23603\n",
            "Epoch 3/20\n",
            "59237/59237 [==============================] - 23s 396us/step - loss: 0.2175 - val_loss: 0.2361\n",
            "\n",
            "Epoch 00003: val_loss did not improve from 0.23603\n",
            "Epoch 4/20\n",
            "59237/59237 [==============================] - 23s 396us/step - loss: 0.2168 - val_loss: 0.2360\n",
            "\n",
            "Epoch 00004: val_loss improved from 0.23603 to 0.23599, saving model to drive/My Drive/weights.word_embed_stem_diff_1_2_drop_reg.df5\n",
            "Epoch 5/20\n",
            "59237/59237 [==============================] - 24s 403us/step - loss: 0.2168 - val_loss: 0.2360\n",
            "\n",
            "Epoch 00005: val_loss did not improve from 0.23599\n",
            "Epoch 6/20\n",
            "59237/59237 [==============================] - 23s 396us/step - loss: 0.2171 - val_loss: 0.2362\n",
            "\n",
            "Epoch 00006: val_loss did not improve from 0.23599\n",
            "Epoch 7/20\n",
            "59237/59237 [==============================] - 23s 396us/step - loss: 0.2165 - val_loss: 0.2361\n",
            "\n",
            "Epoch 00007: val_loss did not improve from 0.23599\n",
            "Epoch 8/20\n",
            "59237/59237 [==============================] - 24s 397us/step - loss: 0.2173 - val_loss: 0.2358\n",
            "\n",
            "Epoch 00008: val_loss improved from 0.23599 to 0.23579, saving model to drive/My Drive/weights.word_embed_stem_diff_1_2_drop_reg.df5\n",
            "Epoch 9/20\n",
            "59237/59237 [==============================] - 24s 402us/step - loss: 0.2172 - val_loss: 0.2357\n",
            "\n",
            "Epoch 00009: val_loss improved from 0.23579 to 0.23571, saving model to drive/My Drive/weights.word_embed_stem_diff_1_2_drop_reg.df5\n",
            "Epoch 10/20\n",
            "59237/59237 [==============================] - 24s 399us/step - loss: 0.2169 - val_loss: 0.2359\n",
            "\n",
            "Epoch 00010: val_loss did not improve from 0.23571\n",
            "Epoch 11/20\n",
            "59237/59237 [==============================] - 23s 395us/step - loss: 0.2158 - val_loss: 0.2358\n",
            "\n",
            "Epoch 00011: val_loss did not improve from 0.23571\n",
            "Epoch 12/20\n",
            "59237/59237 [==============================] - 23s 396us/step - loss: 0.2161 - val_loss: 0.2357\n",
            "\n",
            "Epoch 00012: val_loss improved from 0.23571 to 0.23566, saving model to drive/My Drive/weights.word_embed_stem_diff_1_2_drop_reg.df5\n",
            "Epoch 13/20\n",
            "59237/59237 [==============================] - 24s 401us/step - loss: 0.2167 - val_loss: 0.2356\n",
            "\n",
            "Epoch 00013: val_loss improved from 0.23566 to 0.23556, saving model to drive/My Drive/weights.word_embed_stem_diff_1_2_drop_reg.df5\n",
            "Epoch 14/20\n",
            "59237/59237 [==============================] - 24s 403us/step - loss: 0.2152 - val_loss: 0.2357\n",
            "\n",
            "Epoch 00014: val_loss did not improve from 0.23556\n",
            "Epoch 15/20\n",
            "59237/59237 [==============================] - 23s 396us/step - loss: 0.2157 - val_loss: 0.2357\n",
            "\n",
            "Epoch 00015: val_loss did not improve from 0.23556\n",
            "Epoch 16/20\n",
            "59237/59237 [==============================] - 23s 396us/step - loss: 0.2161 - val_loss: 0.2355\n",
            "\n",
            "Epoch 00016: val_loss improved from 0.23556 to 0.23547, saving model to drive/My Drive/weights.word_embed_stem_diff_1_2_drop_reg.df5\n",
            "Epoch 17/20\n",
            "59237/59237 [==============================] - 24s 400us/step - loss: 0.2155 - val_loss: 0.2355\n",
            "\n",
            "Epoch 00017: val_loss improved from 0.23547 to 0.23546, saving model to drive/My Drive/weights.word_embed_stem_diff_1_2_drop_reg.df5\n",
            "Epoch 18/20\n",
            "59237/59237 [==============================] - 24s 399us/step - loss: 0.2156 - val_loss: 0.2353\n",
            "\n",
            "Epoch 00018: val_loss improved from 0.23546 to 0.23533, saving model to drive/My Drive/weights.word_embed_stem_diff_1_2_drop_reg.df5\n",
            "Epoch 19/20\n",
            "59237/59237 [==============================] - 24s 402us/step - loss: 0.2148 - val_loss: 0.2353\n",
            "\n",
            "Epoch 00019: val_loss improved from 0.23533 to 0.23528, saving model to drive/My Drive/weights.word_embed_stem_diff_1_2_drop_reg.df5\n",
            "Epoch 20/20\n",
            "59237/59237 [==============================] - 24s 403us/step - loss: 0.2148 - val_loss: 0.2354\n",
            "\n",
            "Epoch 00020: val_loss did not improve from 0.23528\n"
          ],
          "name": "stdout"
        }
      ]
    },
    {
      "metadata": {
        "id": "WeMqgpZPhT_o",
        "colab_type": "code",
        "outputId": "577cbdfa-da3e-4c99-d496-c953422b9df4",
        "colab": {
          "base_uri": "https://localhost:8080/",
          "height": 376
        }
      },
      "cell_type": "code",
      "source": [
        "plt.plot(cos_trained.history['loss'])\n",
        "plt.plot(cos_trained.history['val_loss'])\n",
        "plt.title('model loss')\n",
        "plt.ylabel('loss')\n",
        "plt.xlabel('epoch')\n",
        "plt.legend(['train', 'test'], loc='upper left')\n",
        "plt.show()"
      ],
      "execution_count": 0,
      "outputs": [
        {
          "output_type": "display_data",
          "data": {
            "image/png": "[encoded data removed]",
            "text/plain": [
              "<Figure size 576x396 with 1 Axes>"
            ]
          },
          "metadata": {
            "tags": []
          }
        }
      ]
    },
    {
      "metadata": {
        "id": "LlFf0lUNnWS4",
        "colab_type": "code",
        "colab": {}
      },
      "cell_type": "code",
      "source": [
        "pred_train = cos_model.predict([X_train['left'], X_train['right']])\n",
        "pred_val = cos_model.predict([X_validation['left'], X_validation['right']])"
      ],
      "execution_count": 0,
      "outputs": []
    },
    {
      "metadata": {
        "id": "-pkcHCBNnQjE",
        "colab_type": "code",
        "outputId": "faf537a5-93f2-4f4c-dab9-37eb4f04add1",
        "colab": {
          "base_uri": "https://localhost:8080/",
          "height": 88
        }
      },
      "cell_type": "code",
      "source": [
        "# predUnNormalized_train = (pred_train *2.0) +1.0\n",
        "\n",
        "print('Train RMSE score: {:<8.5f}'.format(np.sqrt(mean_squared_error(Y_train, pred_train))))\n",
        "print('Train MAE loss: {}'.format(mean_absolute_error(Y_train, pred_train)))\n",
        "\n",
        "\n",
        "# predUnNormalized_val = (pred_val *2.0) +1.0\n",
        "\n",
        "print('Validation RMSE score: {:<8.5f}'.format(np.sqrt(mean_squared_error(Y_validation, pred_val))))\n",
        "print('Validation MAE loss: {}'.format(mean_absolute_error(Y_validation, pred_val)))"
      ],
      "execution_count": 0,
      "outputs": [
        {
          "output_type": "stream",
          "text": [
            "Train RMSE score: 0.44158 \n",
            "Train MAE loss: 0.3573399321716617\n",
            "Validation RMSE score: 0.48502 \n",
            "Validation MAE loss: 0.3891330115487654\n"
          ],
          "name": "stdout"
        }
      ]
    },
    {
      "metadata": {
        "id": "WYz5BlKxGR9a",
        "colab_type": "text"
      },
      "cell_type": "markdown",
      "source": [
        "**This is our best model. It seems like dropout helped. for future work we might try tweaking the dropout and play with it a bit more, maybe combine it with recurrent dropout or by adding a dropout layer  and another dense layers after LSTM**"
      ]
    },
    {
      "metadata": {
        "id": "KtLTK_M8nlN1",
        "colab_type": "text"
      },
      "cell_type": "markdown",
      "source": [
        "## Feature Extraction"
      ]
    },
    {
      "metadata": {
        "id": "RDxL-KlJn8r6",
        "colab_type": "text"
      },
      "cell_type": "markdown",
      "source": [
        "Now we'll take our best model and use its last layer as features for classic ML model. <br>\n",
        "We will use the output from the LSTM layers as our features, then train RandomForest and LGBM over that extracted features."
      ]
    },
    {
      "metadata": {
        "id": "ynYFaiu2nrtO",
        "colab_type": "code",
        "outputId": "fa29307c-26a7-44e5-d2f7-e4c5da82914d",
        "colab": {
          "base_uri": "https://localhost:8080/",
          "height": 52
        }
      },
      "cell_type": "code",
      "source": [
        "%%time\n",
        "# Model variables\n",
        "leftN_hidden = 128\n",
        "rightN_hidden = 128\n",
        "gradient_clipping_norm = 1.25\n",
        "batch_size = 256\n",
        "n_epoch = 30\n",
        "\n",
        "# The visible layer\n",
        "left_input = Input(shape=(X_train['left'].shape[1],), dtype='int32')\n",
        "right_input = Input(shape=(X_train['right'].shape[1],), dtype='int32')\n",
        "\n",
        "embedding_layerLeft = Embedding(len(embeddingsSearch), embedding_dimSearch, weights=[embeddingsSearch], input_length=maxSearchLength, trainable=False)\n",
        "embedding_layerRight = Embedding(len(embeddingsDesc), embedding_dimDesc, weights=[embeddingsDesc], input_length=maxDescLength, trainable=False)\n",
        "\n",
        "# Embedded version of the inputs\n",
        "encoded_left = embedding_layerLeft(left_input)\n",
        "encoded_right = embedding_layerRight(right_input)\n",
        "\n",
        "# Since this is a siamese network, both sides share the same LSTM\n",
        "left_lstm = LSTM(leftN_hidden, kernel_initializer='glorot_uniform', dropout = 0.6)\n",
        "right_lstm = LSTM(rightN_hidden, kernel_initializer='glorot_uniform', dropout = 0.6)\n",
        "\n",
        "left_LstmOutput = left_lstm(encoded_left)\n",
        "right_LstmOutput = right_lstm(encoded_right)\n",
        "\n",
        "\n",
        "# left_output = Dense(256, activation = 'relu')(left_LstmOutput)\n",
        "# right_output = Dense(128)(right_LstmOutput)\n",
        "\n",
        "\n",
        "cosine = dot(inputs = [left_LstmOutput, right_LstmOutput], \n",
        "                        axes = -1, normalize = True)\n",
        "\n",
        "norm = Lambda(lambda x: x * 2 + 1)(cosine)\n",
        "\n",
        "\n",
        "# Pack it all up into a model\n",
        "cos_model = Model([left_input, right_input], norm)\n",
        "\n",
        "# Adadelta optimizer, with gradient clipping by norm\n",
        "# optimizer = Adadelta(clipnorm=gradient_clipping_norm)\n",
        "optimizer = Adam()\n",
        "\n",
        "cos_model.compile(loss='mean_squared_error', optimizer=optimizer)"
      ],
      "execution_count": 0,
      "outputs": [
        {
          "output_type": "stream",
          "text": [
            "CPU times: user 3.46 s, sys: 276 ms, total: 3.73 s\n",
            "Wall time: 3.45 s\n"
          ],
          "name": "stdout"
        }
      ]
    },
    {
      "metadata": {
        "id": "4AvbSUjDoIhW",
        "colab_type": "code",
        "colab": {}
      },
      "cell_type": "code",
      "source": [
        "cos_model.load_weights('drive/My Drive/weights.word_embed_stem_diff_1_2_drop_reg.df5')"
      ],
      "execution_count": 0,
      "outputs": []
    },
    {
      "metadata": {
        "id": "jOvm3xm5oCW1",
        "colab_type": "text"
      },
      "cell_type": "markdown",
      "source": [
        "Creating Feature extractor model"
      ]
    },
    {
      "metadata": {
        "id": "hWA3PdPSoB-7",
        "colab_type": "code",
        "colab": {}
      },
      "cell_type": "code",
      "source": [
        "featureExtractor = Model(inputs = cos_model.input, outputs = cos_model.get_layer('dot_6').input)"
      ],
      "execution_count": 0,
      "outputs": []
    },
    {
      "metadata": {
        "id": "DO9qDp28oNCp",
        "colab_type": "text"
      },
      "cell_type": "markdown",
      "source": [
        "Extracting features for train and Val"
      ]
    },
    {
      "metadata": {
        "id": "8u-_4c3-nraN",
        "colab_type": "code",
        "colab": {}
      },
      "cell_type": "code",
      "source": [
        "predFeatures = featureExtractor.predict([X_train['left'], X_train['right']])"
      ],
      "execution_count": 0,
      "outputs": []
    },
    {
      "metadata": {
        "id": "dcwsuCInnrND",
        "colab_type": "code",
        "colab": {}
      },
      "cell_type": "code",
      "source": [
        "predFeaturesTrain = np.concatenate((predFeatures[0], predFeatures[1]), axis=1)"
      ],
      "execution_count": 0,
      "outputs": []
    },
    {
      "metadata": {
        "id": "ixCpxvk6nrJe",
        "colab_type": "code",
        "colab": {}
      },
      "cell_type": "code",
      "source": [
        "predFeatures = featureExtractor.predict([X_validation['left'], X_validation['right']])\n",
        "predFeaturesVal = np.concatenate((predFeatures[0], predFeatures[1]), axis=1)"
      ],
      "execution_count": 0,
      "outputs": []
    },
    {
      "metadata": {
        "id": "9sv69ukLnvmK",
        "colab_type": "text"
      },
      "cell_type": "markdown",
      "source": [
        "### Random Forest"
      ]
    },
    {
      "metadata": {
        "id": "-A9GEJB3nvLa",
        "colab_type": "code",
        "outputId": "723e1f5c-d90e-492d-c2af-b3b3b79b326d",
        "colab": {
          "base_uri": "https://localhost:8080/",
          "height": 52
        }
      },
      "cell_type": "code",
      "source": [
        "%%time\n",
        "from sklearn.externals import joblib\n",
        "from sklearn.ensemble import RandomForestRegressor\n",
        "\n",
        "forest = RandomForestRegressor(n_estimators = 50, max_depth = 10)\n",
        "forest.fit(predFeaturesTrain, Y_train)\n",
        "# save the model to disk\n",
        "RFfilename = 'drive/My Drive/RandomForestFeatureExtractorWords.sav'\n",
        "joblib.dump(forest, RFfilename)"
      ],
      "execution_count": 0,
      "outputs": [
        {
          "output_type": "stream",
          "text": [
            "CPU times: user 5min 9s, sys: 0 ns, total: 5min 9s\n",
            "Wall time: 5min 9s\n"
          ],
          "name": "stdout"
        }
      ]
    },
    {
      "metadata": {
        "id": "aEULimq8ocBv",
        "colab_type": "code",
        "colab": {}
      },
      "cell_type": "code",
      "source": [
        "pred_train = forest.predict(predFeaturesTrain)\n",
        "pred_val = forest.predict(predFeaturesVal)"
      ],
      "execution_count": 0,
      "outputs": []
    },
    {
      "metadata": {
        "id": "drKNj9zlodxc",
        "colab_type": "code",
        "outputId": "bc14b310-c7da-429d-f366-600ac776a284",
        "colab": {
          "base_uri": "https://localhost:8080/",
          "height": 88
        }
      },
      "cell_type": "code",
      "source": [
        "print('Train RMSE score: {:<8.5f}'.format(np.sqrt(mean_squared_error(Y_train, pred_train))))\n",
        "print('Train MAE loss: {}'.format(mean_absolute_error(Y_train, pred_train)))\n",
        "\n",
        "print('Validation RMSE score: {:<8.5f}'.format(np.sqrt(mean_squared_error(Y_validation, pred_val))))\n",
        "print('Validation MAE loss: {}'.format(mean_absolute_error(Y_validation, pred_val)))"
      ],
      "execution_count": 0,
      "outputs": [
        {
          "output_type": "stream",
          "text": [
            "Train RMSE score: 0.41886 \n",
            "Train MAE loss: 0.34378421330345227\n",
            "Validation RMSE score: 0.47857 \n",
            "Validation MAE loss: 0.3858967300246183\n"
          ],
          "name": "stdout"
        }
      ]
    },
    {
      "metadata": {
        "id": "MPaV468rnw8Z",
        "colab_type": "text"
      },
      "cell_type": "markdown",
      "source": [
        "### LightGBM"
      ]
    },
    {
      "metadata": {
        "id": "Tu2GBdUJn08V",
        "colab_type": "code",
        "colab": {}
      },
      "cell_type": "code",
      "source": [
        "lgbparam = {'num_leaves': 31,\n",
        "            'boosting_type': 'rf',\n",
        "             'min_data_in_leaf': 30, \n",
        "             'objective':'regression',\n",
        "             'max_depth': -1,\n",
        "             'learning_rate': 0.01,\n",
        "             \"min_child_samples\": 20,\n",
        "             \"boosting\": \"gbdt\",\n",
        "             \"feature_fraction\": 0.9,\n",
        "             \"bagging_freq\": 1,\n",
        "             \"bagging_fraction\": 0.9 ,\n",
        "             \"bagging_seed\": 11,\n",
        "             \"metric\": 'rmse',\n",
        "             \"lambda_l1\": 0.1,\n",
        "             \"verbosity\": -1,\n",
        "             \"nthread\": 4,\n",
        "             \"random_state\": 4590}"
      ],
      "execution_count": 0,
      "outputs": []
    },
    {
      "metadata": {
        "id": "ou7D1NCbpSEZ",
        "colab_type": "code",
        "outputId": "f2c35559-9b5c-43f1-937b-cce0d857de64",
        "colab": {
          "base_uri": "https://localhost:8080/",
          "height": 1030
        }
      },
      "cell_type": "code",
      "source": [
        "import lightgbm as lgb\n",
        "\n",
        "trn_data = lgb.Dataset(predFeaturesTrain, label=Y_train)\n",
        "val_data = lgb.Dataset(predFeaturesVal, label=Y_validation)\n",
        "\n",
        "num_round = 11000\n",
        "clf = lgb.train(lgbparam, trn_data, num_round, valid_sets = [trn_data, val_data], verbose_eval=100, early_stopping_rounds = 100)\n",
        "# save the model to disk\n",
        "LGBMfilename = 'drive/My Drive/LGBMFeatureExtractorWords.sav'\n",
        "joblib.dump(clf, LGBMfilename)"
      ],
      "execution_count": 0,
      "outputs": [
        {
          "output_type": "stream",
          "text": [
            "Training until validation scores don't improve for 100 rounds.\n",
            "[100]\ttraining's rmse: 0.483839\tvalid_1's rmse: 0.493847\n",
            "[200]\ttraining's rmse: 0.465928\tvalid_1's rmse: 0.486675\n",
            "[300]\ttraining's rmse: 0.455235\tvalid_1's rmse: 0.48446\n",
            "[400]\ttraining's rmse: 0.447155\tvalid_1's rmse: 0.483234\n",
            "[500]\ttraining's rmse: 0.440652\tvalid_1's rmse: 0.482445\n",
            "[600]\ttraining's rmse: 0.435146\tvalid_1's rmse: 0.481858\n",
            "[700]\ttraining's rmse: 0.430394\tvalid_1's rmse: 0.481293\n",
            "[800]\ttraining's rmse: 0.426197\tvalid_1's rmse: 0.480785\n",
            "[900]\ttraining's rmse: 0.422356\tvalid_1's rmse: 0.480333\n",
            "[1000]\ttraining's rmse: 0.418872\tvalid_1's rmse: 0.479926\n",
            "[1100]\ttraining's rmse: 0.415473\tvalid_1's rmse: 0.479468\n",
            "[1200]\ttraining's rmse: 0.41227\tvalid_1's rmse: 0.479023\n",
            "[1300]\ttraining's rmse: 0.409262\tvalid_1's rmse: 0.478725\n",
            "[1400]\ttraining's rmse: 0.406322\tvalid_1's rmse: 0.478398\n",
            "[1500]\ttraining's rmse: 0.403445\tvalid_1's rmse: 0.478076\n",
            "[1600]\ttraining's rmse: 0.400699\tvalid_1's rmse: 0.477821\n",
            "[1700]\ttraining's rmse: 0.398066\tvalid_1's rmse: 0.477499\n",
            "[1800]\ttraining's rmse: 0.395497\tvalid_1's rmse: 0.477176\n",
            "[1900]\ttraining's rmse: 0.392992\tvalid_1's rmse: 0.476973\n",
            "[2000]\ttraining's rmse: 0.390652\tvalid_1's rmse: 0.476755\n",
            "[2100]\ttraining's rmse: 0.388349\tvalid_1's rmse: 0.476549\n",
            "[2200]\ttraining's rmse: 0.385994\tvalid_1's rmse: 0.476339\n",
            "[2300]\ttraining's rmse: 0.383751\tvalid_1's rmse: 0.476168\n",
            "[2400]\ttraining's rmse: 0.38149\tvalid_1's rmse: 0.476001\n",
            "[2500]\ttraining's rmse: 0.379345\tvalid_1's rmse: 0.475822\n",
            "[2600]\ttraining's rmse: 0.377264\tvalid_1's rmse: 0.475692\n",
            "[2700]\ttraining's rmse: 0.375157\tvalid_1's rmse: 0.475543\n",
            "[2800]\ttraining's rmse: 0.373117\tvalid_1's rmse: 0.475385\n",
            "[2900]\ttraining's rmse: 0.371097\tvalid_1's rmse: 0.475223\n",
            "[3000]\ttraining's rmse: 0.369129\tvalid_1's rmse: 0.475085\n",
            "[3100]\ttraining's rmse: 0.367179\tvalid_1's rmse: 0.474974\n",
            "[3200]\ttraining's rmse: 0.365208\tvalid_1's rmse: 0.47487\n",
            "[3300]\ttraining's rmse: 0.36333\tvalid_1's rmse: 0.474721\n",
            "[3400]\ttraining's rmse: 0.361415\tvalid_1's rmse: 0.474591\n",
            "[3500]\ttraining's rmse: 0.35958\tvalid_1's rmse: 0.47449\n",
            "[3600]\ttraining's rmse: 0.357753\tvalid_1's rmse: 0.474388\n",
            "[3700]\ttraining's rmse: 0.355995\tvalid_1's rmse: 0.474317\n",
            "[3800]\ttraining's rmse: 0.354225\tvalid_1's rmse: 0.474203\n",
            "[3900]\ttraining's rmse: 0.352472\tvalid_1's rmse: 0.474156\n",
            "[4000]\ttraining's rmse: 0.350712\tvalid_1's rmse: 0.474079\n",
            "[4100]\ttraining's rmse: 0.349016\tvalid_1's rmse: 0.474034\n",
            "[4200]\ttraining's rmse: 0.347363\tvalid_1's rmse: 0.474008\n",
            "[4300]\ttraining's rmse: 0.345706\tvalid_1's rmse: 0.473933\n",
            "[4400]\ttraining's rmse: 0.344081\tvalid_1's rmse: 0.473867\n",
            "[4500]\ttraining's rmse: 0.342468\tvalid_1's rmse: 0.473838\n",
            "[4600]\ttraining's rmse: 0.340918\tvalid_1's rmse: 0.473799\n",
            "[4700]\ttraining's rmse: 0.339324\tvalid_1's rmse: 0.473797\n",
            "[4800]\ttraining's rmse: 0.337805\tvalid_1's rmse: 0.47377\n",
            "[4900]\ttraining's rmse: 0.336279\tvalid_1's rmse: 0.47374\n",
            "[5000]\ttraining's rmse: 0.334742\tvalid_1's rmse: 0.473714\n",
            "[5100]\ttraining's rmse: 0.333194\tvalid_1's rmse: 0.473705\n",
            "[5200]\ttraining's rmse: 0.331709\tvalid_1's rmse: 0.47371\n",
            "[5300]\ttraining's rmse: 0.330234\tvalid_1's rmse: 0.473687\n",
            "Early stopping, best iteration is:\n",
            "[5269]\ttraining's rmse: 0.330692\tvalid_1's rmse: 0.473682\n"
          ],
          "name": "stdout"
        },
        {
          "output_type": "execute_result",
          "data": {
            "text/plain": [
              "['drive/My Drive/LGBMFeatureExtractorWords.sav']"
            ]
          },
          "metadata": {
            "tags": []
          },
          "execution_count": 165
        }
      ]
    },
    {
      "metadata": {
        "id": "7QsdHywZpR5O",
        "colab_type": "code",
        "colab": {}
      },
      "cell_type": "code",
      "source": [
        "pred_train = clf.predict(predFeaturesTrain, num_iteration=clf.best_iteration)\n",
        "pred_val = clf.predict(predFeaturesVal, num_iteration=clf.best_iteration)    "
      ],
      "execution_count": 0,
      "outputs": []
    },
    {
      "metadata": {
        "id": "6ZBOyVrjpRxM",
        "colab_type": "code",
        "outputId": "69ba4937-3301-46f6-b078-3cbec3fe3e39",
        "colab": {
          "base_uri": "https://localhost:8080/",
          "height": 88
        }
      },
      "cell_type": "code",
      "source": [
        "print('Train RMSE score: {:<8.5f}'.format(np.sqrt(mean_squared_error(Y_train, pred_train))))\n",
        "print('Train MAE loss: {}'.format(mean_absolute_error(Y_train, pred_train)))\n",
        "\n",
        "print('Validation RMSE score: {:<8.5f}'.format(np.sqrt(mean_squared_error(Y_validation, pred_val))))\n",
        "print('Validation MAE loss: {}'.format(mean_absolute_error(Y_validation, pred_val)))"
      ],
      "execution_count": 0,
      "outputs": [
        {
          "output_type": "stream",
          "text": [
            "Train RMSE score: 0.33069 \n",
            "Train MAE loss: 0.2682263309842496\n",
            "Validation RMSE score: 0.47368 \n",
            "Validation MAE loss: 0.3775500208280462\n"
          ],
          "name": "stdout"
        }
      ]
    },
    {
      "metadata": {
        "id": "UVMjRXLhsE8q",
        "colab_type": "text"
      },
      "cell_type": "markdown",
      "source": [
        "#Test\n"
      ]
    },
    {
      "metadata": {
        "id": "yEN24BcQjIbN",
        "colab_type": "text"
      },
      "cell_type": "markdown",
      "source": [
        "As the competition results are published we can now test our models on the real test data set. <br>\n",
        "We decided to keep the test dataset hidden from us until finishing all work in order to not overfit it."
      ]
    },
    {
      "metadata": {
        "id": "Tp7qMPyvsISB",
        "colab_type": "code",
        "colab": {}
      },
      "cell_type": "code",
      "source": [
        "# Merge descriptions\n",
        "testing_data= pd.merge(testing_data, test_sol, \n",
        "                         on=\"id\", how=\"left\")"
      ],
      "execution_count": 0,
      "outputs": []
    },
    {
      "metadata": {
        "id": "foDjq23opSYp",
        "colab_type": "text"
      },
      "cell_type": "markdown",
      "source": [
        "As we remember from character testing some of the test dataset is garbage, we deleted it and stemmed all testing data"
      ]
    },
    {
      "metadata": {
        "id": "BbK_GyLWsWca",
        "colab_type": "code",
        "outputId": "0fb880d4-7fc3-4711-8aec-14bec4daf2b1",
        "colab": {
          "base_uri": "https://localhost:8080/",
          "height": 369
        }
      },
      "cell_type": "code",
      "source": [
        "testing_data.relevance.hist()"
      ],
      "execution_count": 0,
      "outputs": [
        {
          "output_type": "execute_result",
          "data": {
            "text/plain": [
              "<matplotlib.axes._subplots.AxesSubplot at 0x7f014c3c6c88>"
            ]
          },
          "metadata": {
            "tags": []
          },
          "execution_count": 124
        },
        {
          "output_type": "display_data",
          "data": {
            "image/png": "[encoded data removed]",
            "text/plain": [
              "<Figure size 576x396 with 1 Axes>"
            ]
          },
          "metadata": {
            "tags": []
          }
        }
      ]
    },
    {
      "metadata": {
        "id": "f5d_1vRckOha",
        "colab_type": "code",
        "colab": {}
      },
      "cell_type": "code",
      "source": [
        "privateTesting_data = testing_data[testing_data.Usage == 'Private']\n",
        "publicTesting_data = testing_data[testing_data.Usage == 'Public']"
      ],
      "execution_count": 0,
      "outputs": []
    },
    {
      "metadata": {
        "id": "ppxSVj8skOd8",
        "colab_type": "code",
        "colab": {}
      },
      "cell_type": "code",
      "source": [
        "cols = ['search_term', 'product_description']"
      ],
      "execution_count": 0,
      "outputs": []
    },
    {
      "metadata": {
        "id": "kf1hI8FwkOFP",
        "colab_type": "code",
        "colab": {}
      },
      "cell_type": "code",
      "source": [
        "X_privateTest = privateTesting_data[cols]\n",
        "X_privateTest = {'left': X_privateTest.search_term, 'right': X_privateTest.product_description}\n",
        "Y_privateTest = privateTesting_data['relevance']\n",
        "\n",
        "X_publicTest = publicTesting_data[cols]\n",
        "X_publicTest = {'left': X_publicTest.search_term, 'right': X_publicTest.product_description}\n",
        "Y_publicTest = publicTesting_data['relevance']"
      ],
      "execution_count": 0,
      "outputs": []
    },
    {
      "metadata": {
        "id": "T9KNlpLdsWZp",
        "colab_type": "code",
        "colab": {}
      },
      "cell_type": "code",
      "source": [
        "maxSearchLength = 11\n",
        "maxDescLength = 160\n",
        "\n",
        "# Zero padding\n",
        "X_privateTest['left'] = pad_sequences(X_privateTest['left'], maxlen=maxSearchLength )\n",
        "X_privateTest['right'] = pad_sequences(X_privateTest['right'], maxlen=maxDescLength )\n",
        "\n",
        "X_publicTest['left'] = pad_sequences(X_publicTest['left'], maxlen=maxSearchLength )\n",
        "X_publicTest['right'] = pad_sequences(X_publicTest['right'], maxlen=maxDescLength )"
      ],
      "execution_count": 0,
      "outputs": []
    },
    {
      "metadata": {
        "id": "1OJNPNTolRvg",
        "colab_type": "text"
      },
      "cell_type": "markdown",
      "source": [
        "##Testing Siamese network with word LSTM"
      ]
    },
    {
      "metadata": {
        "id": "hIwAhEsTlz-F",
        "colab_type": "code",
        "outputId": "272f942e-6c18-4340-e1ff-4391a501e6ee",
        "colab": {
          "base_uri": "https://localhost:8080/",
          "height": 52
        }
      },
      "cell_type": "code",
      "source": [
        "%%time\n",
        "# Model variables\n",
        "leftN_hidden = 128\n",
        "rightN_hidden = 128\n",
        "gradient_clipping_norm = 1.25\n",
        "batch_size = 256\n",
        "n_epoch = 30\n",
        "\n",
        "# The visible layer\n",
        "left_input = Input(shape=(X_train['left'].shape[1],), dtype='int32')\n",
        "right_input = Input(shape=(X_train['right'].shape[1],), dtype='int32')\n",
        "\n",
        "embedding_layerLeft = Embedding(len(embeddingsSearch), embedding_dimSearch, weights=[embeddingsSearch], input_length=maxSearchLength, trainable=False)\n",
        "embedding_layerRight = Embedding(len(embeddingsDesc), embedding_dimDesc, weights=[embeddingsDesc], input_length=maxDescLength, trainable=False)\n",
        "\n",
        "# Embedded version of the inputs\n",
        "encoded_left = embedding_layerLeft(left_input)\n",
        "encoded_right = embedding_layerRight(right_input)\n",
        "\n",
        "# Since this is a siamese network, both sides share the same LSTM\n",
        "left_lstm = LSTM(leftN_hidden, kernel_initializer='glorot_uniform', dropout = 0.6)\n",
        "right_lstm = LSTM(rightN_hidden, kernel_initializer='glorot_uniform', dropout = 0.6)\n",
        "\n",
        "left_LstmOutput = left_lstm(encoded_left)\n",
        "right_LstmOutput = right_lstm(encoded_right)\n",
        "\n",
        "\n",
        "# left_output = Dense(256, activation = 'relu')(left_LstmOutput)\n",
        "# right_output = Dense(128)(right_LstmOutput)\n",
        "\n",
        "\n",
        "cosine = dot(inputs = [left_LstmOutput, right_LstmOutput], \n",
        "                        axes = -1, normalize = True)\n",
        "\n",
        "norm = Lambda(lambda x: x * 2 + 1)(cosine)\n",
        "\n",
        "\n",
        "# Pack it all up into a model\n",
        "cos_model = Model([left_input, right_input], norm)\n",
        "\n",
        "# Adadelta optimizer, with gradient clipping by norm\n",
        "# optimizer = Adadelta(clipnorm=gradient_clipping_norm)\n",
        "optimizer = Adam()\n",
        "\n",
        "cos_model.compile(loss='mean_squared_error', optimizer=optimizer)"
      ],
      "execution_count": 0,
      "outputs": [
        {
          "output_type": "stream",
          "text": [
            "CPU times: user 2.73 s, sys: 240 ms, total: 2.97 s\n",
            "Wall time: 2.74 s\n"
          ],
          "name": "stdout"
        }
      ]
    },
    {
      "metadata": {
        "id": "jYj6Abxolz0c",
        "colab_type": "code",
        "colab": {}
      },
      "cell_type": "code",
      "source": [
        "cos_model.load_weights('drive/My Drive/weights.word_embed_stem_diff_1_2_drop_reg.df5')"
      ],
      "execution_count": 0,
      "outputs": []
    },
    {
      "metadata": {
        "id": "B1S-XjSsmE6u",
        "colab_type": "code",
        "colab": {}
      },
      "cell_type": "code",
      "source": [
        "pred_privateTest= cos_model.predict([X_privateTest['left'], X_privateTest['right']])\n",
        "\n",
        "pred_publicTest= cos_model.predict([X_publicTest['left'], X_publicTest['right']])"
      ],
      "execution_count": 0,
      "outputs": []
    },
    {
      "metadata": {
        "id": "Js9kWNpRmEzN",
        "colab_type": "code",
        "outputId": "44d94813-d9a1-48b2-c16c-3009fd018a4b",
        "colab": {
          "base_uri": "https://localhost:8080/",
          "height": 88
        }
      },
      "cell_type": "code",
      "source": [
        "print('Private Test RMSE score: {:<8.5f}'.format(np.sqrt(mean_squared_error(Y_privateTest, pred_privateTest))))\n",
        "print('Private Test MAE loss: {}/n'.format(mean_absolute_error(Y_privateTest, pred_privateTest)))\n",
        "\n",
        "print('Public Test RMSE score: {:<8.5f}'.format(np.sqrt(mean_squared_error(Y_publicTest, pred_publicTest))))\n",
        "print('Public Test MAE loss: {}'.format(mean_absolute_error(Y_publicTest, pred_publicTest)))"
      ],
      "execution_count": 0,
      "outputs": [
        {
          "output_type": "stream",
          "text": [
            "Private Test RMSE score: 0.51474 \n",
            "Private Test MAE loss: 0.4162077370651898/n\n",
            "Public Test RMSE score: 0.51528 \n",
            "Public Test MAE loss: 0.4147460820422459\n"
          ],
          "name": "stdout"
        }
      ]
    },
    {
      "metadata": {
        "id": "BhqTwexZnFRb",
        "colab_type": "text"
      },
      "cell_type": "markdown",
      "source": [
        "This is the train results:\n",
        "\n",
        "Train RMSE score: 0.44158 <br>\n",
        "Train MAE loss: 0.3573399321716617 <br>\n",
        "Validation RMSE score: 0.48502 <br>\n",
        "Validation MAE loss: 0.3891330115487654 <br>\n",
        "\n",
        "So we got a big drop in score by moving to test but the score is still better then the Naive model so we can say that our model did managed to generalize and learn something.\n",
        "\n"
      ]
    },
    {
      "metadata": {
        "id": "wjz8NdOMlRoW",
        "colab_type": "text"
      },
      "cell_type": "markdown",
      "source": [
        "##Testing Siamese network as FE and Random Forest as classifier"
      ]
    },
    {
      "metadata": {
        "id": "dLDQfdzLwH5J",
        "colab_type": "code",
        "outputId": "67472db5-018a-4380-b2b1-42383ca2853f",
        "colab": {
          "base_uri": "https://localhost:8080/",
          "height": 52
        }
      },
      "cell_type": "code",
      "source": [
        "%%time\n",
        "featureExtractor = Model(inputs = cos_model.input, outputs = cos_model.get_layer('dot_6').input)\n",
        "\n",
        "predFeatures = featureExtractor.predict([X_publicTest['left'], X_publicTest['right']])\n",
        "predFeaturesPublicTest = np.concatenate((predFeatures[0], predFeatures[1]), axis=1)\n",
        "\n",
        "predFeatures = featureExtractor.predict([X_privateTest['left'], X_privateTest['right']])\n",
        "predFeaturesPrivateTest = np.concatenate((predFeatures[0], predFeatures[1]), axis=1)"
      ],
      "execution_count": 0,
      "outputs": [
        {
          "output_type": "stream",
          "text": [
            "CPU times: user 13min 13s, sys: 2min 1s, total: 15min 15s\n",
            "Wall time: 8min 58s\n"
          ],
          "name": "stdout"
        }
      ]
    },
    {
      "metadata": {
        "id": "kaIOQyx-l0mn",
        "colab_type": "code",
        "colab": {}
      },
      "cell_type": "code",
      "source": [
        "from sklearn.externals import joblib\n",
        "RFfilename = 'drive/My Drive/RandomForestFeatureExtractorWords.sav'\n",
        "forest = joblib.load(RFfilename)"
      ],
      "execution_count": 0,
      "outputs": []
    },
    {
      "metadata": {
        "id": "Cg4HYWc3sFf0",
        "colab_type": "code",
        "colab": {}
      },
      "cell_type": "code",
      "source": [
        "pred_PublicTest = forest.predict(predFeaturesPublicTest)\n",
        "pred_PrivateTest = forest.predict(predFeaturesPrivateTest)"
      ],
      "execution_count": 0,
      "outputs": []
    },
    {
      "metadata": {
        "id": "g8tFEZujl0f9",
        "colab_type": "code",
        "outputId": "b6f5f1b7-12d9-4a76-e93d-26b5987905d4",
        "colab": {
          "base_uri": "https://localhost:8080/",
          "height": 88
        }
      },
      "cell_type": "code",
      "source": [
        "print('Private Test RMSE score: {:<8.5f}'.format(np.sqrt(mean_squared_error(Y_privateTest, pred_PrivateTest))))\n",
        "print('Private Test MAE loss: {}/n'.format(mean_absolute_error(Y_privateTest, pred_PrivateTest)))\n",
        "\n",
        "print('Public Test RMSE score: {:<8.5f}'.format(np.sqrt(mean_squared_error(Y_publicTest, pred_PublicTest))))\n",
        "print('Public Test MAE loss: {}/n'.format(mean_absolute_error(Y_publicTest, pred_PublicTest)))"
      ],
      "execution_count": 0,
      "outputs": [
        {
          "output_type": "stream",
          "text": [
            "Private Test RMSE score: 0.51792 \n",
            "Private Test MAE loss: 0.420149152297301/n\n",
            "Public Test RMSE score: 0.51791 \n",
            "Public Test MAE loss: 0.4186222166201902/n\n"
          ],
          "name": "stdout"
        }
      ]
    },
    {
      "metadata": {
        "id": "5lbxRA46ibLV",
        "colab_type": "text"
      },
      "cell_type": "markdown",
      "source": [
        "Same result as the original neural net, even a little bit worse."
      ]
    },
    {
      "metadata": {
        "id": "pwdkuJFElRji",
        "colab_type": "text"
      },
      "cell_type": "markdown",
      "source": [
        "##Testing Siamese network as FE and LightGBM as classifier"
      ]
    },
    {
      "metadata": {
        "id": "yCQUzHtrl1Gr",
        "colab_type": "code",
        "colab": {}
      },
      "cell_type": "code",
      "source": [
        "from sklearn.externals import joblib\n",
        "LGBMfilename = 'drive/My Drive/LGBMFeatureExtractorWords.sav'\n",
        "\n",
        "clf = joblib.load(LGBMfilename)"
      ],
      "execution_count": 0,
      "outputs": []
    },
    {
      "metadata": {
        "id": "2QCeVmZZsS8V",
        "colab_type": "code",
        "colab": {}
      },
      "cell_type": "code",
      "source": [
        "pred_PublicTest = clf.predict(predFeaturesPublicTest, num_iteration=clf.best_iteration)    \n",
        "pred_PrivateTest = clf.predict(predFeaturesPrivateTest, num_iteration=clf.best_iteration)    "
      ],
      "execution_count": 0,
      "outputs": []
    },
    {
      "metadata": {
        "id": "qgPLyCILl1DT",
        "colab_type": "code",
        "outputId": "4442ed41-7fc6-44ab-efcf-2c3528710585",
        "colab": {
          "base_uri": "https://localhost:8080/",
          "height": 88
        }
      },
      "cell_type": "code",
      "source": [
        "print('Private Test RMSE score: {:<8.5f}'.format(np.sqrt(mean_squared_error(Y_privateTest, pred_PrivateTest))))\n",
        "print('Private Test MAE loss: {}/n'.format(mean_absolute_error(Y_privateTest, pred_PrivateTest)))\n",
        "\n",
        "print('Public Test RMSE score: {:<8.5f}'.format(np.sqrt(mean_squared_error(Y_publicTest, pred_PublicTest))))\n",
        "print('Public Test MAE loss: {}/n'.format(mean_absolute_error(Y_publicTest, pred_PublicTest)))"
      ],
      "execution_count": 0,
      "outputs": [
        {
          "output_type": "stream",
          "text": [
            "Private Test RMSE score: 0.51829 \n",
            "Private Test MAE loss: 0.4179236165328734/n\n",
            "Public Test RMSE score: 0.51866 \n",
            "Public Test MAE loss: 0.41647237228579137/n\n"
          ],
          "name": "stdout"
        }
      ]
    },
    {
      "metadata": {
        "id": "dAUAlr35i3bs",
        "colab_type": "text"
      },
      "cell_type": "markdown",
      "source": [
        "Same as Random Forest and even worse than it, very surprising we have to say."
      ]
    },
    {
      "metadata": {
        "id": "MUwenkL-lfkn",
        "colab_type": "text"
      },
      "cell_type": "markdown",
      "source": [
        "#Conclusion"
      ]
    },
    {
      "metadata": {
        "id": "vQ4cIMq1jHJE",
        "colab_type": "text"
      },
      "cell_type": "markdown",
      "source": [
        "In conclusion the best model was the original siamese like network. <br>\n",
        "We found that altough classical ML improved alot, training and validation score it didnt help generalize to the test set.<br>\n",
        "For future work we think maybe adding dense layers followed by dropout layers could improve both Siamese model and FE models. <br>\n",
        "understanding and applying better dropout methods inside LSTM layers could also help the model. <br>\n",
        "Another key idea that we feel could be more researhced is using pretrained embedding layer like GloVe and FastText.\n"
      ]
    },
    {
      "metadata": {
        "id": "EPuFuG5Z8j4B",
        "colab_type": "text"
      },
      "cell_type": "markdown",
      "source": [
        "# Pool of lost ideas"
      ]
    },
    {
      "metadata": {
        "colab_type": "code",
        "outputId": "4c56404b-ef23-4fac-bd06-df48ea1187d0",
        "id": "P-IWRoe4897j",
        "colab": {
          "base_uri": "https://localhost:8080/",
          "height": 2369
        }
      },
      "cell_type": "code",
      "source": [
        "%%time\n",
        "# Model variables\n",
        "leftN_hidden = 50 \n",
        "rightN_hidden = 50\n",
        "gradient_clipping_norm = 1.25\n",
        "batch_size = 64\n",
        "n_epoch = 50\n",
        "\n",
        "# The visible layer\n",
        "left_input = Input(shape=(X_train['left'].shape[1],), dtype='int32')\n",
        "right_input = Input(shape=(X_train['right'].shape[1],), dtype='int32')\n",
        "\n",
        "embedding_layerLeft = Embedding(len(embeddingsSearch), embedding_dimSearch, weights=[embeddingsSearch], input_length=maxSearchLength, trainable=False)\n",
        "embedding_layerRight = Embedding(len(embeddingsDesc), embedding_dimDesc, weights=[embeddingsDesc], input_length=maxDescLength, trainable=False)\n",
        "\n",
        "# Embedded version of the inputs\n",
        "encoded_left = embedding_layerLeft(left_input)\n",
        "encoded_right = embedding_layerRight(right_input)\n",
        "\n",
        "# Since this is a siamese network, both sides share the same LSTM\n",
        "left_lstm = LSTM(leftN_hidden, kernel_initializer='glorot_uniform')\n",
        "right_lstm = LSTM(rightN_hidden, kernel_initializer='glorot_uniform')\n",
        "\n",
        "left_LstmOutput = left_lstm(encoded_left)\n",
        "right_LstmOutput = right_lstm(encoded_right)\n",
        "\n",
        "\n",
        "# left_output = Dense(128)(left_LstmOutput)\n",
        "# right_output = Dense(128)(right_LstmOutput)\n",
        "\n",
        "\n",
        "cosine = dot(inputs = [left_LstmOutput, right_LstmOutput], \n",
        "                        axes = -1, normalize = True)\n",
        "\n",
        "norm = Lambda(lambda x: x * 2 + 1)(cosine)\n",
        "\n",
        "\n",
        "# Pack it all up into a model\n",
        "cos_model = Model([left_input, right_input], norm)\n",
        "\n",
        "# Adadelta optimizer, with gradient clipping by norm\n",
        "# optimizer = Adadelta(clipnorm=gradient_clipping_norm)\n",
        "optimizer = Adam()\n",
        "\n",
        "cos_model.compile(loss='mean_squared_error', optimizer=optimizer)\n",
        "\n",
        "\n",
        "cos_trained = cos_model.fit([X_train['left'], X_train['right']], Y_train, batch_size=batch_size, nb_epoch=n_epoch,\n",
        "                            validation_data=([X_validation['left'], X_validation['right']], Y_validation), callbacks=[checkpointer,early_stopping])"
      ],
      "execution_count": 0,
      "outputs": [
        {
          "output_type": "stream",
          "text": [
            "/usr/local/lib/python3.6/dist-packages/ipykernel_launcher.py:49: UserWarning: The `nb_epoch` argument in `fit` has been renamed `epochs`.\n"
          ],
          "name": "stderr"
        },
        {
          "output_type": "stream",
          "text": [
            "Train on 60000 samples, validate on 14067 samples\n",
            "Epoch 1/50\n",
            "60000/60000 [==============================] - 327s 5ms/step - loss: 0.2860 - val_loss: 0.2676\n",
            "\n",
            "Epoch 00001: val_loss improved from inf to 0.26764, saving model to drive/My Drive/weights.WordEmbeddingToRelavance300.df5\n",
            "Epoch 2/50\n",
            "60000/60000 [==============================] - 324s 5ms/step - loss: 0.2564 - val_loss: 0.2600\n",
            "\n",
            "Epoch 00002: val_loss improved from 0.26764 to 0.26004, saving model to drive/My Drive/weights.WordEmbeddingToRelavance300.df5\n",
            "Epoch 3/50\n",
            "60000/60000 [==============================] - 325s 5ms/step - loss: 0.2437 - val_loss: 0.2556\n",
            "\n",
            "Epoch 00003: val_loss improved from 0.26004 to 0.25563, saving model to drive/My Drive/weights.WordEmbeddingToRelavance300.df5\n",
            "Epoch 4/50\n",
            "60000/60000 [==============================] - 322s 5ms/step - loss: 0.2331 - val_loss: 0.2538\n",
            "\n",
            "Epoch 00004: val_loss improved from 0.25563 to 0.25382, saving model to drive/My Drive/weights.WordEmbeddingToRelavance300.df5\n",
            "Epoch 5/50\n",
            "60000/60000 [==============================] - 318s 5ms/step - loss: 0.2236 - val_loss: 0.2530\n",
            "\n",
            "Epoch 00005: val_loss improved from 0.25382 to 0.25304, saving model to drive/My Drive/weights.WordEmbeddingToRelavance300.df5\n",
            "Epoch 6/50\n",
            "60000/60000 [==============================] - 319s 5ms/step - loss: 0.2159 - val_loss: 0.2499\n",
            "\n",
            "Epoch 00006: val_loss improved from 0.25304 to 0.24988, saving model to drive/My Drive/weights.WordEmbeddingToRelavance300.df5\n",
            "Epoch 7/50\n",
            "60000/60000 [==============================] - 319s 5ms/step - loss: 0.2086 - val_loss: 0.2508\n",
            "\n",
            "Epoch 00007: val_loss did not improve from 0.24988\n",
            "Epoch 8/50\n",
            "60000/60000 [==============================] - 315s 5ms/step - loss: 0.2026 - val_loss: 0.2500\n",
            "\n",
            "Epoch 00008: val_loss did not improve from 0.24988\n",
            "Epoch 9/50\n",
            "60000/60000 [==============================] - 318s 5ms/step - loss: 0.1973 - val_loss: 0.2494\n",
            "\n",
            "Epoch 00009: val_loss improved from 0.24988 to 0.24941, saving model to drive/My Drive/weights.WordEmbeddingToRelavance300.df5\n",
            "Epoch 10/50\n",
            "60000/60000 [==============================] - 328s 5ms/step - loss: 0.1924 - val_loss: 0.2493\n",
            "\n",
            "Epoch 00010: val_loss improved from 0.24941 to 0.24927, saving model to drive/My Drive/weights.WordEmbeddingToRelavance300.df5\n",
            "Epoch 11/50\n",
            "60000/60000 [==============================] - 344s 6ms/step - loss: 0.1881 - val_loss: 0.2469\n",
            "\n",
            "Epoch 00011: val_loss improved from 0.24927 to 0.24692, saving model to drive/My Drive/weights.WordEmbeddingToRelavance300.df5\n",
            "Epoch 12/50\n",
            "60000/60000 [==============================] - 354s 6ms/step - loss: 0.1843 - val_loss: 0.2475\n",
            "\n",
            "Epoch 00012: val_loss did not improve from 0.24692\n",
            "Epoch 13/50\n",
            "60000/60000 [==============================] - 355s 6ms/step - loss: 0.1805 - val_loss: 0.2476\n",
            "\n",
            "Epoch 00013: val_loss did not improve from 0.24692\n",
            "Epoch 14/50\n",
            "60000/60000 [==============================] - 352s 6ms/step - loss: 0.1771 - val_loss: 0.2534\n",
            "\n",
            "Epoch 00014: val_loss did not improve from 0.24692\n",
            "Epoch 15/50\n",
            "60000/60000 [==============================] - 345s 6ms/step - loss: 0.1740 - val_loss: 0.2472\n",
            "\n",
            "Epoch 00015: val_loss did not improve from 0.24692\n",
            "Epoch 16/50\n",
            "60000/60000 [==============================] - 353s 6ms/step - loss: 0.1711 - val_loss: 0.2451\n",
            "\n",
            "Epoch 00016: val_loss improved from 0.24692 to 0.24513, saving model to drive/My Drive/weights.WordEmbeddingToRelavance300.df5\n",
            "Epoch 17/50\n",
            "60000/60000 [==============================] - 354s 6ms/step - loss: 0.1685 - val_loss: 0.2467\n",
            "\n",
            "Epoch 00017: val_loss did not improve from 0.24513\n",
            "Epoch 18/50\n",
            "60000/60000 [==============================] - 350s 6ms/step - loss: 0.1659 - val_loss: 0.2457\n",
            "\n",
            "Epoch 00018: val_loss did not improve from 0.24513\n",
            "Epoch 19/50\n",
            "60000/60000 [==============================] - 349s 6ms/step - loss: 0.1636 - val_loss: 0.2459\n",
            "\n",
            "Epoch 00019: val_loss did not improve from 0.24513\n",
            "Epoch 20/50\n",
            "60000/60000 [==============================] - 354s 6ms/step - loss: 0.1609 - val_loss: 0.2460\n",
            "\n",
            "Epoch 00020: val_loss did not improve from 0.24513\n",
            "Epoch 21/50\n",
            "60000/60000 [==============================] - 354s 6ms/step - loss: 0.1588 - val_loss: 0.2468\n",
            "\n",
            "Epoch 00021: val_loss did not improve from 0.24513\n",
            "Epoch 22/50\n",
            "60000/60000 [==============================] - 352s 6ms/step - loss: 0.1568 - val_loss: 0.2491\n",
            "\n",
            "Epoch 00022: val_loss did not improve from 0.24513\n",
            "Epoch 23/50\n",
            "60000/60000 [==============================] - 345s 6ms/step - loss: 0.1550 - val_loss: 0.2478\n",
            "\n",
            "Epoch 00023: val_loss did not improve from 0.24513\n",
            "Epoch 24/50\n",
            "60000/60000 [==============================] - 352s 6ms/step - loss: 0.1535 - val_loss: 0.2449\n",
            "\n",
            "Epoch 00024: val_loss improved from 0.24513 to 0.24488, saving model to drive/My Drive/weights.WordEmbeddingToRelavance300.df5\n",
            "Epoch 25/50\n",
            "60000/60000 [==============================] - 355s 6ms/step - loss: 0.1514 - val_loss: 0.2466\n",
            "\n",
            "Epoch 00025: val_loss did not improve from 0.24488\n",
            "Epoch 26/50\n",
            "60000/60000 [==============================] - 350s 6ms/step - loss: 0.1502 - val_loss: 0.2472\n",
            "\n",
            "Epoch 00026: val_loss did not improve from 0.24488\n",
            "Epoch 27/50\n",
            "60000/60000 [==============================] - 355s 6ms/step - loss: 0.1485 - val_loss: 0.2505\n",
            "\n",
            "Epoch 00027: val_loss did not improve from 0.24488\n",
            "Epoch 28/50\n",
            "60000/60000 [==============================] - 361s 6ms/step - loss: 0.1472 - val_loss: 0.2464\n",
            "\n",
            "Epoch 00028: val_loss did not improve from 0.24488\n",
            "Epoch 29/50\n",
            "60000/60000 [==============================] - 363s 6ms/step - loss: 0.1457 - val_loss: 0.2457\n",
            "\n",
            "Epoch 00029: val_loss did not improve from 0.24488\n",
            "Epoch 30/50\n",
            "60000/60000 [==============================] - 352s 6ms/step - loss: 0.1444 - val_loss: 0.2496\n",
            "\n",
            "Epoch 00030: val_loss did not improve from 0.24488\n",
            "Epoch 31/50\n",
            "60000/60000 [==============================] - 372s 6ms/step - loss: 0.1430 - val_loss: 0.2473\n",
            "\n",
            "Epoch 00031: val_loss did not improve from 0.24488\n",
            "Epoch 32/50\n",
            "60000/60000 [==============================] - 363s 6ms/step - loss: 0.1415 - val_loss: 0.2488\n",
            "\n",
            "Epoch 00032: val_loss did not improve from 0.24488\n",
            "Epoch 33/50\n",
            "60000/60000 [==============================] - 354s 6ms/step - loss: 0.1416 - val_loss: 0.2498\n",
            "\n",
            "Epoch 00033: val_loss did not improve from 0.24488\n",
            "Epoch 34/50\n",
            "60000/60000 [==============================] - 364s 6ms/step - loss: 0.1391 - val_loss: 0.2515\n",
            "\n",
            "Epoch 00034: val_loss did not improve from 0.24488\n",
            "CPU times: user 4h 27min 27s, sys: 33min 52s, total: 5h 1min 19s\n",
            "Wall time: 3h 16min 17s\n"
          ],
          "name": "stdout"
        }
      ]
    },
    {
      "metadata": {
        "colab_type": "code",
        "outputId": "946ac421-1d4e-4718-d6c6-ce894e000a10",
        "id": "OIoW23-s897l",
        "colab": {
          "base_uri": "https://localhost:8080/",
          "height": 376
        }
      },
      "cell_type": "code",
      "source": [
        "plt.plot(cos_trained.history['loss'])\n",
        "plt.plot(cos_trained.history['val_loss'])\n",
        "plt.title('model loss')\n",
        "plt.ylabel('loss')\n",
        "plt.xlabel('epoch')\n",
        "plt.legend(['train', 'test'], loc='upper left')\n",
        "plt.show()"
      ],
      "execution_count": 0,
      "outputs": [
        {
          "output_type": "display_data",
          "data": {
            "image/png": "[encoded data removed]",
            "text/plain": [
              "<Figure size 576x396 with 1 Axes>"
            ]
          },
          "metadata": {
            "tags": []
          }
        }
      ]
    },
    {
      "metadata": {
        "colab_type": "code",
        "outputId": "55ee1c2d-33c1-4f3d-a0aa-6f62c1a2b39b",
        "id": "Gu1JCi3I8970",
        "colab": {
          "base_uri": "https://localhost:8080/",
          "height": 84
        }
      },
      "cell_type": "code",
      "source": [
        "# predUnNormalized_train = (pred_train *2.0) +1.0\n",
        "\n",
        "print('Train RMSE score: {:<8.5f}'.format(np.sqrt(mean_squared_error(Y_train, pred_train))))\n",
        "print('Train MAE loss: {}'.format(mean_absolute_error(Y_train, pred_train)))\n",
        "\n",
        "\n",
        "# predUnNormalized_val = (pred_val *2.0) +1.0\n",
        "\n",
        "print('Validation RMSE score: {:<8.5f}'.format(np.sqrt(mean_squared_error(Y_validation, pred_val))))\n",
        "print('Validation MAE loss: {}'.format(mean_absolute_error(Y_validation, pred_val)))"
      ],
      "execution_count": 0,
      "outputs": [
        {
          "output_type": "stream",
          "text": [
            "Train RMSE score: 0.37766 \n",
            "Train MAE loss: 0.3075925295106967\n",
            "Validation RMSE score: 0.49485 \n",
            "Validation MAE loss: 0.40151656177580003\n"
          ],
          "name": "stdout"
        }
      ]
    },
    {
      "metadata": {
        "colab_type": "code",
        "outputId": "8e2e4d73-27f4-4eac-b9ec-0d33ecc4299c",
        "id": "9K2-J0Ya8977",
        "colab": {
          "base_uri": "https://localhost:8080/",
          "height": 2100
        }
      },
      "cell_type": "code",
      "source": [
        "%%time\n",
        "# Model variables\n",
        "leftN_hidden = 50\n",
        "rightN_hidden = 50\n",
        "gradient_clipping_norm = 1.25\n",
        "batch_size = 512\n",
        "n_epoch = 30\n",
        "\n",
        "# The visible layer\n",
        "left_input = Input(shape=(X_train['left'].shape[1],), dtype='int32')\n",
        "right_input = Input(shape=(X_train['right'].shape[1],), dtype='int32')\n",
        "\n",
        "embedding_layerLeft = Embedding(len(embeddingsSearch), embedding_dim, weights=[embeddingsSearch], input_length=maxSearchLength, trainable=False)\n",
        "embedding_layerRight = Embedding(len(embeddingsDesc), embedding_dim, weights=[embeddingsDesc], input_length=maxDescLength, trainable=False)\n",
        "\n",
        "# Embedded version of the inputs\n",
        "encoded_left = embedding_layerLeft(left_input)\n",
        "encoded_right = embedding_layerRight(right_input)\n",
        "\n",
        "# Since this is a siamese network, both sides share the same LSTM\n",
        "left_lstm = LSTM(leftN_hidden, kernel_initializer='glorot_uniform')\n",
        "right_lstm = LSTM(rightN_hidden, kernel_initializer='glorot_uniform')\n",
        "\n",
        "left_LstmOutput = left_lstm(encoded_left)\n",
        "right_LstmOutput = right_lstm(encoded_right)\n",
        "\n",
        "\n",
        "# left_output = Dense(128)(left_LstmOutput)\n",
        "# right_output = Dense(128)(right_LstmOutput)\n",
        "\n",
        "\n",
        "cosine = dot(inputs = [left_LstmOutput, right_LstmOutput], \n",
        "                        axes = -1, normalize = True)\n",
        "\n",
        "norm = Lambda(lambda x: x * 2 + 1)(cosine)\n",
        "\n",
        "\n",
        "# Pack it all up into a model\n",
        "cos_model = Model([left_input, right_input], norm)\n",
        "\n",
        "# Adadelta optimizer, with gradient clipping by norm\n",
        "# optimizer = Adadelta(clipnorm=gradient_clipping_norm)\n",
        "optimizer = Adam()\n",
        "\n",
        "cos_model.compile(loss='mean_squared_error', optimizer=optimizer)\n",
        "\n",
        "\n",
        "cos_trained = cos_model.fit([X_train['left'], X_train['right']], Y_train, batch_size=batch_size, nb_epoch=n_epoch,\n",
        "                            validation_data=([X_validation['left'], X_validation['right']], Y_validation), callbacks=[checkpointer,early_stopping])"
      ],
      "execution_count": 0,
      "outputs": [
        {
          "output_type": "stream",
          "text": [
            "/usr/local/lib/python3.6/dist-packages/ipykernel_launcher.py:49: UserWarning: The `nb_epoch` argument in `fit` has been renamed `epochs`.\n"
          ],
          "name": "stderr"
        },
        {
          "output_type": "stream",
          "text": [
            "Train on 60000 samples, validate on 14067 samples\n",
            "Epoch 1/30\n",
            "60000/60000 [==============================] - 51s 846us/step - loss: 0.3523 - val_loss: 0.2700\n",
            "\n",
            "Epoch 00001: val_loss improved from inf to 0.26996, saving model to drive/My Drive/weights.WordEmbeddingToRelavance300All.df5\n",
            "Epoch 2/30\n",
            "60000/60000 [==============================] - 51s 847us/step - loss: 0.2667 - val_loss: 0.2641\n",
            "\n",
            "Epoch 00002: val_loss improved from 0.26996 to 0.26410, saving model to drive/My Drive/weights.WordEmbeddingToRelavance300All.df5\n",
            "Epoch 3/30\n",
            "60000/60000 [==============================] - 49s 824us/step - loss: 0.2572 - val_loss: 0.2624\n",
            "\n",
            "Epoch 00003: val_loss improved from 0.26410 to 0.26244, saving model to drive/My Drive/weights.WordEmbeddingToRelavance300All.df5\n",
            "Epoch 4/30\n",
            "60000/60000 [==============================] - 49s 822us/step - loss: 0.2490 - val_loss: 0.2595\n",
            "\n",
            "Epoch 00004: val_loss improved from 0.26244 to 0.25948, saving model to drive/My Drive/weights.WordEmbeddingToRelavance300All.df5\n",
            "Epoch 5/30\n",
            "60000/60000 [==============================] - 50s 841us/step - loss: 0.2415 - val_loss: 0.2584\n",
            "\n",
            "Epoch 00005: val_loss improved from 0.25948 to 0.25838, saving model to drive/My Drive/weights.WordEmbeddingToRelavance300All.df5\n",
            "Epoch 6/30\n",
            "60000/60000 [==============================] - 50s 831us/step - loss: 0.2344 - val_loss: 0.2560\n",
            "\n",
            "Epoch 00006: val_loss improved from 0.25838 to 0.25600, saving model to drive/My Drive/weights.WordEmbeddingToRelavance300All.df5\n",
            "Epoch 7/30\n",
            "60000/60000 [==============================] - 50s 837us/step - loss: 0.2283 - val_loss: 0.2572\n",
            "\n",
            "Epoch 00007: val_loss did not improve from 0.25600\n",
            "Epoch 8/30\n",
            "60000/60000 [==============================] - 49s 812us/step - loss: 0.2223 - val_loss: 0.2557\n",
            "\n",
            "Epoch 00008: val_loss improved from 0.25600 to 0.25566, saving model to drive/My Drive/weights.WordEmbeddingToRelavance300All.df5\n",
            "Epoch 9/30\n",
            "60000/60000 [==============================] - 50s 828us/step - loss: 0.2171 - val_loss: 0.2535\n",
            "\n",
            "Epoch 00009: val_loss improved from 0.25566 to 0.25350, saving model to drive/My Drive/weights.WordEmbeddingToRelavance300All.df5\n",
            "Epoch 10/30\n",
            "60000/60000 [==============================] - 50s 836us/step - loss: 0.2120 - val_loss: 0.2528\n",
            "\n",
            "Epoch 00010: val_loss improved from 0.25350 to 0.25285, saving model to drive/My Drive/weights.WordEmbeddingToRelavance300All.df5\n",
            "Epoch 11/30\n",
            "60000/60000 [==============================] - 49s 818us/step - loss: 0.2075 - val_loss: 0.2521\n",
            "\n",
            "Epoch 00011: val_loss improved from 0.25285 to 0.25206, saving model to drive/My Drive/weights.WordEmbeddingToRelavance300All.df5\n",
            "Epoch 12/30\n",
            "60000/60000 [==============================] - 49s 823us/step - loss: 0.2033 - val_loss: 0.2519\n",
            "\n",
            "Epoch 00012: val_loss improved from 0.25206 to 0.25192, saving model to drive/My Drive/weights.WordEmbeddingToRelavance300All.df5\n",
            "Epoch 13/30\n",
            "60000/60000 [==============================] - 49s 824us/step - loss: 0.1993 - val_loss: 0.2513\n",
            "\n",
            "Epoch 00013: val_loss improved from 0.25192 to 0.25133, saving model to drive/My Drive/weights.WordEmbeddingToRelavance300All.df5\n",
            "Epoch 14/30\n",
            "60000/60000 [==============================] - 49s 823us/step - loss: 0.1956 - val_loss: 0.2524\n",
            "\n",
            "Epoch 00014: val_loss did not improve from 0.25133\n",
            "Epoch 15/30\n",
            "60000/60000 [==============================] - 48s 795us/step - loss: 0.1923 - val_loss: 0.2501\n",
            "\n",
            "Epoch 00015: val_loss improved from 0.25133 to 0.25006, saving model to drive/My Drive/weights.WordEmbeddingToRelavance300All.df5\n",
            "Epoch 16/30\n",
            "60000/60000 [==============================] - 50s 834us/step - loss: 0.1893 - val_loss: 0.2518\n",
            "\n",
            "Epoch 00016: val_loss did not improve from 0.25006\n",
            "Epoch 17/30\n",
            "60000/60000 [==============================] - 48s 803us/step - loss: 0.1859 - val_loss: 0.2523\n",
            "\n",
            "Epoch 00017: val_loss did not improve from 0.25006\n",
            "Epoch 18/30\n",
            "60000/60000 [==============================] - 48s 808us/step - loss: 0.1827 - val_loss: 0.2501\n",
            "\n",
            "Epoch 00018: val_loss did not improve from 0.25006\n",
            "Epoch 19/30\n",
            "60000/60000 [==============================] - 47s 791us/step - loss: 0.1797 - val_loss: 0.2535\n",
            "\n",
            "Epoch 00019: val_loss did not improve from 0.25006\n",
            "Epoch 20/30\n",
            "60000/60000 [==============================] - 49s 815us/step - loss: 0.1768 - val_loss: 0.2493\n",
            "\n",
            "Epoch 00020: val_loss improved from 0.25006 to 0.24934, saving model to drive/My Drive/weights.WordEmbeddingToRelavance300All.df5\n",
            "Epoch 21/30\n",
            "60000/60000 [==============================] - 50s 836us/step - loss: 0.1740 - val_loss: 0.2518\n",
            "\n",
            "Epoch 00021: val_loss did not improve from 0.24934\n",
            "Epoch 22/30\n",
            "60000/60000 [==============================] - 46s 767us/step - loss: 0.1717 - val_loss: 0.2501\n",
            "\n",
            "Epoch 00022: val_loss did not improve from 0.24934\n",
            "Epoch 23/30\n",
            "60000/60000 [==============================] - 46s 763us/step - loss: 0.1687 - val_loss: 0.2552\n",
            "\n",
            "Epoch 00023: val_loss did not improve from 0.24934\n",
            "Epoch 24/30\n",
            "60000/60000 [==============================] - 47s 777us/step - loss: 0.1664 - val_loss: 0.2532\n",
            "\n",
            "Epoch 00024: val_loss did not improve from 0.24934\n",
            "Epoch 25/30\n",
            "60000/60000 [==============================] - 47s 789us/step - loss: 0.1644 - val_loss: 0.2539\n",
            "\n",
            "Epoch 00025: val_loss did not improve from 0.24934\n",
            "Epoch 26/30\n",
            "60000/60000 [==============================] - 47s 781us/step - loss: 0.1617 - val_loss: 0.2538\n",
            "\n",
            "Epoch 00026: val_loss did not improve from 0.24934\n",
            "Epoch 27/30\n",
            "60000/60000 [==============================] - 46s 775us/step - loss: 0.1593 - val_loss: 0.2554\n",
            "\n",
            "Epoch 00027: val_loss did not improve from 0.24934\n",
            "Epoch 28/30\n",
            "60000/60000 [==============================] - 47s 777us/step - loss: 0.1575 - val_loss: 0.2544\n",
            "\n",
            "Epoch 00028: val_loss did not improve from 0.24934\n",
            "Epoch 29/30\n",
            "60000/60000 [==============================] - 47s 780us/step - loss: 0.1559 - val_loss: 0.2559\n",
            "\n",
            "Epoch 00029: val_loss did not improve from 0.24934\n",
            "Epoch 30/30\n",
            "60000/60000 [==============================] - 47s 776us/step - loss: 0.1536 - val_loss: 0.2547\n",
            "\n",
            "Epoch 00030: val_loss did not improve from 0.24934\n",
            "CPU times: user 32min 47s, sys: 4min 23s, total: 37min 10s\n",
            "Wall time: 26min\n"
          ],
          "name": "stdout"
        }
      ]
    },
    {
      "metadata": {
        "colab_type": "code",
        "outputId": "b3ba41f0-58b9-4ed8-ff19-dd8715887f5e",
        "id": "jTlOy7u0898G",
        "colab": {
          "base_uri": "https://localhost:8080/",
          "height": 84
        }
      },
      "cell_type": "code",
      "source": [
        "# predUnNormalized_train = (pred_train *2.0) +1.0\n",
        "\n",
        "print('Train RMSE score: {:<8.5f}'.format(np.sqrt(mean_squared_error(Y_train, pred_train))))\n",
        "print('Train MAE loss: {}'.format(mean_absolute_error(Y_train, pred_train)))\n",
        "\n",
        "\n",
        "# predUnNormalized_val = (pred_val *2.0) +1.0\n",
        "\n",
        "print('Validation RMSE score: {:<8.5f}'.format(np.sqrt(mean_squared_error(Y_validation, pred_val))))\n",
        "print('Validation MAE loss: {}'.format(mean_absolute_error(Y_validation, pred_val)))"
      ],
      "execution_count": 0,
      "outputs": [
        {
          "output_type": "stream",
          "text": [
            "Train RMSE score: 0.40875 \n",
            "Train MAE loss: 0.33500437011392914\n",
            "Validation RMSE score: 0.49934 \n",
            "Validation MAE loss: 0.4089857647557447\n"
          ],
          "name": "stdout"
        }
      ]
    },
    {
      "metadata": {
        "colab_type": "code",
        "outputId": "97b92c95-0242-42d9-dca4-e6cafced076a",
        "id": "tGVF1Lr0898I",
        "colab": {
          "base_uri": "https://localhost:8080/",
          "height": 1630
        }
      },
      "cell_type": "code",
      "source": [
        "%%time\n",
        "# Model variables\n",
        "leftN_hidden = 150\n",
        "rightN_hidden = 150\n",
        "gradient_clipping_norm = 1.25\n",
        "batch_size = 512\n",
        "n_epoch = 30\n",
        "\n",
        "# The visible layer\n",
        "left_input = Input(shape=(X_train['left'].shape[1],), dtype='int32')\n",
        "right_input = Input(shape=(X_train['right'].shape[1],), dtype='int32')\n",
        "\n",
        "embedding_layerLeft = Embedding(len(embeddingsSearch), embedding_dim, weights=[embeddingsSearch], input_length=maxSearchLength, trainable=False)\n",
        "embedding_layerRight = Embedding(len(embeddingsDesc), embedding_dim, weights=[embeddingsDesc], input_length=maxDescLength, trainable=False)\n",
        "\n",
        "# Embedded version of the inputs\n",
        "encoded_left = embedding_layerLeft(left_input)\n",
        "encoded_right = embedding_layerRight(right_input)\n",
        "\n",
        "# Since this is a siamese network, both sides share the same LSTM\n",
        "left_lstm = LSTM(leftN_hidden, kernel_initializer='glorot_uniform')\n",
        "right_lstm = LSTM(rightN_hidden, kernel_initializer='glorot_uniform')\n",
        "\n",
        "left_LstmOutput = left_lstm(encoded_left)\n",
        "right_LstmOutput = right_lstm(encoded_right)\n",
        "\n",
        "\n",
        "# left_output = Dense(128)(left_LstmOutput)\n",
        "# right_output = Dense(128)(right_LstmOutput)\n",
        "\n",
        "\n",
        "cosine = dot(inputs = [left_LstmOutput, right_LstmOutput], \n",
        "                        axes = -1, normalize = True)\n",
        "\n",
        "norm = Lambda(lambda x: x * 2 + 1)(cosine)\n",
        "\n",
        "\n",
        "# Pack it all up into a model\n",
        "cos_model = Model([left_input, right_input], norm)\n",
        "\n",
        "# Adadelta optimizer, with gradient clipping by norm\n",
        "# optimizer = Adadelta(clipnorm=gradient_clipping_norm)\n",
        "optimizer = Adam()\n",
        "\n",
        "cos_model.compile(loss='mean_squared_error', optimizer=optimizer)\n",
        "\n",
        "\n",
        "cos_trained = cos_model.fit([X_train['left'], X_train['right']], Y_train, batch_size=batch_size, nb_epoch=n_epoch,\n",
        "                            validation_data=([X_validation['left'], X_validation['right']], Y_validation), callbacks=[checkpointer,early_stopping])"
      ],
      "execution_count": 0,
      "outputs": [
        {
          "output_type": "stream",
          "text": [
            "/usr/local/lib/python3.6/dist-packages/ipykernel_launcher.py:49: UserWarning: The `nb_epoch` argument in `fit` has been renamed `epochs`.\n"
          ],
          "name": "stderr"
        },
        {
          "output_type": "stream",
          "text": [
            "Train on 60000 samples, validate on 14067 samples\n",
            "Epoch 1/30\n",
            "60000/60000 [==============================] - 53s 875us/step - loss: 0.3260 - val_loss: 0.2654\n",
            "\n",
            "Epoch 00001: val_loss did not improve from 0.24934\n",
            "Epoch 2/30\n",
            "60000/60000 [==============================] - 51s 852us/step - loss: 0.2639 - val_loss: 0.2659\n",
            "\n",
            "Epoch 00002: val_loss did not improve from 0.24934\n",
            "Epoch 3/30\n",
            "60000/60000 [==============================] - 51s 847us/step - loss: 0.2552 - val_loss: 0.2576\n",
            "\n",
            "Epoch 00003: val_loss did not improve from 0.24934\n",
            "Epoch 4/30\n",
            "60000/60000 [==============================] - 51s 848us/step - loss: 0.2453 - val_loss: 0.2540\n",
            "\n",
            "Epoch 00004: val_loss did not improve from 0.24934\n",
            "Epoch 5/30\n",
            "60000/60000 [==============================] - 51s 847us/step - loss: 0.2356 - val_loss: 0.2531\n",
            "\n",
            "Epoch 00005: val_loss did not improve from 0.24934\n",
            "Epoch 6/30\n",
            "60000/60000 [==============================] - 51s 852us/step - loss: 0.2264 - val_loss: 0.2521\n",
            "\n",
            "Epoch 00006: val_loss did not improve from 0.24934\n",
            "Epoch 7/30\n",
            "60000/60000 [==============================] - 51s 853us/step - loss: 0.2184 - val_loss: 0.2476\n",
            "\n",
            "Epoch 00007: val_loss improved from 0.24934 to 0.24758, saving model to drive/My Drive/weights.WordEmbeddingToRelavance300All.df5\n",
            "Epoch 8/30\n",
            "60000/60000 [==============================] - 52s 871us/step - loss: 0.2108 - val_loss: 0.2516\n",
            "\n",
            "Epoch 00008: val_loss did not improve from 0.24758\n",
            "Epoch 9/30\n",
            "60000/60000 [==============================] - 51s 847us/step - loss: 0.2034 - val_loss: 0.2487\n",
            "\n",
            "Epoch 00009: val_loss did not improve from 0.24758\n",
            "Epoch 10/30\n",
            "60000/60000 [==============================] - 51s 846us/step - loss: 0.1969 - val_loss: 0.2464\n",
            "\n",
            "Epoch 00010: val_loss improved from 0.24758 to 0.24642, saving model to drive/My Drive/weights.WordEmbeddingToRelavance300All.df5\n",
            "Epoch 11/30\n",
            "60000/60000 [==============================] - 52s 863us/step - loss: 0.1904 - val_loss: 0.2493\n",
            "\n",
            "Epoch 00011: val_loss did not improve from 0.24642\n",
            "Epoch 12/30\n",
            "60000/60000 [==============================] - 50s 831us/step - loss: 0.1844 - val_loss: 0.2476\n",
            "\n",
            "Epoch 00012: val_loss did not improve from 0.24642\n",
            "Epoch 13/30\n",
            "60000/60000 [==============================] - 50s 833us/step - loss: 0.1782 - val_loss: 0.2457\n",
            "\n",
            "Epoch 00013: val_loss improved from 0.24642 to 0.24567, saving model to drive/My Drive/weights.WordEmbeddingToRelavance300All.df5\n",
            "Epoch 14/30\n",
            "60000/60000 [==============================] - 51s 848us/step - loss: 0.1727 - val_loss: 0.2510\n",
            "\n",
            "Epoch 00014: val_loss did not improve from 0.24567\n",
            "Epoch 15/30\n",
            "60000/60000 [==============================] - 50s 828us/step - loss: 0.1673 - val_loss: 0.2524\n",
            "\n",
            "Epoch 00015: val_loss did not improve from 0.24567\n",
            "Epoch 16/30\n",
            "60000/60000 [==============================] - 50s 833us/step - loss: 0.1618 - val_loss: 0.2518\n",
            "\n",
            "Epoch 00016: val_loss did not improve from 0.24567\n",
            "Epoch 17/30\n",
            "60000/60000 [==============================] - 50s 835us/step - loss: 0.1576 - val_loss: 0.2590\n",
            "\n",
            "Epoch 00017: val_loss did not improve from 0.24567\n",
            "Epoch 18/30\n",
            "60000/60000 [==============================] - 50s 835us/step - loss: 0.1527 - val_loss: 0.2506\n",
            "\n",
            "Epoch 00018: val_loss did not improve from 0.24567\n",
            "Epoch 19/30\n",
            "60000/60000 [==============================] - 50s 837us/step - loss: 0.1469 - val_loss: 0.2571\n",
            "\n",
            "Epoch 00019: val_loss did not improve from 0.24567\n",
            "Epoch 20/30\n",
            "60000/60000 [==============================] - 49s 823us/step - loss: 0.1433 - val_loss: 0.2581\n",
            "\n",
            "Epoch 00020: val_loss did not improve from 0.24567\n",
            "Epoch 21/30\n",
            "60000/60000 [==============================] - 49s 821us/step - loss: 0.1391 - val_loss: 0.2520\n",
            "\n",
            "Epoch 00021: val_loss did not improve from 0.24567\n",
            "Epoch 22/30\n",
            "60000/60000 [==============================] - 49s 821us/step - loss: 0.1352 - val_loss: 0.2644\n",
            "\n",
            "Epoch 00022: val_loss did not improve from 0.24567\n",
            "Epoch 23/30\n",
            "60000/60000 [==============================] - 49s 824us/step - loss: 0.1329 - val_loss: 0.2555\n",
            "\n",
            "Epoch 00023: val_loss did not improve from 0.24567\n",
            "CPU times: user 25min 37s, sys: 3min 38s, total: 29min 16s\n",
            "Wall time: 19min 44s\n"
          ],
          "name": "stdout"
        }
      ]
    },
    {
      "metadata": {
        "colab_type": "code",
        "id": "0eVxpBq2898K",
        "colab": {}
      },
      "cell_type": "code",
      "source": [
        "cos_model.load_weights('drive/My Drive/weights.WordEmbeddingToRelavance300AllTest.df5')\n"
      ],
      "execution_count": 0,
      "outputs": []
    },
    {
      "metadata": {
        "colab_type": "code",
        "id": "VBpLRB39898K",
        "colab": {}
      },
      "cell_type": "code",
      "source": [
        "pred_train = cos_model.predict([X_train['left'], X_train['right']])\n",
        "pred_val = cos_model.predict([X_validation['left'], X_validation['right']])"
      ],
      "execution_count": 0,
      "outputs": []
    },
    {
      "metadata": {
        "colab_type": "code",
        "id": "YeeMtNgs898M",
        "colab": {}
      },
      "cell_type": "code",
      "source": [
        "# predUnNormalized_train = (pred_train *2.0) +1.0\n",
        "\n",
        "print('Train RMSE score: {:<8.5f}'.format(np.sqrt(mean_squared_error(Y_train, pred_train))))\n",
        "print('Train MAE loss: {}'.format(mean_absolute_error(Y_train, pred_train)))\n",
        "\n",
        "\n",
        "# predUnNormalized_val = (pred_val *2.0) +1.0\n",
        "\n",
        "print('Validation RMSE score: {:<8.5f}'.format(np.sqrt(mean_squared_error(Y_validation, pred_val))))\n",
        "print('Validation MAE loss: {}'.format(mean_absolute_error(Y_validation, pred_val)))"
      ],
      "execution_count": 0,
      "outputs": []
    },
    {
      "metadata": {
        "id": "-5AQrARNEjYE",
        "colab_type": "text"
      },
      "cell_type": "markdown",
      "source": [
        ""
      ]
    },
    {
      "metadata": {
        "colab_type": "text",
        "id": "Z2fWkaJWEZ_g"
      },
      "cell_type": "markdown",
      "source": [
        "**hidden = 100, batch = 128, epochs = 30**"
      ]
    },
    {
      "metadata": {
        "colab_type": "code",
        "id": "T7a_hXfpEZ_a",
        "colab": {}
      },
      "cell_type": "code",
      "source": [
        "from keras.callbacks import TensorBoard, ModelCheckpoint, EarlyStopping\n",
        "\n",
        "early_stopping = EarlyStopping(monitor='val_loss', patience=5)\n",
        "\n",
        "checkpointer = ModelCheckpoint(filepath='drive/My Drive/weights.word_embed_stem_diff_1_2_100hid_128B.df5', \n",
        "                                   verbose=1, save_best_only=True)"
      ],
      "execution_count": 0,
      "outputs": []
    },
    {
      "metadata": {
        "colab_type": "code",
        "outputId": "5711b2c1-c920-49f6-b42b-828190243865",
        "id": "HNcJBdepEZ_K",
        "colab": {
          "base_uri": "https://localhost:8080/",
          "height": 978
        }
      },
      "cell_type": "code",
      "source": [
        "%%time\n",
        "# Model variables\n",
        "leftN_hidden = 100\n",
        "rightN_hidden = 100\n",
        "gradient_clipping_norm = 1.25\n",
        "batch_size = 128\n",
        "n_epoch = 30\n",
        "\n",
        "# The visible layer\n",
        "left_input = Input(shape=(X_train['left'].shape[1],), dtype='int32')\n",
        "right_input = Input(shape=(X_train['right'].shape[1],), dtype='int32')\n",
        "\n",
        "embedding_layerLeft = Embedding(len(embeddingsSearch), embedding_dimSearch, weights=[embeddingsSearch], input_length=maxSearchLength, trainable=False)\n",
        "embedding_layerRight = Embedding(len(embeddingsDesc), embedding_dimDesc, weights=[embeddingsDesc], input_length=maxDescLength, trainable=False)\n",
        "\n",
        "# Embedded version of the inputs\n",
        "encoded_left = embedding_layerLeft(left_input)\n",
        "encoded_right = embedding_layerRight(right_input)\n",
        "\n",
        "# Since this is a siamese network, both sides share the same LSTM\n",
        "left_lstm = LSTM(leftN_hidden, kernel_initializer='glorot_uniform')\n",
        "right_lstm = LSTM(rightN_hidden, kernel_initializer='glorot_uniform')\n",
        "\n",
        "left_LstmOutput = left_lstm(encoded_left)\n",
        "right_LstmOutput = right_lstm(encoded_right)\n",
        "\n",
        "\n",
        "# left_output = Dense(256, activation = 'relu')(left_LstmOutput)\n",
        "# right_output = Dense(128)(right_LstmOutput)\n",
        "\n",
        "\n",
        "cosine = dot(inputs = [left_LstmOutput, right_LstmOutput], \n",
        "                        axes = -1, normalize = True)\n",
        "\n",
        "norm = Lambda(lambda x: x * 2 + 1)(cosine)\n",
        "\n",
        "\n",
        "# Pack it all up into a model\n",
        "cos_model = Model([left_input, right_input], norm)\n",
        "\n",
        "# Adadelta optimizer, with gradient clipping by norm\n",
        "# optimizer = Adadelta(clipnorm=gradient_clipping_norm)\n",
        "optimizer = Adam()\n",
        "\n",
        "cos_model.compile(loss='mean_squared_error', optimizer=optimizer)\n",
        "\n",
        "\n",
        "cos_trained = cos_model.fit([X_train['left'], X_train['right']], Y_train, batch_size=batch_size, nb_epoch=n_epoch,\n",
        "                            validation_data=([X_validation['left'], X_validation['right']], Y_validation), callbacks=[checkpointer,early_stopping])"
      ],
      "execution_count": 0,
      "outputs": [
        {
          "output_type": "stream",
          "text": [
            "/usr/local/lib/python3.6/dist-packages/ipykernel_launcher.py:48: UserWarning: The `nb_epoch` argument in `fit` has been renamed `epochs`.\n"
          ],
          "name": "stderr"
        },
        {
          "output_type": "stream",
          "text": [
            "Train on 59237 samples, validate on 14810 samples\n",
            "Epoch 1/30\n",
            "59237/59237 [==============================] - 156s 3ms/step - loss: 0.2968 - val_loss: 0.2664\n",
            "\n",
            "Epoch 00001: val_loss improved from inf to 0.26637, saving model to drive/My Drive/weights.word_embed_stem_diff_1_2_100hid_128B.df5\n",
            "Epoch 2/30\n",
            "59237/59237 [==============================] - 152s 3ms/step - loss: 0.2585 - val_loss: 0.2589\n",
            "\n",
            "Epoch 00002: val_loss improved from 0.26637 to 0.25894, saving model to drive/My Drive/weights.word_embed_stem_diff_1_2_100hid_128B.df5\n",
            "Epoch 3/30\n",
            "59237/59237 [==============================] - 153s 3ms/step - loss: 0.2444 - val_loss: 0.2557\n",
            "\n",
            "Epoch 00003: val_loss improved from 0.25894 to 0.25571, saving model to drive/My Drive/weights.word_embed_stem_diff_1_2_100hid_128B.df5\n",
            "Epoch 4/30\n",
            "59237/59237 [==============================] - 152s 3ms/step - loss: 0.2314 - val_loss: 0.2531\n",
            "\n",
            "Epoch 00004: val_loss improved from 0.25571 to 0.25311, saving model to drive/My Drive/weights.word_embed_stem_diff_1_2_100hid_128B.df5\n",
            "Epoch 5/30\n",
            "59237/59237 [==============================] - 153s 3ms/step - loss: 0.2196 - val_loss: 0.2493\n",
            "\n",
            "Epoch 00005: val_loss improved from 0.25311 to 0.24929, saving model to drive/My Drive/weights.word_embed_stem_diff_1_2_100hid_128B.df5\n",
            "Epoch 6/30\n",
            "59237/59237 [==============================] - 151s 3ms/step - loss: 0.2090 - val_loss: 0.2489\n",
            "\n",
            "Epoch 00006: val_loss improved from 0.24929 to 0.24894, saving model to drive/My Drive/weights.word_embed_stem_diff_1_2_100hid_128B.df5\n",
            "Epoch 7/30\n",
            "59237/59237 [==============================] - 153s 3ms/step - loss: 0.1999 - val_loss: 0.2488\n",
            "\n",
            "Epoch 00007: val_loss improved from 0.24894 to 0.24875, saving model to drive/My Drive/weights.word_embed_stem_diff_1_2_100hid_128B.df5\n",
            "Epoch 8/30\n",
            "59237/59237 [==============================] - 145s 2ms/step - loss: 0.1916 - val_loss: 0.2446\n",
            "\n",
            "Epoch 00008: val_loss improved from 0.24875 to 0.24462, saving model to drive/My Drive/weights.word_embed_stem_diff_1_2_100hid_128B.df5\n",
            "Epoch 9/30\n",
            "59237/59237 [==============================] - 145s 2ms/step - loss: 0.1849 - val_loss: 0.2451\n",
            "\n",
            "Epoch 00009: val_loss did not improve from 0.24462\n",
            "Epoch 10/30\n",
            "59237/59237 [==============================] - 146s 2ms/step - loss: 0.1783 - val_loss: 0.2483\n",
            "\n",
            "Epoch 00010: val_loss did not improve from 0.24462\n",
            "Epoch 11/30\n",
            "59237/59237 [==============================] - 144s 2ms/step - loss: 0.1718 - val_loss: 0.2461\n",
            "\n",
            "Epoch 00011: val_loss did not improve from 0.24462\n",
            "Epoch 12/30\n",
            "59237/59237 [==============================] - 142s 2ms/step - loss: 0.1666 - val_loss: 0.2450\n",
            "\n",
            "Epoch 00012: val_loss did not improve from 0.24462\n",
            "Epoch 13/30\n",
            "59237/59237 [==============================] - 144s 2ms/step - loss: 0.1608 - val_loss: 0.2455\n",
            "\n",
            "Epoch 00013: val_loss did not improve from 0.24462\n",
            "CPU times: user 43min 50s, sys: 5min 17s, total: 49min 7s\n",
            "Wall time: 32min 55s\n"
          ],
          "name": "stdout"
        }
      ]
    },
    {
      "metadata": {
        "colab_type": "code",
        "id": "IXwect0P4m2T",
        "colab": {}
      },
      "cell_type": "code",
      "source": [
        "from keras.callbacks import TensorBoard, ModelCheckpoint, EarlyStopping\n",
        "\n",
        "early_stopping = EarlyStopping(monitor='val_loss', patience=10)\n",
        "\n",
        "checkpointer = ModelCheckpoint(filepath='drive/My Drive/weights.WordEmbeddingToRelavance300Stem.df5', \n",
        "                                   verbose=1, save_best_only=True)"
      ],
      "execution_count": 0,
      "outputs": []
    },
    {
      "metadata": {
        "colab_type": "text",
        "id": "46Mloop94m2X"
      },
      "cell_type": "markdown",
      "source": [
        "padded with 50 for search term, and 50 hidden units"
      ]
    },
    {
      "metadata": {
        "colab_type": "code",
        "outputId": "f9f808d7-5f05-4482-d929-bb8a762fac65",
        "id": "pOmRcot74m2Y",
        "colab": {
          "base_uri": "https://localhost:8080/",
          "height": 1445
        }
      },
      "cell_type": "code",
      "source": [
        "%%time\n",
        "#TODO: understand N_hidden (input for LSTM)\n",
        "# Model variables\n",
        "leftN_hidden = 50\n",
        "rightN_hidden = 50\n",
        "gradient_clipping_norm = 1.25\n",
        "batch_size = 64\n",
        "n_epoch = 20\n",
        "\n",
        "# The visible layer\n",
        "left_input = Input(shape=(X_train['left'].shape[1],), dtype='int32')\n",
        "right_input = Input(shape=(X_train['right'].shape[1],), dtype='int32')\n",
        "\n",
        "embedding_layerLeft = Embedding(len(embeddingsSearch), embedding_dim, weights=[embeddingsSearch], input_length=maxSearchLength, trainable=False)\n",
        "embedding_layerRight = Embedding(len(embeddingsDesc), embedding_dim, weights=[embeddingsDesc], input_length=maxDescLength, trainable=False)\n",
        "\n",
        "# Embedded version of the inputs\n",
        "encoded_left = embedding_layerLeft(left_input)\n",
        "encoded_right = embedding_layerRight(right_input)\n",
        "\n",
        "# Since this is a siamese network, both sides share the same LSTM\n",
        "left_lstm = LSTM(leftN_hidden, kernel_initializer='glorot_uniform')\n",
        "right_lstm = LSTM(rightN_hidden, kernel_initializer='glorot_uniform')\n",
        "\n",
        "left_LstmOutput = left_lstm(encoded_left)\n",
        "right_LstmOutput = right_lstm(encoded_right)\n",
        "\n",
        "\n",
        "# left_output = Dense(128)(left_LstmOutput)\n",
        "# right_output = Dense(128)(right_LstmOutput)\n",
        "\n",
        "\n",
        "cosine = dot(inputs = [left_LstmOutput, right_LstmOutput], \n",
        "                        axes = -1, normalize = True)\n",
        "\n",
        "norm = Lambda(lambda x: x * 2 + 1)(cosine)\n",
        "\n",
        "\n",
        "# Pack it all up into a model\n",
        "cos_model = Model([left_input, right_input], norm)\n",
        "\n",
        "# Adadelta optimizer, with gradient clipping by norm\n",
        "# optimizer = Adadelta(clipnorm=gradient_clipping_norm)\n",
        "optimizer = Adam()\n",
        "\n",
        "cos_model.compile(loss='mean_squared_error', optimizer=optimizer)\n",
        "\n",
        "\n",
        "cos_trained = cos_model.fit([X_train['left'], X_train['right']], Y_train, batch_size=batch_size, nb_epoch=n_epoch,\n",
        "                            validation_data=([X_validation['left'], X_validation['right']], Y_validation), callbacks=[checkpointer,early_stopping])"
      ],
      "execution_count": 0,
      "outputs": [
        {
          "output_type": "stream",
          "text": [
            "/usr/local/lib/python3.6/dist-packages/ipykernel_launcher.py:49: UserWarning: The `nb_epoch` argument in `fit` has been renamed `epochs`.\n"
          ],
          "name": "stderr"
        },
        {
          "output_type": "stream",
          "text": [
            "Train on 60000 samples, validate on 14067 samples\n",
            "Epoch 1/20\n",
            "60000/60000 [==============================] - 58s 960us/step - loss: 0.3507 - val_loss: 0.2755\n",
            "\n",
            "Epoch 00001: val_loss improved from inf to 0.27554, saving model to drive/My Drive/weights.WordEmbeddingToRelavance300Stem.df5\n",
            "Epoch 2/20\n",
            "60000/60000 [==============================] - 57s 948us/step - loss: 0.2647 - val_loss: 0.2716\n",
            "\n",
            "Epoch 00002: val_loss improved from 0.27554 to 0.27161, saving model to drive/My Drive/weights.WordEmbeddingToRelavance300Stem.df5\n",
            "Epoch 3/20\n",
            "60000/60000 [==============================] - 57s 957us/step - loss: 0.2566 - val_loss: 0.2683\n",
            "\n",
            "Epoch 00003: val_loss improved from 0.27161 to 0.26834, saving model to drive/My Drive/weights.WordEmbeddingToRelavance300Stem.df5\n",
            "Epoch 4/20\n",
            "60000/60000 [==============================] - 57s 953us/step - loss: 0.2493 - val_loss: 0.2658\n",
            "\n",
            "Epoch 00004: val_loss improved from 0.26834 to 0.26577, saving model to drive/My Drive/weights.WordEmbeddingToRelavance300Stem.df5\n",
            "Epoch 5/20\n",
            "60000/60000 [==============================] - 58s 961us/step - loss: 0.2430 - val_loss: 0.2643\n",
            "\n",
            "Epoch 00005: val_loss improved from 0.26577 to 0.26428, saving model to drive/My Drive/weights.WordEmbeddingToRelavance300Stem.df5\n",
            "Epoch 6/20\n",
            "60000/60000 [==============================] - 58s 968us/step - loss: 0.2366 - val_loss: 0.2620\n",
            "\n",
            "Epoch 00006: val_loss improved from 0.26428 to 0.26203, saving model to drive/My Drive/weights.WordEmbeddingToRelavance300Stem.df5\n",
            "Epoch 7/20\n",
            "60000/60000 [==============================] - 58s 968us/step - loss: 0.2309 - val_loss: 0.2624\n",
            "\n",
            "Epoch 00007: val_loss did not improve from 0.26203\n",
            "Epoch 8/20\n",
            "60000/60000 [==============================] - 57s 944us/step - loss: 0.2253 - val_loss: 0.2610\n",
            "\n",
            "Epoch 00008: val_loss improved from 0.26203 to 0.26098, saving model to drive/My Drive/weights.WordEmbeddingToRelavance300Stem.df5\n",
            "Epoch 9/20\n",
            "60000/60000 [==============================] - 58s 967us/step - loss: 0.2208 - val_loss: 0.2615\n",
            "\n",
            "Epoch 00009: val_loss did not improve from 0.26098\n",
            "Epoch 10/20\n",
            "60000/60000 [==============================] - 57s 944us/step - loss: 0.2158 - val_loss: 0.2601\n",
            "\n",
            "Epoch 00010: val_loss improved from 0.26098 to 0.26006, saving model to drive/My Drive/weights.WordEmbeddingToRelavance300Stem.df5\n",
            "Epoch 11/20\n",
            "60000/60000 [==============================] - 58s 967us/step - loss: 0.2119 - val_loss: 0.2596\n",
            "\n",
            "Epoch 00011: val_loss improved from 0.26006 to 0.25957, saving model to drive/My Drive/weights.WordEmbeddingToRelavance300Stem.df5\n",
            "Epoch 12/20\n",
            "60000/60000 [==============================] - 58s 968us/step - loss: 0.2078 - val_loss: 0.2589\n",
            "\n",
            "Epoch 00012: val_loss improved from 0.25957 to 0.25889, saving model to drive/My Drive/weights.WordEmbeddingToRelavance300Stem.df5\n",
            "Epoch 13/20\n",
            "60000/60000 [==============================] - 58s 966us/step - loss: 0.2040 - val_loss: 0.2583\n",
            "\n",
            "Epoch 00013: val_loss improved from 0.25889 to 0.25829, saving model to drive/My Drive/weights.WordEmbeddingToRelavance300Stem.df5\n",
            "Epoch 14/20\n",
            "60000/60000 [==============================] - 58s 966us/step - loss: 0.2005 - val_loss: 0.2582\n",
            "\n",
            "Epoch 00014: val_loss improved from 0.25829 to 0.25821, saving model to drive/My Drive/weights.WordEmbeddingToRelavance300Stem.df5\n",
            "Epoch 15/20\n",
            "60000/60000 [==============================] - 58s 966us/step - loss: 0.1970 - val_loss: 0.2567\n",
            "\n",
            "Epoch 00015: val_loss improved from 0.25821 to 0.25672, saving model to drive/My Drive/weights.WordEmbeddingToRelavance300Stem.df5\n",
            "Epoch 16/20\n",
            "60000/60000 [==============================] - 58s 966us/step - loss: 0.1939 - val_loss: 0.2568\n",
            "\n",
            "Epoch 00016: val_loss did not improve from 0.25672\n",
            "Epoch 17/20\n",
            "60000/60000 [==============================] - 57s 946us/step - loss: 0.1908 - val_loss: 0.2563\n",
            "\n",
            "Epoch 00017: val_loss improved from 0.25672 to 0.25626, saving model to drive/My Drive/weights.WordEmbeddingToRelavance300Stem.df5\n",
            "Epoch 18/20\n",
            "60000/60000 [==============================] - 58s 964us/step - loss: 0.1880 - val_loss: 0.2556\n",
            "\n",
            "Epoch 00018: val_loss improved from 0.25626 to 0.25561, saving model to drive/My Drive/weights.WordEmbeddingToRelavance300Stem.df5\n",
            "Epoch 19/20\n",
            "60000/60000 [==============================] - 58s 964us/step - loss: 0.1851 - val_loss: 0.2564\n",
            "\n",
            "Epoch 00019: val_loss did not improve from 0.25561\n",
            "Epoch 20/20\n",
            "60000/60000 [==============================] - 56s 941us/step - loss: 0.1826 - val_loss: 0.2572\n",
            "\n",
            "Epoch 00020: val_loss did not improve from 0.25561\n",
            "CPU times: user 26min 37s, sys: 3min 55s, total: 30min 32s\n",
            "Wall time: 20min 38s\n"
          ],
          "name": "stdout"
        }
      ]
    },
    {
      "metadata": {
        "colab_type": "text",
        "id": "RybmKzZ84m2b"
      },
      "cell_type": "markdown",
      "source": [
        "There is some overfitting here, and not getting our best result, we will try to improve it"
      ]
    },
    {
      "metadata": {
        "colab_type": "code",
        "id": "9aFLmagb4m2b",
        "colab": {}
      },
      "cell_type": "code",
      "source": [
        "cos_model.load_weights('drive/My Drive/weights.WordEmbeddingToRelavance300Stem.df5')\n"
      ],
      "execution_count": 0,
      "outputs": []
    },
    {
      "metadata": {
        "colab_type": "code",
        "id": "o7Ryqxx_4m2d",
        "colab": {}
      },
      "cell_type": "code",
      "source": [
        "pred_train = cos_model.predict([X_train['left'], X_train['right']])\n",
        "pred_val = cos_model.predict([X_validation['left'], X_validation['right']])"
      ],
      "execution_count": 0,
      "outputs": []
    },
    {
      "metadata": {
        "colab_type": "code",
        "outputId": "e8acfb99-811f-4427-dfdd-a98c0c1e1097",
        "id": "ZQ3qTKkZ4m2g",
        "colab": {
          "base_uri": "https://localhost:8080/",
          "height": 85
        }
      },
      "cell_type": "code",
      "source": [
        "# predUnNormalized_train = (pred_train *2.0) +1.0\n",
        "\n",
        "print('Train RMSE score: {:<8.5f}'.format(np.sqrt(mean_squared_error(Y_train, pred_train))))\n",
        "print('Train MAE loss: {}'.format(mean_absolute_error(Y_train, pred_train)))\n",
        "\n",
        "\n",
        "# predUnNormalized_val = (pred_val *2.0) +1.0\n",
        "\n",
        "print('Validation RMSE score: {:<8.5f}'.format(np.sqrt(mean_squared_error(Y_validation, pred_val))))\n",
        "print('Validation MAE loss: {}'.format(mean_absolute_error(Y_validation, pred_val)))"
      ],
      "execution_count": 0,
      "outputs": [
        {
          "output_type": "stream",
          "text": [
            "Train RMSE score: 0.42289 \n",
            "Train MAE loss: 0.3473968652136326\n",
            "Validation RMSE score: 0.50558 \n",
            "Validation MAE loss: 0.4122922195198101\n"
          ],
          "name": "stdout"
        }
      ]
    },
    {
      "metadata": {
        "colab_type": "code",
        "id": "LGuuROsT4m2k",
        "colab": {}
      },
      "cell_type": "code",
      "source": [
        "from keras.callbacks import TensorBoard, ModelCheckpoint, EarlyStopping\n",
        "\n",
        "early_stopping = EarlyStopping(monitor='val_loss', patience=10)\n",
        "\n",
        "checkpointer = ModelCheckpoint(filepath='drive/My Drive/weights.WordEmbeddingToRelavance300StemDiffLSTM.df5', \n",
        "                                   verbose=1, save_best_only=True)"
      ],
      "execution_count": 0,
      "outputs": []
    },
    {
      "metadata": {
        "colab_type": "code",
        "outputId": "6b662c12-3ee8-434b-81d5-4be429db073e",
        "id": "R3qP6Dn74m2l",
        "colab": {
          "base_uri": "https://localhost:8080/",
          "height": 425
        }
      },
      "cell_type": "code",
      "source": [
        "%%time\n",
        "# Model variables\n",
        "leftN_hidden = 14\n",
        "rightN_hidden = 150\n",
        "gradient_clipping_norm = 1.25\n",
        "batch_size = 64\n",
        "n_epoch = 5\n",
        "\n",
        "# The visible layer\n",
        "left_input = Input(shape=(X_train['left'].shape[1],), dtype='int32')\n",
        "right_input = Input(shape=(X_train['right'].shape[1],), dtype='int32')\n",
        "\n",
        "embedding_layerLeft = Embedding(len(embeddingsSearch), embedding_dim, weights=[embeddingsSearch], input_length=maxSearchLength, trainable=False)\n",
        "embedding_layerRight = Embedding(len(embeddingsDesc), embedding_dim, weights=[embeddingsDesc], input_length=maxDescLength, trainable=False)\n",
        "\n",
        "# Embedded version of the inputs\n",
        "encoded_left = embedding_layerLeft(left_input)\n",
        "encoded_right = embedding_layerRight(right_input)\n",
        "\n",
        "# Since this is a siamese network, both sides share the same LSTM\n",
        "left_lstm = LSTM(leftN_hidden, kernel_initializer='glorot_uniform')\n",
        "right_lstm = LSTM(rightN_hidden, kernel_initializer='glorot_uniform')\n",
        "\n",
        "left_LstmOutput = left_lstm(encoded_left)\n",
        "right_LstmOutput = right_lstm(encoded_right)\n",
        "\n",
        "\n",
        "left_dense = Dense(150, activation = 'relu')(left_LstmOutput)\n",
        "\n",
        "# left_output = Dense(128)(left_LstmOutput)\n",
        "# right_output = Dense(128)(right_LstmOutput)\n",
        "\n",
        "\n",
        "cosine = dot(inputs = [left_dense, right_LstmOutput], \n",
        "                        axes = -1, normalize = True)\n",
        "\n",
        "norm = Lambda(lambda x: x * 2 + 1)(cosine)\n",
        "\n",
        "\n",
        "# Pack it all up into a model\n",
        "cos_model = Model([left_input, right_input], norm)\n",
        "\n",
        "# Adadelta optimizer, with gradient clipping by norm\n",
        "# optimizer = Adadelta(clipnorm=gradient_clipping_norm)\n",
        "optimizer = Adam()\n",
        "\n",
        "cos_model.compile(loss='mean_squared_error', optimizer=optimizer)\n",
        "\n",
        "\n",
        "cos_trained = cos_model.fit([X_train['left'], X_train['right']], Y_train, batch_size=batch_size, nb_epoch=n_epoch,\n",
        "                            validation_data=([X_validation['left'], X_validation['right']], Y_validation), callbacks=[checkpointer,early_stopping])"
      ],
      "execution_count": 0,
      "outputs": [
        {
          "output_type": "stream",
          "text": [
            "/usr/local/lib/python3.6/dist-packages/ipykernel_launcher.py:51: UserWarning: The `nb_epoch` argument in `fit` has been renamed `epochs`.\n"
          ],
          "name": "stderr"
        },
        {
          "output_type": "stream",
          "text": [
            "Train on 60000 samples, validate on 14067 samples\n",
            "Epoch 1/5\n",
            "60000/60000 [==============================] - 366s 6ms/step - loss: 0.2802 - val_loss: 0.2698\n",
            "\n",
            "Epoch 00001: val_loss did not improve from 0.26116\n",
            "Epoch 2/5\n",
            "60000/60000 [==============================] - 365s 6ms/step - loss: 0.2610 - val_loss: 0.2635\n",
            "\n",
            "Epoch 00002: val_loss did not improve from 0.26116\n",
            "Epoch 3/5\n",
            "60000/60000 [==============================] - 364s 6ms/step - loss: 0.2518 - val_loss: 0.2581\n",
            "\n",
            "Epoch 00003: val_loss improved from 0.26116 to 0.25806, saving model to drive/My Drive/weights.WordEmbeddingToRelavance300StemDiffLSTM.df5\n",
            "Epoch 4/5\n",
            "60000/60000 [==============================] - 364s 6ms/step - loss: 0.2431 - val_loss: 0.2559\n",
            "\n",
            "Epoch 00004: val_loss improved from 0.25806 to 0.25586, saving model to drive/My Drive/weights.WordEmbeddingToRelavance300StemDiffLSTM.df5\n",
            "Epoch 5/5\n",
            "60000/60000 [==============================] - 364s 6ms/step - loss: 0.2352 - val_loss: 0.2539\n",
            "\n",
            "Epoch 00005: val_loss improved from 0.25586 to 0.25388, saving model to drive/My Drive/weights.WordEmbeddingToRelavance300StemDiffLSTM.df5\n",
            "CPU times: user 41min 33s, sys: 5min 15s, total: 46min 48s\n",
            "Wall time: 30min 47s\n"
          ],
          "name": "stdout"
        }
      ]
    },
    {
      "metadata": {
        "colab_type": "code",
        "id": "xWSjGFWV4mWv",
        "colab": {}
      },
      "cell_type": "code",
      "source": [
        "from keras.callbacks import TensorBoard, ModelCheckpoint, EarlyStopping\n",
        "\n",
        "early_stopping = EarlyStopping(monitor='val_loss', patience=10)\n",
        "\n",
        "checkpointer = ModelCheckpoint(filepath='drive/My Drive/weights.WordEmbeddingToRelavance300Stem.df5', \n",
        "                                   verbose=1, save_best_only=True)"
      ],
      "execution_count": 0,
      "outputs": []
    },
    {
      "metadata": {
        "colab_type": "text",
        "id": "GJhcKyyW4mWx"
      },
      "cell_type": "markdown",
      "source": [
        "padded with 50 for search term, and 50 hidden units"
      ]
    },
    {
      "metadata": {
        "colab_type": "code",
        "outputId": "f9f808d7-5f05-4482-d929-bb8a762fac65",
        "id": "-5DCjp3_4mWy",
        "colab": {
          "base_uri": "https://localhost:8080/",
          "height": 1445
        }
      },
      "cell_type": "code",
      "source": [
        "%%time\n",
        "#TODO: understand N_hidden (input for LSTM)\n",
        "# Model variables\n",
        "leftN_hidden = 50\n",
        "rightN_hidden = 50\n",
        "gradient_clipping_norm = 1.25\n",
        "batch_size = 64\n",
        "n_epoch = 20\n",
        "\n",
        "# The visible layer\n",
        "left_input = Input(shape=(X_train['left'].shape[1],), dtype='int32')\n",
        "right_input = Input(shape=(X_train['right'].shape[1],), dtype='int32')\n",
        "\n",
        "embedding_layerLeft = Embedding(len(embeddingsSearch), embedding_dim, weights=[embeddingsSearch], input_length=maxSearchLength, trainable=False)\n",
        "embedding_layerRight = Embedding(len(embeddingsDesc), embedding_dim, weights=[embeddingsDesc], input_length=maxDescLength, trainable=False)\n",
        "\n",
        "# Embedded version of the inputs\n",
        "encoded_left = embedding_layerLeft(left_input)\n",
        "encoded_right = embedding_layerRight(right_input)\n",
        "\n",
        "# Since this is a siamese network, both sides share the same LSTM\n",
        "left_lstm = LSTM(leftN_hidden, kernel_initializer='glorot_uniform')\n",
        "right_lstm = LSTM(rightN_hidden, kernel_initializer='glorot_uniform')\n",
        "\n",
        "left_LstmOutput = left_lstm(encoded_left)\n",
        "right_LstmOutput = right_lstm(encoded_right)\n",
        "\n",
        "\n",
        "# left_output = Dense(128)(left_LstmOutput)\n",
        "# right_output = Dense(128)(right_LstmOutput)\n",
        "\n",
        "\n",
        "cosine = dot(inputs = [left_LstmOutput, right_LstmOutput], \n",
        "                        axes = -1, normalize = True)\n",
        "\n",
        "norm = Lambda(lambda x: x * 2 + 1)(cosine)\n",
        "\n",
        "\n",
        "# Pack it all up into a model\n",
        "cos_model = Model([left_input, right_input], norm)\n",
        "\n",
        "# Adadelta optimizer, with gradient clipping by norm\n",
        "# optimizer = Adadelta(clipnorm=gradient_clipping_norm)\n",
        "optimizer = Adam()\n",
        "\n",
        "cos_model.compile(loss='mean_squared_error', optimizer=optimizer)\n",
        "\n",
        "\n",
        "cos_trained = cos_model.fit([X_train['left'], X_train['right']], Y_train, batch_size=batch_size, nb_epoch=n_epoch,\n",
        "                            validation_data=([X_validation['left'], X_validation['right']], Y_validation), callbacks=[checkpointer,early_stopping])"
      ],
      "execution_count": 0,
      "outputs": [
        {
          "output_type": "stream",
          "text": [
            "/usr/local/lib/python3.6/dist-packages/ipykernel_launcher.py:49: UserWarning: The `nb_epoch` argument in `fit` has been renamed `epochs`.\n"
          ],
          "name": "stderr"
        },
        {
          "output_type": "stream",
          "text": [
            "Train on 60000 samples, validate on 14067 samples\n",
            "Epoch 1/20\n",
            "60000/60000 [==============================] - 58s 960us/step - loss: 0.3507 - val_loss: 0.2755\n",
            "\n",
            "Epoch 00001: val_loss improved from inf to 0.27554, saving model to drive/My Drive/weights.WordEmbeddingToRelavance300Stem.df5\n",
            "Epoch 2/20\n",
            "60000/60000 [==============================] - 57s 948us/step - loss: 0.2647 - val_loss: 0.2716\n",
            "\n",
            "Epoch 00002: val_loss improved from 0.27554 to 0.27161, saving model to drive/My Drive/weights.WordEmbeddingToRelavance300Stem.df5\n",
            "Epoch 3/20\n",
            "60000/60000 [==============================] - 57s 957us/step - loss: 0.2566 - val_loss: 0.2683\n",
            "\n",
            "Epoch 00003: val_loss improved from 0.27161 to 0.26834, saving model to drive/My Drive/weights.WordEmbeddingToRelavance300Stem.df5\n",
            "Epoch 4/20\n",
            "60000/60000 [==============================] - 57s 953us/step - loss: 0.2493 - val_loss: 0.2658\n",
            "\n",
            "Epoch 00004: val_loss improved from 0.26834 to 0.26577, saving model to drive/My Drive/weights.WordEmbeddingToRelavance300Stem.df5\n",
            "Epoch 5/20\n",
            "60000/60000 [==============================] - 58s 961us/step - loss: 0.2430 - val_loss: 0.2643\n",
            "\n",
            "Epoch 00005: val_loss improved from 0.26577 to 0.26428, saving model to drive/My Drive/weights.WordEmbeddingToRelavance300Stem.df5\n",
            "Epoch 6/20\n",
            "60000/60000 [==============================] - 58s 968us/step - loss: 0.2366 - val_loss: 0.2620\n",
            "\n",
            "Epoch 00006: val_loss improved from 0.26428 to 0.26203, saving model to drive/My Drive/weights.WordEmbeddingToRelavance300Stem.df5\n",
            "Epoch 7/20\n",
            "60000/60000 [==============================] - 58s 968us/step - loss: 0.2309 - val_loss: 0.2624\n",
            "\n",
            "Epoch 00007: val_loss did not improve from 0.26203\n",
            "Epoch 8/20\n",
            "60000/60000 [==============================] - 57s 944us/step - loss: 0.2253 - val_loss: 0.2610\n",
            "\n",
            "Epoch 00008: val_loss improved from 0.26203 to 0.26098, saving model to drive/My Drive/weights.WordEmbeddingToRelavance300Stem.df5\n",
            "Epoch 9/20\n",
            "60000/60000 [==============================] - 58s 967us/step - loss: 0.2208 - val_loss: 0.2615\n",
            "\n",
            "Epoch 00009: val_loss did not improve from 0.26098\n",
            "Epoch 10/20\n",
            "60000/60000 [==============================] - 57s 944us/step - loss: 0.2158 - val_loss: 0.2601\n",
            "\n",
            "Epoch 00010: val_loss improved from 0.26098 to 0.26006, saving model to drive/My Drive/weights.WordEmbeddingToRelavance300Stem.df5\n",
            "Epoch 11/20\n",
            "60000/60000 [==============================] - 58s 967us/step - loss: 0.2119 - val_loss: 0.2596\n",
            "\n",
            "Epoch 00011: val_loss improved from 0.26006 to 0.25957, saving model to drive/My Drive/weights.WordEmbeddingToRelavance300Stem.df5\n",
            "Epoch 12/20\n",
            "60000/60000 [==============================] - 58s 968us/step - loss: 0.2078 - val_loss: 0.2589\n",
            "\n",
            "Epoch 00012: val_loss improved from 0.25957 to 0.25889, saving model to drive/My Drive/weights.WordEmbeddingToRelavance300Stem.df5\n",
            "Epoch 13/20\n",
            "60000/60000 [==============================] - 58s 966us/step - loss: 0.2040 - val_loss: 0.2583\n",
            "\n",
            "Epoch 00013: val_loss improved from 0.25889 to 0.25829, saving model to drive/My Drive/weights.WordEmbeddingToRelavance300Stem.df5\n",
            "Epoch 14/20\n",
            "60000/60000 [==============================] - 58s 966us/step - loss: 0.2005 - val_loss: 0.2582\n",
            "\n",
            "Epoch 00014: val_loss improved from 0.25829 to 0.25821, saving model to drive/My Drive/weights.WordEmbeddingToRelavance300Stem.df5\n",
            "Epoch 15/20\n",
            "60000/60000 [==============================] - 58s 966us/step - loss: 0.1970 - val_loss: 0.2567\n",
            "\n",
            "Epoch 00015: val_loss improved from 0.25821 to 0.25672, saving model to drive/My Drive/weights.WordEmbeddingToRelavance300Stem.df5\n",
            "Epoch 16/20\n",
            "60000/60000 [==============================] - 58s 966us/step - loss: 0.1939 - val_loss: 0.2568\n",
            "\n",
            "Epoch 00016: val_loss did not improve from 0.25672\n",
            "Epoch 17/20\n",
            "60000/60000 [==============================] - 57s 946us/step - loss: 0.1908 - val_loss: 0.2563\n",
            "\n",
            "Epoch 00017: val_loss improved from 0.25672 to 0.25626, saving model to drive/My Drive/weights.WordEmbeddingToRelavance300Stem.df5\n",
            "Epoch 18/20\n",
            "60000/60000 [==============================] - 58s 964us/step - loss: 0.1880 - val_loss: 0.2556\n",
            "\n",
            "Epoch 00018: val_loss improved from 0.25626 to 0.25561, saving model to drive/My Drive/weights.WordEmbeddingToRelavance300Stem.df5\n",
            "Epoch 19/20\n",
            "60000/60000 [==============================] - 58s 964us/step - loss: 0.1851 - val_loss: 0.2564\n",
            "\n",
            "Epoch 00019: val_loss did not improve from 0.25561\n",
            "Epoch 20/20\n",
            "60000/60000 [==============================] - 56s 941us/step - loss: 0.1826 - val_loss: 0.2572\n",
            "\n",
            "Epoch 00020: val_loss did not improve from 0.25561\n",
            "CPU times: user 26min 37s, sys: 3min 55s, total: 30min 32s\n",
            "Wall time: 20min 38s\n"
          ],
          "name": "stdout"
        }
      ]
    },
    {
      "metadata": {
        "colab_type": "text",
        "id": "r1gbTAaF4mW1"
      },
      "cell_type": "markdown",
      "source": [
        "There is some overfitting here, and not getting our best result, we will try to improve it"
      ]
    },
    {
      "metadata": {
        "colab_type": "code",
        "id": "gk0r2sA24mW1",
        "colab": {}
      },
      "cell_type": "code",
      "source": [
        "cos_model.load_weights('drive/My Drive/weights.WordEmbeddingToRelavance300Stem.df5')\n"
      ],
      "execution_count": 0,
      "outputs": []
    },
    {
      "metadata": {
        "colab_type": "code",
        "id": "iLfYV_1e4mW3",
        "colab": {}
      },
      "cell_type": "code",
      "source": [
        "pred_train = cos_model.predict([X_train['left'], X_train['right']])\n",
        "pred_val = cos_model.predict([X_validation['left'], X_validation['right']])"
      ],
      "execution_count": 0,
      "outputs": []
    },
    {
      "metadata": {
        "colab_type": "code",
        "outputId": "e8acfb99-811f-4427-dfdd-a98c0c1e1097",
        "id": "0DTe_bnp4mW7",
        "colab": {
          "base_uri": "https://localhost:8080/",
          "height": 85
        }
      },
      "cell_type": "code",
      "source": [
        "# predUnNormalized_train = (pred_train *2.0) +1.0\n",
        "\n",
        "print('Train RMSE score: {:<8.5f}'.format(np.sqrt(mean_squared_error(Y_train, pred_train))))\n",
        "print('Train MAE loss: {}'.format(mean_absolute_error(Y_train, pred_train)))\n",
        "\n",
        "\n",
        "# predUnNormalized_val = (pred_val *2.0) +1.0\n",
        "\n",
        "print('Validation RMSE score: {:<8.5f}'.format(np.sqrt(mean_squared_error(Y_validation, pred_val))))\n",
        "print('Validation MAE loss: {}'.format(mean_absolute_error(Y_validation, pred_val)))"
      ],
      "execution_count": 0,
      "outputs": [
        {
          "output_type": "stream",
          "text": [
            "Train RMSE score: 0.42289 \n",
            "Train MAE loss: 0.3473968652136326\n",
            "Validation RMSE score: 0.50558 \n",
            "Validation MAE loss: 0.4122922195198101\n"
          ],
          "name": "stdout"
        }
      ]
    },
    {
      "metadata": {
        "colab_type": "code",
        "id": "t4D_rpdL4mW9",
        "colab": {}
      },
      "cell_type": "code",
      "source": [
        "from keras.callbacks import TensorBoard, ModelCheckpoint, EarlyStopping\n",
        "\n",
        "early_stopping = EarlyStopping(monitor='val_loss', patience=10)\n",
        "\n",
        "checkpointer = ModelCheckpoint(filepath='drive/My Drive/weights.WordEmbeddingToRelavance300StemDiffLSTM.df5', \n",
        "                                   verbose=1, save_best_only=True)"
      ],
      "execution_count": 0,
      "outputs": []
    },
    {
      "metadata": {
        "colab_type": "code",
        "outputId": "6b662c12-3ee8-434b-81d5-4be429db073e",
        "id": "RW7ae-hN4mW_",
        "colab": {
          "base_uri": "https://localhost:8080/",
          "height": 425
        }
      },
      "cell_type": "code",
      "source": [
        "%%time\n",
        "# Model variables\n",
        "leftN_hidden = 14\n",
        "rightN_hidden = 150\n",
        "gradient_clipping_norm = 1.25\n",
        "batch_size = 64\n",
        "n_epoch = 5\n",
        "\n",
        "# The visible layer\n",
        "left_input = Input(shape=(X_train['left'].shape[1],), dtype='int32')\n",
        "right_input = Input(shape=(X_train['right'].shape[1],), dtype='int32')\n",
        "\n",
        "embedding_layerLeft = Embedding(len(embeddingsSearch), embedding_dim, weights=[embeddingsSearch], input_length=maxSearchLength, trainable=False)\n",
        "embedding_layerRight = Embedding(len(embeddingsDesc), embedding_dim, weights=[embeddingsDesc], input_length=maxDescLength, trainable=False)\n",
        "\n",
        "# Embedded version of the inputs\n",
        "encoded_left = embedding_layerLeft(left_input)\n",
        "encoded_right = embedding_layerRight(right_input)\n",
        "\n",
        "# Since this is a siamese network, both sides share the same LSTM\n",
        "left_lstm = LSTM(leftN_hidden, kernel_initializer='glorot_uniform')\n",
        "right_lstm = LSTM(rightN_hidden, kernel_initializer='glorot_uniform')\n",
        "\n",
        "left_LstmOutput = left_lstm(encoded_left)\n",
        "right_LstmOutput = right_lstm(encoded_right)\n",
        "\n",
        "\n",
        "left_dense = Dense(150, activation = 'relu')(left_LstmOutput)\n",
        "\n",
        "# left_output = Dense(128)(left_LstmOutput)\n",
        "# right_output = Dense(128)(right_LstmOutput)\n",
        "\n",
        "\n",
        "cosine = dot(inputs = [left_dense, right_LstmOutput], \n",
        "                        axes = -1, normalize = True)\n",
        "\n",
        "norm = Lambda(lambda x: x * 2 + 1)(cosine)\n",
        "\n",
        "\n",
        "# Pack it all up into a model\n",
        "cos_model = Model([left_input, right_input], norm)\n",
        "\n",
        "# Adadelta optimizer, with gradient clipping by norm\n",
        "# optimizer = Adadelta(clipnorm=gradient_clipping_norm)\n",
        "optimizer = Adam()\n",
        "\n",
        "cos_model.compile(loss='mean_squared_error', optimizer=optimizer)\n",
        "\n",
        "\n",
        "cos_trained = cos_model.fit([X_train['left'], X_train['right']], Y_train, batch_size=batch_size, nb_epoch=n_epoch,\n",
        "                            validation_data=([X_validation['left'], X_validation['right']], Y_validation), callbacks=[checkpointer,early_stopping])"
      ],
      "execution_count": 0,
      "outputs": [
        {
          "output_type": "stream",
          "text": [
            "/usr/local/lib/python3.6/dist-packages/ipykernel_launcher.py:51: UserWarning: The `nb_epoch` argument in `fit` has been renamed `epochs`.\n"
          ],
          "name": "stderr"
        },
        {
          "output_type": "stream",
          "text": [
            "Train on 60000 samples, validate on 14067 samples\n",
            "Epoch 1/5\n",
            "60000/60000 [==============================] - 366s 6ms/step - loss: 0.2802 - val_loss: 0.2698\n",
            "\n",
            "Epoch 00001: val_loss did not improve from 0.26116\n",
            "Epoch 2/5\n",
            "60000/60000 [==============================] - 365s 6ms/step - loss: 0.2610 - val_loss: 0.2635\n",
            "\n",
            "Epoch 00002: val_loss did not improve from 0.26116\n",
            "Epoch 3/5\n",
            "60000/60000 [==============================] - 364s 6ms/step - loss: 0.2518 - val_loss: 0.2581\n",
            "\n",
            "Epoch 00003: val_loss improved from 0.26116 to 0.25806, saving model to drive/My Drive/weights.WordEmbeddingToRelavance300StemDiffLSTM.df5\n",
            "Epoch 4/5\n",
            "60000/60000 [==============================] - 364s 6ms/step - loss: 0.2431 - val_loss: 0.2559\n",
            "\n",
            "Epoch 00004: val_loss improved from 0.25806 to 0.25586, saving model to drive/My Drive/weights.WordEmbeddingToRelavance300StemDiffLSTM.df5\n",
            "Epoch 5/5\n",
            "60000/60000 [==============================] - 364s 6ms/step - loss: 0.2352 - val_loss: 0.2539\n",
            "\n",
            "Epoch 00005: val_loss improved from 0.25586 to 0.25388, saving model to drive/My Drive/weights.WordEmbeddingToRelavance300StemDiffLSTM.df5\n",
            "CPU times: user 41min 33s, sys: 5min 15s, total: 46min 48s\n",
            "Wall time: 30min 47s\n"
          ],
          "name": "stdout"
        }
      ]
    },
    {
      "metadata": {
        "id": "-sDOR1wPWbtN",
        "colab_type": "text"
      },
      "cell_type": "markdown",
      "source": [
        "**hidden = 500, batch = 512, epochs = 3**"
      ]
    },
    {
      "metadata": {
        "id": "59DAbHdP9lIU",
        "colab_type": "code",
        "outputId": "77476986-4794-42be-80c4-354faba959c3",
        "colab": {
          "base_uri": "https://localhost:8080/",
          "height": 306
        }
      },
      "cell_type": "code",
      "source": [
        "%%time\n",
        "# Model variables\n",
        "leftN_hidden = 500\n",
        "rightN_hidden = 500\n",
        "gradient_clipping_norm = 1.25\n",
        "batch_size = 512\n",
        "n_epoch = 3\n",
        "\n",
        "# The visible layer\n",
        "left_input = Input(shape=(X_train['left'].shape[1],), dtype='int32')\n",
        "right_input = Input(shape=(X_train['right'].shape[1],), dtype='int32')\n",
        "\n",
        "embedding_layerLeft = Embedding(len(embeddingsSearch), embedding_dimSearch, weights=[embeddingsSearch], input_length=maxSearchLength, trainable=False)\n",
        "embedding_layerRight = Embedding(len(embeddingsDesc), embedding_dimDesc, weights=[embeddingsDesc], input_length=maxDescLength, trainable=False)\n",
        "\n",
        "# Embedded version of the inputs\n",
        "encoded_left = embedding_layerLeft(left_input)\n",
        "encoded_right = embedding_layerRight(right_input)\n",
        "\n",
        "# Since this is a siamese network, both sides share the same LSTM\n",
        "left_lstm = LSTM(leftN_hidden, kernel_initializer='glorot_uniform')\n",
        "right_lstm = LSTM(rightN_hidden, kernel_initializer='glorot_uniform')\n",
        "\n",
        "left_LstmOutput = left_lstm(encoded_left)\n",
        "right_LstmOutput = right_lstm(encoded_right)\n",
        "\n",
        "\n",
        "left_output = Dense(500, activation = 'relu')(left_LstmOutput)\n",
        "# right_output = Dense(128)(right_LstmOutput)\n",
        "\n",
        "\n",
        "cosine = dot(inputs = [left_output, right_LstmOutput], \n",
        "                        axes = -1, normalize = True)\n",
        "\n",
        "norm = Lambda(lambda x: x * 2 + 1)(cosine)\n",
        "\n",
        "\n",
        "# Pack it all up into a model\n",
        "cos_model = Model([left_input, right_input], norm)\n",
        "\n",
        "# Adadelta optimizer, with gradient clipping by norm\n",
        "# optimizer = Adadelta(clipnorm=gradient_clipping_norm)\n",
        "optimizer = Adam()\n",
        "\n",
        "cos_model.compile(loss='mean_squared_error', optimizer=optimizer)\n",
        "\n",
        "\n",
        "cos_trained = cos_model.fit([X_train['left'], X_train['right']], Y_train, batch_size=batch_size, nb_epoch=n_epoch,\n",
        "                            validation_data=([X_validation['left'], X_validation['right']], Y_validation), callbacks=[checkpointer,early_stopping])"
      ],
      "execution_count": 0,
      "outputs": [
        {
          "output_type": "stream",
          "text": [
            "/usr/local/lib/python3.6/dist-packages/ipykernel_launcher.py:48: UserWarning: The `nb_epoch` argument in `fit` has been renamed `epochs`.\n"
          ],
          "name": "stderr"
        },
        {
          "output_type": "stream",
          "text": [
            "Train on 59253 samples, validate on 14814 samples\n",
            "Epoch 1/3\n",
            "59253/59253 [==============================] - 87s 1ms/step - loss: 0.3084 - val_loss: 0.2714\n",
            "\n",
            "Epoch 00001: val_loss did not improve from 0.25801\n",
            "Epoch 2/3\n",
            "59253/59253 [==============================] - 85s 1ms/step - loss: 0.2662 - val_loss: 0.2655\n",
            "\n",
            "Epoch 00002: val_loss did not improve from 0.25801\n",
            "Epoch 3/3\n",
            "59253/59253 [==============================] - 85s 1ms/step - loss: 0.2578 - val_loss: 0.2601\n",
            "\n",
            "Epoch 00003: val_loss did not improve from 0.25801\n",
            "CPU times: user 3min 38s, sys: 59.1 s, total: 4min 37s\n",
            "Wall time: 4min 21s\n"
          ],
          "name": "stdout"
        }
      ]
    },
    {
      "metadata": {
        "id": "r7fKdL52Wgkx",
        "colab_type": "text"
      },
      "cell_type": "markdown",
      "source": [
        "**hidden = 256, batch = 512, epochs = 3**"
      ]
    },
    {
      "metadata": {
        "id": "6-9-9M-0UuOV",
        "colab_type": "code",
        "outputId": "ddcb392c-bfcb-479b-f0f6-295dd7d867fd",
        "colab": {
          "base_uri": "https://localhost:8080/",
          "height": 306
        }
      },
      "cell_type": "code",
      "source": [
        "%%time\n",
        "# Model variables\n",
        "leftN_hidden = 256\n",
        "rightN_hidden = 256\n",
        "gradient_clipping_norm = 1.25\n",
        "batch_size = 512\n",
        "n_epoch = 3\n",
        "\n",
        "# The visible layer\n",
        "left_input = Input(shape=(X_train['left'].shape[1],), dtype='int32')\n",
        "right_input = Input(shape=(X_train['right'].shape[1],), dtype='int32')\n",
        "\n",
        "embedding_layerLeft = Embedding(len(embeddingsSearch), embedding_dimSearch, weights=[embeddingsSearch], input_length=maxSearchLength, trainable=False)\n",
        "embedding_layerRight = Embedding(len(embeddingsDesc), embedding_dimDesc, weights=[embeddingsDesc], input_length=maxDescLength, trainable=False)\n",
        "\n",
        "# Embedded version of the inputs\n",
        "encoded_left = embedding_layerLeft(left_input)\n",
        "encoded_right = embedding_layerRight(right_input)\n",
        "\n",
        "# Since this is a siamese network, both sides share the same LSTM\n",
        "left_lstm = LSTM(leftN_hidden, kernel_initializer='glorot_uniform')\n",
        "right_lstm = LSTM(rightN_hidden, kernel_initializer='glorot_uniform')\n",
        "\n",
        "left_LstmOutput = left_lstm(encoded_left)\n",
        "right_LstmOutput = right_lstm(encoded_right)\n",
        "\n",
        "\n",
        "left_output = Dense(256, activation = 'relu')(left_LstmOutput)\n",
        "# right_output = Dense(128)(right_LstmOutput)\n",
        "\n",
        "\n",
        "cosine = dot(inputs = [left_output, right_LstmOutput], \n",
        "                        axes = -1, normalize = True)\n",
        "\n",
        "norm = Lambda(lambda x: x * 2 + 1)(cosine)\n",
        "\n",
        "\n",
        "# Pack it all up into a model\n",
        "cos_model = Model([left_input, right_input], norm)\n",
        "\n",
        "# Adadelta optimizer, with gradient clipping by norm\n",
        "# optimizer = Adadelta(clipnorm=gradient_clipping_norm)\n",
        "optimizer = Adam()\n",
        "\n",
        "cos_model.compile(loss='mean_squared_error', optimizer=optimizer)\n",
        "\n",
        "\n",
        "cos_trained = cos_model.fit([X_train['left'], X_train['right']], Y_train, batch_size=batch_size, nb_epoch=n_epoch,\n",
        "                            validation_data=([X_validation['left'], X_validation['right']], Y_validation), callbacks=[checkpointer,early_stopping])"
      ],
      "execution_count": 0,
      "outputs": [
        {
          "output_type": "stream",
          "text": [
            "/usr/local/lib/python3.6/dist-packages/ipykernel_launcher.py:48: UserWarning: The `nb_epoch` argument in `fit` has been renamed `epochs`.\n"
          ],
          "name": "stderr"
        },
        {
          "output_type": "stream",
          "text": [
            "Train on 59253 samples, validate on 14814 samples\n",
            "Epoch 1/3\n",
            "59253/59253 [==============================] - 51s 863us/step - loss: 0.3301 - val_loss: 0.2709\n",
            "\n",
            "Epoch 00001: val_loss did not improve from 0.25801\n",
            "Epoch 2/3\n",
            "59253/59253 [==============================] - 49s 822us/step - loss: 0.2650 - val_loss: 0.2650\n",
            "\n",
            "Epoch 00002: val_loss did not improve from 0.25801\n",
            "Epoch 3/3\n",
            "59253/59253 [==============================] - 49s 824us/step - loss: 0.2565 - val_loss: 0.2604\n",
            "\n",
            "Epoch 00003: val_loss did not improve from 0.25801\n",
            "CPU times: user 2min 58s, sys: 27.8 s, total: 3min 26s\n",
            "Wall time: 2min 33s\n"
          ],
          "name": "stdout"
        }
      ]
    },
    {
      "metadata": {
        "id": "5JzR3UfCWSls",
        "colab_type": "text"
      },
      "cell_type": "markdown",
      "source": [
        "**hidden=256, batch = 512**"
      ]
    },
    {
      "metadata": {
        "id": "poR0aGfbVNyN",
        "colab_type": "code",
        "outputId": "e9318428-abc0-4c9b-cc4a-3a57df9dab02",
        "colab": {
          "base_uri": "https://localhost:8080/",
          "height": 306
        }
      },
      "cell_type": "code",
      "source": [
        "%%time\n",
        "# Model variables\n",
        "leftN_hidden = 256\n",
        "rightN_hidden = 256\n",
        "gradient_clipping_norm = 1.25\n",
        "batch_size = 512\n",
        "n_epoch = 3\n",
        "\n",
        "# The visible layer\n",
        "left_input = Input(shape=(X_train['left'].shape[1],), dtype='int32')\n",
        "right_input = Input(shape=(X_train['right'].shape[1],), dtype='int32')\n",
        "\n",
        "embedding_layerLeft = Embedding(len(embeddingsSearch), embedding_dimSearch, weights=[embeddingsSearch], input_length=maxSearchLength, trainable=False)\n",
        "embedding_layerRight = Embedding(len(embeddingsDesc), embedding_dimDesc, weights=[embeddingsDesc], input_length=maxDescLength, trainable=False)\n",
        "\n",
        "# Embedded version of the inputs\n",
        "encoded_left = embedding_layerLeft(left_input)\n",
        "encoded_right = embedding_layerRight(right_input)\n",
        "\n",
        "# Since this is a siamese network, both sides share the same LSTM\n",
        "left_lstm = LSTM(leftN_hidden, kernel_initializer='glorot_uniform')\n",
        "right_lstm = LSTM(rightN_hidden, kernel_initializer='glorot_uniform')\n",
        "\n",
        "left_LstmOutput = left_lstm(encoded_left)\n",
        "right_LstmOutput = right_lstm(encoded_right)\n",
        "\n",
        "\n",
        "left_output = Dense(256, activation = 'relu')(left_LstmOutput)\n",
        "# right_output = Dense(128)(right_LstmOutput)\n",
        "\n",
        "\n",
        "cosine = dot(inputs = [left_output, right_LstmOutput], \n",
        "                        axes = -1, normalize = True)\n",
        "\n",
        "norm = Lambda(lambda x: x * 2 + 1)(cosine)\n",
        "\n",
        "\n",
        "# Pack it all up into a model\n",
        "cos_model = Model([left_input, right_input], norm)\n",
        "\n",
        "# Adadelta optimizer, with gradient clipping by norm\n",
        "# optimizer = Adadelta(clipnorm=gradient_clipping_norm)\n",
        "optimizer = Adam()\n",
        "\n",
        "cos_model.compile(loss='mean_squared_error', optimizer=optimizer)\n",
        "\n",
        "\n",
        "cos_trained = cos_model.fit([X_train['left'], X_train['right']], Y_train, batch_size=batch_size, nb_epoch=n_epoch,\n",
        "                            validation_data=([X_validation['left'], X_validation['right']], Y_validation), callbacks=[checkpointer,early_stopping])"
      ],
      "execution_count": 0,
      "outputs": [
        {
          "output_type": "stream",
          "text": [
            "/usr/local/lib/python3.6/dist-packages/ipykernel_launcher.py:48: UserWarning: The `nb_epoch` argument in `fit` has been renamed `epochs`.\n"
          ],
          "name": "stderr"
        },
        {
          "output_type": "stream",
          "text": [
            "Train on 59253 samples, validate on 14814 samples\n",
            "Epoch 1/3\n",
            "59253/59253 [==============================] - 52s 870us/step - loss: 0.3221 - val_loss: 0.2706\n",
            "\n",
            "Epoch 00001: val_loss did not improve from 0.25801\n",
            "Epoch 2/3\n",
            "59253/59253 [==============================] - 49s 823us/step - loss: 0.2665 - val_loss: 0.2654\n",
            "\n",
            "Epoch 00002: val_loss did not improve from 0.25801\n",
            "Epoch 3/3\n",
            "59253/59253 [==============================] - 49s 825us/step - loss: 0.2574 - val_loss: 0.2600\n",
            "\n",
            "Epoch 00003: val_loss did not improve from 0.25801\n",
            "CPU times: user 3min, sys: 28.2 s, total: 3min 28s\n",
            "Wall time: 2min 35s\n"
          ],
          "name": "stdout"
        }
      ]
    },
    {
      "metadata": {
        "id": "oA6fqZ6LWMQT",
        "colab_type": "text"
      },
      "cell_type": "markdown",
      "source": [
        "**hidden=256, batch = 64**"
      ]
    },
    {
      "metadata": {
        "id": "Q_X-V8y-WGwj",
        "colab_type": "code",
        "outputId": "69b9d2a7-3bf9-44e8-8db2-333c2f90c34c",
        "colab": {
          "base_uri": "https://localhost:8080/",
          "height": 306
        }
      },
      "cell_type": "code",
      "source": [
        "%%time\n",
        "# Model variables\n",
        "leftN_hidden = 256\n",
        "rightN_hidden = 256\n",
        "gradient_clipping_norm = 1.25\n",
        "batch_size = 64\n",
        "n_epoch = 3\n",
        "\n",
        "# The visible layer\n",
        "left_input = Input(shape=(X_train['left'].shape[1],), dtype='int32')\n",
        "right_input = Input(shape=(X_train['right'].shape[1],), dtype='int32')\n",
        "\n",
        "embedding_layerLeft = Embedding(len(embeddingsSearch), embedding_dimSearch, weights=[embeddingsSearch], input_length=maxSearchLength, trainable=False)\n",
        "embedding_layerRight = Embedding(len(embeddingsDesc), embedding_dimDesc, weights=[embeddingsDesc], input_length=maxDescLength, trainable=False)\n",
        "\n",
        "# Embedded version of the inputs\n",
        "encoded_left = embedding_layerLeft(left_input)\n",
        "encoded_right = embedding_layerRight(right_input)\n",
        "\n",
        "# Since this is a siamese network, both sides share the same LSTM\n",
        "left_lstm = LSTM(leftN_hidden, kernel_initializer='glorot_uniform')\n",
        "right_lstm = LSTM(rightN_hidden, kernel_initializer='glorot_uniform')\n",
        "\n",
        "left_LstmOutput = left_lstm(encoded_left)\n",
        "right_LstmOutput = right_lstm(encoded_right)\n",
        "\n",
        "\n",
        "left_output = Dense(256, activation = 'relu')(left_LstmOutput)\n",
        "# right_output = Dense(128)(right_LstmOutput)\n",
        "\n",
        "\n",
        "cosine = dot(inputs = [left_output, right_LstmOutput], \n",
        "                        axes = -1, normalize = True)\n",
        "\n",
        "norm = Lambda(lambda x: x * 2 + 1)(cosine)\n",
        "\n",
        "\n",
        "# Pack it all up into a model\n",
        "cos_model = Model([left_input, right_input], norm)\n",
        "\n",
        "# Adadelta optimizer, with gradient clipping by norm\n",
        "# optimizer = Adadelta(clipnorm=gradient_clipping_norm)\n",
        "optimizer = Adam()\n",
        "\n",
        "cos_model.compile(loss='mean_squared_error', optimizer=optimizer)\n",
        "\n",
        "\n",
        "cos_trained = cos_model.fit([X_train['left'], X_train['right']], Y_train, batch_size=batch_size, nb_epoch=n_epoch,\n",
        "                            validation_data=([X_validation['left'], X_validation['right']], Y_validation), callbacks=[checkpointer,early_stopping])"
      ],
      "execution_count": 0,
      "outputs": [
        {
          "output_type": "stream",
          "text": [
            "/usr/local/lib/python3.6/dist-packages/ipykernel_launcher.py:48: UserWarning: The `nb_epoch` argument in `fit` has been renamed `epochs`.\n"
          ],
          "name": "stderr"
        },
        {
          "output_type": "stream",
          "text": [
            "Train on 59253 samples, validate on 14814 samples\n",
            "Epoch 1/3\n",
            "59253/59253 [==============================] - 292s 5ms/step - loss: 0.2800 - val_loss: 0.2664\n",
            "\n",
            "Epoch 00001: val_loss did not improve from 0.25801\n",
            "Epoch 2/3\n",
            "59253/59253 [==============================] - 290s 5ms/step - loss: 0.2590 - val_loss: 0.2594\n",
            "\n",
            "Epoch 00002: val_loss did not improve from 0.25801\n",
            "Epoch 3/3\n",
            "59253/59253 [==============================] - 289s 5ms/step - loss: 0.2457 - val_loss: 0.2562\n",
            "\n",
            "Epoch 00003: val_loss improved from 0.25801 to 0.25620, saving model to drive/My Drive/weights.word_embed_stem_diff_1_2.df5\n",
            "CPU times: user 19min 56s, sys: 2min 23s, total: 22min 20s\n",
            "Wall time: 14min 46s\n"
          ],
          "name": "stdout"
        }
      ]
    },
    {
      "metadata": {
        "id": "kgE4FPaUUMQQ",
        "colab_type": "code",
        "outputId": "991a9022-ec11-4a4a-b819-b39233b0e3de",
        "colab": {
          "base_uri": "https://localhost:8080/",
          "height": 306
        }
      },
      "cell_type": "code",
      "source": [
        "%%time\n",
        "# Model variables\n",
        "leftN_hidden = 128\n",
        "rightN_hidden = 128\n",
        "gradient_clipping_norm = 1.25\n",
        "batch_size = 512\n",
        "n_epoch = 3\n",
        "\n",
        "# The visible layer\n",
        "left_input = Input(shape=(X_train['left'].shape[1],), dtype='int32')\n",
        "right_input = Input(shape=(X_train['right'].shape[1],), dtype='int32')\n",
        "\n",
        "embedding_layerLeft = Embedding(len(embeddingsSearch), embedding_dimSearch, weights=[embeddingsSearch], input_length=maxSearchLength, trainable=False)\n",
        "embedding_layerRight = Embedding(len(embeddingsDesc), embedding_dimDesc, weights=[embeddingsDesc], input_length=maxDescLength, trainable=False)\n",
        "\n",
        "# Embedded version of the inputs\n",
        "encoded_left = embedding_layerLeft(left_input)\n",
        "encoded_right = embedding_layerRight(right_input)\n",
        "\n",
        "# Since this is a siamese network, both sides share the same LSTM\n",
        "left_lstm = LSTM(leftN_hidden, kernel_initializer='glorot_uniform')\n",
        "right_lstm = LSTM(rightN_hidden, kernel_initializer='glorot_uniform')\n",
        "\n",
        "left_LstmOutput = left_lstm(encoded_left)\n",
        "right_LstmOutput = right_lstm(encoded_right)\n",
        "\n",
        "\n",
        "left_output = Dense(128, activation = 'relu')(left_LstmOutput)\n",
        "# right_output = Dense(128)(right_LstmOutput)\n",
        "\n",
        "\n",
        "cosine = dot(inputs = [left_output, right_LstmOutput], \n",
        "                        axes = -1, normalize = True)\n",
        "\n",
        "norm = Lambda(lambda x: x * 2 + 1)(cosine)\n",
        "\n",
        "\n",
        "# Pack it all up into a model\n",
        "cos_model = Model([left_input, right_input], norm)\n",
        "\n",
        "# Adadelta optimizer, with gradient clipping by norm\n",
        "# optimizer = Adadelta(clipnorm=gradient_clipping_norm)\n",
        "optimizer = Adam()\n",
        "\n",
        "cos_model.compile(loss='mean_squared_error', optimizer=optimizer)\n",
        "\n",
        "\n",
        "cos_trained = cos_model.fit([X_train['left'], X_train['right']], Y_train, batch_size=batch_size, nb_epoch=n_epoch,\n",
        "                            validation_data=([X_validation['left'], X_validation['right']], Y_validation), callbacks=[checkpointer,early_stopping])"
      ],
      "execution_count": 0,
      "outputs": [
        {
          "output_type": "stream",
          "text": [
            "/usr/local/lib/python3.6/dist-packages/ipykernel_launcher.py:48: UserWarning: The `nb_epoch` argument in `fit` has been renamed `epochs`.\n"
          ],
          "name": "stderr"
        },
        {
          "output_type": "stream",
          "text": [
            "Train on 59253 samples, validate on 14814 samples\n",
            "Epoch 1/3\n",
            "59253/59253 [==============================] - 40s 678us/step - loss: 0.3540 - val_loss: 0.2715\n",
            "\n",
            "Epoch 00001: val_loss did not improve from 0.25801\n",
            "Epoch 2/3\n",
            "59253/59253 [==============================] - 38s 645us/step - loss: 0.2655 - val_loss: 0.2668\n",
            "\n",
            "Epoch 00002: val_loss did not improve from 0.25801\n",
            "Epoch 3/3\n",
            "59253/59253 [==============================] - 38s 644us/step - loss: 0.2561 - val_loss: 0.2625\n",
            "\n",
            "Epoch 00003: val_loss did not improve from 0.25801\n",
            "CPU times: user 2min 37s, sys: 19.8 s, total: 2min 56s\n",
            "Wall time: 2min 1s\n"
          ],
          "name": "stdout"
        }
      ]
    },
    {
      "metadata": {
        "id": "1hCkuSbXb6Sb",
        "colab_type": "code",
        "outputId": "8eace58c-9bb9-4ddb-f86f-e06fbfe04d86",
        "colab": {
          "base_uri": "https://localhost:8080/",
          "height": 306
        }
      },
      "cell_type": "code",
      "source": [
        "%%time\n",
        "# Model variables\n",
        "leftN_hidden = 256\n",
        "rightN_hidden = 256\n",
        "gradient_clipping_norm = 1.25\n",
        "batch_size = 64\n",
        "n_epoch = 3\n",
        "\n",
        "# The visible layer\n",
        "left_input = Input(shape=(X_train['left'].shape[1],), dtype='int32')\n",
        "right_input = Input(shape=(X_train['right'].shape[1],), dtype='int32')\n",
        "\n",
        "embedding_layerLeft = Embedding(len(embeddingsSearch), embedding_dimSearch, weights=[embeddingsSearch], input_length=maxSearchLength, trainable=False)\n",
        "embedding_layerRight = Embedding(len(embeddingsDesc), embedding_dimDesc, weights=[embeddingsDesc], input_length=maxDescLength, trainable=False)\n",
        "\n",
        "# Embedded version of the inputs\n",
        "encoded_left = embedding_layerLeft(left_input)\n",
        "encoded_right = embedding_layerRight(right_input)\n",
        "\n",
        "# Since this is a siamese network, both sides share the same LSTM\n",
        "left_lstm = LSTM(leftN_hidden, kernel_initializer='glorot_uniform')\n",
        "right_lstm = LSTM(rightN_hidden, kernel_initializer='glorot_uniform')\n",
        "\n",
        "left_LstmOutput = left_lstm(encoded_left)\n",
        "right_LstmOutput = right_lstm(encoded_right)\n",
        "\n",
        "cosine = dot(inputs = [left_LstmOutput, right_LstmOutput], \n",
        "                        axes = -1, normalize = True)\n",
        "\n",
        "norm = Lambda(lambda x: x * 2 + 1)(cosine)\n",
        "\n",
        "\n",
        "# Pack it all up into a model\n",
        "cos_model = Model([left_input, right_input], norm)\n",
        "\n",
        "optimizer = Adam()\n",
        "\n",
        "cos_model.compile(loss='mean_squared_error', optimizer=optimizer)\n",
        "\n",
        "\n",
        "cos_trained = cos_model.fit([X_train['left'], X_train['right']], Y_train, batch_size=batch_size, nb_epoch=n_epoch,\n",
        "                            validation_data=([X_validation['left'], X_validation['right']], Y_validation), callbacks=[checkpointer,early_stopping])"
      ],
      "execution_count": 0,
      "outputs": [
        {
          "output_type": "stream",
          "text": [
            "/usr/local/lib/python3.6/dist-packages/ipykernel_launcher.py:48: UserWarning: The `nb_epoch` argument in `fit` has been renamed `epochs`.\n"
          ],
          "name": "stderr"
        },
        {
          "output_type": "stream",
          "text": [
            "Train on 59253 samples, validate on 14814 samples\n",
            "Epoch 1/3\n",
            "59253/59253 [==============================] - 292s 5ms/step - loss: 0.2810 - val_loss: 0.2697\n",
            "\n",
            "Epoch 00001: val_loss did not improve from 0.25620\n",
            "Epoch 2/3\n",
            "59253/59253 [==============================] - 290s 5ms/step - loss: 0.2597 - val_loss: 0.2586\n",
            "\n",
            "Epoch 00002: val_loss did not improve from 0.25620\n",
            "Epoch 3/3\n",
            "59253/59253 [==============================] - 290s 5ms/step - loss: 0.2472 - val_loss: 0.2546\n",
            "\n",
            "Epoch 00003: val_loss improved from 0.25620 to 0.25458, saving model to drive/My Drive/weights.word_embed_stem_diff_1_2.df5\n",
            "CPU times: user 19min 54s, sys: 2min 23s, total: 22min 17s\n",
            "Wall time: 14min 45s\n"
          ],
          "name": "stdout"
        }
      ]
    },
    {
      "metadata": {
        "id": "uKVEc-T2kSmS",
        "colab_type": "code",
        "colab": {}
      },
      "cell_type": "code",
      "source": [
        "from keras.callbacks import TensorBoard, ModelCheckpoint, EarlyStopping\n",
        "\n",
        "early_stopping = EarlyStopping(monitor='val_loss', patience=5)\n",
        "\n",
        "checkpointer = ModelCheckpoint(filepath='drive/My Drive/weights.word_embed_stem_diff_1_2_256_128B.df5', \n",
        "                                   verbose=1, save_best_only=True)"
      ],
      "execution_count": 0,
      "outputs": []
    },
    {
      "metadata": {
        "id": "rqsGFjjGb6MB",
        "colab_type": "code",
        "outputId": "971729d3-a762-4a79-c2a7-8e8c860e577a",
        "colab": {
          "base_uri": "https://localhost:8080/",
          "height": 507
        }
      },
      "cell_type": "code",
      "source": [
        "%%time\n",
        "# Model variables\n",
        "leftN_hidden = 256\n",
        "rightN_hidden = 256\n",
        "gradient_clipping_norm = 1.25\n",
        "batch_size = 128\n",
        "n_epoch = 6\n",
        "\n",
        "# The visible layer\n",
        "left_input = Input(shape=(X_train['left'].shape[1],), dtype='int32')\n",
        "right_input = Input(shape=(X_train['right'].shape[1],), dtype='int32')\n",
        "\n",
        "embedding_layerLeft = Embedding(len(embeddingsSearch), embedding_dimSearch, weights=[embeddingsSearch], input_length=maxSearchLength, trainable=False)\n",
        "embedding_layerRight = Embedding(len(embeddingsDesc), embedding_dimDesc, weights=[embeddingsDesc], input_length=maxDescLength, trainable=False)\n",
        "\n",
        "# Embedded version of the inputs\n",
        "encoded_left = embedding_layerLeft(left_input)\n",
        "encoded_right = embedding_layerRight(right_input)\n",
        "\n",
        "# Since this is a siamese network, both sides share the same LSTM\n",
        "left_lstm = LSTM(leftN_hidden, kernel_initializer='glorot_uniform')\n",
        "right_lstm = LSTM(rightN_hidden, kernel_initializer='glorot_uniform')\n",
        "\n",
        "left_LstmOutput = left_lstm(encoded_left)\n",
        "right_LstmOutput = right_lstm(encoded_right)\n",
        "\n",
        "\n",
        "# left_output = Dense(256, activation = 'relu')(left_LstmOutput)\n",
        "# right_output = Dense(128)(right_LstmOutput)\n",
        "\n",
        "\n",
        "cosine = dot(inputs = [left_LstmOutput, right_LstmOutput], \n",
        "                        axes = -1, normalize = True)\n",
        "\n",
        "norm = Lambda(lambda x: x * 2 + 1)(cosine)\n",
        "\n",
        "\n",
        "# Pack it all up into a model\n",
        "cos_model = Model([left_input, right_input], norm)\n",
        "\n",
        "# Adadelta optimizer, with gradient clipping by norm\n",
        "# optimizer = Adadelta(clipnorm=gradient_clipping_norm)\n",
        "optimizer = Adam()\n",
        "\n",
        "cos_model.compile(loss='mean_squared_error', optimizer=optimizer)\n",
        "\n",
        "\n",
        "cos_trained = cos_model.fit([X_train['left'], X_train['right']], Y_train, batch_size=batch_size, nb_epoch=n_epoch,\n",
        "                            validation_data=([X_validation['left'], X_validation['right']], Y_validation), callbacks=[checkpointer,early_stopping])"
      ],
      "execution_count": 0,
      "outputs": [
        {
          "output_type": "stream",
          "text": [
            "/usr/local/lib/python3.6/dist-packages/ipykernel_launcher.py:48: UserWarning: The `nb_epoch` argument in `fit` has been renamed `epochs`.\n"
          ],
          "name": "stderr"
        },
        {
          "output_type": "stream",
          "text": [
            "Train on 59237 samples, validate on 14810 samples\n",
            "Epoch 1/6\n",
            "59237/59237 [==============================] - 154s 3ms/step - loss: 0.2876 - val_loss: 0.2664\n",
            "\n",
            "Epoch 00001: val_loss improved from inf to 0.26639, saving model to drive/My Drive/weights.word_embed_stem_diff_1_2_256_128B.df5\n",
            "Epoch 2/6\n",
            "59237/59237 [==============================] - 150s 3ms/step - loss: 0.2610 - val_loss: 0.2596\n",
            "\n",
            "Epoch 00002: val_loss improved from 0.26639 to 0.25964, saving model to drive/My Drive/weights.word_embed_stem_diff_1_2_256_128B.df5\n",
            "Epoch 3/6\n",
            "59237/59237 [==============================] - 152s 3ms/step - loss: 0.2477 - val_loss: 0.2543\n",
            "\n",
            "Epoch 00003: val_loss improved from 0.25964 to 0.25434, saving model to drive/My Drive/weights.word_embed_stem_diff_1_2_256_128B.df5\n",
            "Epoch 4/6\n",
            "59237/59237 [==============================] - 151s 3ms/step - loss: 0.2342 - val_loss: 0.2494\n",
            "\n",
            "Epoch 00004: val_loss improved from 0.25434 to 0.24938, saving model to drive/My Drive/weights.word_embed_stem_diff_1_2_256_128B.df5\n",
            "Epoch 5/6\n",
            "59237/59237 [==============================] - 153s 3ms/step - loss: 0.2205 - val_loss: 0.2443\n",
            "\n",
            "Epoch 00005: val_loss improved from 0.24938 to 0.24434, saving model to drive/My Drive/weights.word_embed_stem_diff_1_2_256_128B.df5\n",
            "Epoch 6/6\n",
            "59237/59237 [==============================] - 152s 3ms/step - loss: 0.2080 - val_loss: 0.2475\n",
            "\n",
            "Epoch 00006: val_loss did not improve from 0.24434\n",
            "CPU times: user 20min 38s, sys: 2min 27s, total: 23min 6s\n",
            "Wall time: 15min 31s\n"
          ],
          "name": "stdout"
        }
      ]
    },
    {
      "metadata": {
        "id": "azKseVZuz9ak",
        "colab_type": "code",
        "outputId": "b30b2159-9edd-43d0-bbe7-8624289b150a",
        "colab": {
          "base_uri": "https://localhost:8080/",
          "height": 1112
        }
      },
      "cell_type": "code",
      "source": [
        "%%time\n",
        "# Model variables\n",
        "leftN_hidden = 256\n",
        "rightN_hidden = 256\n",
        "gradient_clipping_norm = 1.25\n",
        "batch_size = 128\n",
        "n_epoch = 30\n",
        "\n",
        "# The visible layer\n",
        "left_input = Input(shape=(X_train['left'].shape[1],), dtype='int32')\n",
        "right_input = Input(shape=(X_train['right'].shape[1],), dtype='int32')\n",
        "\n",
        "embedding_layerLeft = Embedding(len(embeddingsSearch), embedding_dimSearch, weights=[embeddingsSearch], input_length=maxSearchLength, trainable=False)\n",
        "embedding_layerRight = Embedding(len(embeddingsDesc), embedding_dimDesc, weights=[embeddingsDesc], input_length=maxDescLength, trainable=False)\n",
        "\n",
        "# Embedded version of the inputs\n",
        "encoded_left = embedding_layerLeft(left_input)\n",
        "encoded_right = embedding_layerRight(right_input)\n",
        "\n",
        "# Since this is a siamese network, both sides share the same LSTM\n",
        "left_lstm = LSTM(leftN_hidden, kernel_initializer='glorot_uniform')\n",
        "right_lstm = LSTM(rightN_hidden, kernel_initializer='glorot_uniform')\n",
        "\n",
        "left_LstmOutput = left_lstm(encoded_left)\n",
        "right_LstmOutput = right_lstm(encoded_right)\n",
        "\n",
        "\n",
        "# left_output = Dense(256, activation = 'relu')(left_LstmOutput)\n",
        "# right_output = Dense(128)(right_LstmOutput)\n",
        "\n",
        "\n",
        "cosine = dot(inputs = [left_LstmOutput, right_LstmOutput], \n",
        "                        axes = -1, normalize = True)\n",
        "\n",
        "norm = Lambda(lambda x: x * 2 + 1)(cosine)\n",
        "\n",
        "\n",
        "# Pack it all up into a model\n",
        "cos_model = Model([left_input, right_input], norm)\n",
        "\n",
        "# Adadelta optimizer, with gradient clipping by norm\n",
        "# optimizer = Adadelta(clipnorm=gradient_clipping_norm)\n",
        "optimizer = Adam()\n",
        "\n",
        "cos_model.compile(loss='mean_squared_error', optimizer=optimizer)\n",
        "\n",
        "\n",
        "cos_trained = cos_model.fit([X_train['left'], X_train['right']], Y_train, batch_size=batch_size, nb_epoch=n_epoch,\n",
        "                            validation_data=([X_validation['left'], X_validation['right']], Y_validation), callbacks=[checkpointer,early_stopping])"
      ],
      "execution_count": 0,
      "outputs": [
        {
          "output_type": "stream",
          "text": [
            "/usr/local/lib/python3.6/dist-packages/ipykernel_launcher.py:48: UserWarning: The `nb_epoch` argument in `fit` has been renamed `epochs`.\n"
          ],
          "name": "stderr"
        },
        {
          "output_type": "stream",
          "text": [
            "Train on 59237 samples, validate on 14810 samples\n",
            "Epoch 1/30\n",
            "59237/59237 [==============================] - 152s 3ms/step - loss: 0.2869 - val_loss: 0.2674\n",
            "\n",
            "Epoch 00001: val_loss did not improve from 0.24434\n",
            "Epoch 2/30\n",
            "59237/59237 [==============================] - 152s 3ms/step - loss: 0.2611 - val_loss: 0.2605\n",
            "\n",
            "Epoch 00002: val_loss did not improve from 0.24434\n",
            "Epoch 3/30\n",
            "59237/59237 [==============================] - 151s 3ms/step - loss: 0.2483 - val_loss: 0.2540\n",
            "\n",
            "Epoch 00003: val_loss did not improve from 0.24434\n",
            "Epoch 4/30\n",
            "59237/59237 [==============================] - 152s 3ms/step - loss: 0.2337 - val_loss: 0.2490\n",
            "\n",
            "Epoch 00004: val_loss did not improve from 0.24434\n",
            "Epoch 5/30\n",
            "59237/59237 [==============================] - 151s 3ms/step - loss: 0.2205 - val_loss: 0.2457\n",
            "\n",
            "Epoch 00005: val_loss did not improve from 0.24434\n",
            "Epoch 6/30\n",
            "59237/59237 [==============================] - 152s 3ms/step - loss: 0.2075 - val_loss: 0.2432\n",
            "\n",
            "Epoch 00006: val_loss improved from 0.24434 to 0.24321, saving model to drive/My Drive/weights.word_embed_stem_diff_1_2_256_128B.df5\n",
            "Epoch 7/30\n",
            "59237/59237 [==============================] - 152s 3ms/step - loss: 0.1966 - val_loss: 0.2419\n",
            "\n",
            "Epoch 00007: val_loss improved from 0.24321 to 0.24186, saving model to drive/My Drive/weights.word_embed_stem_diff_1_2_256_128B.df5\n",
            "Epoch 8/30\n",
            "59237/59237 [==============================] - 150s 3ms/step - loss: 0.1865 - val_loss: 0.2425\n",
            "\n",
            "Epoch 00008: val_loss did not improve from 0.24186\n",
            "Epoch 9/30\n",
            "59237/59237 [==============================] - 151s 3ms/step - loss: 0.1776 - val_loss: 0.2427\n",
            "\n",
            "Epoch 00009: val_loss did not improve from 0.24186\n",
            "Epoch 10/30\n",
            "59237/59237 [==============================] - 149s 3ms/step - loss: 0.1685 - val_loss: 0.2398\n",
            "\n",
            "Epoch 00010: val_loss improved from 0.24186 to 0.23976, saving model to drive/My Drive/weights.word_embed_stem_diff_1_2_256_128B.df5\n",
            "Epoch 11/30\n",
            "59237/59237 [==============================] - 152s 3ms/step - loss: 0.1603 - val_loss: 0.2488\n",
            "\n",
            "Epoch 00011: val_loss did not improve from 0.23976\n",
            "Epoch 12/30\n",
            "59237/59237 [==============================] - 150s 3ms/step - loss: 0.1530 - val_loss: 0.2438\n",
            "\n",
            "Epoch 00012: val_loss did not improve from 0.23976\n",
            "Epoch 13/30\n",
            "59237/59237 [==============================] - 150s 3ms/step - loss: 0.1458 - val_loss: 0.2450\n",
            "\n",
            "Epoch 00013: val_loss did not improve from 0.23976\n",
            "Epoch 14/30\n",
            "59237/59237 [==============================] - 149s 3ms/step - loss: 0.1391 - val_loss: 0.2526\n",
            "\n",
            "Epoch 00014: val_loss did not improve from 0.23976\n",
            "Epoch 15/30\n",
            "59237/59237 [==============================] - 149s 3ms/step - loss: 0.1335 - val_loss: 0.2551\n",
            "\n",
            "Epoch 00015: val_loss did not improve from 0.23976\n",
            "CPU times: user 51min 23s, sys: 6min 5s, total: 57min 28s\n",
            "Wall time: 37min 59s\n"
          ],
          "name": "stdout"
        }
      ]
    },
    {
      "metadata": {
        "id": "yBA6QdRK9lsV",
        "colab_type": "code",
        "outputId": "e563d449-e43e-461d-a369-6c1808e41a59",
        "colab": {
          "base_uri": "https://localhost:8080/",
          "height": 376
        }
      },
      "cell_type": "code",
      "source": [
        "plt.plot(cos_trained.history['loss'])\n",
        "plt.plot(cos_trained.history['val_loss'])\n",
        "plt.title('model loss')\n",
        "plt.ylabel('loss')\n",
        "plt.xlabel('epoch')\n",
        "plt.legend(['train', 'test'], loc='upper left')\n",
        "plt.show()"
      ],
      "execution_count": 0,
      "outputs": [
        {
          "output_type": "display_data",
          "data": {
            "image/png": "[encoded data removed]",
            "text/plain": [
              "<Figure size 576x396 with 1 Axes>"
            ]
          },
          "metadata": {
            "tags": []
          }
        }
      ]
    },
    {
      "metadata": {
        "id": "L-s3ynMl9lle",
        "colab_type": "code",
        "colab": {}
      },
      "cell_type": "code",
      "source": [
        "from sklearn.metrics import mean_squared_error, mean_absolute_error\n"
      ],
      "execution_count": 0,
      "outputs": []
    },
    {
      "metadata": {
        "id": "s-0kq0Sb97DQ",
        "colab_type": "code",
        "colab": {}
      },
      "cell_type": "code",
      "source": [
        "cos_model.load_weights('drive/My Drive/weights.word_embed_stem_diff_1_2_256_128B.df5')\n"
      ],
      "execution_count": 0,
      "outputs": []
    },
    {
      "metadata": {
        "id": "1iDKzFlD9lfk",
        "colab_type": "code",
        "colab": {}
      },
      "cell_type": "code",
      "source": [
        "pred_train = cos_model.predict([X_train['left'], X_train['right']])\n",
        "pred_val = cos_model.predict([X_validation['left'], X_validation['right']])"
      ],
      "execution_count": 0,
      "outputs": []
    },
    {
      "metadata": {
        "id": "V8Um_Vja97Zj",
        "colab_type": "code",
        "outputId": "380bb99d-9355-47b9-fc32-e40a6dc3e014",
        "colab": {
          "base_uri": "https://localhost:8080/",
          "height": 84
        }
      },
      "cell_type": "code",
      "source": [
        "# predUnNormalized_train = (pred_train *2.0) +1.0\n",
        "\n",
        "print('Train RMSE score: {:<8.5f}'.format(np.sqrt(mean_squared_error(Y_train, pred_train))))\n",
        "print('Train MAE loss: {}'.format(mean_absolute_error(Y_train, pred_train)))\n",
        "\n",
        "\n",
        "# predUnNormalized_val = (pred_val *2.0) +1.0\n",
        "\n",
        "print('Validation RMSE score: {:<8.5f}'.format(np.sqrt(mean_squared_error(Y_validation, pred_val))))\n",
        "print('Validation MAE loss: {}'.format(mean_absolute_error(Y_validation, pred_val)))"
      ],
      "execution_count": 0,
      "outputs": [
        {
          "output_type": "stream",
          "text": [
            "Train RMSE score: 0.38880 \n",
            "Train MAE loss: 0.31861743233685536\n",
            "Validation RMSE score: 0.48965 \n",
            "Validation MAE loss: 0.3966052594336201\n"
          ],
          "name": "stdout"
        }
      ]
    }
  ]
}